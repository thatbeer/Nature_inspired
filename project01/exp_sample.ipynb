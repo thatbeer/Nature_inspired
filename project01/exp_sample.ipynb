{
 "cells": [
  {
   "cell_type": "code",
   "execution_count": 3,
   "metadata": {},
   "outputs": [],
   "source": [
    "# from core import load_metrics, generate_population, tournament_selection, fixed_crossover, mutate, replace_weakest\n",
    "from core.utils import load_metrics, generate_population, tournament_selection\n",
    "from core.crossover import fixed_crossover, fixed_crossover_twopoint , ordered_crossover, partialMap_crossover\n",
    "from core.mutation import mutate, multiple_mutate, inversion, scramble\n",
    "from core.replacement import replace_firstweak, replace_weakest"
   ]
  },
  {
   "cell_type": "code",
   "execution_count": 12,
   "metadata": {},
   "outputs": [],
   "source": [
    "sample = [\n",
    "    [0,2,1,2,1],\n",
    "    [2,0,2,2,2],\n",
    "    [1,2,0,2,1],\n",
    "    [2,2,2,0,2],\n",
    "    [1,2,1,2,0]\n",
    "]"
   ]
  },
  {
   "cell_type": "markdown",
   "metadata": {},
   "source": [
    "### Chromosome Class"
   ]
  },
  {
   "cell_type": "code",
   "execution_count": 25,
   "metadata": {},
   "outputs": [],
   "source": [
    "from core import fitness\n",
    "from typing import List\n",
    "\n",
    "class Chromosome:\n",
    "    def __init__(self, genes:List[int]):\n",
    "        self.genes = genes\n",
    "        self.phenomes = self.__fitness__(genes=genes)\n",
    "\n",
    "    def __fitness__(self, genes:List[int]) -> int:\n",
    "        return fitness(genes, distance_metric=sample)\n",
    "\n",
    "    def __str__(self):\n",
    "        return f\"Genes: {self.genes}\\nPhenomes: {self.phenomes:.5f}\"\n"
   ]
  },
  {
   "cell_type": "markdown",
   "metadata": {},
   "source": [
    "### Experiment01"
   ]
  },
  {
   "cell_type": "code",
   "execution_count": null,
   "metadata": {},
   "outputs": [],
   "source": []
  }
 ],
 "metadata": {
  "kernelspec": {
   "display_name": "exeter",
   "language": "python",
   "name": "python3"
  },
  "language_info": {
   "codemirror_mode": {
    "name": "ipython",
    "version": 3
   },
   "file_extension": ".py",
   "mimetype": "text/x-python",
   "name": "python",
   "nbconvert_exporter": "python",
   "pygments_lexer": "ipython3",
   "version": "3.11.5"
  }
 },
 "nbformat": 4,
 "nbformat_minor": 2
}
