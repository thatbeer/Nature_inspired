{
 "cells": [
  {
   "cell_type": "code",
   "execution_count": 1,
   "metadata": {},
   "outputs": [],
   "source": [
    "import xml.etree.ElementTree as ET\n",
    "import numpy as np\n",
    "import pandas as pd\n",
    "import torch.nn as nn\n",
    "import torch"
   ]
  },
  {
   "cell_type": "code",
   "execution_count": 2,
   "metadata": {},
   "outputs": [
    {
     "name": "stdout",
     "output_type": "stream",
     "text": [
      "[array([ 2,  0,  3,  7,  1,  9,  4,  5,  6, 13, 10,  8, 12, 11]), array([ 7,  9,  8,  1, 11,  2, 13, 10,  0, 12,  3,  5,  4,  6]), array([13,  5, 10, 11,  4,  6,  8,  0,  7,  3, 12,  2,  1,  9])]\n"
     ]
    }
   ],
   "source": [
    "import numpy as np\n",
    "\n",
    "n = 14  # Replace with the desired value of n\n",
    "\n",
    "permutation = [np.random.permutation(n) for _ in range(3)]\n",
    "\n",
    "print(permutation)\n"
   ]
  },
  {
   "cell_type": "code",
   "execution_count": 3,
   "metadata": {},
   "outputs": [
    {
     "data": {
      "text/plain": [
       "array([ 7,  9,  8,  1, 11,  2, 13, 10,  0, 12,  3,  5,  4,  6])"
      ]
     },
     "execution_count": 3,
     "metadata": {},
     "output_type": "execute_result"
    }
   ],
   "source": [
    "permutation[1]"
   ]
  },
  {
   "cell_type": "markdown",
   "metadata": {},
   "source": [
    "### prepare dataset"
   ]
  },
  {
   "cell_type": "code",
   "execution_count": 4,
   "metadata": {},
   "outputs": [
    {
     "name": "stdout",
     "output_type": "stream",
     "text": [
      "1 name : burma14\n",
      "2 source : TSPLIB\n",
      "3 description : 14-Staedte in Burma (Zaw Win)\n",
      "4 doublePrecision : 15\n",
      "5 ignoredDigits : 5\n",
      "6 graph : \n",
      "    \n"
     ]
    }
   ],
   "source": [
    "# speculate how the data is constructed\n",
    "burma_path = \"./dataset/burma14.xml\"\n",
    "brazil_path = \"./dataset/brazil58.xml\"\n",
    "\n",
    "tree_burma = ET.parse(burma_path)\n",
    "root = tree_burma.getroot()\n",
    "\n",
    "for i, e in enumerate(root):\n",
    "    if e.text is None:\n",
    "        text = \"-\"\n",
    "    else:\n",
    "        text = e.text\n",
    "    print(i+1,e.tag,\":\",text)"
   ]
  },
  {
   "cell_type": "code",
   "execution_count": 5,
   "metadata": {},
   "outputs": [
    {
     "data": {
      "text/plain": [
       "'burma14'"
      ]
     },
     "execution_count": 5,
     "metadata": {},
     "output_type": "execute_result"
    }
   ],
   "source": [
    "root.find('name').text"
   ]
  },
  {
   "cell_type": "code",
   "execution_count": 6,
   "metadata": {},
   "outputs": [
    {
     "name": "stderr",
     "output_type": "stream",
     "text": [
      "C:\\Users\\USER\\AppData\\Local\\Temp\\ipykernel_5532\\4080773743.py:2: RuntimeWarning: invalid value encountered in multiply\n",
      "  result = identity_matrix * -np.inf\n"
     ]
    },
    {
     "data": {
      "text/plain": [
       "array([[-1.79769313e+308,  0.00000000e+000],\n",
       "       [ 0.00000000e+000, -1.79769313e+308]])"
      ]
     },
     "execution_count": 6,
     "metadata": {},
     "output_type": "execute_result"
    }
   ],
   "source": [
    "identity_matrix = np.identity(2)\n",
    "result = identity_matrix * -np.inf\n",
    "np.nan_to_num(result,0)"
   ]
  },
  {
   "cell_type": "code",
   "execution_count": 7,
   "metadata": {},
   "outputs": [],
   "source": [
    "# function to load weight metrics\n",
    "def load_metrics(xml_path, info=False):\n",
    "    tree = ET.parse(xml_path)\n",
    "    root = tree.getroot()\n",
    "    # meta-data\n",
    "    name = root.find('name').text\n",
    "    source = root.find('source').text\n",
    "    description = root.find('description').text\n",
    "    doublePrecision = int(root.find('doublePrecision').text)\n",
    "    ignoredDigits = int(root.find('ignoredDigits').text)\n",
    "    num_node = len(root.findall(\".//vertex\"))\n",
    "    weights_metric = np.nan_to_num(np.identity(num_node) * -np.inf, 0.0)\n",
    "    # weights_metric = np.identity(num_node)\n",
    "\n",
    "    for i, vertex in enumerate(root.findall('.//vertex')):\n",
    "        for edge in vertex.findall('.//edge'):\n",
    "            cost = float(edge.get(\"cost\"))\n",
    "            node = int(edge.text)\n",
    "            # print(f\"line:{i} node:{node}->cost:{cost}\")\n",
    "            # if i == node:\n",
    "            #     weights_metric[i,node] = -np.Inf\n",
    "            # else:\n",
    "            weights_metric[i,node] = cost\n",
    "    if info is True:\n",
    "        return weights_metric , (name, source, description, doublePrecision, ignoredDigits)\n",
    "\n",
    "    return weights_metric\n",
    "\n",
    "\n"
   ]
  },
  {
   "cell_type": "code",
   "execution_count": 8,
   "metadata": {},
   "outputs": [
    {
     "name": "stderr",
     "output_type": "stream",
     "text": [
      "C:\\Users\\USER\\AppData\\Local\\Temp\\ipykernel_5532\\2035547776.py:12: RuntimeWarning: invalid value encountered in multiply\n",
      "  weights_metric = np.nan_to_num(np.identity(num_node) * -np.inf, 0.0)\n"
     ]
    },
    {
     "data": {
      "text/plain": [
       "(14, 14)"
      ]
     },
     "execution_count": 8,
     "metadata": {},
     "output_type": "execute_result"
    }
   ],
   "source": [
    "burma_metric, _ = load_metrics(burma_path,True)\n",
    "burma_metric.shape"
   ]
  },
  {
   "cell_type": "code",
   "execution_count": 9,
   "metadata": {},
   "outputs": [
    {
     "data": {
      "text/plain": [
       "('burma14', 'TSPLIB', '14-Staedte in Burma (Zaw Win)', 15, 5)"
      ]
     },
     "execution_count": 9,
     "metadata": {},
     "output_type": "execute_result"
    }
   ],
   "source": [
    "_"
   ]
  },
  {
   "cell_type": "code",
   "execution_count": 10,
   "metadata": {},
   "outputs": [
    {
     "name": "stderr",
     "output_type": "stream",
     "text": [
      "C:\\Users\\USER\\AppData\\Local\\Temp\\ipykernel_5532\\2035547776.py:12: RuntimeWarning: invalid value encountered in multiply\n",
      "  weights_metric = np.nan_to_num(np.identity(num_node) * -np.inf, 0.0)\n"
     ]
    },
    {
     "data": {
      "text/plain": [
       "(58, 58)"
      ]
     },
     "execution_count": 10,
     "metadata": {},
     "output_type": "execute_result"
    }
   ],
   "source": [
    "brazil_metric = load_metrics(brazil_path)\n",
    "brazil_metric.shape"
   ]
  },
  {
   "cell_type": "markdown",
   "metadata": {},
   "source": [
    "### The Evolutionary Algorithm "
   ]
  },
  {
   "cell_type": "code",
   "execution_count": 11,
   "metadata": {},
   "outputs": [],
   "source": [
    "tournament_size = 10\n"
   ]
  },
  {
   "cell_type": "markdown",
   "metadata": {},
   "source": [
    "$$\n",
    "\\text{cost} = \\sum_{i=1}^{n-1} D[C[i]][C[i + 1]] + D[C[n]][C[1]]\n",
    "$$\n",
    "\n"
   ]
  },
  {
   "cell_type": "code",
   "execution_count": 12,
   "metadata": {},
   "outputs": [],
   "source": [
    "def cost_function(input):\n",
    "    pass\n",
    "    \n",
    "def target_function(input) -> float | int:\n",
    "    # TODO : implement cost function to evaluate the fitness of each candidate\n",
    "    n = len(input)\n",
    "    pass\n",
    "\n",
    "def fitness_function(input, num_iter:int=20) -> float:\n",
    "    pass"
   ]
  },
  {
   "cell_type": "code",
   "execution_count": 13,
   "metadata": {},
   "outputs": [],
   "source": [
    "def generate_population(distance_metric, population_size):\n",
    "    return [list(np.random.permutation(len(distance_metric))) for _ in range(population_size)]"
   ]
  },
  {
   "cell_type": "code",
   "execution_count": 14,
   "metadata": {},
   "outputs": [],
   "source": [
    "def distance(candidate, distance_metric):\n",
    "    total_distance = 0\n",
    "    for i in range(len(candidate)-1):\n",
    "        total_distance += distance_metric[candidate[i],candidate[i+1]]\n",
    "    total_distance += distance_metric[candidate[len(candidate)-1],candidate[0]]\n",
    "    return total_distance"
   ]
  },
  {
   "cell_type": "code",
   "execution_count": 15,
   "metadata": {},
   "outputs": [
    {
     "data": {
      "text/plain": [
       "[[13, 4, 10, 12, 0, 6, 8, 1, 2, 7, 5, 11, 9, 3],\n",
       " [12, 2, 4, 8, 7, 5, 10, 0, 11, 6, 3, 1, 9, 13],\n",
       " [7, 8, 13, 1, 10, 11, 5, 12, 0, 2, 4, 6, 3, 9],\n",
       " [2, 7, 11, 10, 3, 9, 12, 4, 0, 8, 1, 13, 5, 6],\n",
       " [1, 9, 4, 12, 8, 2, 11, 5, 0, 6, 13, 10, 7, 3],\n",
       " [10, 9, 8, 11, 0, 1, 2, 12, 13, 7, 5, 3, 6, 4],\n",
       " [1, 7, 3, 2, 0, 10, 11, 4, 8, 6, 9, 13, 12, 5],\n",
       " [7, 3, 10, 12, 4, 6, 5, 11, 1, 8, 9, 13, 2, 0],\n",
       " [1, 12, 0, 6, 13, 5, 4, 9, 7, 8, 11, 10, 3, 2],\n",
       " [9, 13, 2, 7, 1, 6, 12, 10, 5, 8, 0, 11, 4, 3]]"
      ]
     },
     "execution_count": 15,
     "metadata": {},
     "output_type": "execute_result"
    }
   ],
   "source": [
    "pop_gen1 = generate_population(burma_metric, 10)\n",
    "pop_gen1 "
   ]
  },
  {
   "cell_type": "code",
   "execution_count": 16,
   "metadata": {},
   "outputs": [
    {
     "data": {
      "text/plain": [
       "[7220.0,\n",
       " 6906.0,\n",
       " 6219.0,\n",
       " 7344.0,\n",
       " 6964.0,\n",
       " 6074.0,\n",
       " 6936.0,\n",
       " 5803.0,\n",
       " 6590.0,\n",
       " 6539.0]"
      ]
     },
     "execution_count": 16,
     "metadata": {},
     "output_type": "execute_result"
    }
   ],
   "source": [
    "distance = [ distance(gen, distance_metric=burma_metric) for gen in pop_gen1]\n",
    "distance"
   ]
  },
  {
   "cell_type": "code",
   "execution_count": 17,
   "metadata": {},
   "outputs": [
    {
     "data": {
      "text/plain": [
       "array([[0., 0., 0., 0., 0., 0., 0., 0., 0., 0.],\n",
       "       [0., 0., 0., 0., 0., 0., 0., 0., 0., 0.],\n",
       "       [0., 0., 0., 0., 0., 0., 0., 0., 0., 0.],\n",
       "       [0., 0., 0., 0., 0., 0., 0., 0., 0., 0.],\n",
       "       [0., 0., 0., 0., 0., 0., 0., 0., 0., 0.],\n",
       "       [0., 0., 0., 0., 0., 0., 0., 0., 0., 0.],\n",
       "       [0., 0., 0., 0., 0., 0., 0., 0., 0., 0.],\n",
       "       [0., 0., 0., 0., 0., 0., 0., 0., 0., 0.],\n",
       "       [0., 0., 0., 0., 0., 0., 0., 0., 0., 0.],\n",
       "       [0., 0., 0., 0., 0., 0., 0., 0., 0., 0.]])"
      ]
     },
     "execution_count": 17,
     "metadata": {},
     "output_type": "execute_result"
    }
   ],
   "source": [
    "np.zeros((10,10))"
   ]
  },
  {
   "cell_type": "code",
   "execution_count": null,
   "metadata": {},
   "outputs": [],
   "source": []
  },
  {
   "cell_type": "markdown",
   "metadata": {},
   "source": [
    "<b>1. Generate an initial population of p randomly created solutions and assess the fitness of each individual in\n",
    "the population."
   ]
  },
  {
   "cell_type": "markdown",
   "metadata": {},
   "source": [
    "<b>2. Use tournament selection twice to select two parents, denoted as a and b.\n"
   ]
  },
  {
   "cell_type": "markdown",
   "metadata": {},
   "source": [
    "<b>3. apply a single-point crossover on these selected parents to generate two children, referred to as c and d.\n"
   ]
  },
  {
   "cell_type": "code",
   "execution_count": null,
   "metadata": {},
   "outputs": [],
   "source": []
  },
  {
   "cell_type": "code",
   "execution_count": 18,
   "metadata": {},
   "outputs": [
    {
     "data": {
      "text/plain": [
       "13"
      ]
     },
     "execution_count": 18,
     "metadata": {},
     "output_type": "execute_result"
    }
   ],
   "source": [
    "locus = np.random.randint(low=0, high=14)\n",
    "locus"
   ]
  },
  {
   "cell_type": "code",
   "execution_count": 19,
   "metadata": {},
   "outputs": [
    {
     "ename": "SyntaxError",
     "evalue": "incomplete input (343184927.py, line 2)",
     "output_type": "error",
     "traceback": [
      "\u001b[1;36m  Cell \u001b[1;32mIn[19], line 2\u001b[1;36m\u001b[0m\n\u001b[1;33m    \u001b[0m\n\u001b[1;37m    ^\u001b[0m\n\u001b[1;31mSyntaxError\u001b[0m\u001b[1;31m:\u001b[0m incomplete input\n"
     ]
    }
   ],
   "source": [
    "def single_crossover(candidate_a, candidate_b):\n",
    "    "
   ]
  },
  {
   "cell_type": "markdown",
   "metadata": {},
   "source": [
    "<b>4. Run a mutation on c and d to give two new solutions e and f. Evaluate the fitness of e and f."
   ]
  },
  {
   "cell_type": "markdown",
   "metadata": {},
   "source": [
    "<b>5. Run replacement function, firstly for e, then f.\n"
   ]
  },
  {
   "cell_type": "markdown",
   "metadata": {},
   "source": [
    "<b>6. If a termination criterion has been reached, then stop. Otherwise return to step 2."
   ]
  },
  {
   "cell_type": "markdown",
   "metadata": {},
   "source": [
    "### Burma14"
   ]
  },
  {
   "cell_type": "code",
   "execution_count": null,
   "metadata": {},
   "outputs": [],
   "source": [
    "burma_path = \"./dataset/burma14.xml\"\n",
    "\n",
    "tree_burma = ET.parse(burma_path)\n",
    "root = tree_burma.getroot()"
   ]
  },
  {
   "cell_type": "code",
   "execution_count": null,
   "metadata": {},
   "outputs": [
    {
     "name": "stdout",
     "output_type": "stream",
     "text": [
      "1 name : burma14\n",
      "2 source : TSPLIB\n",
      "3 description : 14-Staedte in Burma (Zaw Win)\n",
      "4 doublePrecision : 15\n",
      "5 ignoredDigits : 5\n",
      "6 graph : \n",
      "    \n"
     ]
    }
   ],
   "source": [
    "text = \"\"\n",
    "for i, e in enumerate(root):\n",
    "    if e.text is None:\n",
    "        text = \"-\"\n",
    "    else:\n",
    "        text = e.text\n",
    "    print(i+1,e.tag,\":\",text)"
   ]
  },
  {
   "cell_type": "code",
   "execution_count": null,
   "metadata": {},
   "outputs": [
    {
     "data": {
      "text/plain": [
       "1e-10"
      ]
     },
     "execution_count": 107,
     "metadata": {},
     "output_type": "execute_result"
    }
   ],
   "source": [
    "doublePrecision = int(root.find('doublePrecision').text)\n",
    "ignoredDigits = int(root.find('ignoredDigits').text)\n",
    "tol = 10**(-(doublePrecision - ignoredDigits))\n",
    "tol\n"
   ]
  },
  {
   "cell_type": "code",
   "execution_count": null,
   "metadata": {},
   "outputs": [
    {
     "data": {
      "text/plain": [
       "14"
      ]
     },
     "execution_count": 108,
     "metadata": {},
     "output_type": "execute_result"
    }
   ],
   "source": [
    "num_burma_cities = len(root.findall(\".//vertex\"))\n",
    "num_burma_cities"
   ]
  },
  {
   "cell_type": "code",
   "execution_count": null,
   "metadata": {},
   "outputs": [],
   "source": [
    "graph_element = root.find('graph')"
   ]
  },
  {
   "cell_type": "code",
   "execution_count": null,
   "metadata": {},
   "outputs": [
    {
     "name": "stdout",
     "output_type": "stream",
     "text": [
      "Number of <vertex> tags: 14\n"
     ]
    }
   ],
   "source": [
    "vertex_elements = graph_element.findall('vertex')\n",
    "\n",
    "# Get the length of the <vertex> tags\n",
    "vertex_count = len(vertex_elements)\n",
    "\n",
    "print(f\"Number of <vertex> tags: {vertex_count}\")"
   ]
  },
  {
   "cell_type": "code",
   "execution_count": null,
   "metadata": {},
   "outputs": [],
   "source": [
    "lam = []"
   ]
  },
  {
   "cell_type": "code",
   "execution_count": null,
   "metadata": {},
   "outputs": [
    {
     "data": {
      "text/plain": [
       "(14, 14)"
      ]
     },
     "execution_count": 112,
     "metadata": {},
     "output_type": "execute_result"
    }
   ],
   "source": [
    "lam = np.zeros((14,14))\n",
    "lam.shape"
   ]
  },
  {
   "cell_type": "code",
   "execution_count": null,
   "metadata": {},
   "outputs": [
    {
     "data": {
      "text/plain": [
       "153.0"
      ]
     },
     "execution_count": 113,
     "metadata": {},
     "output_type": "execute_result"
    }
   ],
   "source": [
    "float(1.530000000000000e+02)"
   ]
  },
  {
   "cell_type": "code",
   "execution_count": null,
   "metadata": {},
   "outputs": [],
   "source": [
    "c = 0\n",
    "for i , v in enumerate(graph_element):\n",
    "    for e in v:\n",
    "        lam[i,int(e.text)] = float(e.get(\"cost\"))"
   ]
  },
  {
   "cell_type": "code",
   "execution_count": null,
   "metadata": {},
   "outputs": [
    {
     "data": {
      "text/plain": [
       "array([[   0.,  153.,  510.,  706.,  966.,  581.,  455.,   70.,  160.,\n",
       "         372.,  157.,  567.,  342.,  398.],\n",
       "       [ 153.,    0.,  422.,  664.,  997.,  598.,  507.,  197.,  311.,\n",
       "         479.,  310.,  581.,  417.,  376.],\n",
       "       [ 510.,  422.,    0.,  289.,  744.,  390.,  437.,  491.,  645.,\n",
       "         880.,  618.,  374.,  455.,  211.],\n",
       "       [ 706.,  664.,  289.,    0.,  491.,  265.,  410.,  664.,  804.,\n",
       "        1070.,  768.,  259.,  499.,  310.],\n",
       "       [ 966.,  997.,  744.,  491.,    0.,  400.,  514.,  902.,  990.,\n",
       "        1261.,  947.,  418.,  635.,  636.],\n",
       "       [ 581.,  598.,  390.,  265.,  400.,    0.,  168.,  522.,  634.,\n",
       "         910.,  593.,   19.,  284.,  239.],\n",
       "       [ 455.,  507.,  437.,  410.,  514.,  168.,    0.,  389.,  482.,\n",
       "         757.,  439.,  163.,  124.,  232.],\n",
       "       [  70.,  197.,  491.,  664.,  902.,  522.,  389.,    0.,  154.,\n",
       "         406.,  133.,  508.,  273.,  355.],\n",
       "       [ 160.,  311.,  645.,  804.,  990.,  634.,  482.,  154.,    0.,\n",
       "         276.,   43.,  623.,  358.,  498.],\n",
       "       [ 372.,  479.,  880., 1070., 1261.,  910.,  757.,  406.,  276.,\n",
       "           0.,  318.,  898.,  633.,  761.],\n",
       "       [ 157.,  310.,  618.,  768.,  947.,  593.,  439.,  133.,   43.,\n",
       "         318.,    0.,  582.,  315.,  464.],\n",
       "       [ 567.,  581.,  374.,  259.,  418.,   19.,  163.,  508.,  623.,\n",
       "         898.,  582.,    0.,  275.,  221.],\n",
       "       [ 342.,  417.,  455.,  499.,  635.,  284.,  124.,  273.,  358.,\n",
       "         633.,  315.,  275.,    0.,  247.],\n",
       "       [ 398.,  376.,  211.,  310.,  636.,  239.,  232.,  355.,  498.,\n",
       "         761.,  464.,  221.,  247.,    0.]])"
      ]
     },
     "execution_count": 115,
     "metadata": {},
     "output_type": "execute_result"
    }
   ],
   "source": [
    "lam"
   ]
  },
  {
   "cell_type": "markdown",
   "metadata": {},
   "source": [
    "### Brazil58"
   ]
  },
  {
   "cell_type": "code",
   "execution_count": null,
   "metadata": {},
   "outputs": [],
   "source": [
    "brazil_path = \"./dataset/brazil58.xml\"\n",
    "\n",
    "tree_brazil = ET.parse(brazil_path)\n",
    "root = tree_brazil.getroot()"
   ]
  },
  {
   "cell_type": "code",
   "execution_count": null,
   "metadata": {},
   "outputs": [
    {
     "name": "stdout",
     "output_type": "stream",
     "text": [
      "1 name : brazil58\n",
      "2 source : TSPLIB\n",
      "3 description : 58 cities in Brazil (Ferreira)\n",
      "4 doublePrecision : 15\n",
      "5 ignoredDigits : 5\n",
      "6 graph : \n",
      "    \n"
     ]
    }
   ],
   "source": [
    "for i, e in enumerate(root):\n",
    "    if e.text is None:\n",
    "        text = \"-\"\n",
    "    else:\n",
    "        text = e.text\n",
    "    print(i+1,e.tag,\":\",text)"
   ]
  },
  {
   "cell_type": "code",
   "execution_count": null,
   "metadata": {},
   "outputs": [
    {
     "data": {
      "text/plain": [
       "1e-10"
      ]
     },
     "execution_count": 118,
     "metadata": {},
     "output_type": "execute_result"
    }
   ],
   "source": [
    "doublePrecision = int(root.find('doublePrecision').text)\n",
    "ignoredDigits = int(root.find('ignoredDigits').text)\n",
    "tol = 10**(-(doublePrecision - ignoredDigits))\n",
    "tol"
   ]
  },
  {
   "cell_type": "code",
   "execution_count": null,
   "metadata": {},
   "outputs": [
    {
     "data": {
      "text/plain": [
       "57.4978260458602"
      ]
     },
     "execution_count": 130,
     "metadata": {},
     "output_type": "execute_result"
    }
   ],
   "source": [
    "import math\n",
    "edges = root.findall(\".//edge\")\n",
    "math.sqrt(len(edges))"
   ]
  },
  {
   "cell_type": "code",
   "execution_count": null,
   "metadata": {},
   "outputs": [
    {
     "data": {
      "text/plain": [
       "3306"
      ]
     },
     "execution_count": 131,
     "metadata": {},
     "output_type": "execute_result"
    }
   ],
   "source": [
    "# Find the 'edge' elements and extract the 'cost' attribute\n",
    "edges = root.findall(\".//edge\")\n",
    "weights = [float(edge.get(\"cost\")) for edge in edges]\n",
    "\n",
    "# Define the number of cities\n",
    "num_cities = len(weights)\n",
    "num_cities\n",
    "# # Create a NumPy array to store the weights\n",
    "# weights_array = np.zeros((num_cities, num_cities))\n",
    "\n",
    "# # Populate the NumPy array with the edge costs\n",
    "# for i in range(num_cities):\n",
    "#     for j in range(num_cities):\n",
    "#         if i != j:\n",
    "#             weights_array[i, j] = weights[i * num_cities + j]\n",
    "\n",
    "# # Print the NumPy array\n",
    "# print(weights_array)"
   ]
  },
  {
   "cell_type": "code",
   "execution_count": null,
   "metadata": {},
   "outputs": [],
   "source": [
    "# import xml.etree.ElementTree as ET\n",
    "\n",
    "# # Load the XML file\n",
    "# tree = ET.parse('./dataset/brazil58.xml')\n",
    "# root = tree.getroot()\n",
    "\n",
    "# # Access elements in the XML\n",
    "# name = root.find('name').text\n",
    "# source = root.find('source').text\n",
    "# description = root.find('description').text\n",
    "\n",
    "# print(\"Name:\", name)\n",
    "# print(\"Source:\", source)\n",
    "# print(\"Description:\", description)\n",
    "\n",
    "# # Access vertex and edge data\n",
    "# for vertex in root.findall('.//vertex'):\n",
    "#     vertex_id = vertex.find('edge').text\n",
    "#     edges = vertex.findall('edge')\n",
    "    \n",
    "#     print(f\"Vertex ID: {vertex_id}\")\n",
    "#     for edge in edges:\n",
    "#         cost = edge.get('cost')\n",
    "#         destination = edge.text\n",
    "#         print(f\"Edge - Destination: {destination}, Cost: {cost}\")\n"
   ]
  },
  {
   "cell_type": "code",
   "execution_count": null,
   "metadata": {},
   "outputs": [],
   "source": [
    "# num_cities = len(root.findall(\".//vertex\"))\n",
    "# num_cities"
   ]
  },
  {
   "cell_type": "code",
   "execution_count": null,
   "metadata": {},
   "outputs": [],
   "source": [
    "graph_element = root.find('graph')"
   ]
  },
  {
   "cell_type": "code",
   "execution_count": null,
   "metadata": {},
   "outputs": [],
   "source": [
    "vertex_element = graph_element.findall('vertex')"
   ]
  },
  {
   "cell_type": "code",
   "execution_count": null,
   "metadata": {},
   "outputs": [
    {
     "name": "stdout",
     "output_type": "stream",
     "text": [
      "city:[\n",
      "      ]-> cost:None\n",
      "city:[\n",
      "      ]-> cost:None\n",
      "city:[\n",
      "      ]-> cost:None\n",
      "city:[\n",
      "      ]-> cost:None\n",
      "city:[\n",
      "      ]-> cost:None\n",
      "city:[\n",
      "      ]-> cost:None\n",
      "city:[\n",
      "      ]-> cost:None\n",
      "city:[\n",
      "      ]-> cost:None\n",
      "city:[\n",
      "      ]-> cost:None\n",
      "city:[\n",
      "      ]-> cost:None\n",
      "city:[\n",
      "      ]-> cost:None\n",
      "city:[\n",
      "      ]-> cost:None\n",
      "city:[\n",
      "      ]-> cost:None\n",
      "city:[\n",
      "      ]-> cost:None\n",
      "city:[\n",
      "      ]-> cost:None\n",
      "city:[\n",
      "      ]-> cost:None\n",
      "city:[\n",
      "      ]-> cost:None\n",
      "city:[\n",
      "      ]-> cost:None\n",
      "city:[\n",
      "      ]-> cost:None\n",
      "city:[\n",
      "      ]-> cost:None\n",
      "city:[\n",
      "      ]-> cost:None\n",
      "city:[\n",
      "      ]-> cost:None\n",
      "city:[\n",
      "      ]-> cost:None\n",
      "city:[\n",
      "      ]-> cost:None\n",
      "city:[\n",
      "      ]-> cost:None\n",
      "city:[\n",
      "      ]-> cost:None\n",
      "city:[\n",
      "      ]-> cost:None\n",
      "city:[\n",
      "      ]-> cost:None\n",
      "city:[\n",
      "      ]-> cost:None\n",
      "city:[\n",
      "      ]-> cost:None\n",
      "city:[\n",
      "      ]-> cost:None\n",
      "city:[\n",
      "      ]-> cost:None\n",
      "city:[\n",
      "      ]-> cost:None\n",
      "city:[\n",
      "      ]-> cost:None\n",
      "city:[\n",
      "      ]-> cost:None\n",
      "city:[\n",
      "      ]-> cost:None\n",
      "city:[\n",
      "      ]-> cost:None\n",
      "city:[\n",
      "      ]-> cost:None\n",
      "city:[\n",
      "      ]-> cost:None\n",
      "city:[\n",
      "      ]-> cost:None\n",
      "city:[\n",
      "      ]-> cost:None\n",
      "city:[\n",
      "      ]-> cost:None\n",
      "city:[\n",
      "      ]-> cost:None\n",
      "city:[\n",
      "      ]-> cost:None\n",
      "city:[\n",
      "      ]-> cost:None\n",
      "city:[\n",
      "      ]-> cost:None\n",
      "city:[\n",
      "      ]-> cost:None\n",
      "city:[\n",
      "      ]-> cost:None\n",
      "city:[\n",
      "      ]-> cost:None\n",
      "city:[\n",
      "      ]-> cost:None\n",
      "city:[\n",
      "      ]-> cost:None\n",
      "city:[\n",
      "      ]-> cost:None\n",
      "city:[\n",
      "      ]-> cost:None\n",
      "city:[\n",
      "      ]-> cost:None\n",
      "city:[\n",
      "      ]-> cost:None\n",
      "city:[\n",
      "      ]-> cost:None\n",
      "city:[\n",
      "      ]-> cost:None\n",
      "city:[\n",
      "      ]-> cost:None\n"
     ]
    }
   ],
   "source": [
    "for edge in vertex_element:\n",
    "    print(f\"city:[{(edge.text)}]-> cost:{(edge.get('cost'))}\")\n",
    "    "
   ]
  },
  {
   "cell_type": "code",
   "execution_count": null,
   "metadata": {},
   "outputs": [
    {
     "name": "stdout",
     "output_type": "stream",
     "text": [
      "Number of <vertex> tags: 58\n"
     ]
    }
   ],
   "source": [
    "vertex_elements = graph_element.findall('vertex')\n",
    "\n",
    "# Get the length of the <vertex> tags\n",
    "vertex_count = len(vertex_elements)\n",
    "\n",
    "print(f\"Number of <vertex> tags: {vertex_count}\")"
   ]
  },
  {
   "cell_type": "code",
   "execution_count": null,
   "metadata": {},
   "outputs": [
    {
     "name": "stdout",
     "output_type": "stream",
     "text": [
      "vertex\n",
      "vertex\n",
      "vertex\n",
      "vertex\n",
      "vertex\n",
      "vertex\n",
      "vertex\n",
      "vertex\n",
      "vertex\n",
      "vertex\n",
      "vertex\n",
      "vertex\n",
      "vertex\n",
      "vertex\n",
      "vertex\n",
      "vertex\n",
      "vertex\n",
      "vertex\n",
      "vertex\n",
      "vertex\n",
      "vertex\n",
      "vertex\n",
      "vertex\n",
      "vertex\n",
      "vertex\n",
      "vertex\n",
      "vertex\n",
      "vertex\n",
      "vertex\n",
      "vertex\n",
      "vertex\n",
      "vertex\n",
      "vertex\n",
      "vertex\n",
      "vertex\n",
      "vertex\n",
      "vertex\n",
      "vertex\n",
      "vertex\n",
      "vertex\n",
      "vertex\n",
      "vertex\n",
      "vertex\n",
      "vertex\n",
      "vertex\n",
      "vertex\n",
      "vertex\n",
      "vertex\n",
      "vertex\n",
      "vertex\n",
      "vertex\n",
      "vertex\n",
      "vertex\n",
      "vertex\n",
      "vertex\n",
      "vertex\n",
      "vertex\n",
      "vertex\n"
     ]
    }
   ],
   "source": [
    "brazil_matrix = []\n",
    "for i , v in enumerate(graph_element):\n",
    "    print(v.tag)\n",
    "        # brazil_matrix[i,int(e.text)] = float(e.get(\"cost\"))\n"
   ]
  },
  {
   "cell_type": "code",
   "execution_count": null,
   "metadata": {},
   "outputs": [],
   "source": []
  }
 ],
 "metadata": {
  "kernelspec": {
   "display_name": "exeter",
   "language": "python",
   "name": "python3"
  },
  "language_info": {
   "codemirror_mode": {
    "name": "ipython",
    "version": 3
   },
   "file_extension": ".py",
   "mimetype": "text/x-python",
   "name": "python",
   "nbconvert_exporter": "python",
   "pygments_lexer": "ipython3",
   "version": "3.11.5"
  }
 },
 "nbformat": 4,
 "nbformat_minor": 2
}
