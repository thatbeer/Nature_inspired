{
 "cells": [
  {
   "cell_type": "code",
   "execution_count": 1,
   "metadata": {},
   "outputs": [],
   "source": [
    "import numpy as np\n",
    "from typing import List\n",
    "from dataclasses import dataclass\n",
    "\n",
    "# @dataclass\n",
    "# class Chromosome:\n",
    "#     gene : List[int]\n",
    "#     phenome : float = \n",
    "#     length : int = 0\n",
    "#     distnace_metric : List[List[int]]\n",
    "\n",
    "#     def __post_init__(self):\n",
    "#         self.length = len(self.gene)\n",
    "#         self.phenome = fitness(self.gene,distance)\n",
    "    \n",
    "    "
   ]
  },
  {
   "cell_type": "code",
   "execution_count": 2,
   "metadata": {},
   "outputs": [],
   "source": [
    "from version2.classes import Chromosome, Parameters\n",
    "from version2.crossover import point_crossover , ordered_crossover\n",
    "from version2.mutation import mutate, multi_mutate, inversion, scramble\n",
    "from version2.replacement import replace_firstweak , replace_weakest\n",
    "from version2.utils import load_metrics, generate_population, parents_selection, create_chromosome, best_gene, pop_stats\n"
   ]
  },
  {
   "cell_type": "markdown",
   "metadata": {},
   "source": [
    "set xml path"
   ]
  },
  {
   "cell_type": "code",
   "execution_count": 3,
   "metadata": {},
   "outputs": [
    {
     "name": "stderr",
     "output_type": "stream",
     "text": [
      "d:\\USERS\\Exeter\\Courses\\Module ECMM409 (2023) Nature-Inspired Computation\\Nature_inspired\\project01\\version2\\utils.py:17: RuntimeWarning: invalid value encountered in multiply\n",
      "  weights_metric = np.nan_to_num(np.identity(num_node) * -np.inf, 0.0)\n"
     ]
    }
   ],
   "source": [
    "burma_path = './dataset/burma14.xml'\n",
    "brazil_path = './dataset/brazil58.xml'\n",
    "\n",
    "burma_metric = load_metrics(burma_path)\n",
    "brazil_path = load_metrics(brazil_path)"
   ]
  },
  {
   "cell_type": "code",
   "execution_count": 4,
   "metadata": {},
   "outputs": [],
   "source": [
    "import torch.nn as nn\n",
    "\n",
    "class GENETIC(nn.Module):\n",
    "    def __init__(self, distance_metric) -> None:\n",
    "        super().__init__()\n",
    "        self.distance_metric = distance_metric\n",
    "        \n",
    "    def forward(self, x):\n",
    "        pass"
   ]
  },
  {
   "cell_type": "code",
   "execution_count": 5,
   "metadata": {},
   "outputs": [],
   "source": [
    "@dataclass\n",
    "class Result:\n",
    "    last_population : List[Chromosome]\n",
    "    best_candidate : Chromosome\n",
    "    avg_fitness : List[float]\n",
    "    max_fitness : List[float]\n",
    "    stop_generation : int"
   ]
  },
  {
   "cell_type": "code",
   "execution_count": 6,
   "metadata": {},
   "outputs": [],
   "source": [
    "from typing import Callable, List, Any\n",
    "\n",
    "def search(distance_metric: List[List[int]],\n",
    "        max_gens:int,\n",
    "        pop_size:int,\n",
    "        tour_size:int, \n",
    "        co_fn:Callable,\n",
    "        mut_fn:Callable,\n",
    "        replace_fn:Callable) -> Any:\n",
    "    # population = generate_population(distance_metric=sample, pop_size=pop_size)\n",
    "    population = generate_population(population_size=pop_size,\n",
    "                                     distance_metric=distance_metric)\n",
    "    avg_fitness = [np.mean([pop.phenome for pop in population])]\n",
    "    max_fitness = [np.max([pop.phenome for pop in population])]\n",
    "    best_candidate = best_gene(population=population)\n",
    "    # best_candidate:Chromosome = population[np.argmax([pop.phenome for pop in population])]\n",
    "    for i in range(max_gens):\n",
    "        # parent1 = tournament_selection(population=population, fitness_value=pop_fitness, tournament_size=tour_size)\n",
    "        # parent1, parent2 = binary_tournament(population=population, fitness_value=pop_fitness, tournament_size=tour_size)\n",
    "        parents = parents_selection(population=population, tournament_size=tour_size)\n",
    "        parent1 , parent2 = parents[0], parents[1]\n",
    "        gene1, gene2 = co_fn(parent1,parent2)\n",
    "        child1 , child2 = create_chromosome(gene1,distance_metric=distance_metric), create_chromosome(gene2,distance_metric=distance_metric)\n",
    "        child1, child2 = mut_fn(child1), mut_fn(child2)\n",
    "        population = replace_fn(child1)\n",
    "        population = replace_fn(child2)\n",
    "        stats = pop_stats(population=population)\n",
    "        avg_fitness.append(stats[0])\n",
    "        max_fitness.append(stats[1][1])\n",
    "        new_best_candidate = best_gene(population=population)\n",
    "\n",
    "        if new_best_candidate.phenome > best_candidate.phenome:\n",
    "            best_candidate = new_best_candidate\n",
    "        if i % 100:\n",
    "            print(\"Processing {i} Steps\")\n",
    "        \n",
    "        # child1 , child2 = co_fn(parent1=parent1, parent2=parent2)\n",
    "        # child1 , child2 = mut_fn(child1) , mut_fn(child2)\n",
    "        # population = replace_firstweak(population=population,candidate=child1,distance_metric=sample)\n",
    "        # population = replace_firstweak(population=population,candidate=child2,distance_metric=sample)\n",
    "        # pop_fitness = [fitness(pop, distance_metric=sample) for pop in population]\n",
    "        # fit_avg.append(np.mean(pop_fitness))\n",
    "        # fit_upper.append(np.max(pop_fitness))\n",
    "        if (i > 2) and (avg_fitness[i] - avg_fitness[i-1] < 1e-5):\n",
    "            return population , avg_fitness , max_fitness , i ,best_candidate\n",
    "\n",
    "    return population , avg_fitness , max_fitness , i ,best_candidate"
   ]
  },
  {
   "cell_type": "code",
   "execution_count": null,
   "metadata": {},
   "outputs": [],
   "source": []
  }
 ],
 "metadata": {
  "kernelspec": {
   "display_name": "exeter",
   "language": "python",
   "name": "python3"
  },
  "language_info": {
   "codemirror_mode": {
    "name": "ipython",
    "version": 3
   },
   "file_extension": ".py",
   "mimetype": "text/x-python",
   "name": "python",
   "nbconvert_exporter": "python",
   "pygments_lexer": "ipython3",
   "version": "3.11.5"
  }
 },
 "nbformat": 4,
 "nbformat_minor": 2
}
