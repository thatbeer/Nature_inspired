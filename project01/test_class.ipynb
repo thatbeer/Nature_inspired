{
 "cells": [
  {
   "cell_type": "code",
   "execution_count": 17,
   "metadata": {},
   "outputs": [],
   "source": [
    "import numpy as np\n",
    "from typing import List\n",
    "from dataclasses import dataclass\n",
    "\n",
    "# @dataclass\n",
    "# class Chromosome:\n",
    "#     gene : List[int]\n",
    "#     phenome : float = \n",
    "#     length : int = 0\n",
    "#     distnace_metric : List[List[int]]\n",
    "\n",
    "#     def __post_init__(self):\n",
    "#         self.length = len(self.gene)\n",
    "#         self.phenome = fitness(self.gene,distance)\n",
    "    \n",
    "    "
   ]
  },
  {
   "cell_type": "code",
   "execution_count": 36,
   "metadata": {},
   "outputs": [
    {
     "name": "stderr",
     "output_type": "stream",
     "text": [
      "'wget' is not recognized as an internal or external command,\n",
      "operable program or batch file.\n"
     ]
    }
   ],
   "source": [
    "!wget https://raw.githubusercontent.com/nvidia/NeMo/$BRANCH/examples/tts/conf/fastpitch_align_v1.05.yaml"
   ]
  },
  {
   "cell_type": "code",
   "execution_count": 18,
   "metadata": {},
   "outputs": [],
   "source": [
    "from version2.classes import Chromosome, Parameters\n",
    "from version2.crossover import point_crossover , ordered_crossover\n",
    "from version2.mutation import mutate, multi_mutate, inversion, scramble\n",
    "from version2.replacement import replace_firstweak , replace_weakest\n",
    "from version2.utils import load_metrics, generate_population, parents_selection, create_chromosome, best_gene, pop_stats, create_parameter_list, find_combinations\n"
   ]
  },
  {
   "cell_type": "markdown",
   "metadata": {},
   "source": [
    "set xml path"
   ]
  },
  {
   "cell_type": "code",
   "execution_count": 19,
   "metadata": {},
   "outputs": [
    {
     "name": "stderr",
     "output_type": "stream",
     "text": [
      "d:\\USERS\\Exeter\\Courses\\Module ECMM409 (2023) Nature-Inspired Computation\\Nature_inspired\\project01\\version2\\utils.py:17: RuntimeWarning: invalid value encountered in multiply\n",
      "  weights_metric = np.nan_to_num(np.identity(num_node) * -np.inf, 0.0)\n"
     ]
    }
   ],
   "source": [
    "burma_path = './dataset/burma14.xml'\n",
    "brazil_path = './dataset/brazil58.xml'\n",
    "\n",
    "burma_metric = load_metrics(burma_path)\n",
    "brazil_path = load_metrics(brazil_path)"
   ]
  },
  {
   "cell_type": "code",
   "execution_count": 20,
   "metadata": {},
   "outputs": [],
   "source": [
    "import torch.nn as nn\n",
    "\n",
    "class GENETIC(nn.Module):\n",
    "    def __init__(self, distance_metric) -> None:\n",
    "        super().__init__()\n",
    "        self.distance_metric = distance_metric\n",
    "        \n",
    "    def forward(self, x):\n",
    "        pass"
   ]
  },
  {
   "cell_type": "code",
   "execution_count": 21,
   "metadata": {},
   "outputs": [],
   "source": [
    "@dataclass\n",
    "class Result:\n",
    "    last_population : List[Chromosome]\n",
    "    best_candidate : Chromosome\n",
    "    avg_fitness : List[float]\n",
    "    max_fitness : List[float]\n",
    "    stop_generation : int"
   ]
  },
  {
   "cell_type": "markdown",
   "metadata": {},
   "source": [
    "## TEST CLASS FN"
   ]
  },
  {
   "cell_type": "code",
   "execution_count": 22,
   "metadata": {},
   "outputs": [
    {
     "data": {
      "text/plain": [
       "[Chromosome(gene=[4, 9, 13, 10, 1, 8, 11, 5, 0, 6, 2, 12, 7, 3], phenome=0.00014074595355383532, length=14),\n",
       " Chromosome(gene=[8, 6, 4, 3, 7, 12, 11, 13, 10, 2, 1, 0, 9, 5], phenome=0.00015401201293700908, length=14),\n",
       " Chromosome(gene=[10, 4, 0, 12, 11, 1, 6, 2, 3, 5, 7, 8, 9, 13], phenome=0.00014736221632773356, length=14),\n",
       " Chromosome(gene=[10, 2, 1, 11, 8, 4, 13, 9, 3, 5, 0, 12, 6, 7], phenome=0.00013271400132714, length=14),\n",
       " Chromosome(gene=[13, 9, 11, 1, 6, 12, 8, 5, 0, 10, 4, 2, 7, 3], phenome=0.000128915817970865, length=14),\n",
       " Chromosome(gene=[8, 6, 2, 7, 11, 10, 4, 5, 0, 3, 13, 12, 9, 1], phenome=0.0001405678942929435, length=14),\n",
       " Chromosome(gene=[11, 0, 2, 8, 9, 4, 5, 12, 13, 10, 6, 3, 7, 1], phenome=0.00014398848092152627, length=14),\n",
       " Chromosome(gene=[2, 9, 4, 6, 7, 3, 13, 8, 5, 1, 10, 11, 12, 0], phenome=0.00012874983906270118, length=14),\n",
       " Chromosome(gene=[11, 4, 0, 9, 6, 8, 7, 2, 13, 1, 3, 10, 12, 5], phenome=0.00015931177314003505, length=14),\n",
       " Chromosome(gene=[7, 3, 8, 2, 6, 11, 13, 12, 0, 4, 10, 9, 5, 1], phenome=0.0001340662287169862, length=14)]"
      ]
     },
     "execution_count": 22,
     "metadata": {},
     "output_type": "execute_result"
    }
   ],
   "source": [
    "pop1 = generate_population(10, burma_metric)\n",
    "pop1"
   ]
  },
  {
   "cell_type": "code",
   "execution_count": 23,
   "metadata": {},
   "outputs": [
    {
     "data": {
      "text/plain": [
       "Chromosome(gene=[11, 4, 0, 9, 6, 8, 7, 2, 13, 1, 3, 10, 12, 5], phenome=0.00015931177314003505, length=14)"
      ]
     },
     "execution_count": 23,
     "metadata": {},
     "output_type": "execute_result"
    }
   ],
   "source": [
    "best_gene(pop1)"
   ]
  },
  {
   "cell_type": "code",
   "execution_count": 24,
   "metadata": {},
   "outputs": [
    {
     "data": {
      "text/plain": [
       "[Chromosome(gene=[8, 6, 4, 3, 7, 12, 11, 13, 10, 2, 1, 0, 9, 5], phenome=0.00015401201293700908, length=14),\n",
       " Chromosome(gene=[4, 9, 13, 10, 1, 8, 11, 5, 0, 6, 2, 12, 7, 3], phenome=0.00014074595355383532, length=14)]"
      ]
     },
     "execution_count": 24,
     "metadata": {},
     "output_type": "execute_result"
    }
   ],
   "source": [
    "parents = parents_selection(pop1,5)\n",
    "parents"
   ]
  },
  {
   "cell_type": "code",
   "execution_count": 25,
   "metadata": {},
   "outputs": [
    {
     "data": {
      "text/plain": [
       "[Chromosome(gene=[3, 6, 4, 10, 1, 8, 11, 13, 7, 2, 12, 0, 9, 5], phenome=0.00015323322096230462, length=14),\n",
       " Chromosome(gene=[4, 9, 13, 3, 7, 12, 11, 5, 0, 6, 2, 10, 1, 8], phenome=0.00013764624913971095, length=14)]"
      ]
     },
     "execution_count": 25,
     "metadata": {},
     "output_type": "execute_result"
    }
   ],
   "source": [
    "gene1 , gene2 = ordered_crossover(parents[0],parents[1])\n",
    "offsprings = [create_chromosome(gene,distance_metric=burma_metric) for gene in ordered_crossover(parents[0],parents[1])]\n",
    "offsprings"
   ]
  },
  {
   "cell_type": "code",
   "execution_count": 26,
   "metadata": {},
   "outputs": [
    {
     "data": {
      "text/plain": [
       "[Chromosome(gene=[4, 9, 13, 10, 1, 8, 11, 5, 0, 6, 2, 12, 7, 3], phenome=0.00014074595355383532, length=14),\n",
       " Chromosome(gene=[8, 6, 4, 3, 7, 12, 11, 13, 10, 2, 1, 0, 9, 5], phenome=0.00015401201293700908, length=14),\n",
       " Chromosome(gene=[10, 4, 0, 12, 11, 1, 6, 2, 3, 5, 7, 8, 9, 13], phenome=0.00014736221632773356, length=14),\n",
       " Chromosome(gene=[4, 9, 13, 3, 7, 12, 11, 5, 0, 6, 2, 10, 1, 8], phenome=0.00013764624913971095, length=14),\n",
       " Chromosome(gene=[13, 9, 11, 1, 6, 12, 8, 5, 0, 10, 4, 2, 7, 3], phenome=0.000128915817970865, length=14),\n",
       " Chromosome(gene=[8, 6, 2, 7, 11, 10, 4, 5, 0, 3, 13, 12, 9, 1], phenome=0.0001405678942929435, length=14),\n",
       " Chromosome(gene=[11, 0, 2, 8, 9, 4, 5, 12, 13, 10, 6, 3, 7, 1], phenome=0.00014398848092152627, length=14),\n",
       " Chromosome(gene=[2, 9, 4, 6, 7, 3, 13, 8, 5, 1, 10, 11, 12, 0], phenome=0.00012874983906270118, length=14),\n",
       " Chromosome(gene=[11, 4, 0, 9, 6, 8, 7, 2, 13, 1, 3, 10, 12, 5], phenome=0.00015931177314003505, length=14),\n",
       " Chromosome(gene=[7, 3, 8, 2, 6, 11, 13, 12, 0, 4, 10, 9, 5, 1], phenome=0.0001340662287169862, length=14)]"
      ]
     },
     "execution_count": 26,
     "metadata": {},
     "output_type": "execute_result"
    }
   ],
   "source": [
    "for offspring in offsprings:\n",
    "    popz = replace_firstweak(pop1,offspring)\n",
    "popz"
   ]
  },
  {
   "cell_type": "code",
   "execution_count": 27,
   "metadata": {},
   "outputs": [
    {
     "data": {
      "text/plain": [
       "[Chromosome(gene=[4, 9, 13, 10, 1, 8, 11, 5, 0, 6, 2, 12, 7, 3], phenome=0.00014074595355383532, length=14),\n",
       " Chromosome(gene=[8, 6, 4, 3, 7, 12, 11, 13, 10, 2, 1, 0, 9, 5], phenome=0.00015401201293700908, length=14),\n",
       " Chromosome(gene=[10, 4, 0, 12, 11, 1, 6, 2, 3, 5, 7, 8, 9, 13], phenome=0.00014736221632773356, length=14),\n",
       " Chromosome(gene=[10, 2, 1, 11, 8, 4, 13, 9, 3, 5, 0, 12, 6, 7], phenome=0.00013271400132714, length=14),\n",
       " Chromosome(gene=[13, 9, 11, 1, 6, 12, 8, 5, 0, 10, 4, 2, 7, 3], phenome=0.000128915817970865, length=14),\n",
       " Chromosome(gene=[8, 6, 2, 7, 11, 10, 4, 5, 0, 3, 13, 12, 9, 1], phenome=0.0001405678942929435, length=14),\n",
       " Chromosome(gene=[11, 0, 2, 8, 9, 4, 5, 12, 13, 10, 6, 3, 7, 1], phenome=0.00014398848092152627, length=14),\n",
       " Chromosome(gene=[2, 9, 4, 6, 7, 3, 13, 8, 5, 1, 10, 11, 12, 0], phenome=0.00012874983906270118, length=14),\n",
       " Chromosome(gene=[11, 4, 0, 9, 6, 8, 7, 2, 13, 1, 3, 10, 12, 5], phenome=0.00015931177314003505, length=14),\n",
       " Chromosome(gene=[7, 3, 8, 2, 6, 11, 13, 12, 0, 4, 10, 9, 5, 1], phenome=0.0001340662287169862, length=14)]"
      ]
     },
     "execution_count": 27,
     "metadata": {},
     "output_type": "execute_result"
    }
   ],
   "source": [
    "pop1"
   ]
  },
  {
   "cell_type": "code",
   "execution_count": 28,
   "metadata": {},
   "outputs": [
    {
     "data": {
      "text/plain": [
       "Chromosome(gene=[11, 4, 0, 9, 6, 8, 7, 2, 13, 1, 3, 10, 12, 5], phenome=0.00015931177314003505, length=14)"
      ]
     },
     "execution_count": 28,
     "metadata": {},
     "output_type": "execute_result"
    }
   ],
   "source": [
    "best_gene(popz)"
   ]
  },
  {
   "cell_type": "markdown",
   "metadata": {},
   "source": [
    "## TEST SEARCH"
   ]
  },
  {
   "cell_type": "code",
   "execution_count": 32,
   "metadata": {},
   "outputs": [],
   "source": [
    "from typing import Callable, List, Any\n",
    "\n",
    "def search(distance_metric: List[List[int]],\n",
    "        max_gens:int,\n",
    "        pop_size:int,\n",
    "        tour_size:int, \n",
    "        co_fn:Callable,\n",
    "        mut_fn:Callable,\n",
    "        replace_fn:Callable) -> Any:\n",
    "    # population = generate_population(distance_metric=sample, pop_size=pop_size)\n",
    "    population = generate_population(population_size=pop_size,\n",
    "                                     distance_metric=distance_metric)\n",
    "    avg_fitness = [np.mean([pop.phenome for pop in population])]\n",
    "    max_fitness = [np.max([pop.phenome for pop in population])]\n",
    "    best_candidate = best_gene(population=population)\n",
    "    # best_candidate:Chromosome = population[np.argmax([pop.phenome for pop in population])]\n",
    "    for i in range(max_gens):\n",
    "        # parent1 = tournament_selection(population=population, fitness_value=pop_fitness, tournament_size=tour_size)\n",
    "        # parent1, parent2 = binary_tournament(population=population, fitness_value=pop_fitness, tournament_size=tour_size)\n",
    "        parents = parents_selection(population=population, tournament_size=tour_size)\n",
    "        parent1 , parent2 = parents[0], parents[1]\n",
    "        gene1, gene2 = co_fn(parent1,parent2)\n",
    "        child1 , child2 = create_chromosome(gene1,distance_metric=distance_metric), create_chromosome(gene2,distance_metric=distance_metric)\n",
    "        child1, child2 = mut_fn(child1), mut_fn(child2)\n",
    "        population = replace_fn(population,child1)\n",
    "        population = replace_fn(population,child2)\n",
    "        stats = pop_stats(population=population)\n",
    "        avg_fitness.append(stats[0])\n",
    "        max_fitness.append(stats[1][1])\n",
    "        new_best_candidate = best_gene(population=population)\n",
    "\n",
    "        if new_best_candidate.phenome > best_candidate.phenome:\n",
    "            best_candidate = new_best_candidate\n",
    "        if i % 100:\n",
    "            print(\"Processing {i} Steps\")\n",
    "        if (i > 2) and (avg_fitness[i] - avg_fitness[i-1] < 1e-5):\n",
    "            return population , avg_fitness , max_fitness , i ,best_candidate\n",
    "\n",
    "    return population , avg_fitness , max_fitness , i ,best_candidate"
   ]
  },
  {
   "cell_type": "code",
   "execution_count": 33,
   "metadata": {},
   "outputs": [],
   "source": [
    "max_generations = [100,1000,10000]\n",
    "population_sizes = [50,100,200]\n",
    "tour_size = [5,10,20]\n",
    "crossover_functions = [point_crossover, ordered_crossover]\n",
    "mutate_functions = [mutate, multi_mutate, inversion, scramble]\n",
    "replace_functions = [replace_firstweak, replace_weakest]\n"
   ]
  },
  {
   "cell_type": "code",
   "execution_count": 34,
   "metadata": {},
   "outputs": [
    {
     "name": "stdout",
     "output_type": "stream",
     "text": [
      "point 7\n",
      "point 0\n",
      "Processing {i} Steps\n",
      "point 2\n",
      "Processing {i} Steps\n",
      "point 12\n",
      "Processing {i} Steps\n"
     ]
    },
    {
     "data": {
      "text/plain": [
       "([Chromosome(gene=[1, 10, 9, 6, 11, 3, 13, 7, 0, 2, 8, 5, 4, 12], phenome=0.00017537706068046299, length=14),\n",
       "  Chromosome(gene=[13, 3, 6, 5, 8, 10, 9, 1, 7, 11, 2, 12, 4, 0], phenome=0.00017123287671232877, length=14),\n",
       "  Chromosome(gene=[2, 3, 13, 1, 4, 0, 11, 8, 10, 9, 5, 6, 12, 7], phenome=0.0001644195988161789, length=14),\n",
       "  Chromosome(gene=[5, 10, 13, 8, 6, 0, 9, 3, 1, 4, 12, 2, 11, 7], phenome=0.00012362467548522686, length=14),\n",
       "  Chromosome(gene=[0, 2, 8, 10, 12, 6, 13, 4, 9, 11, 1, 5, 7, 3], phenome=0.0001292824822236587, length=14),\n",
       "  Chromosome(gene=[7, 8, 2, 10, 3, 5, 0, 4, 1, 11, 9, 13, 12, 6], phenome=0.00012509382036527395, length=14),\n",
       "  Chromosome(gene=[12, 3, 1, 5, 0, 13, 7, 4, 2, 11, 10, 9, 8, 6], phenome=0.0001449905756125852, length=14),\n",
       "  Chromosome(gene=[0, 10, 9, 11, 2, 4, 1, 6, 7, 13, 8, 12, 5, 3], phenome=0.00014598540145985403, length=14),\n",
       "  Chromosome(gene=[3, 11, 13, 1, 12, 7, 9, 4, 2, 8, 5, 6, 0, 10], phenome=0.00014740566037735848, length=14),\n",
       "  Chromosome(gene=[6, 1, 4, 11, 9, 2, 10, 3, 8, 5, 13, 0, 7, 12], phenome=0.00013109596224436288, length=14),\n",
       "  Chromosome(gene=[8, 6, 3, 1, 5, 12, 9, 7, 13, 11, 2, 4, 0, 10], phenome=0.00015780337699226762, length=14),\n",
       "  Chromosome(gene=[3, 7, 5, 1, 10, 13, 0, 12, 2, 9, 11, 6, 8, 4], phenome=0.0001305994514823038, length=14),\n",
       "  Chromosome(gene=[4, 13, 5, 7, 10, 0, 11, 12, 2, 3, 1, 9, 8, 6], phenome=0.00017580872011251758, length=14),\n",
       "  Chromosome(gene=[9, 7, 0, 3, 11, 1, 2, 5, 13, 10, 12, 6, 8, 4], phenome=0.00014905351021016544, length=14),\n",
       "  Chromosome(gene=[10, 3, 8, 7, 6, 13, 4, 11, 1, 2, 5, 12, 9, 0], phenome=0.00016025641025641026, length=14),\n",
       "  Chromosome(gene=[8, 11, 5, 4, 7, 1, 13, 12, 0, 2, 9, 10, 6, 3], phenome=0.00015463120457708364, length=14),\n",
       "  Chromosome(gene=[3, 2, 8, 6, 0, 9, 12, 5, 7, 10, 13, 4, 11, 1], phenome=0.00015202189115232594, length=14),\n",
       "  Chromosome(gene=[12, 8, 0, 7, 2, 6, 11, 9, 3, 4, 1, 5, 13, 10], phenome=0.00014812620352540364, length=14),\n",
       "  Chromosome(gene=[3, 12, 6, 4, 1, 9, 10, 8, 2, 13, 5, 7, 0, 11], phenome=0.00018224895206852561, length=14),\n",
       "  Chromosome(gene=[12, 7, 6, 11, 10, 9, 2, 3, 8, 0, 4, 13, 5, 1], phenome=0.00014894250819183795, length=14),\n",
       "  Chromosome(gene=[2, 1, 13, 3, 4, 0, 11, 8, 10, 9, 5, 6, 7, 12], phenome=0.00015845349389954048, length=14),\n",
       "  Chromosome(gene=[6, 2, 13, 12, 7, 11, 9, 10, 5, 4, 0, 1, 8, 3], phenome=0.00015316281206922958, length=14),\n",
       "  Chromosome(gene=[4, 9, 6, 12, 7, 11, 5, 2, 1, 8, 13, 0, 10, 3], phenome=0.00015681354869060687, length=14),\n",
       "  Chromosome(gene=[5, 4, 9, 0, 12, 10, 3, 11, 1, 7, 13, 8, 2, 6], phenome=0.0001515610791148833, length=14),\n",
       "  Chromosome(gene=[8, 2, 6, 13, 4, 10, 1, 3, 5, 7, 0, 12, 11, 9], phenome=0.00015339776039269826, length=14),\n",
       "  Chromosome(gene=[2, 10, 7, 9, 5, 1, 12, 6, 3, 8, 11, 0, 13, 4], phenome=0.0001353546291283162, length=14),\n",
       "  Chromosome(gene=[8, 3, 1, 4, 10, 2, 6, 9, 5, 0, 13, 7, 11, 12], phenome=0.00011615750958299454, length=14),\n",
       "  Chromosome(gene=[2, 7, 11, 9, 3, 1, 6, 13, 0, 10, 5, 4, 12, 8], phenome=0.00013234515616728428, length=14),\n",
       "  Chromosome(gene=[5, 4, 1, 8, 0, 6, 2, 12, 10, 13, 9, 11, 7, 3], phenome=0.00014104372355430183, length=14),\n",
       "  Chromosome(gene=[0, 8, 11, 2, 5, 12, 6, 9, 4, 10, 3, 1, 7, 13], phenome=0.0001369487811558477, length=14),\n",
       "  Chromosome(gene=[2, 5, 4, 7, 9, 1, 11, 13, 0, 8, 3, 12, 10, 6], phenome=0.00015549681231534753, length=14),\n",
       "  Chromosome(gene=[8, 12, 13, 3, 4, 2, 7, 5, 1, 6, 11, 9, 10, 0], phenome=0.00016767270288397049, length=14),\n",
       "  Chromosome(gene=[2, 0, 6, 10, 5, 4, 12, 1, 7, 8, 13, 3, 11, 9], phenome=0.00015048908954100828, length=14),\n",
       "  Chromosome(gene=[2, 1, 6, 4, 12, 8, 11, 13, 0, 7, 9, 5, 10, 3], phenome=0.00014894250819183795, length=14),\n",
       "  Chromosome(gene=[12, 2, 7, 11, 3, 0, 6, 5, 10, 1, 4, 8, 9, 13], phenome=0.0001385809312638581, length=14),\n",
       "  Chromosome(gene=[6, 7, 3, 13, 4, 12, 0, 1, 5, 8, 2, 11, 9, 10], phenome=0.00014214641080312722, length=14),\n",
       "  Chromosome(gene=[3, 13, 2, 9, 4, 12, 10, 0, 5, 7, 1, 6, 11, 8], phenome=0.00013954786491766677, length=14),\n",
       "  Chromosome(gene=[6, 5, 13, 8, 4, 3, 9, 12, 7, 2, 11, 0, 10, 1], phenome=0.00014775413711583924, length=14),\n",
       "  Chromosome(gene=[5, 1, 12, 9, 2, 13, 0, 8, 7, 11, 10, 6, 3, 4], phenome=0.0001592103168285305, length=14),\n",
       "  Chromosome(gene=[1, 10, 9, 6, 11, 3, 13, 4, 5, 8, 2, 0, 12, 7], phenome=0.0001737921445950643, length=14),\n",
       "  Chromosome(gene=[13, 2, 11, 7, 1, 9, 10, 8, 5, 6, 3, 12, 4, 0], phenome=0.00017123287671232877, length=14),\n",
       "  Chromosome(gene=[12, 7, 4, 13, 10, 11, 5, 9, 1, 0, 8, 2, 6, 3], phenome=0.00015223017202009437, length=14),\n",
       "  Chromosome(gene=[7, 5, 9, 2, 12, 3, 0, 6, 10, 13, 4, 11, 8, 1], phenome=0.0001330671989354624, length=14),\n",
       "  Chromosome(gene=[10, 9, 11, 8, 4, 6, 13, 2, 3, 0, 1, 7, 5, 12], phenome=0.0001599488163787588, length=14),\n",
       "  Chromosome(gene=[4, 11, 10, 0, 8, 2, 12, 9, 7, 6, 1, 13, 3, 5], phenome=0.0001753463089601964, length=14),\n",
       "  Chromosome(gene=[2, 13, 6, 3, 12, 9, 4, 1, 10, 5, 11, 7, 8, 0], phenome=0.00015391719255040788, length=14),\n",
       "  Chromosome(gene=[8, 10, 4, 2, 3, 9, 12, 1, 6, 5, 13, 11, 0, 7], phenome=0.00016477179106936892, length=14),\n",
       "  Chromosome(gene=[6, 11, 7, 1, 0, 4, 5, 9, 13, 3, 10, 2, 12, 8], phenome=0.00014186409419775854, length=14),\n",
       "  Chromosome(gene=[4, 1, 9, 8, 3, 5, 0, 12, 7, 6, 11, 13, 10, 2], phenome=0.00015114873035066505, length=14),\n",
       "  Chromosome(gene=[2, 6, 0, 5, 4, 9, 13, 12, 7, 10, 8, 3, 1, 11], phenome=0.00014257199885942402, length=14)],\n",
       " [0.00014914937913367604,\n",
       "  0.0001493841948580935,\n",
       "  0.0001496676555963608,\n",
       "  0.00015015609824801872,\n",
       "  0.00015045941869585102],\n",
       " [0.00018224895206852561,\n",
       "  0.00018224895206852561,\n",
       "  0.00018224895206852561,\n",
       "  0.00018224895206852561,\n",
       "  0.00018224895206852561],\n",
       " 3,\n",
       " Chromosome(gene=[3, 12, 6, 4, 1, 9, 10, 8, 2, 13, 5, 7, 0, 11], phenome=0.00018224895206852561, length=14))"
      ]
     },
     "execution_count": 34,
     "metadata": {},
     "output_type": "execute_result"
    }
   ],
   "source": [
    "# Test search fn\n",
    "res = search(burma_metric,100,50,5,point_crossover,inversion,replace_firstweak)\n",
    "res"
   ]
  },
  {
   "cell_type": "code",
   "execution_count": null,
   "metadata": {},
   "outputs": [
    {
     "data": {
      "text/plain": [
       "432"
      ]
     },
     "execution_count": 11,
     "metadata": {},
     "output_type": "execute_result"
    }
   ],
   "source": [
    "combinations = find_combinations(\n",
    "    max_generations,\n",
    "    population_sizes,\n",
    "    tour_size,\n",
    "    crossover_functions,\n",
    "    mutate_functions,\n",
    "    replace_functions\n",
    ")\n",
    "len(combinations)"
   ]
  },
  {
   "cell_type": "code",
   "execution_count": null,
   "metadata": {},
   "outputs": [
    {
     "data": {
      "text/plain": [
       "432"
      ]
     },
     "execution_count": 12,
     "metadata": {},
     "output_type": "execute_result"
    }
   ],
   "source": [
    "para_list = create_parameter_list(combinations)\n",
    "len(para_list)"
   ]
  },
  {
   "cell_type": "code",
   "execution_count": null,
   "metadata": {},
   "outputs": [
    {
     "data": {
      "text/plain": [
       "[Parameters(max_gen=100, pop_size=50, tour_size=5, cross_fn=<function point_crossover at 0x000001A6EACFE3E0>, mutate_fn=<function mutate at 0x000001A6EACFE660>, replace_fn=<function replace_firstweak at 0x000001A6EACFE8E0>),\n",
       " Parameters(max_gen=100, pop_size=50, tour_size=5, cross_fn=<function point_crossover at 0x000001A6EACFE3E0>, mutate_fn=<function mutate at 0x000001A6EACFE660>, replace_fn=<function replace_weakest at 0x000001A6EACFE980>),\n",
       " Parameters(max_gen=100, pop_size=50, tour_size=5, cross_fn=<function point_crossover at 0x000001A6EACFE3E0>, mutate_fn=<function multi_mutate at 0x000001A6EACFE700>, replace_fn=<function replace_firstweak at 0x000001A6EACFE8E0>),\n",
       " Parameters(max_gen=100, pop_size=50, tour_size=5, cross_fn=<function point_crossover at 0x000001A6EACFE3E0>, mutate_fn=<function multi_mutate at 0x000001A6EACFE700>, replace_fn=<function replace_weakest at 0x000001A6EACFE980>)]"
      ]
     },
     "execution_count": 13,
     "metadata": {},
     "output_type": "execute_result"
    }
   ],
   "source": [
    "para_list[:4]"
   ]
  },
  {
   "cell_type": "code",
   "execution_count": null,
   "metadata": {},
   "outputs": [],
   "source": []
  }
 ],
 "metadata": {
  "kernelspec": {
   "display_name": "exeter",
   "language": "python",
   "name": "python3"
  },
  "language_info": {
   "codemirror_mode": {
    "name": "ipython",
    "version": 3
   },
   "file_extension": ".py",
   "mimetype": "text/x-python",
   "name": "python",
   "nbconvert_exporter": "python",
   "pygments_lexer": "ipython3",
   "version": "3.11.5"
  }
 },
 "nbformat": 4,
 "nbformat_minor": 2
}
