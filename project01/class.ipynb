{
 "cells": [
  {
   "cell_type": "code",
   "execution_count": 37,
   "metadata": {},
   "outputs": [],
   "source": [
    "from core.utils import load_metrics, generate_population, tournament_selection, binary_tournament\n",
    "from core.crossover import fixed_crossover , ordered_crossover, partialMap_crossover\n",
    "from core.mutation import mutate, multiple_mutate, inversion, scramble\n",
    "from core.replacement import replace_firstweak, replace_weakest\n",
    "from core.visualization import draw_cost, draw_cost_seperate\n",
    "import numpy as np\n",
    "import matplotlib.pyplot as plt\n",
    "import torch.nn as nn"
   ]
  },
  {
   "cell_type": "code",
   "execution_count": 38,
   "metadata": {},
   "outputs": [],
   "source": [
    "sample = [\n",
    "    [0,2,1,2,1],\n",
    "    [2,0,2,2,2],\n",
    "    [1,2,0,2,1],\n",
    "    [2,2,2,0,2],\n",
    "    [1,2,1,2,0]\n",
    "]\n"
   ]
  },
  {
   "cell_type": "code",
   "execution_count": 39,
   "metadata": {},
   "outputs": [],
   "source": [
    "from core import fitness\n",
    "from typing import List, Callable\n",
    "\n",
    "class Chromosome:\n",
    "    def __init__(self, genes:List[int]):\n",
    "        self.genes = genes\n",
    "        self.phenomes = self.__fitness__(genes=genes)\n",
    "\n",
    "    def __fitness__(self, genes:List[int]) -> int:\n",
    "        return fitness(genes, distance_metric=sample)\n",
    "\n",
    "    def __str__(self):\n",
    "        return f\"Genes: {self.genes}\\nPhenomes: {self.phenomes:.5f}\""
   ]
  },
  {
   "cell_type": "code",
   "execution_count": 40,
   "metadata": {},
   "outputs": [],
   "source": [
    "class Genetic(nn.Module):\n",
    "    def __init__(self, distance_metric, p_mutate, p_crossover) -> None:\n",
    "        super().__init__()\n",
    "        self.distance_metric = distance_metric\n",
    "        self.p_mutate = p_mutate\n",
    "        self.p_crossover = p_crossover\n",
    "    \n",
    "    def search(self,cfg):\n",
    "        # TODO : make search return everything we need to track upon experiencing the lab\n",
    "        pass\n",
    "\n",
    "    def forward(self,cfg):\n",
    "        return self.search(cfg)\n",
    "    \n",
    "        "
   ]
  },
  {
   "cell_type": "markdown",
   "metadata": {},
   "source": [
    "### EXP"
   ]
  },
  {
   "cell_type": "code",
   "execution_count": 41,
   "metadata": {},
   "outputs": [],
   "source": [
    "def tour_size_manager(pop_size):\n",
    "    if (pop_size >= 100):\n",
    "        return [pop_size*0.1,pop_size*0.2,pop_size*0.3,pop_size*0.8]\n",
    "    else:\n",
    "        return [2,4,6,8]\n",
    "max_generations = [100,1000,10000]\n",
    "population_sizes = [50,100,200]\n",
    "tour_size = [5,10,20]\n",
    "crossover_functions = [fixed_crossover, ordered_crossover, partialMap_crossover]\n",
    "mutate_functions = [mutate, multiple_mutate, inversion, scramble]\n",
    "replace_functions = [replace_firstweak, replace_weakest]"
   ]
  },
  {
   "cell_type": "code",
   "execution_count": 42,
   "metadata": {},
   "outputs": [],
   "source": [
    "# class Parameters:\n",
    "#     def __init__(self,max_gen,pop_size,tour_size,cross_fn,mutate_fn,replace_fn) -> None:\n",
    "#         self.max_gen = max_gen\n",
    "#         self.pop_size = pop_size\n",
    "#         self.tour_size = tour_size\n",
    "#         self.cross_fn = cross_fn\n",
    "#         self.mutate_fn = mutate_fn\n",
    "#         self.replace_fn = replace_fn\n",
    "from dataclasses import dataclass\n",
    "\n",
    "@dataclass\n",
    "class Parameters:\n",
    "    max_gen : int\n",
    "    pop_size : int\n",
    "    tour_size : int\n",
    "    cross_fn : Callable\n",
    "    mutate_fn : Callable\n",
    "    replace_fn :Callable"
   ]
  },
  {
   "cell_type": "code",
   "execution_count": 43,
   "metadata": {},
   "outputs": [],
   "source": [
    "cfg = {\n",
    "    \"max_gen\" : 100,\n",
    "    \"pop_size\" : 50,\n",
    "    \"tour_size\" : 5,\n",
    "    \"cross_fn\" : fixed_crossover,\n",
    "    \"mutate_fn\" : mutate,\n",
    "    \"replace_fn\" : replace_firstweak\n",
    "}"
   ]
  },
  {
   "cell_type": "code",
   "execution_count": 44,
   "metadata": {},
   "outputs": [],
   "source": [
    "cfg1 = Parameters(100,50,5,fixed_crossover,mutate,replace_firstweak)"
   ]
  },
  {
   "cell_type": "code",
   "execution_count": 45,
   "metadata": {},
   "outputs": [
    {
     "data": {
      "text/plain": [
       "Parameters(max_gen=100, pop_size=50, tour_size=5, cross_fn=<function fixed_crossover at 0x000002327E7CB7E0>, mutate_fn=<function mutate at 0x0000023206D45620>, replace_fn=<function replace_firstweak at 0x00000232072A49A0>)"
      ]
     },
     "execution_count": 45,
     "metadata": {},
     "output_type": "execute_result"
    }
   ],
   "source": [
    "cfg1"
   ]
  },
  {
   "cell_type": "code",
   "execution_count": 52,
   "metadata": {},
   "outputs": [
    {
     "name": "stdout",
     "output_type": "stream",
     "text": [
      "poissble way: 648\n",
      "num res : 648\n"
     ]
    }
   ],
   "source": [
    "import itertools\n",
    "# Generate all combinations of parameters\n",
    "parameter_combinations = list(itertools.product(\n",
    "    max_generations, population_sizes, tour_size,\n",
    "    crossover_functions, mutate_functions, replace_functions\n",
    "))\n",
    "\n",
    "# You can access each combination as a tuple in parameter_combinations\n",
    "print(\"poissble way:\",len(parameter_combinations))\n",
    "params_list = []\n",
    "for params in parameter_combinations:\n",
    "    # print(Parameters(*params))\n",
    "    params_list.append(Parameters(*params))\n",
    "print(f\"num res : {len(params_list)}\")"
   ]
  },
  {
   "cell_type": "code",
   "execution_count": null,
   "metadata": {},
   "outputs": [],
   "source": []
  }
 ],
 "metadata": {
  "kernelspec": {
   "display_name": "exeter",
   "language": "python",
   "name": "python3"
  },
  "language_info": {
   "codemirror_mode": {
    "name": "ipython",
    "version": 3
   },
   "file_extension": ".py",
   "mimetype": "text/x-python",
   "name": "python",
   "nbconvert_exporter": "python",
   "pygments_lexer": "ipython3",
   "version": "3.11.5"
  }
 },
 "nbformat": 4,
 "nbformat_minor": 2
}
