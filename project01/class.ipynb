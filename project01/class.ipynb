{
 "cells": [
  {
   "cell_type": "code",
   "execution_count": 1,
   "metadata": {},
   "outputs": [],
   "source": [
    "from core.utils import load_metrics, generate_population, tournament_selection, binary_tournament\n",
    "from core.crossover import fixed_crossover , ordered_crossover, partialMap_crossover\n",
    "from core.mutation import mutate, multiple_mutate, inversion, scramble\n",
    "from core.replacement import replace_firstweak, replace_weakest\n",
    "from core.visualization import draw_cost, draw_cost_seperate\n",
    "import numpy as np\n",
    "import matplotlib.pyplot as plt\n",
    "import torch.nn as nn\n",
    "\n",
    "np.random.seed(1234)"
   ]
  },
  {
   "cell_type": "code",
   "execution_count": 2,
   "metadata": {},
   "outputs": [],
   "source": [
    "sample = [\n",
    "    [0,2,1,2,1],\n",
    "    [2,0,2,2,2],\n",
    "    [1,2,0,2,1],\n",
    "    [2,2,2,0,2],\n",
    "    [1,2,1,2,0]\n",
    "]\n"
   ]
  },
  {
   "cell_type": "code",
   "execution_count": 3,
   "metadata": {},
   "outputs": [],
   "source": [
    "from core import fitness\n",
    "from typing import List, Callable\n",
    "\n",
    "class Chromosome:\n",
    "    def __init__(self, genes:List[int]):\n",
    "        self.genes = genes\n",
    "        self.phenomes = self.__fitness__(genes=genes)\n",
    "\n",
    "    def __fitness__(self, genes:List[int]) -> int:\n",
    "        return fitness(genes, distance_metric=sample)\n",
    "\n",
    "    def __str__(self):\n",
    "        return f\"Genes: {self.genes}\\nPhenomes: {self.phenomes:.5f}\""
   ]
  },
  {
   "cell_type": "code",
   "execution_count": 4,
   "metadata": {},
   "outputs": [],
   "source": [
    "class Genetic(nn.Module):\n",
    "    def __init__(self, distance_metric, p_mutate, p_crossover) -> None:\n",
    "        super().__init__()\n",
    "        self.distance_metric = distance_metric\n",
    "        self.p_mutate = p_mutate\n",
    "        self.p_crossover = p_crossover\n",
    "    \n",
    "    def search(self,cfg):\n",
    "        # TODO : make search return everything we need to track upon experiencing the lab\n",
    "        pass\n",
    "\n",
    "    def forward(self,cfg):\n",
    "        return self.search(cfg)\n",
    "    \n",
    "        "
   ]
  },
  {
   "cell_type": "markdown",
   "metadata": {},
   "source": [
    "### EXP"
   ]
  },
  {
   "cell_type": "code",
   "execution_count": 5,
   "metadata": {},
   "outputs": [],
   "source": [
    "def tour_size_manager(pop_size):\n",
    "    if (pop_size >= 100):\n",
    "        return [pop_size*0.1,pop_size*0.2,pop_size*0.3,pop_size*0.8]\n",
    "    else:\n",
    "        return [2,4,6,8]\n",
    "max_generations = [100,1000,10000]\n",
    "population_sizes = [50,100,200]\n",
    "tour_size = [5,10,20]\n",
    "crossover_functions = [fixed_crossover, ordered_crossover, partialMap_crossover]\n",
    "mutate_functions = [mutate, multiple_mutate, inversion, scramble]\n",
    "replace_functions = [replace_firstweak, replace_weakest]"
   ]
  },
  {
   "cell_type": "code",
   "execution_count": 6,
   "metadata": {},
   "outputs": [],
   "source": [
    "# class Parameters:\n",
    "#     def __init__(self,max_gen,pop_size,tour_size,cross_fn,mutate_fn,replace_fn) -> None:\n",
    "#         self.max_gen = max_gen\n",
    "#         self.pop_size = pop_size\n",
    "#         self.tour_size = tour_size\n",
    "#         self.cross_fn = cross_fn\n",
    "#         self.mutate_fn = mutate_fn\n",
    "#         self.replace_fn = replace_fn\n",
    "from dataclasses import dataclass\n",
    "\n",
    "@dataclass\n",
    "class Parameters:\n",
    "    max_gen : int\n",
    "    pop_size : int\n",
    "    tour_size : int\n",
    "    cross_fn : Callable\n",
    "    mutate_fn : Callable\n",
    "    replace_fn :Callable"
   ]
  },
  {
   "cell_type": "code",
   "execution_count": 7,
   "metadata": {},
   "outputs": [],
   "source": [
    "cfg = {\n",
    "    \"max_gen\" : 100,\n",
    "    \"pop_size\" : 50,\n",
    "    \"tour_size\" : 5,\n",
    "    \"cross_fn\" : fixed_crossover,\n",
    "    \"mutate_fn\" : mutate,\n",
    "    \"replace_fn\" : replace_firstweak\n",
    "}"
   ]
  },
  {
   "cell_type": "code",
   "execution_count": 8,
   "metadata": {},
   "outputs": [],
   "source": [
    "cfg1 = Parameters(100,50,5,fixed_crossover,mutate,replace_firstweak)"
   ]
  },
  {
   "cell_type": "code",
   "execution_count": 9,
   "metadata": {},
   "outputs": [
    {
     "data": {
      "text/plain": [
       "Parameters(max_gen=100, pop_size=50, tour_size=5, cross_fn=<function fixed_crossover at 0x000001924E317100>, mutate_fn=<function mutate at 0x000001926CC854E0>, replace_fn=<function replace_firstweak at 0x000001926CC85DA0>)"
      ]
     },
     "execution_count": 9,
     "metadata": {},
     "output_type": "execute_result"
    }
   ],
   "source": [
    "cfg1"
   ]
  },
  {
   "cell_type": "code",
   "execution_count": 10,
   "metadata": {},
   "outputs": [
    {
     "name": "stdout",
     "output_type": "stream",
     "text": [
      "poissble way: 648\n",
      "num res : 648\n"
     ]
    }
   ],
   "source": [
    "import itertools\n",
    "# Generate all combinations of parameters\n",
    "parameter_combinations = list(itertools.product(\n",
    "    max_generations, population_sizes, tour_size,\n",
    "    crossover_functions, mutate_functions, replace_functions\n",
    "))\n",
    "\n",
    "# You can access each combination as a tuple in parameter_combinations\n",
    "print(\"poissble way:\",len(parameter_combinations))\n",
    "params_list = []\n",
    "for params in parameter_combinations:\n",
    "    # print(Parameters(*params))\n",
    "    params_list.append(Parameters(*params))\n",
    "print(f\"num res : {len(params_list)}\")"
   ]
  },
  {
   "cell_type": "code",
   "execution_count": 11,
   "metadata": {},
   "outputs": [
    {
     "data": {
      "text/plain": [
       "(100,\n",
       " 50,\n",
       " 5,\n",
       " <function core.crossover.fixed_crossover(arg1, arg2)>,\n",
       " <function core.mutation.mutate(candidate)>,\n",
       " <function core.replacement.replace_firstweak(population, candidate, distance_metric)>)"
      ]
     },
     "execution_count": 11,
     "metadata": {},
     "output_type": "execute_result"
    }
   ],
   "source": [
    "parameter_combinations[0]"
   ]
  },
  {
   "cell_type": "code",
   "execution_count": 12,
   "metadata": {},
   "outputs": [
    {
     "data": {
      "text/plain": [
       "[0, 1]"
      ]
     },
     "execution_count": 12,
     "metadata": {},
     "output_type": "execute_result"
    }
   ],
   "source": [
    "[x for x in range(2)]"
   ]
  },
  {
   "cell_type": "markdown",
   "metadata": {},
   "source": [
    "## TEST CLASS CORE"
   ]
  },
  {
   "cell_type": "code",
   "execution_count": 20,
   "metadata": {},
   "outputs": [],
   "source": [
    "from version2.utils import create_parameter_list, generate_population, parents_selection"
   ]
  },
  {
   "cell_type": "code",
   "execution_count": 21,
   "metadata": {},
   "outputs": [],
   "source": [
    "from version2.classes import Parameters, Chromosome\n",
    "from version2.utils import create_chromosome"
   ]
  },
  {
   "cell_type": "code",
   "execution_count": 22,
   "metadata": {},
   "outputs": [],
   "source": [
    "sample = [\n",
    "    [0,2,1,2,1],\n",
    "    [2,0,2,2,2],\n",
    "    [1,2,0,2,1],\n",
    "    [2,2,2,0,2],\n",
    "    [1,2,1,2,0]\n",
    "]"
   ]
  },
  {
   "cell_type": "code",
   "execution_count": 23,
   "metadata": {},
   "outputs": [
    {
     "data": {
      "text/plain": [
       "Chromosome(gene=[0, 1, 2, 3, 4], phenome=0.1111111111111111, length=5)"
      ]
     },
     "execution_count": 23,
     "metadata": {},
     "output_type": "execute_result"
    }
   ],
   "source": [
    "create_chromosome([0,1,2,3,4],sample)"
   ]
  },
  {
   "cell_type": "code",
   "execution_count": 24,
   "metadata": {},
   "outputs": [
    {
     "data": {
      "text/plain": [
       "[Chromosome(gene=[4, 0, 1, 2, 3], phenome=0.1111111111111111, length=5),\n",
       " Chromosome(gene=[3, 2, 1, 0, 4], phenome=0.1111111111111111, length=5),\n",
       " Chromosome(gene=[2, 0, 4, 3, 1], phenome=0.125, length=5),\n",
       " Chromosome(gene=[1, 4, 0, 2, 3], phenome=0.125, length=5),\n",
       " Chromosome(gene=[1, 0, 3, 4, 2], phenome=0.1111111111111111, length=5),\n",
       " Chromosome(gene=[2, 3, 1, 4, 0], phenome=0.125, length=5),\n",
       " Chromosome(gene=[4, 0, 2, 3, 1], phenome=0.125, length=5),\n",
       " Chromosome(gene=[4, 1, 3, 0, 2], phenome=0.125, length=5),\n",
       " Chromosome(gene=[0, 1, 3, 4, 2], phenome=0.125, length=5),\n",
       " Chromosome(gene=[4, 2, 1, 0, 3], phenome=0.1111111111111111, length=5)]"
      ]
     },
     "execution_count": 24,
     "metadata": {},
     "output_type": "execute_result"
    }
   ],
   "source": [
    "pop1 = generate_population(10,sample)\n",
    "pop1"
   ]
  },
  {
   "cell_type": "code",
   "execution_count": null,
   "metadata": {},
   "outputs": [
    {
     "data": {
      "text/plain": [
       "(Chromosome(gene=[1, 4, 0, 2, 3], phenome=0.125),\n",
       " Chromosome(gene=[1, 4, 0, 2, 3], phenome=0.125))"
      ]
     },
     "execution_count": 57,
     "metadata": {},
     "output_type": "execute_result"
    }
   ],
   "source": [
    "parent1, parent2 = parents_selection(pop1,2)\n",
    "parent1, parent2"
   ]
  },
  {
   "cell_type": "code",
   "execution_count": null,
   "metadata": {},
   "outputs": [],
   "source": [
    "from version2.crossover import ordered_crossover, point_crossover"
   ]
  },
  {
   "cell_type": "code",
   "execution_count": null,
   "metadata": {},
   "outputs": [
    {
     "name": "stdout",
     "output_type": "stream",
     "text": [
      "point 4\n"
     ]
    },
    {
     "data": {
      "text/plain": [
       "([1, 4, 0, 2, 3], [1, 4, 0, 2, 3])"
      ]
     },
     "execution_count": 59,
     "metadata": {},
     "output_type": "execute_result"
    }
   ],
   "source": [
    "point_crossover(parent1,parent2)"
   ]
  },
  {
   "cell_type": "code",
   "execution_count": null,
   "metadata": {},
   "outputs": [],
   "source": [
    "# crossover\n",
    "def point_crossover(parent1, parent2):\n",
    "    assert isinstance(parent1,Chromosome) and isinstance(parent2,Chromosome) , f\"parent(s) should have instance of Chromosome class\"\n",
    "    n = len(parent1.gene)\n",
    "    # point = np.random.randint(n)\n",
    "    point = 2\n",
    "\n",
    "    child1, child2 = [None]*n , [None]*n\n",
    "    child1[point:] = parent2.gene[point:]\n",
    "    child2[point:] = parent1.gene[point:]\n",
    "    \n",
    "    for i in range(point):\n",
    "        if parent1.gene[i] not in child1:\n",
    "            child1[i] = parent1[i]\n",
    "        if parent2.gene[i] not in child2:\n",
    "            child2[i] = parent2[i]\n",
    "    \n",
    "    remain1 = [x for x in parent1.gene if x not in child1]\n",
    "    remain2 = [x for x in parent2.gene if x not in child2]\n",
    "\n",
    "    for i in range(n):\n",
    "        if child1[i] == None:\n",
    "            child1[i] = remain1.pop(0)\n",
    "        if child2[i] == None:\n",
    "            child2[i] = remain2.pop(0)\n",
    "    \n",
    "    return child1 , child2"
   ]
  },
  {
   "cell_type": "code",
   "execution_count": null,
   "metadata": {},
   "outputs": [
    {
     "ename": "TypeError",
     "evalue": "'Chromosome' object is not subscriptable",
     "output_type": "error",
     "traceback": [
      "\u001b[1;31m---------------------------------------------------------------------------\u001b[0m",
      "\u001b[1;31mTypeError\u001b[0m                                 Traceback (most recent call last)",
      "\u001b[1;32md:\\USERS\\Exeter\\Courses\\Module ECMM409 (2023) Nature-Inspired Computation\\Nature_inspired\\project01\\class.ipynb Cell 23\u001b[0m line \u001b[0;36m1\n\u001b[1;32m----> <a href='vscode-notebook-cell:/d%3A/USERS/Exeter/Courses/Module%20ECMM409%20%282023%29%20Nature-Inspired%20Computation/Nature_inspired/project01/class.ipynb#X42sZmlsZQ%3D%3D?line=0'>1</a>\u001b[0m point_crossover(parent1,parent2)\n",
      "\u001b[1;32md:\\USERS\\Exeter\\Courses\\Module ECMM409 (2023) Nature-Inspired Computation\\Nature_inspired\\project01\\class.ipynb Cell 23\u001b[0m line \u001b[0;36m1\n\u001b[0;32m     <a href='vscode-notebook-cell:/d%3A/USERS/Exeter/Courses/Module%20ECMM409%20%282023%29%20Nature-Inspired%20Computation/Nature_inspired/project01/class.ipynb#X42sZmlsZQ%3D%3D?line=11'>12</a>\u001b[0m \u001b[39mfor\u001b[39;00m i \u001b[39min\u001b[39;00m \u001b[39mrange\u001b[39m(point):\n\u001b[0;32m     <a href='vscode-notebook-cell:/d%3A/USERS/Exeter/Courses/Module%20ECMM409%20%282023%29%20Nature-Inspired%20Computation/Nature_inspired/project01/class.ipynb#X42sZmlsZQ%3D%3D?line=12'>13</a>\u001b[0m     \u001b[39mif\u001b[39;00m parent1\u001b[39m.\u001b[39mgene[i] \u001b[39mnot\u001b[39;00m \u001b[39min\u001b[39;00m child1:\n\u001b[1;32m---> <a href='vscode-notebook-cell:/d%3A/USERS/Exeter/Courses/Module%20ECMM409%20%282023%29%20Nature-Inspired%20Computation/Nature_inspired/project01/class.ipynb#X42sZmlsZQ%3D%3D?line=13'>14</a>\u001b[0m         child1[i] \u001b[39m=\u001b[39m parent1[i]\n\u001b[0;32m     <a href='vscode-notebook-cell:/d%3A/USERS/Exeter/Courses/Module%20ECMM409%20%282023%29%20Nature-Inspired%20Computation/Nature_inspired/project01/class.ipynb#X42sZmlsZQ%3D%3D?line=14'>15</a>\u001b[0m     \u001b[39mif\u001b[39;00m parent2\u001b[39m.\u001b[39mgene[i] \u001b[39mnot\u001b[39;00m \u001b[39min\u001b[39;00m child2:\n\u001b[0;32m     <a href='vscode-notebook-cell:/d%3A/USERS/Exeter/Courses/Module%20ECMM409%20%282023%29%20Nature-Inspired%20Computation/Nature_inspired/project01/class.ipynb#X42sZmlsZQ%3D%3D?line=15'>16</a>\u001b[0m         child2[i] \u001b[39m=\u001b[39m parent2[i]\n",
      "\u001b[1;31mTypeError\u001b[0m: 'Chromosome' object is not subscriptable"
     ]
    }
   ],
   "source": [
    "point_crossover(parent1,parent2)"
   ]
  },
  {
   "cell_type": "code",
   "execution_count": null,
   "metadata": {},
   "outputs": [],
   "source": [
    "def ordered_crossover(parent1, parent2):\n",
    "    assert isinstance(parent1,Chromosome) and isinstance(parent2,Chromosome) , f\"parent(s) should have instance of Chromosome class\"\n",
    "    n = len(parent1.gene)\n",
    "    child1 = [-1] * n\n",
    "    child2 = [-1] * n\n",
    "\n",
    "    start, end = np.sort(np.random.choice(n, 2, replace=False))\n",
    "    \n",
    "    child1[start:end+1] = parent2.gene[start:end+1]\n",
    "    child2[start:end+1] = parent1.gene[start:end+1]\n",
    "\n",
    "    mapping_range = list(set(range(n)) - set(range(start,end+1)))\n",
    "    # print(mapping_range)\n",
    "    for idx in mapping_range:\n",
    "        if parent1.gene[idx] not in child1:\n",
    "            child1[idx] = parent1.gene[idx]\n",
    "        if parent2.gene[idx] not in child2:\n",
    "            child2[idx] = parent2.gene[idx]\n",
    "\n",
    "    remain1 = [x for x in parent1.gene if x not in child1]\n",
    "    remain2 = [x for x in parent2.gene if x not in child2]\n",
    "\n",
    "    child1 = [remain1.pop(0) if x == -1 else x for x in child1 ]\n",
    "    child2 = [remain2.pop(0) if x == -1 else x for x in child2 ]\n",
    "\n",
    "    return child1 , child2"
   ]
  },
  {
   "cell_type": "code",
   "execution_count": null,
   "metadata": {},
   "outputs": [
    {
     "data": {
      "text/plain": [
       "([4, 2, 1, 3, 0], [2, 3, 1, 0, 4])"
      ]
     },
     "execution_count": 110,
     "metadata": {},
     "output_type": "execute_result"
    }
   ],
   "source": [
    "ordered_crossover(parent1,parent2)"
   ]
  },
  {
   "cell_type": "code",
   "execution_count": null,
   "metadata": {},
   "outputs": [],
   "source": []
  },
  {
   "cell_type": "code",
   "execution_count": null,
   "metadata": {},
   "outputs": [
    {
     "data": {
      "text/plain": [
       "[Chromosome(gene=[3, 1, 2, 0, 4], phenome=0.125),\n",
       " Chromosome(gene=[2, 4, 1, 0, 3], phenome=0.1111111111111111)]"
      ]
     },
     "execution_count": 51,
     "metadata": {},
     "output_type": "execute_result"
    }
   ],
   "source": [
    "parents"
   ]
  },
  {
   "cell_type": "code",
   "execution_count": null,
   "metadata": {},
   "outputs": [
    {
     "data": {
      "text/plain": [
       "[2, 0]"
      ]
     },
     "execution_count": 52,
     "metadata": {},
     "output_type": "execute_result"
    }
   ],
   "source": [
    "parents[0].gene[2:3+1]"
   ]
  },
  {
   "cell_type": "code",
   "execution_count": null,
   "metadata": {},
   "outputs": [
    {
     "data": {
      "text/plain": [
       "[0, 1, 4]"
      ]
     },
     "execution_count": 59,
     "metadata": {},
     "output_type": "execute_result"
    }
   ],
   "source": [
    "list(set(range(4+1)) - set(range(2,3+1)))"
   ]
  },
  {
   "cell_type": "code",
   "execution_count": null,
   "metadata": {},
   "outputs": [
    {
     "data": {
      "text/plain": [
       "[0, 1, 2, 3, 4]"
      ]
     },
     "execution_count": 56,
     "metadata": {},
     "output_type": "execute_result"
    }
   ],
   "source": [
    "list(range(4+1))"
   ]
  },
  {
   "cell_type": "code",
   "execution_count": null,
   "metadata": {},
   "outputs": [],
   "source": [
    "xt = [-1,-1,-1,2,3,-1]"
   ]
  },
  {
   "cell_type": "code",
   "execution_count": null,
   "metadata": {},
   "outputs": [],
   "source": [
    "xt = [-1,0,4,2,3]"
   ]
  },
  {
   "cell_type": "code",
   "execution_count": null,
   "metadata": {},
   "outputs": [],
   "source": [
    "remain1 = np.where(np.array(xt) == -1)[0].tolist()"
   ]
  },
  {
   "cell_type": "code",
   "execution_count": null,
   "metadata": {},
   "outputs": [
    {
     "data": {
      "text/plain": [
       "[0]"
      ]
     },
     "execution_count": 39,
     "metadata": {},
     "output_type": "execute_result"
    }
   ],
   "source": [
    "remain1"
   ]
  },
  {
   "cell_type": "code",
   "execution_count": null,
   "metadata": {},
   "outputs": [
    {
     "data": {
      "text/plain": [
       "[0, 1, 2, 5]"
      ]
     },
     "execution_count": 36,
     "metadata": {},
     "output_type": "execute_result"
    }
   ],
   "source": [
    "np.where(np.array(xt) == -1)[0].tolist()"
   ]
  },
  {
   "cell_type": "code",
   "execution_count": null,
   "metadata": {},
   "outputs": [],
   "source": [
    "@dataclass\n",
    "class Chromosome:\n",
    "    gene : List[int]\n",
    "    phenome : float\n",
    "    length : int = 0\n",
    "\n",
    "    def __post_init__(self):\n",
    "        self.length = len(self.gene)"
   ]
  },
  {
   "cell_type": "code",
   "execution_count": 2,
   "metadata": {},
   "outputs": [],
   "source": [
    "x = [0,1,2,3,4,5]"
   ]
  },
  {
   "cell_type": "code",
   "execution_count": 3,
   "metadata": {},
   "outputs": [],
   "source": [
    "i1 , i2 = 2,4"
   ]
  },
  {
   "cell_type": "code",
   "execution_count": 5,
   "metadata": {},
   "outputs": [
    {
     "data": {
      "text/plain": [
       "[2, 3, 4]"
      ]
     },
     "execution_count": 5,
     "metadata": {},
     "output_type": "execute_result"
    }
   ],
   "source": [
    "x[i1:i2+1]"
   ]
  },
  {
   "cell_type": "code",
   "execution_count": 11,
   "metadata": {},
   "outputs": [
    {
     "data": {
      "text/plain": [
       "[4, 3, 2]"
      ]
     },
     "execution_count": 11,
     "metadata": {},
     "output_type": "execute_result"
    }
   ],
   "source": [
    "x[i2:i1-1:-1]"
   ]
  },
  {
   "cell_type": "code",
   "execution_count": null,
   "metadata": {},
   "outputs": [],
   "source": []
  }
 ],
 "metadata": {
  "kernelspec": {
   "display_name": "exeter",
   "language": "python",
   "name": "python3"
  },
  "language_info": {
   "codemirror_mode": {
    "name": "ipython",
    "version": 3
   },
   "file_extension": ".py",
   "mimetype": "text/x-python",
   "name": "python",
   "nbconvert_exporter": "python",
   "pygments_lexer": "ipython3",
   "version": "3.11.5"
  }
 },
 "nbformat": 4,
 "nbformat_minor": 2
}
