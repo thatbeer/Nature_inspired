{
 "cells": [
  {
   "cell_type": "code",
   "execution_count": 80,
   "metadata": {},
   "outputs": [],
   "source": [
    "import numpy as np\n",
    "from core.utils import load_metrics"
   ]
  },
  {
   "cell_type": "code",
   "execution_count": 81,
   "metadata": {},
   "outputs": [],
   "source": [
    "burma_path = './dataset/burma14.xml'"
   ]
  },
  {
   "cell_type": "code",
   "execution_count": 82,
   "metadata": {},
   "outputs": [
    {
     "name": "stderr",
     "output_type": "stream",
     "text": [
      "d:\\USERS\\Exeter\\Courses\\Module ECMM409 (2023) Nature-Inspired Computation\\assessments\\project01\\core\\utils.py:16: RuntimeWarning: invalid value encountered in multiply\n",
      "  weights_metric = np.nan_to_num(np.identity(num_node) * -np.inf, 0.0)\n"
     ]
    },
    {
     "data": {
      "text/plain": [
       "(14, 14)"
      ]
     },
     "execution_count": 82,
     "metadata": {},
     "output_type": "execute_result"
    }
   ],
   "source": [
    "weight_metric = load_metrics(burma_path)\n",
    "weight_metric.shape"
   ]
  },
  {
   "cell_type": "code",
   "execution_count": 106,
   "metadata": {},
   "outputs": [],
   "source": [
    "pop_size = 10\n",
    "tournament_size = 4\n",
    "crossover_rate = 0.90\n",
    "mutate_rate = 0.20\n",
    "\n"
   ]
  },
  {
   "cell_type": "code",
   "execution_count": 84,
   "metadata": {},
   "outputs": [],
   "source": [
    "# generate population\n",
    "def create_candidate(distance_metric):\n",
    "    return list(np.random.permutation(len(distance_metric)))\n",
    "\n",
    "def generate_population(distance_metric, pop_size:int=10):\n",
    "    return [create_candidate(distance_metric) for _ in range(pop_size)]\n"
   ]
  },
  {
   "cell_type": "code",
   "execution_count": 85,
   "metadata": {},
   "outputs": [
    {
     "data": {
      "text/plain": [
       "[[11, 4, 1, 12, 7, 10, 5, 3, 0, 13, 2, 9, 8, 6],\n",
       " [11, 3, 2, 0, 13, 7, 1, 4, 9, 12, 8, 10, 6, 5],\n",
       " [9, 8, 13, 7, 10, 0, 2, 12, 1, 6, 5, 4, 11, 3],\n",
       " [13, 10, 3, 5, 12, 1, 7, 11, 0, 2, 6, 8, 9, 4],\n",
       " [4, 11, 12, 3, 5, 10, 1, 8, 6, 2, 9, 7, 13, 0],\n",
       " [2, 10, 8, 4, 5, 13, 3, 1, 9, 7, 12, 6, 11, 0],\n",
       " [11, 2, 5, 12, 10, 8, 6, 3, 1, 4, 9, 0, 7, 13],\n",
       " [4, 10, 5, 9, 2, 13, 11, 3, 0, 6, 12, 7, 8, 1],\n",
       " [11, 7, 10, 9, 0, 4, 5, 2, 12, 1, 13, 6, 8, 3],\n",
       " [0, 8, 2, 5, 7, 12, 3, 11, 10, 4, 9, 13, 6, 1]]"
      ]
     },
     "execution_count": 85,
     "metadata": {},
     "output_type": "execute_result"
    }
   ],
   "source": [
    "pop1 = generate_population(weight_metric)\n",
    "pop1"
   ]
  },
  {
   "cell_type": "code",
   "execution_count": 86,
   "metadata": {},
   "outputs": [
    {
     "data": {
      "text/plain": [
       "[4, 12, 1, 11, 8, 2, 10, 9, 7, 6, 0, 5, 3, 13]"
      ]
     },
     "execution_count": 86,
     "metadata": {},
     "output_type": "execute_result"
    }
   ],
   "source": [
    "cand1 = create_candidate(weight_metric)\n",
    "cand1"
   ]
  },
  {
   "cell_type": "code",
   "execution_count": 87,
   "metadata": {},
   "outputs": [],
   "source": [
    "def cost_function(travel_list, distance_metric):\n",
    "    total_distance = 0\n",
    "    for i in range(len(travel_list)-1):\n",
    "        total_distance += distance_metric[travel_list[i],travel_list[i+1]]\n",
    "    total_distance += distance_metric[travel_list[-1],travel_list[0]]\n",
    "    return total_distance\n",
    "\n",
    "def fitness(travel_list, distance_metric):\n",
    "    return 1 / cost_function(travel_list, distance_metric)"
   ]
  },
  {
   "cell_type": "code",
   "execution_count": 88,
   "metadata": {},
   "outputs": [
    {
     "data": {
      "text/plain": [
       "6879.0"
      ]
     },
     "execution_count": 88,
     "metadata": {},
     "output_type": "execute_result"
    }
   ],
   "source": [
    "cost1 = cost_function(cand1, weight_metric)\n",
    "cost1"
   ]
  },
  {
   "cell_type": "code",
   "execution_count": 89,
   "metadata": {},
   "outputs": [
    {
     "data": {
      "text/plain": [
       "0.00014536996656490768"
      ]
     },
     "execution_count": 89,
     "metadata": {},
     "output_type": "execute_result"
    }
   ],
   "source": [
    "fitness1 = fitness(cand1, weight_metric)\n",
    "fitness1"
   ]
  },
  {
   "cell_type": "code",
   "execution_count": 90,
   "metadata": {},
   "outputs": [
    {
     "data": {
      "text/plain": [
       "[0.00016097875080489375,\n",
       " 0.00016874789065136686,\n",
       " 0.00017784101013693757,\n",
       " 0.0001414027149321267,\n",
       " 0.00015163002274450342,\n",
       " 0.00017283097131005876,\n",
       " 0.0001603077909586406,\n",
       " 0.000142025280499929,\n",
       " 0.0001636125654450262,\n",
       " 0.00013906271728549575]"
      ]
     },
     "execution_count": 90,
     "metadata": {},
     "output_type": "execute_result"
    }
   ],
   "source": [
    "[fitness(can, weight_metric) for can in pop1]"
   ]
  },
  {
   "cell_type": "code",
   "execution_count": 91,
   "metadata": {},
   "outputs": [
    {
     "data": {
      "text/plain": [
       "[0.00016097875080489375,\n",
       " 0.00016874789065136686,\n",
       " 0.00017784101013693757,\n",
       " 0.0001414027149321267,\n",
       " 0.00015163002274450342,\n",
       " 0.00017283097131005876,\n",
       " 0.0001603077909586406,\n",
       " 0.000142025280499929,\n",
       " 0.0001636125654450262,\n",
       " 0.00013906271728549575]"
      ]
     },
     "execution_count": 91,
     "metadata": {},
     "output_type": "execute_result"
    }
   ],
   "source": [
    "pop_fitness = [fitness(can, weight_metric) for can in pop1]\n",
    "pop_fitness"
   ]
  },
  {
   "cell_type": "code",
   "execution_count": 92,
   "metadata": {},
   "outputs": [
    {
     "data": {
      "text/plain": [
       "0.00017784101013693757"
      ]
     },
     "execution_count": 92,
     "metadata": {},
     "output_type": "execute_result"
    }
   ],
   "source": [
    "max(pop_fitness)"
   ]
  },
  {
   "cell_type": "code",
   "execution_count": 93,
   "metadata": {},
   "outputs": [],
   "source": [
    "pop_dict = {\n",
    "    \"population\" : pop1,\n",
    "    \"fitness\" : pop_fitness,\n",
    "}"
   ]
  },
  {
   "cell_type": "code",
   "execution_count": 94,
   "metadata": {},
   "outputs": [
    {
     "data": {
      "text/plain": [
       "([11, 4, 1, 12, 7, 10, 5, 3, 0, 13, 2, 9, 8, 6], 0.00016097875080489375)"
      ]
     },
     "execution_count": 94,
     "metadata": {},
     "output_type": "execute_result"
    }
   ],
   "source": [
    "pop_dict['population'][0] , pop_dict['fitness'][0]"
   ]
  },
  {
   "cell_type": "code",
   "execution_count": 109,
   "metadata": {},
   "outputs": [
    {
     "name": "stdout",
     "output_type": "stream",
     "text": [
      "[[11, 4, 1, 12, 7, 10, 5, 3, 0, 13, 2, 9, 8, 6], [11, 3, 2, 0, 13, 7, 1, 4, 9, 12, 8, 10, 6, 5], [9, 8, 13, 7, 10, 0, 2, 12, 1, 6, 5, 4, 11, 3], [13, 10, 3, 5, 12, 1, 7, 11, 0, 2, 6, 8, 9, 4], [4, 11, 12, 3, 5, 10, 1, 8, 6, 2, 9, 7, 13, 0], [2, 10, 8, 4, 5, 13, 3, 1, 9, 7, 12, 6, 11, 0], [11, 2, 5, 12, 10, 8, 6, 3, 1, 4, 9, 0, 7, 13], [4, 10, 5, 9, 2, 13, 11, 3, 0, 6, 12, 7, 8, 1], [11, 7, 10, 9, 0, 4, 5, 2, 12, 1, 13, 6, 8, 3], [0, 8, 2, 5, 7, 12, 3, 11, 10, 4, 9, 13, 6, 1]]\n"
     ]
    }
   ],
   "source": [
    "for i in pop_dict.values():\n",
    "    print(i)\n",
    "    break\n"
   ]
  },
  {
   "cell_type": "code",
   "execution_count": 110,
   "metadata": {},
   "outputs": [
    {
     "name": "stdout",
     "output_type": "stream",
     "text": [
      "0 population [[11, 4, 1, 12, 7, 10, 5, 3, 0, 13, 2, 9, 8, 6], [11, 3, 2, 0, 13, 7, 1, 4, 9, 12, 8, 10, 6, 5], [9, 8, 13, 7, 10, 0, 2, 12, 1, 6, 5, 4, 11, 3], [13, 10, 3, 5, 12, 1, 7, 11, 0, 2, 6, 8, 9, 4], [4, 11, 12, 3, 5, 10, 1, 8, 6, 2, 9, 7, 13, 0], [2, 10, 8, 4, 5, 13, 3, 1, 9, 7, 12, 6, 11, 0], [11, 2, 5, 12, 10, 8, 6, 3, 1, 4, 9, 0, 7, 13], [4, 10, 5, 9, 2, 13, 11, 3, 0, 6, 12, 7, 8, 1], [11, 7, 10, 9, 0, 4, 5, 2, 12, 1, 13, 6, 8, 3], [0, 8, 2, 5, 7, 12, 3, 11, 10, 4, 9, 13, 6, 1]]\n"
     ]
    }
   ],
   "source": [
    "for i , (pop, fit) in enumerate(pop_dict.items()):\n",
    "    print(i, pop, fit)\n",
    "    break"
   ]
  },
  {
   "cell_type": "code",
   "execution_count": 96,
   "metadata": {},
   "outputs": [
    {
     "data": {
      "text/plain": [
       "([11, 4, 1, 12, 7, 10, 5, 3, 0, 13, 2, 9, 8, 6],\n",
       " [11, 3, 2, 0, 13, 7, 1, 4, 9, 12, 8, 10, 6, 5])"
      ]
     },
     "execution_count": 96,
     "metadata": {},
     "output_type": "execute_result"
    }
   ],
   "source": [
    "pop1[0] , pop1[1]"
   ]
  },
  {
   "cell_type": "markdown",
   "metadata": {},
   "source": [
    "### Selection"
   ]
  },
  {
   "cell_type": "code",
   "execution_count": 112,
   "metadata": {},
   "outputs": [
    {
     "ename": "ValueError",
     "evalue": "a must be 1-dimensional",
     "output_type": "error",
     "traceback": [
      "\u001b[1;31m---------------------------------------------------------------------------\u001b[0m",
      "\u001b[1;31mValueError\u001b[0m                                Traceback (most recent call last)",
      "\u001b[1;32md:\\USERS\\Exeter\\Courses\\Module ECMM409 (2023) Nature-Inspired Computation\\assessments\\project01\\test.ipynb Cell 20\u001b[0m line \u001b[0;36m1\n\u001b[1;32m----> <a href='vscode-notebook-cell:/d%3A/USERS/Exeter/Courses/Module%20ECMM409%20%282023%29%20Nature-Inspired%20Computation/assessments/project01/test.ipynb#X45sZmlsZQ%3D%3D?line=0'>1</a>\u001b[0m np\u001b[39m.\u001b[39;49mrandom\u001b[39m.\u001b[39;49mchoice([pop1])\n",
      "File \u001b[1;32mnumpy\\\\random\\\\mtrand.pyx:946\u001b[0m, in \u001b[0;36mnumpy.random.mtrand.RandomState.choice\u001b[1;34m()\u001b[0m\n",
      "\u001b[1;31mValueError\u001b[0m: a must be 1-dimensional"
     ]
    }
   ],
   "source": [
    "np.random.choice([pop1])"
   ]
  },
  {
   "cell_type": "code",
   "execution_count": 115,
   "metadata": {},
   "outputs": [],
   "source": [
    "def tournament_selection(population, tournament_size):\n",
    "    fit_value = -np.inf\n",
    "    res = None\n",
    "    for _ in range(tournament_size):\n",
    "        idx = np.random.randint(len(population))\n",
    "        new_fit = fitness(population[idx], distance_metric=weight_metric)\n",
    "        if new_fit >= fit_value:\n",
    "            fit_value = new_fit\n",
    "            res = population[idx]\n",
    "        \n",
    "    return res"
   ]
  },
  {
   "cell_type": "code",
   "execution_count": 128,
   "metadata": {},
   "outputs": [
    {
     "data": {
      "text/plain": [
       "([11, 3, 2, 0, 13, 7, 1, 4, 9, 12, 8, 10, 6, 5],\n",
       " [11, 7, 10, 9, 0, 4, 5, 2, 12, 1, 13, 6, 8, 3])"
      ]
     },
     "execution_count": 128,
     "metadata": {},
     "output_type": "execute_result"
    }
   ],
   "source": [
    "tournament_selection(pop1, 4), tournament_selection(pop1, 4)"
   ]
  },
  {
   "cell_type": "markdown",
   "metadata": {},
   "source": [
    "### Operation"
   ]
  },
  {
   "cell_type": "code",
   "execution_count": 101,
   "metadata": {},
   "outputs": [],
   "source": [
    "from typing import Optional\n",
    "\n",
    "n=14\n",
    "def crossover(arg1, arg2, locus:Optional[int]=None):\n",
    "    if locus is None:\n",
    "        locus = np.random.randint(n-1)\n",
    "    child1 = arg1[:locus] + arg2[locus:] \n",
    "    child2 = arg2[:locus] + arg1[locus:]\n",
    "    return child1, child2\n",
    "\n",
    "def mutate(arg):\n",
    "    \"\"\" mutate (swap operator)\n",
    "        swapping between 2 indexes\n",
    "\n",
    "    Args:\n",
    "        arg (_type_): _description_\n",
    "        mutate_rate (_type_): _description_\n",
    "\n",
    "    Returns:\n",
    "        crossover's child (List(int)): _description_ \n",
    "    \"\"\"\n",
    "    idx1, idx2 = np.random.randint(n-1,size=2)\n",
    "    res = arg\n",
    "    res[idx1], res[idx2] = res[idx2], res[idx1]\n",
    "    return res\n",
    "\n",
    "\n"
   ]
  },
  {
   "cell_type": "code",
   "execution_count": 105,
   "metadata": {},
   "outputs": [
    {
     "data": {
      "text/plain": [
       "([11, 4, 1, 12, 7, 10, 5, 3, 0, 13, 2, 9, 8, 6],\n",
       " [11, 3, 2, 0, 13, 7, 1, 4, 9, 12, 8, 10, 6, 5])"
      ]
     },
     "execution_count": 105,
     "metadata": {},
     "output_type": "execute_result"
    }
   ],
   "source": [
    "child1, child2 = crossover(pop1[0],pop1[1], 14)\n",
    "child1, child2"
   ]
  },
  {
   "cell_type": "markdown",
   "metadata": {},
   "source": [
    "### Replacement"
   ]
  },
  {
   "cell_type": "code",
   "execution_count": null,
   "metadata": {},
   "outputs": [],
   "source": [
    "def replace_1stweak(pop1, childs):\n",
    "    temp_pop = []\n",
    "    for child in childs:\n",
    "        res = []\n",
    "        fit = fitness(child)\n",
    "        for cand in pop1:\n",
    "            if fit >= fitness(cand):\n",
    "\n"
   ]
  },
  {
   "cell_type": "code",
   "execution_count": 104,
   "metadata": {},
   "outputs": [
    {
     "data": {
      "text/plain": [
       "[[11, 4, 1, 12, 7, 10, 5, 3, 0, 13, 2, 9, 8, 6],\n",
       " [11, 3, 2, 0, 13, 7, 1, 4, 9, 12, 8, 10, 6, 5],\n",
       " [9, 8, 13, 7, 10, 0, 2, 12, 1, 6, 5, 4, 11, 3],\n",
       " [13, 10, 3, 5, 12, 1, 7, 11, 0, 2, 6, 8, 9, 4],\n",
       " [4, 11, 12, 3, 5, 10, 1, 8, 6, 2, 9, 7, 13, 0],\n",
       " [2, 10, 8, 4, 5, 13, 3, 1, 9, 7, 12, 6, 11, 0],\n",
       " [11, 2, 5, 12, 10, 8, 6, 3, 1, 4, 9, 0, 7, 13],\n",
       " [4, 10, 5, 9, 2, 13, 11, 3, 0, 6, 12, 7, 8, 1],\n",
       " [11, 7, 10, 9, 0, 4, 5, 2, 12, 1, 13, 6, 8, 3],\n",
       " [0, 8, 2, 5, 7, 12, 3, 11, 10, 4, 9, 13, 6, 1]]"
      ]
     },
     "execution_count": 104,
     "metadata": {},
     "output_type": "execute_result"
    }
   ],
   "source": [
    "pop1"
   ]
  },
  {
   "cell_type": "markdown",
   "metadata": {},
   "source": []
  }
 ],
 "metadata": {
  "kernelspec": {
   "display_name": "exeter",
   "language": "python",
   "name": "python3"
  },
  "language_info": {
   "codemirror_mode": {
    "name": "ipython",
    "version": 3
   },
   "file_extension": ".py",
   "mimetype": "text/x-python",
   "name": "python",
   "nbconvert_exporter": "python",
   "pygments_lexer": "ipython3",
   "version": "3.11.5"
  }
 },
 "nbformat": 4,
 "nbformat_minor": 2
}
