{
 "cells": [
  {
   "cell_type": "code",
   "execution_count": 3,
   "metadata": {},
   "outputs": [],
   "source": [
    "import numpy as np"
   ]
  },
  {
   "cell_type": "code",
   "execution_count": 4,
   "metadata": {},
   "outputs": [],
   "source": [
    "from core.genetic_fn import generate_population , fitness, tournament_selection, crossover, mutate, replace_firstweak"
   ]
  },
  {
   "cell_type": "code",
   "execution_count": 5,
   "metadata": {},
   "outputs": [],
   "source": [
    "sample = [\n",
    "    [0,2,1,2,1],\n",
    "    [2,0,2,2,2],\n",
    "    [1,2,0,2,1],\n",
    "    [2,2,2,0,2],\n",
    "    [1,2,1,2,0]\n",
    "]"
   ]
  },
  {
   "cell_type": "code",
   "execution_count": 6,
   "metadata": {},
   "outputs": [
    {
     "data": {
      "text/plain": [
       "[[0, 1, 4, 3, 2],\n",
       " [3, 0, 1, 4, 2],\n",
       " [0, 3, 4, 1, 2],\n",
       " [2, 4, 0, 1, 3],\n",
       " [3, 0, 1, 4, 2],\n",
       " [0, 3, 1, 4, 2],\n",
       " [2, 1, 0, 4, 3],\n",
       " [4, 2, 1, 3, 0],\n",
       " [4, 2, 3, 0, 1],\n",
       " [1, 0, 4, 2, 3]]"
      ]
     },
     "execution_count": 6,
     "metadata": {},
     "output_type": "execute_result"
    }
   ],
   "source": [
    "pop1 = generate_population(sample)\n",
    "pop1"
   ]
  },
  {
   "cell_type": "code",
   "execution_count": 7,
   "metadata": {},
   "outputs": [
    {
     "data": {
      "text/plain": [
       "0.1111111111111111"
      ]
     },
     "execution_count": 7,
     "metadata": {},
     "output_type": "execute_result"
    }
   ],
   "source": [
    "fitness_value = fitness(pop1[0],sample)\n",
    "fitness_value"
   ]
  },
  {
   "cell_type": "code",
   "execution_count": 8,
   "metadata": {},
   "outputs": [
    {
     "data": {
      "text/plain": [
       "[0.1111111111111111,\n",
       " 0.1111111111111111,\n",
       " 0.1111111111111111,\n",
       " 0.125,\n",
       " 0.1111111111111111,\n",
       " 0.125,\n",
       " 0.1111111111111111,\n",
       " 0.125,\n",
       " 0.1111111111111111,\n",
       " 0.125]"
      ]
     },
     "execution_count": 8,
     "metadata": {},
     "output_type": "execute_result"
    }
   ],
   "source": [
    "pop_fitness = [fitness(pop,sample) for pop in pop1]\n",
    "pop_fitness"
   ]
  },
  {
   "cell_type": "code",
   "execution_count": 30,
   "metadata": {},
   "outputs": [
    {
     "data": {
      "text/plain": [
       "([1, 0, 4, 2, 3], [0, 3, 1, 4, 2])"
      ]
     },
     "execution_count": 30,
     "metadata": {},
     "output_type": "execute_result"
    }
   ],
   "source": [
    "a = tournament_selection(pop1, pop_fitness, 4)\n",
    "b = tournament_selection(pop1, pop_fitness, 4)\n",
    "a[0] ,b[0]"
   ]
  },
  {
   "cell_type": "code",
   "execution_count": 80,
   "metadata": {},
   "outputs": [],
   "source": [
    "from typing import Optional\n",
    "## THIS ONE VIOLTES THE CONSTRAINT OF THE TSP rules\n",
    "def crossover(arg1, arg2, locus:Optional[int]=None):\n",
    "    n = len(arg1)\n",
    "    if locus is None:\n",
    "        locus = np.random.randint(n)\n",
    "    child1 = arg1[:locus] + arg2[locus:] \n",
    "    child2 = arg2[:locus] + arg1[locus:]\n",
    "    assert (len(set(child1)) == n ) and (len(set(child2)) == n ) , \"found duplicated node inside child\"\n",
    "    return child1, child2\n",
    "\n",
    "def fixed_crossover(arg1, arg2):\n",
    "    assert len(arg1) == len(arg2) , \"parents' size should be equal\"\n",
    "    n = len(arg1)\n",
    "    point = np.random.randint(n)\n",
    "    child1 = arg2[:point]\n",
    "    child2 = arg1[:point]\n",
    "    return child1 + [x for x in arg1 if x not in child1] , child2 + [x for x in arg2 if x not in child2]\n",
    "\n",
    "def fixed_crossover_twopoint(arg1, arg2):\n",
    "    assert len(arg1) == len(arg2) , \"parents' size should be equal\"\n",
    "    n = len(arg1)\n",
    "    point1 = np.random.randint(n-1)\n",
    "    point2 = np.random.choice(range(point1,n+1))\n",
    "    child1 = arg2[point1:point2+1]\n",
    "    child2 = arg1[point1:point2+1]\n",
    "    return child1 + [x for x in arg1 if x not in child1] , child2 + [x for x in arg2 if x not in child2]\n",
    "    \n",
    "def ordered_crossover(arg1, arg2):\n",
    "    assert len(arg1) == len(arg2) , \"parents' size should be equal\"\n",
    "    n = len(arg1)\n",
    "    child1 = [-1] * n\n",
    "    child2 = [-1] * n\n",
    "\n",
    "    start, end = np.sort(np.random.choice(n, 2, replace=False))\n",
    "    \n",
    "    child1[start:end+1] = arg2[start:end+1]\n",
    "    child2[start:end+1] = arg1[start:end+1]\n",
    "\n",
    "    remain1 = [x for x in arg1 if x not in child1]\n",
    "    remain2 = [x for x in arg2 if x not in child2]\n",
    "\n",
    "    child1 = [remain1.pop(0) if x == -1 else x for x in child1 ]\n",
    "    child2 = [remain2.pop(0) if x == -1 else x for x in child2 ]\n",
    "\n",
    "    return child1 , child2\n",
    "\n",
    "def partialMap_crossover(arg1, arg2):\n",
    "    n = len(arg1)\n",
    "    # point1, point2 = np.sort(np.random.choice(n, 2, replace=False))\n",
    "    point1 , point2 = 2,3\n",
    "    child1 = [None] * n\n",
    "    child2 = [None] * n\n",
    "\n",
    "    child1[point1:point2+1] = arg2[point1:point2+1]\n",
    "    child2[point1:point2+1] = arg1[point1:point2+1]\n",
    "\n",
    "    for i in range(n):\n",
    "        if i in list(range(point1,point2+1)):\n",
    "            continue\n",
    "        \n",
    "        if arg1[i] not in child1:\n",
    "            child1[i] = arg1[i]\n",
    "    \n",
    "        if arg2[i] not in child2:\n",
    "            child2[i] = arg2[i]\n",
    "\n",
    "    remain1 = [x for x in arg1 if x not in child1]\n",
    "    remain2 = [x for x in arg2 if x not in child2]\n",
    "    \n",
    "    for i in range(n):\n",
    "        if child1[i] == None:\n",
    "            child1[i] = remain1.pop(0)\n",
    "        if child2[i] == None:\n",
    "            child2[i] = remain2.pop(0)\n",
    "\n",
    "    return child1 , child2"
   ]
  },
  {
   "cell_type": "code",
   "execution_count": 81,
   "metadata": {},
   "outputs": [
    {
     "data": {
      "text/plain": [
       "([2, 0, 1, 4, 3], [0, 3, 4, 2, 1])"
      ]
     },
     "execution_count": 81,
     "metadata": {},
     "output_type": "execute_result"
    }
   ],
   "source": [
    "partialMap_crossover(a[0], b[0])"
   ]
  },
  {
   "cell_type": "code",
   "execution_count": 82,
   "metadata": {},
   "outputs": [
    {
     "data": {
      "text/plain": [
       "([0, 3, 1, 4, 2], [1, 0, 4, 2, 3])"
      ]
     },
     "execution_count": 82,
     "metadata": {},
     "output_type": "execute_result"
    }
   ],
   "source": [
    "fixed_crossover(a[0],b[0])"
   ]
  },
  {
   "cell_type": "code",
   "execution_count": 83,
   "metadata": {},
   "outputs": [
    {
     "data": {
      "text/plain": [
       "([0, 3, 1, 4, 2], [1, 0, 4, 2, 3])"
      ]
     },
     "execution_count": 83,
     "metadata": {},
     "output_type": "execute_result"
    }
   ],
   "source": [
    "ordered_crossover(a[0],b[0])"
   ]
  },
  {
   "cell_type": "code",
   "execution_count": 14,
   "metadata": {},
   "outputs": [
    {
     "data": {
      "text/plain": [
       "([4, 0, 3, 1, 2], [0, 4, 2, 1, 3])"
      ]
     },
     "execution_count": 14,
     "metadata": {},
     "output_type": "execute_result"
    }
   ],
   "source": [
    "c, d = fixed_crossover(a[0], b[0])\n",
    "c, d"
   ]
  },
  {
   "cell_type": "code",
   "execution_count": 15,
   "metadata": {},
   "outputs": [
    {
     "data": {
      "text/plain": [
       "([1, 0, 3, 4, 2], [0, 4, 1, 2, 3])"
      ]
     },
     "execution_count": 15,
     "metadata": {},
     "output_type": "execute_result"
    }
   ],
   "source": [
    "e = mutate(c)\n",
    "f = mutate(d)\n",
    "e, f"
   ]
  },
  {
   "cell_type": "code",
   "execution_count": 16,
   "metadata": {},
   "outputs": [
    {
     "name": "stdout",
     "output_type": "stream",
     "text": [
      "[[0, 1, 4, 3, 2], [3, 0, 1, 4, 2], [0, 3, 4, 1, 2], [2, 4, 0, 1, 3], [3, 0, 1, 4, 2], [0, 3, 1, 4, 2], [2, 1, 0, 4, 3], [4, 2, 1, 3, 0], [4, 2, 3, 0, 1], [1, 0, 4, 2, 3]]\n",
      "[[0, 1, 4, 3, 2], [3, 0, 1, 4, 2], [0, 3, 4, 1, 2], [2, 4, 0, 1, 3], [3, 0, 1, 4, 2], [0, 3, 1, 4, 2], [2, 1, 0, 4, 3], [4, 2, 1, 3, 0], [4, 2, 3, 0, 1], [1, 0, 4, 2, 3]]\n"
     ]
    }
   ],
   "source": [
    "pop1 = replace_firstweak(pop1, e, sample)\n",
    "print(pop1)\n",
    "pop1 = replace_firstweak(pop1,f, sample)\n",
    "print(pop1)"
   ]
  },
  {
   "cell_type": "code",
   "execution_count": 17,
   "metadata": {},
   "outputs": [],
   "source": [
    "population = generate_population(sample)\n",
    "population_fitness = [fitness(pop,sample) for pop in population]\n",
    "\n",
    "for i in range(10000):\n",
    "    a = tournament_selection(population, population_fitness, 4)\n",
    "    b = tournament_selection(population, population_fitness, 4)\n",
    "    c, d = fixed_crossover(a[0], b[0])\n",
    "    e = mutate(c)\n",
    "    f = mutate(d)\n",
    "    population = replace_firstweak(population, e, sample)\n",
    "    population = replace_firstweak(population, f, sample)\n",
    "    population_fitness = [fitness(pop,sample) for pop in pop1]"
   ]
  },
  {
   "cell_type": "code",
   "execution_count": 18,
   "metadata": {},
   "outputs": [
    {
     "data": {
      "text/plain": [
       "([[0, 1, 4, 3, 2],\n",
       "  [3, 0, 1, 4, 2],\n",
       "  [0, 3, 4, 1, 2],\n",
       "  [2, 4, 0, 1, 3],\n",
       "  [3, 0, 1, 4, 2],\n",
       "  [0, 3, 1, 4, 2],\n",
       "  [2, 1, 0, 4, 3],\n",
       "  [4, 2, 1, 3, 0],\n",
       "  [4, 2, 3, 0, 1],\n",
       "  [1, 0, 4, 2, 3]],\n",
       " [0.1111111111111111,\n",
       "  0.1111111111111111,\n",
       "  0.1111111111111111,\n",
       "  0.125,\n",
       "  0.1111111111111111,\n",
       "  0.125,\n",
       "  0.1111111111111111,\n",
       "  0.125,\n",
       "  0.1111111111111111,\n",
       "  0.125])"
      ]
     },
     "execution_count": 18,
     "metadata": {},
     "output_type": "execute_result"
    }
   ],
   "source": [
    "pop1, pop_fitness"
   ]
  },
  {
   "cell_type": "code",
   "execution_count": 19,
   "metadata": {},
   "outputs": [
    {
     "data": {
      "text/plain": [
       "[9.0, 9.0, 9.0, 8.0, 9.0, 8.0, 9.0, 8.0, 9.0, 8.0]"
      ]
     },
     "execution_count": 19,
     "metadata": {},
     "output_type": "execute_result"
    }
   ],
   "source": [
    "[1/x for x in pop_fitness]"
   ]
  },
  {
   "cell_type": "code",
   "execution_count": 20,
   "metadata": {},
   "outputs": [
    {
     "name": "stdout",
     "output_type": "stream",
     "text": [
      "Best Path: (0, 2, 4, 1, 3)\n",
      "Best Distance: 6\n"
     ]
    }
   ],
   "source": [
    "import itertools\n",
    "\n",
    "def calculate_total_distance(path, distance_matrix):\n",
    "    total_distance = 0\n",
    "    for i in range(len(path) - 1):\n",
    "        total_distance += distance_matrix[path[i]][path[i + 1]]\n",
    "    return total_distance\n",
    "\n",
    "def tsp_bruteforce(distance_matrix):\n",
    "    num_cities = len(distance_matrix)\n",
    "    cities = list(range(num_cities))\n",
    "    shortest_path = None\n",
    "    shortest_distance = float('inf')\n",
    "\n",
    "    for path in itertools.permutations(cities):\n",
    "        distance = calculate_total_distance(path, distance_matrix)\n",
    "        if distance < shortest_distance:\n",
    "            shortest_distance = distance\n",
    "            shortest_path = path\n",
    "\n",
    "    return shortest_path, shortest_distance\n",
    "\n",
    "# distance_matrix = [\n",
    "#     [0, 2, 1, 2, 1],\n",
    "#     [2, 0, 2, 2, 2],\n",
    "#     [1, 2, 0, 2, 1],\n",
    "#     [2, 2, 2, 0, 2],\n",
    "#     [1, 2, 1, 2, 0]\n",
    "# ]\n",
    "\n",
    "best_path, best_distance = tsp_bruteforce(sample)\n",
    "print(\"Best Path:\", best_path)\n",
    "print(\"Best Distance:\", best_distance)\n"
   ]
  },
  {
   "cell_type": "code",
   "execution_count": 21,
   "metadata": {},
   "outputs": [],
   "source": [
    "temp1 = [3,1,0,2,4]\n",
    "temp2 = [0,2,4,3,1]\n"
   ]
  },
  {
   "cell_type": "code",
   "execution_count": 22,
   "metadata": {},
   "outputs": [],
   "source": [
    "p1, p2 = 1, 2\n",
    "n = len(temp1)"
   ]
  },
  {
   "cell_type": "code",
   "execution_count": 23,
   "metadata": {},
   "outputs": [],
   "source": [
    "p1, p2 = 1, 2\n",
    "n = len(temp1)\n",
    "temp3 = [-1] * n\n",
    "temp4 = [-1] * n \n",
    "temp3[p1:p2+1] = temp2[p1:p2+1]\n",
    "temp4[p1:p2+1] = temp1[p1:p2+1]\n",
    "remain1 = [x for x in temp1 if x not in temp3]\n",
    "remain2 = [x for x in temp2 if x not in temp4]\n",
    "result1 = [remain1.pop(0) if x == -1 else x for x in temp3 ]\n",
    "result2 = [remain2.pop(0) if x == -1 else x for x in temp4 ]\n"
   ]
  },
  {
   "cell_type": "code",
   "execution_count": 24,
   "metadata": {},
   "outputs": [
    {
     "data": {
      "text/plain": [
       "([], [])"
      ]
     },
     "execution_count": 24,
     "metadata": {},
     "output_type": "execute_result"
    }
   ],
   "source": [
    "remain1, remain2"
   ]
  },
  {
   "cell_type": "code",
   "execution_count": 25,
   "metadata": {},
   "outputs": [
    {
     "ename": "IndexError",
     "evalue": "pop from empty list",
     "output_type": "error",
     "traceback": [
      "\u001b[1;31m---------------------------------------------------------------------------\u001b[0m",
      "\u001b[1;31mIndexError\u001b[0m                                Traceback (most recent call last)",
      "\u001b[1;32md:\\USERS\\Exeter\\Courses\\Module ECMM409 (2023) Nature-Inspired Computation\\Nature_inspired\\project01\\test.ipynb Cell 23\u001b[0m line \u001b[0;36m1\n\u001b[1;32m----> <a href='vscode-notebook-cell:/d%3A/USERS/Exeter/Courses/Module%20ECMM409%20%282023%29%20Nature-Inspired%20Computation/Nature_inspired/project01/test.ipynb#X31sZmlsZQ%3D%3D?line=0'>1</a>\u001b[0m [remain1\u001b[39m.\u001b[39;49mpop(\u001b[39m0\u001b[39;49m) \u001b[39mif\u001b[39;49;00m x \u001b[39m==\u001b[39;49m \u001b[39m-\u001b[39;49m\u001b[39m1\u001b[39;49m \u001b[39melse\u001b[39;49;00m x \u001b[39mfor\u001b[39;49;00m x \u001b[39min\u001b[39;49;00m temp3 ]\n",
      "\u001b[1;32md:\\USERS\\Exeter\\Courses\\Module ECMM409 (2023) Nature-Inspired Computation\\Nature_inspired\\project01\\test.ipynb Cell 23\u001b[0m line \u001b[0;36m1\n\u001b[1;32m----> <a href='vscode-notebook-cell:/d%3A/USERS/Exeter/Courses/Module%20ECMM409%20%282023%29%20Nature-Inspired%20Computation/Nature_inspired/project01/test.ipynb#X31sZmlsZQ%3D%3D?line=0'>1</a>\u001b[0m [remain1\u001b[39m.\u001b[39;49mpop(\u001b[39m0\u001b[39;49m) \u001b[39mif\u001b[39;00m x \u001b[39m==\u001b[39m \u001b[39m-\u001b[39m\u001b[39m1\u001b[39m \u001b[39melse\u001b[39;00m x \u001b[39mfor\u001b[39;00m x \u001b[39min\u001b[39;00m temp3 ]\n",
      "\u001b[1;31mIndexError\u001b[0m: pop from empty list"
     ]
    }
   ],
   "source": [
    "[remain1.pop(0) if x == -1 else x for x in temp3 ]"
   ]
  },
  {
   "cell_type": "code",
   "execution_count": null,
   "metadata": {},
   "outputs": [
    {
     "data": {
      "text/plain": [
       "[2, 1, 0, 4, 3]"
      ]
     },
     "execution_count": 136,
     "metadata": {},
     "output_type": "execute_result"
    }
   ],
   "source": [
    "[remain2.pop(0) if x == -1 else x for x in temp4 ]"
   ]
  },
  {
   "cell_type": "code",
   "execution_count": null,
   "metadata": {},
   "outputs": [
    {
     "ename": "IndexError",
     "evalue": "pop from empty list",
     "output_type": "error",
     "traceback": [
      "\u001b[1;31m---------------------------------------------------------------------------\u001b[0m",
      "\u001b[1;31mIndexError\u001b[0m                                Traceback (most recent call last)",
      "\u001b[1;32md:\\USERS\\Exeter\\Courses\\Module ECMM409 (2023) Nature-Inspired Computation\\Nature_inspired\\project01\\test.ipynb Cell 24\u001b[0m line \u001b[0;36m1\n\u001b[1;32m----> <a href='vscode-notebook-cell:/d%3A/USERS/Exeter/Courses/Module%20ECMM409%20%282023%29%20Nature-Inspired%20Computation/Nature_inspired/project01/test.ipynb#X36sZmlsZQ%3D%3D?line=0'>1</a>\u001b[0m ordered_crossover(temp3, temp4)\n",
      "\u001b[1;32md:\\USERS\\Exeter\\Courses\\Module ECMM409 (2023) Nature-Inspired Computation\\Nature_inspired\\project01\\test.ipynb Cell 24\u001b[0m line \u001b[0;36m4\n\u001b[0;32m     <a href='vscode-notebook-cell:/d%3A/USERS/Exeter/Courses/Module%20ECMM409%20%282023%29%20Nature-Inspired%20Computation/Nature_inspired/project01/test.ipynb#X36sZmlsZQ%3D%3D?line=42'>43</a>\u001b[0m remain1 \u001b[39m=\u001b[39m [x \u001b[39mfor\u001b[39;00m x \u001b[39min\u001b[39;00m arg1 \u001b[39mif\u001b[39;00m x \u001b[39mnot\u001b[39;00m \u001b[39min\u001b[39;00m child1]\n\u001b[0;32m     <a href='vscode-notebook-cell:/d%3A/USERS/Exeter/Courses/Module%20ECMM409%20%282023%29%20Nature-Inspired%20Computation/Nature_inspired/project01/test.ipynb#X36sZmlsZQ%3D%3D?line=43'>44</a>\u001b[0m remain2 \u001b[39m=\u001b[39m [x \u001b[39mfor\u001b[39;00m x \u001b[39min\u001b[39;00m arg2 \u001b[39mif\u001b[39;00m x \u001b[39mnot\u001b[39;00m \u001b[39min\u001b[39;00m child2]\n\u001b[1;32m---> <a href='vscode-notebook-cell:/d%3A/USERS/Exeter/Courses/Module%20ECMM409%20%282023%29%20Nature-Inspired%20Computation/Nature_inspired/project01/test.ipynb#X36sZmlsZQ%3D%3D?line=45'>46</a>\u001b[0m child1 \u001b[39m=\u001b[39m [remain1\u001b[39m.\u001b[39;49mpop(\u001b[39m0\u001b[39;49m) \u001b[39mif\u001b[39;49;00m x \u001b[39m==\u001b[39;49m \u001b[39m-\u001b[39;49m\u001b[39m1\u001b[39;49m \u001b[39melse\u001b[39;49;00m x \u001b[39mfor\u001b[39;49;00m x \u001b[39min\u001b[39;49;00m child1 ]\n\u001b[0;32m     <a href='vscode-notebook-cell:/d%3A/USERS/Exeter/Courses/Module%20ECMM409%20%282023%29%20Nature-Inspired%20Computation/Nature_inspired/project01/test.ipynb#X36sZmlsZQ%3D%3D?line=46'>47</a>\u001b[0m child2 \u001b[39m=\u001b[39m [remain2\u001b[39m.\u001b[39mpop(\u001b[39m0\u001b[39m) \u001b[39mif\u001b[39;00m x \u001b[39m==\u001b[39m \u001b[39m-\u001b[39m\u001b[39m1\u001b[39m \u001b[39melse\u001b[39;00m x \u001b[39mfor\u001b[39;00m x \u001b[39min\u001b[39;00m child2 ]\n\u001b[0;32m     <a href='vscode-notebook-cell:/d%3A/USERS/Exeter/Courses/Module%20ECMM409%20%282023%29%20Nature-Inspired%20Computation/Nature_inspired/project01/test.ipynb#X36sZmlsZQ%3D%3D?line=48'>49</a>\u001b[0m \u001b[39mreturn\u001b[39;00m child1 , child2\n",
      "\u001b[1;32md:\\USERS\\Exeter\\Courses\\Module ECMM409 (2023) Nature-Inspired Computation\\Nature_inspired\\project01\\test.ipynb Cell 24\u001b[0m line \u001b[0;36m4\n\u001b[0;32m     <a href='vscode-notebook-cell:/d%3A/USERS/Exeter/Courses/Module%20ECMM409%20%282023%29%20Nature-Inspired%20Computation/Nature_inspired/project01/test.ipynb#X36sZmlsZQ%3D%3D?line=42'>43</a>\u001b[0m remain1 \u001b[39m=\u001b[39m [x \u001b[39mfor\u001b[39;00m x \u001b[39min\u001b[39;00m arg1 \u001b[39mif\u001b[39;00m x \u001b[39mnot\u001b[39;00m \u001b[39min\u001b[39;00m child1]\n\u001b[0;32m     <a href='vscode-notebook-cell:/d%3A/USERS/Exeter/Courses/Module%20ECMM409%20%282023%29%20Nature-Inspired%20Computation/Nature_inspired/project01/test.ipynb#X36sZmlsZQ%3D%3D?line=43'>44</a>\u001b[0m remain2 \u001b[39m=\u001b[39m [x \u001b[39mfor\u001b[39;00m x \u001b[39min\u001b[39;00m arg2 \u001b[39mif\u001b[39;00m x \u001b[39mnot\u001b[39;00m \u001b[39min\u001b[39;00m child2]\n\u001b[1;32m---> <a href='vscode-notebook-cell:/d%3A/USERS/Exeter/Courses/Module%20ECMM409%20%282023%29%20Nature-Inspired%20Computation/Nature_inspired/project01/test.ipynb#X36sZmlsZQ%3D%3D?line=45'>46</a>\u001b[0m child1 \u001b[39m=\u001b[39m [remain1\u001b[39m.\u001b[39mpop(\u001b[39m0\u001b[39m) \u001b[39mif\u001b[39;00m x \u001b[39m==\u001b[39m \u001b[39m-\u001b[39m\u001b[39m1\u001b[39m \u001b[39melse\u001b[39;00m x \u001b[39mfor\u001b[39;00m x \u001b[39min\u001b[39;00m child1 ]\n\u001b[0;32m     <a href='vscode-notebook-cell:/d%3A/USERS/Exeter/Courses/Module%20ECMM409%20%282023%29%20Nature-Inspired%20Computation/Nature_inspired/project01/test.ipynb#X36sZmlsZQ%3D%3D?line=46'>47</a>\u001b[0m child2 \u001b[39m=\u001b[39m [remain2\u001b[39m.\u001b[39mpop(\u001b[39m0\u001b[39m) \u001b[39mif\u001b[39;00m x \u001b[39m==\u001b[39m \u001b[39m-\u001b[39m\u001b[39m1\u001b[39m \u001b[39melse\u001b[39;00m x \u001b[39mfor\u001b[39;00m x \u001b[39min\u001b[39;00m child2 ]\n\u001b[0;32m     <a href='vscode-notebook-cell:/d%3A/USERS/Exeter/Courses/Module%20ECMM409%20%282023%29%20Nature-Inspired%20Computation/Nature_inspired/project01/test.ipynb#X36sZmlsZQ%3D%3D?line=48'>49</a>\u001b[0m \u001b[39mreturn\u001b[39;00m child1 , child2\n",
      "\u001b[1;31mIndexError\u001b[0m: pop from empty list"
     ]
    }
   ],
   "source": [
    "ordered_crossover(temp3, temp4)"
   ]
  },
  {
   "cell_type": "code",
   "execution_count": null,
   "metadata": {},
   "outputs": [],
   "source": [
    "def ordered_crossover(parent1, parent2, p1, p2):\n",
    "    n = len(parent1)\n",
    "    child1 = [-1] * n\n",
    "    child2 = [-1] * n\n",
    "    \n",
    "    child1[p1:p2+1] = parent2[p1:p2+1]\n",
    "    child2[p1:p2+1] = parent1[p1:p2+1]\n",
    "    \n",
    "    remaining1 = [x for x in parent1 if x not in child1]\n",
    "    remaining2 = [x for x in parent2 if x not in child2]\n",
    "    \n",
    "    child1 = [remaining1.pop(0) if x == -1 else x for x in child1]\n",
    "    child2 = [remaining2.pop(0) if x == -1 else x for x in child2]\n",
    "    \n",
    "    return child1, child2\n"
   ]
  },
  {
   "cell_type": "code",
   "execution_count": null,
   "metadata": {},
   "outputs": [
    {
     "data": {
      "text/plain": [
       "([3, 2, 4, 1, 0], [2, 1, 0, 4, 3])"
      ]
     },
     "execution_count": 142,
     "metadata": {},
     "output_type": "execute_result"
    }
   ],
   "source": [
    "ordered_crossover(temp1, temp2, 1, 2)"
   ]
  },
  {
   "cell_type": "code",
   "execution_count": null,
   "metadata": {},
   "outputs": [],
   "source": []
  }
 ],
 "metadata": {
  "kernelspec": {
   "display_name": "exeter",
   "language": "python",
   "name": "python3"
  },
  "language_info": {
   "codemirror_mode": {
    "name": "ipython",
    "version": 3
   },
   "file_extension": ".py",
   "mimetype": "text/x-python",
   "name": "python",
   "nbconvert_exporter": "python",
   "pygments_lexer": "ipython3",
   "version": "3.11.5"
  }
 },
 "nbformat": 4,
 "nbformat_minor": 2
}
