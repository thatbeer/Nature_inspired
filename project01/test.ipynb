{
 "cells": [
  {
   "cell_type": "code",
   "execution_count": 247,
   "metadata": {},
   "outputs": [],
   "source": [
    "import numpy as np"
   ]
  },
  {
   "cell_type": "code",
   "execution_count": 248,
   "metadata": {},
   "outputs": [],
   "source": [
    "from core.genetic_fn import generate_population , fitness, tournament_selection, crossover, mutate, replace_firstweak"
   ]
  },
  {
   "cell_type": "code",
   "execution_count": 249,
   "metadata": {},
   "outputs": [],
   "source": [
    "sample = [\n",
    "    [0,2,1,2,1],\n",
    "    [2,0,2,2,2],\n",
    "    [1,2,0,2,1],\n",
    "    [2,2,2,0,2],\n",
    "    [1,2,1,2,0]\n",
    "]"
   ]
  },
  {
   "cell_type": "code",
   "execution_count": 250,
   "metadata": {},
   "outputs": [
    {
     "data": {
      "text/plain": [
       "[[2, 4, 3, 1, 0],\n",
       " [2, 3, 1, 0, 4],\n",
       " [3, 1, 2, 0, 4],\n",
       " [1, 2, 3, 0, 4],\n",
       " [2, 4, 1, 3, 0],\n",
       " [3, 1, 0, 4, 2],\n",
       " [0, 2, 1, 3, 4],\n",
       " [4, 0, 2, 3, 1],\n",
       " [1, 3, 2, 4, 0],\n",
       " [0, 3, 4, 2, 1]]"
      ]
     },
     "execution_count": 250,
     "metadata": {},
     "output_type": "execute_result"
    }
   ],
   "source": [
    "pop1 = generate_population(sample)\n",
    "pop1"
   ]
  },
  {
   "cell_type": "code",
   "execution_count": 251,
   "metadata": {},
   "outputs": [
    {
     "data": {
      "text/plain": [
       "0.125"
      ]
     },
     "execution_count": 251,
     "metadata": {},
     "output_type": "execute_result"
    }
   ],
   "source": [
    "fitness_value = fitness(pop1[0],sample)\n",
    "fitness_value"
   ]
  },
  {
   "cell_type": "code",
   "execution_count": 252,
   "metadata": {},
   "outputs": [
    {
     "data": {
      "text/plain": [
       "[0.125,\n",
       " 0.125,\n",
       " 0.125,\n",
       " 0.1111111111111111,\n",
       " 0.125,\n",
       " 0.125,\n",
       " 0.125,\n",
       " 0.125,\n",
       " 0.125,\n",
       " 0.1111111111111111]"
      ]
     },
     "execution_count": 252,
     "metadata": {},
     "output_type": "execute_result"
    }
   ],
   "source": [
    "pop_fitness = [fitness(pop,sample) for pop in pop1]\n",
    "pop_fitness"
   ]
  },
  {
   "cell_type": "code",
   "execution_count": 253,
   "metadata": {},
   "outputs": [
    {
     "data": {
      "text/plain": [
       "(([2, 4, 3, 1, 0], 0.125), ([2, 4, 1, 3, 0], 0.125))"
      ]
     },
     "execution_count": 253,
     "metadata": {},
     "output_type": "execute_result"
    }
   ],
   "source": [
    "a = tournament_selection(pop1, pop_fitness, 4)\n",
    "b = tournament_selection(pop1, pop_fitness, 4)\n",
    "a ,b"
   ]
  },
  {
   "cell_type": "code",
   "execution_count": 273,
   "metadata": {},
   "outputs": [],
   "source": [
    "from typing import Optional\n",
    "## THIS ONE VIOLTES THE CONSTRAINT OF THE TSP rules\n",
    "def crossover(arg1, arg2, locus:Optional[int]=None):\n",
    "    n = len(arg1)\n",
    "    if locus is None:\n",
    "        locus = np.random.randint(n)\n",
    "    child1 = arg1[:locus] + arg2[locus:] \n",
    "    child2 = arg2[:locus] + arg1[locus:]\n",
    "    assert (len(set(child1)) == n ) and (len(set(child2)) == n ) , \"found duplicated node inside child\"\n",
    "    return child1, child2\n",
    "\n",
    "def fixed_crossover(arg1, arg2):\n",
    "    assert len(arg1) == len(arg2) , \"parents' size should be equal\"\n",
    "    n = len(arg1)\n",
    "    point = np.random.randint(n)\n",
    "    child1 = arg2[:point]\n",
    "    child2 = arg1[:point]\n",
    "    return child1 + [x for x in arg1 if x not in child1] , child2 + [x for x in arg2 if x not in child2]\n",
    "\n",
    "def fixed_crossover_twopoint(arg1, arg2):\n",
    "    assert len(arg1) == len(arg2) , \"parents' size should be equal\"\n",
    "    n = len(arg1)\n",
    "    point1 = np.random.randint(n-1)\n",
    "    point2 = np.random.choice(range(point1,n+1))\n",
    "    child1 = arg2[point1:point2+1]\n",
    "    child2 = arg1[point1:point2+1]\n",
    "    return child1 + [x for x in arg1 if x not in child1] , child2 + [x for x in arg2 if x not in child2]\n",
    "    \n",
    "def ordered_crossover(arg1, arg2):\n",
    "    assert len(arg1) == len(arg2) , \"parents' size should be equal\"\n",
    "    n = len(arg1)\n",
    "    child1 = [-1] * n\n",
    "    child2 = [-1] * n\n",
    "\n",
    "    # start = np.random.randint(n-1)\n",
    "    # end = np.random.choice(range(start,n+1))\n",
    "    start , end = 2, 4\n",
    "    \n",
    "\n",
    "    child1[start:end+1] = arg2[start:end+1]\n",
    "    child2[start:end+1] = arg1[start:end+1]\n",
    "\n",
    "    remains1 = [x for x in arg1 if x not in child1[start:end+1]]\n",
    "    remains2 = [x for x in arg2 if x not in child2[start:end+1]]\n",
    "\n",
    "    child1 = [ x for x in child1]\n",
    "\n",
    "    return child1 , child2\n",
    "\n",
    "def partialMap_crossover(arg1, arg2):\n",
    "    pass"
   ]
  },
  {
   "cell_type": "code",
   "execution_count": 271,
   "metadata": {},
   "outputs": [
    {
     "data": {
      "text/plain": [
       "([3, 2, 0, 4, 1], [3, 2, 0, 4, 1])"
      ]
     },
     "execution_count": 271,
     "metadata": {},
     "output_type": "execute_result"
    }
   ],
   "source": [
    "fixed_crossover(a[0],b[0])"
   ]
  },
  {
   "cell_type": "code",
   "execution_count": 278,
   "metadata": {},
   "outputs": [
    {
     "data": {
      "text/plain": [
       "([3, 3, 0, 4, 1], [3, 3, 0, 4, 1])"
      ]
     },
     "execution_count": 278,
     "metadata": {},
     "output_type": "execute_result"
    }
   ],
   "source": [
    "ordered_crossover(a[0],b[0])"
   ]
  },
  {
   "cell_type": "code",
   "execution_count": 256,
   "metadata": {},
   "outputs": [
    {
     "data": {
      "text/plain": [
       "([2, 4, 1, 3, 0], [2, 4, 3, 1, 0])"
      ]
     },
     "execution_count": 256,
     "metadata": {},
     "output_type": "execute_result"
    }
   ],
   "source": [
    "c, d = fixed_crossover(a[0], b[0])\n",
    "c, d"
   ]
  },
  {
   "cell_type": "code",
   "execution_count": 257,
   "metadata": {},
   "outputs": [
    {
     "data": {
      "text/plain": [
       "([2, 0, 1, 3, 4], [2, 0, 3, 1, 4])"
      ]
     },
     "execution_count": 257,
     "metadata": {},
     "output_type": "execute_result"
    }
   ],
   "source": [
    "e = mutate(c)\n",
    "f = mutate(d)\n",
    "e, f"
   ]
  },
  {
   "cell_type": "code",
   "execution_count": 258,
   "metadata": {},
   "outputs": [
    {
     "name": "stdout",
     "output_type": "stream",
     "text": [
      "[[2, 4, 3, 1, 0], [2, 3, 1, 0, 4], [3, 1, 2, 0, 4], [2, 0, 1, 3, 4], [2, 4, 1, 3, 0], [3, 1, 0, 4, 2], [0, 2, 1, 3, 4], [4, 0, 2, 3, 1], [1, 3, 2, 4, 0], [2, 0, 1, 3, 4]]\n",
      "[[2, 4, 3, 1, 0], [2, 3, 1, 0, 4], [3, 1, 2, 0, 4], [2, 0, 1, 3, 4], [2, 4, 1, 3, 0], [3, 1, 0, 4, 2], [0, 2, 1, 3, 4], [4, 0, 2, 3, 1], [1, 3, 2, 4, 0], [2, 0, 1, 3, 4]]\n"
     ]
    }
   ],
   "source": [
    "pop1 = replace_firstweak(pop1, e, sample)\n",
    "print(pop1)\n",
    "pop1 = replace_firstweak(pop1,f, sample)\n",
    "print(pop1)"
   ]
  },
  {
   "cell_type": "code",
   "execution_count": 263,
   "metadata": {},
   "outputs": [],
   "source": [
    "pop1 = generate_population(sample)\n",
    "pop_fitness = [fitness(pop,sample) for pop in pop1]\n",
    "\n",
    "for i in range(10000):\n",
    "    a = tournament_selection(pop1, pop_fitness, 4)\n",
    "    b = tournament_selection(pop1, pop_fitness, 4)\n",
    "    c, d = fixed_crossover(a[0], b[0])\n",
    "    e = mutate(c)\n",
    "    f = mutate(d)\n",
    "    pop1 = replace_firstweak(pop1, e, sample)\n",
    "    pop1 = replace_firstweak(pop1, f, sample)\n",
    "    pop_fitness = [fitness(pop,sample) for pop in pop1]"
   ]
  },
  {
   "cell_type": "code",
   "execution_count": 264,
   "metadata": {},
   "outputs": [
    {
     "data": {
      "text/plain": [
       "([[2, 1, 3, 4, 0],\n",
       "  [3, 2, 0, 4, 1],\n",
       "  [3, 2, 0, 4, 1],\n",
       "  [3, 2, 0, 4, 1],\n",
       "  [3, 2, 0, 4, 1],\n",
       "  [3, 2, 0, 4, 1],\n",
       "  [3, 2, 0, 4, 1],\n",
       "  [3, 4, 2, 0, 1],\n",
       "  [2, 0, 4, 3, 1],\n",
       "  [3, 2, 0, 4, 1]],\n",
       " [0.125, 0.125, 0.125, 0.125, 0.125, 0.125, 0.125, 0.125, 0.125, 0.125])"
      ]
     },
     "execution_count": 264,
     "metadata": {},
     "output_type": "execute_result"
    }
   ],
   "source": [
    "pop1, pop_fitness"
   ]
  },
  {
   "cell_type": "code",
   "execution_count": 265,
   "metadata": {},
   "outputs": [
    {
     "data": {
      "text/plain": [
       "[8.0, 8.0, 8.0, 8.0, 8.0, 8.0, 8.0, 8.0, 8.0, 8.0]"
      ]
     },
     "execution_count": 265,
     "metadata": {},
     "output_type": "execute_result"
    }
   ],
   "source": [
    "[1/x for x in pop_fitness]"
   ]
  },
  {
   "cell_type": "code",
   "execution_count": 266,
   "metadata": {},
   "outputs": [
    {
     "name": "stdout",
     "output_type": "stream",
     "text": [
      "Best Path: (0, 2, 4, 1, 3)\n",
      "Best Distance: 6\n"
     ]
    }
   ],
   "source": [
    "import itertools\n",
    "\n",
    "def calculate_total_distance(path, distance_matrix):\n",
    "    total_distance = 0\n",
    "    for i in range(len(path) - 1):\n",
    "        total_distance += distance_matrix[path[i]][path[i + 1]]\n",
    "    return total_distance\n",
    "\n",
    "def tsp_bruteforce(distance_matrix):\n",
    "    num_cities = len(distance_matrix)\n",
    "    cities = list(range(num_cities))\n",
    "    shortest_path = None\n",
    "    shortest_distance = float('inf')\n",
    "\n",
    "    for path in itertools.permutations(cities):\n",
    "        distance = calculate_total_distance(path, distance_matrix)\n",
    "        if distance < shortest_distance:\n",
    "            shortest_distance = distance\n",
    "            shortest_path = path\n",
    "\n",
    "    return shortest_path, shortest_distance\n",
    "\n",
    "# distance_matrix = [\n",
    "#     [0, 2, 1, 2, 1],\n",
    "#     [2, 0, 2, 2, 2],\n",
    "#     [1, 2, 0, 2, 1],\n",
    "#     [2, 2, 2, 0, 2],\n",
    "#     [1, 2, 1, 2, 0]\n",
    "# ]\n",
    "\n",
    "best_path, best_distance = tsp_bruteforce(sample)\n",
    "print(\"Best Path:\", best_path)\n",
    "print(\"Best Distance:\", best_distance)\n"
   ]
  },
  {
   "cell_type": "code",
   "execution_count": null,
   "metadata": {},
   "outputs": [],
   "source": []
  }
 ],
 "metadata": {
  "kernelspec": {
   "display_name": "exeter",
   "language": "python",
   "name": "python3"
  },
  "language_info": {
   "codemirror_mode": {
    "name": "ipython",
    "version": 3
   },
   "file_extension": ".py",
   "mimetype": "text/x-python",
   "name": "python",
   "nbconvert_exporter": "python",
   "pygments_lexer": "ipython3",
   "version": "3.11.5"
  }
 },
 "nbformat": 4,
 "nbformat_minor": 2
}
