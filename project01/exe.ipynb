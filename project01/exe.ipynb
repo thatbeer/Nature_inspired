{
 "cells": [
  {
   "cell_type": "markdown",
   "metadata": {},
   "source": [
    "### The Evolutionary Algorithm \n"
   ]
  },
  {
   "cell_type": "code",
   "execution_count": 1,
   "metadata": {},
   "outputs": [],
   "source": [
    "import numpy as np\n",
    "from core.utils import load_metrics"
   ]
  },
  {
   "cell_type": "code",
   "execution_count": 2,
   "metadata": {},
   "outputs": [],
   "source": [
    "pop_size = 10\n",
    "tournament_size = 4\n",
    "crossover_rate = 0.90\n",
    "mutate_rate = 0.20\n",
    "\n",
    "burma_path = './dataset/burma14.xml'"
   ]
  },
  {
   "cell_type": "code",
   "execution_count": 3,
   "metadata": {},
   "outputs": [
    {
     "name": "stderr",
     "output_type": "stream",
     "text": [
      "d:\\USERS\\Exeter\\Courses\\Module ECMM409 (2023) Nature-Inspired Computation\\assessments\\project01\\core\\utils.py:16: RuntimeWarning: invalid value encountered in multiply\n",
      "  weights_metric = np.nan_to_num(np.identity(num_node) * -np.inf, 0.0)\n"
     ]
    },
    {
     "data": {
      "text/plain": [
       "(14, 14)"
      ]
     },
     "execution_count": 3,
     "metadata": {},
     "output_type": "execute_result"
    }
   ],
   "source": [
    "weight_metric = load_metrics(burma_path)\n",
    "weight_metric.shape"
   ]
  },
  {
   "cell_type": "markdown",
   "metadata": {},
   "source": [
    "<b>1. Generate an initial population of p randomly created solutions and assess the fitness of each individual in\n",
    "the population."
   ]
  },
  {
   "cell_type": "code",
   "execution_count": 4,
   "metadata": {},
   "outputs": [],
   "source": [
    "# generate population\n",
    "def create_candidate(distance_metric):\n",
    "    return list(np.random.permutation(len(distance_metric)))\n",
    "\n",
    "def generate_population(distance_metric, pop_size:int=10):\n",
    "    return [create_candidate(distance_metric) for _ in range(pop_size)]\n",
    "\n",
    "def cost_function(travel_list, distance_metric):\n",
    "    total_distance = 0\n",
    "    for i in range(len(travel_list)-1):\n",
    "        total_distance += distance_metric[travel_list[i],travel_list[i+1]]\n",
    "    total_distance += distance_metric[travel_list[-1],travel_list[0]]\n",
    "    return total_distance\n",
    "\n",
    "def fitness(travel_list, distance_metric):\n",
    "    return 1 / cost_function(travel_list, distance_metric)"
   ]
  },
  {
   "cell_type": "code",
   "execution_count": 5,
   "metadata": {},
   "outputs": [
    {
     "data": {
      "text/plain": [
       "[[7, 12, 2, 10, 8, 6, 13, 9, 11, 3, 4, 0, 1, 5],\n",
       " [12, 0, 11, 4, 5, 3, 8, 1, 7, 2, 13, 10, 9, 6],\n",
       " [12, 0, 1, 6, 7, 4, 3, 5, 11, 10, 8, 2, 13, 9],\n",
       " [11, 9, 10, 7, 13, 12, 0, 2, 4, 5, 8, 1, 6, 3],\n",
       " [4, 9, 11, 1, 13, 5, 2, 6, 3, 12, 8, 0, 10, 7],\n",
       " [6, 12, 11, 10, 2, 13, 8, 0, 4, 7, 5, 3, 9, 1],\n",
       " [13, 0, 1, 9, 2, 5, 3, 7, 8, 4, 6, 11, 10, 12],\n",
       " [11, 12, 2, 1, 6, 0, 13, 8, 5, 7, 10, 9, 4, 3],\n",
       " [12, 13, 5, 10, 8, 1, 11, 3, 6, 4, 0, 9, 7, 2],\n",
       " [1, 9, 5, 4, 8, 7, 13, 10, 6, 12, 0, 11, 2, 3]]"
      ]
     },
     "execution_count": 5,
     "metadata": {},
     "output_type": "execute_result"
    }
   ],
   "source": [
    "pop1 = generate_population(weight_metric)\n",
    "pop1"
   ]
  },
  {
   "cell_type": "code",
   "execution_count": 9,
   "metadata": {},
   "outputs": [
    {
     "data": {
      "text/plain": [
       "[0.00014812620352540364,\n",
       " 0.0001763979537837361,\n",
       " 0.00016826518593303046,\n",
       " 0.00016479894528675015,\n",
       " 0.00014703720041170417,\n",
       " 0.0001392951664577239,\n",
       " 0.00016144656118824668,\n",
       " 0.00015087507543753772,\n",
       " 0.00016986580601324953,\n",
       " 0.00015264845061822624]"
      ]
     },
     "execution_count": 9,
     "metadata": {},
     "output_type": "execute_result"
    }
   ],
   "source": [
    "fit1 = [fitness(pop, weight_metric) for pop in pop1]\n",
    "fit1"
   ]
  },
  {
   "cell_type": "code",
   "execution_count": 16,
   "metadata": {},
   "outputs": [
    {
     "data": {
      "text/plain": [
       "array([5, 4, 0, 7, 9, 6, 3, 2, 8, 1], dtype=int64)"
      ]
     },
     "execution_count": 16,
     "metadata": {},
     "output_type": "execute_result"
    }
   ],
   "source": [
    "np.argsort(fit1)"
   ]
  },
  {
   "cell_type": "code",
   "execution_count": 17,
   "metadata": {},
   "outputs": [
    {
     "data": {
      "text/plain": [
       "1"
      ]
     },
     "execution_count": 17,
     "metadata": {},
     "output_type": "execute_result"
    }
   ],
   "source": [
    "np.argsort(fit1)[-1]"
   ]
  },
  {
   "cell_type": "code",
   "execution_count": 14,
   "metadata": {},
   "outputs": [
    {
     "data": {
      "text/plain": [
       "0.0001763979537837361"
      ]
     },
     "execution_count": 14,
     "metadata": {},
     "output_type": "execute_result"
    }
   ],
   "source": [
    "maxid = np.argsort(fit1)[-1]\n",
    "maxvalue = fit1[maxid]\n",
    "maxvalue"
   ]
  },
  {
   "cell_type": "code",
   "execution_count": 15,
   "metadata": {},
   "outputs": [
    {
     "data": {
      "text/plain": [
       "0.0001392951664577239"
      ]
     },
     "execution_count": 15,
     "metadata": {},
     "output_type": "execute_result"
    }
   ],
   "source": [
    "minid = np.argsort(fit1)[0]\n",
    "minvalue = fit1[minid]\n",
    "minvalue"
   ]
  },
  {
   "cell_type": "code",
   "execution_count": 22,
   "metadata": {},
   "outputs": [
    {
     "data": {
      "text/plain": [
       "[[[7, 12, 2, 10, 8, 6, 13, 9, 11, 3, 4, 0, 1, 5],\n",
       "  [12, 0, 11, 4, 5, 3, 8, 1, 7, 2, 13, 10, 9, 6],\n",
       "  [12, 0, 1, 6, 7, 4, 3, 5, 11, 10, 8, 2, 13, 9],\n",
       "  [11, 9, 10, 7, 13, 12, 0, 2, 4, 5, 8, 1, 6, 3],\n",
       "  [4, 9, 11, 1, 13, 5, 2, 6, 3, 12, 8, 0, 10, 7],\n",
       "  [6, 12, 11, 10, 2, 13, 8, 0, 4, 7, 5, 3, 9, 1],\n",
       "  [13, 0, 1, 9, 2, 5, 3, 7, 8, 4, 6, 11, 10, 12],\n",
       "  [11, 12, 2, 1, 6, 0, 13, 8, 5, 7, 10, 9, 4, 3],\n",
       "  [12, 13, 5, 10, 8, 1, 11, 3, 6, 4, 0, 9, 7, 2],\n",
       "  [1, 9, 5, 4, 8, 7, 13, 10, 6, 12, 0, 11, 2, 3]],\n",
       " [0.00014812620352540364,\n",
       "  0.0001763979537837361,\n",
       "  0.00016826518593303046,\n",
       "  0.00016479894528675015,\n",
       "  0.00014703720041170417,\n",
       "  0.0001392951664577239,\n",
       "  0.00016144656118824668,\n",
       "  0.00015087507543753772,\n",
       "  0.00016986580601324953,\n",
       "  0.00015264845061822624]]"
      ]
     },
     "execution_count": 22,
     "metadata": {},
     "output_type": "execute_result"
    }
   ],
   "source": [
    "pop_d = [pop1, fit1]\n",
    "pop_d"
   ]
  },
  {
   "cell_type": "markdown",
   "metadata": {},
   "source": [
    "<b>2. Use tournament selection twice to select two parents, denoted as a and b."
   ]
  },
  {
   "cell_type": "code",
   "execution_count": 25,
   "metadata": {},
   "outputs": [],
   "source": [
    "def tournament_selection(population, fitness_value, tournament_size):\n",
    "    fit_value = -np.inf\n",
    "    res = None\n",
    "    for _ in range(tournament_size):\n",
    "        idx = np.random.randint(len(population))\n",
    "        # new_fit = fitness(population[idx], distance_metric=weight_metric)\n",
    "        new_fit = fitness_value[idx]    \n",
    "        if new_fit >= fit_value:\n",
    "            fit_value = new_fit\n",
    "            res = population[idx]\n",
    "        \n",
    "    return res, fit_value"
   ]
  },
  {
   "cell_type": "code",
   "execution_count": 34,
   "metadata": {},
   "outputs": [
    {
     "data": {
      "text/plain": [
       "([12, 13, 5, 10, 8, 1, 11, 3, 6, 4, 0, 9, 7, 2],\n",
       " [12, 0, 11, 4, 5, 3, 8, 1, 7, 2, 13, 10, 9, 6])"
      ]
     },
     "execution_count": 34,
     "metadata": {},
     "output_type": "execute_result"
    }
   ],
   "source": [
    "a, _ = tournament_selection(pop_d[0], pop_d[1],4)\n",
    "b, _ = tournament_selection(pop_d[0], pop_d[1],4)\n",
    "a, b"
   ]
  },
  {
   "cell_type": "markdown",
   "metadata": {},
   "source": [
    "<b>3. apply a single-point crossover on these selected parents to generate two children, referred to as c and d.\n"
   ]
  },
  {
   "cell_type": "code",
   "execution_count": 36,
   "metadata": {},
   "outputs": [],
   "source": [
    "from typing import Optional\n",
    "\n",
    "def crossover(arg1, arg2, locus:Optional[int]=None):\n",
    "    n = len(arg1)\n",
    "    if locus is None:\n",
    "        locus = np.random.randint(n-1)\n",
    "    child1 = arg1[:locus] + arg2[locus:] \n",
    "    child2 = arg2[:locus] + arg1[locus:]\n",
    "    return child1, child2\n"
   ]
  },
  {
   "cell_type": "code",
   "execution_count": 38,
   "metadata": {},
   "outputs": [
    {
     "data": {
      "text/plain": [
       "([12, 13, 5, 10, 8, 1, 11, 3, 6, 4, 0, 9, 9, 6],\n",
       " [12, 0, 11, 4, 5, 3, 8, 1, 7, 2, 13, 10, 7, 2])"
      ]
     },
     "execution_count": 38,
     "metadata": {},
     "output_type": "execute_result"
    }
   ],
   "source": [
    "c, d = crossover(a,b)\n",
    "c, d"
   ]
  },
  {
   "cell_type": "markdown",
   "metadata": {},
   "source": [
    "<b>4. Run a mutation on c and d to give two new solutions e and f. Evaluate the fitness of e and f."
   ]
  },
  {
   "cell_type": "code",
   "execution_count": 55,
   "metadata": {},
   "outputs": [],
   "source": [
    "# def mutate(arg):\n",
    "#     \"\"\" mutate (swap operator)\n",
    "#         swapping between 2 indexes\n",
    "\n",
    "#     Args:\n",
    "#         arg (_type_): _description_\n",
    "#         mutate_rate (_type_): _description_\n",
    "\n",
    "#     Returns:\n",
    "#         crossover's child (List(int)): _description_ \n",
    "#     \"\"\"\n",
    "#     n = len(arg)\n",
    "#     idx1, idx2 = np.random.randint(n,size=2)\n",
    "#     res = np.array(arg).copy()\n",
    "#     res[idx1], res[idx2] = res[idx2], res[idx1]\n",
    "#     # print(f'swap string {arg} \\n at position [{idx1}] <----> [{idx2}] \\n result {res}')\n",
    "#     return res"
   ]
  },
  {
   "cell_type": "code",
   "execution_count": 67,
   "metadata": {},
   "outputs": [],
   "source": [
    "def mutate(arg):\n",
    "    \"\"\"\n",
    "    Mutate (swap operator): Swapping between 2 random indexes in a list.\n",
    "\n",
    "    Args:\n",
    "        arg (list): The list to perform the mutation on.\n",
    "\n",
    "    Returns:\n",
    "        list: The mutated list with elements swapped.\n",
    "    \"\"\"\n",
    "    n = len(arg)\n",
    "    if n < 2:\n",
    "        # Nothing to swap in a list with less than 2 elements\n",
    "        return arg\n",
    "    idx1, idx2 = np.random.choice(n, size=2, replace=False)\n",
    "    res = arg.copy()  \n",
    "    res[idx1], res[idx2] = res[idx2], res[idx1]  \n",
    "    return res\n",
    "\n"
   ]
  },
  {
   "cell_type": "code",
   "execution_count": 69,
   "metadata": {},
   "outputs": [
    {
     "data": {
      "text/plain": [
       "(False, False)"
      ]
     },
     "execution_count": 69,
     "metadata": {},
     "output_type": "execute_result"
    }
   ],
   "source": [
    "e = mutate(c)\n",
    "f = mutate(d)\n",
    "c == e , f == d"
   ]
  },
  {
   "cell_type": "code",
   "execution_count": 71,
   "metadata": {},
   "outputs": [
    {
     "data": {
      "text/plain": [
       "([13, 5, 6, 6, 9, 0, 9, 12, 8, 4, 11, 10, 1, 3],\n",
       " [4, 12, 7, 3, 5, 10, 8, 11, 1, 0, 13, 2, 7, 2])"
      ]
     },
     "execution_count": 71,
     "metadata": {},
     "output_type": "execute_result"
    }
   ],
   "source": [
    "c, d"
   ]
  },
  {
   "cell_type": "code",
   "execution_count": 70,
   "metadata": {},
   "outputs": [
    {
     "data": {
      "text/plain": [
       "([13, 5, 6, 6, 9, 0, 9, 12, 8, 10, 11, 4, 1, 3],\n",
       " [12, 4, 7, 3, 5, 10, 8, 11, 1, 0, 13, 2, 7, 2])"
      ]
     },
     "execution_count": 70,
     "metadata": {},
     "output_type": "execute_result"
    }
   ],
   "source": [
    "e, f"
   ]
  },
  {
   "cell_type": "code",
   "execution_count": 86,
   "metadata": {},
   "outputs": [
    {
     "data": {
      "text/plain": [
       "(-5.562684646268003e-309, 0.00015372790161414298)"
      ]
     },
     "execution_count": 86,
     "metadata": {},
     "output_type": "execute_result"
    }
   ],
   "source": [
    "(fitness(e, weight_metric)), fitness(f, weight_metric)"
   ]
  },
  {
   "cell_type": "code",
   "execution_count": 84,
   "metadata": {},
   "outputs": [
    {
     "data": {
      "text/plain": [
       "[0.00014812620352540364,\n",
       " 0.0001763979537837361,\n",
       " 0.00016826518593303046,\n",
       " 0.00016479894528675015,\n",
       " 0.00014703720041170417,\n",
       " 0.0001392951664577239,\n",
       " 0.00016144656118824668,\n",
       " 0.00015087507543753772,\n",
       " 0.00016986580601324953,\n",
       " 0.00015264845061822624]"
      ]
     },
     "execution_count": 84,
     "metadata": {},
     "output_type": "execute_result"
    }
   ],
   "source": [
    "fit1"
   ]
  },
  {
   "cell_type": "code",
   "execution_count": 80,
   "metadata": {},
   "outputs": [
    {
     "data": {
      "text/plain": [
       "0.0001392951664577239"
      ]
     },
     "execution_count": 80,
     "metadata": {},
     "output_type": "execute_result"
    }
   ],
   "source": [
    "min(fit1)"
   ]
  },
  {
   "cell_type": "code",
   "execution_count": null,
   "metadata": {},
   "outputs": [],
   "source": []
  },
  {
   "cell_type": "markdown",
   "metadata": {},
   "source": [
    "<b>5. Run replacement function, firstly for e, then f."
   ]
  },
  {
   "cell_type": "code",
   "execution_count": 76,
   "metadata": {},
   "outputs": [],
   "source": [
    "from typing import Literal\n",
    "\n",
    "def replace_firstweak(population, candidate):\n",
    "    pop_temp = population.copy()\n",
    "    cand_fitness = fitness(candidate, weight_metric)\n",
    "    for i, pop in enumerate(pop_temp):\n",
    "        if cand_fitness >= fitness(pop, weight_metric):\n",
    "            pop_temp[i] = candidate\n",
    "    return pop_temp\n",
    "\n",
    "def replace_weakest(population, candidate):\n",
    "    pop_temp = population.copy()\n",
    "    cand_fitness = fitness(candidate, weight_metric)\n",
    "    pop_fitness = [fitness(pop, weight_metric) for pop in pop_temp]\n",
    "    idx = np.argsort(pop_fitness)\n",
    "    for i in idx:\n",
    "        if pop_fitness[i] <= cand_fitness:\n",
    "            pop_temp[i] = candidate\n",
    "            return pop_temp\n",
    "        else:\n",
    "            return pop_temp\n",
    "    return pop_temp"
   ]
  },
  {
   "cell_type": "code",
   "execution_count": 78,
   "metadata": {},
   "outputs": [
    {
     "data": {
      "text/plain": [
       "[[7, 12, 2, 10, 8, 6, 13, 9, 11, 3, 4, 0, 1, 5],\n",
       " [12, 0, 11, 4, 5, 3, 8, 1, 7, 2, 13, 10, 9, 6],\n",
       " [12, 0, 1, 6, 7, 4, 3, 5, 11, 10, 8, 2, 13, 9],\n",
       " [11, 9, 10, 7, 13, 12, 0, 2, 4, 5, 8, 1, 6, 3],\n",
       " [4, 9, 11, 1, 13, 5, 2, 6, 3, 12, 8, 0, 10, 7],\n",
       " [6, 12, 11, 10, 2, 13, 8, 0, 4, 7, 5, 3, 9, 1],\n",
       " [13, 0, 1, 9, 2, 5, 3, 7, 8, 4, 6, 11, 10, 12],\n",
       " [11, 12, 2, 1, 6, 0, 13, 8, 5, 7, 10, 9, 4, 3],\n",
       " [12, 13, 5, 10, 8, 1, 11, 3, 6, 4, 0, 9, 7, 2],\n",
       " [1, 9, 5, 4, 8, 7, 13, 10, 6, 12, 0, 11, 2, 3]]"
      ]
     },
     "execution_count": 78,
     "metadata": {},
     "output_type": "execute_result"
    }
   ],
   "source": [
    "pop1"
   ]
  },
  {
   "cell_type": "code",
   "execution_count": 77,
   "metadata": {},
   "outputs": [
    {
     "data": {
      "text/plain": [
       "[[7, 12, 2, 10, 8, 6, 13, 9, 11, 3, 4, 0, 1, 5],\n",
       " [12, 0, 11, 4, 5, 3, 8, 1, 7, 2, 13, 10, 9, 6],\n",
       " [12, 0, 1, 6, 7, 4, 3, 5, 11, 10, 8, 2, 13, 9],\n",
       " [11, 9, 10, 7, 13, 12, 0, 2, 4, 5, 8, 1, 6, 3],\n",
       " [4, 9, 11, 1, 13, 5, 2, 6, 3, 12, 8, 0, 10, 7],\n",
       " [6, 12, 11, 10, 2, 13, 8, 0, 4, 7, 5, 3, 9, 1],\n",
       " [13, 0, 1, 9, 2, 5, 3, 7, 8, 4, 6, 11, 10, 12],\n",
       " [11, 12, 2, 1, 6, 0, 13, 8, 5, 7, 10, 9, 4, 3],\n",
       " [12, 13, 5, 10, 8, 1, 11, 3, 6, 4, 0, 9, 7, 2],\n",
       " [1, 9, 5, 4, 8, 7, 13, 10, 6, 12, 0, 11, 2, 3]]"
      ]
     },
     "execution_count": 77,
     "metadata": {},
     "output_type": "execute_result"
    }
   ],
   "source": [
    "pop_replaced = replace_firstweak(pop1, e)\n",
    "pop_replaced"
   ]
  },
  {
   "cell_type": "code",
   "execution_count": 82,
   "metadata": {},
   "outputs": [
    {
     "data": {
      "text/plain": [
       "[[7, 12, 2, 10, 8, 6, 13, 9, 11, 3, 4, 0, 1, 5],\n",
       " [12, 0, 11, 4, 5, 3, 8, 1, 7, 2, 13, 10, 9, 6],\n",
       " [12, 0, 1, 6, 7, 4, 3, 5, 11, 10, 8, 2, 13, 9],\n",
       " [11, 9, 10, 7, 13, 12, 0, 2, 4, 5, 8, 1, 6, 3],\n",
       " [4, 9, 11, 1, 13, 5, 2, 6, 3, 12, 8, 0, 10, 7],\n",
       " [6, 12, 11, 10, 2, 13, 8, 0, 4, 7, 5, 3, 9, 1],\n",
       " [13, 0, 1, 9, 2, 5, 3, 7, 8, 4, 6, 11, 10, 12],\n",
       " [11, 12, 2, 1, 6, 0, 13, 8, 5, 7, 10, 9, 4, 3],\n",
       " [12, 13, 5, 10, 8, 1, 11, 3, 6, 4, 0, 9, 7, 2],\n",
       " [1, 9, 5, 4, 8, 7, 13, 10, 6, 12, 0, 11, 2, 3]]"
      ]
     },
     "execution_count": 82,
     "metadata": {},
     "output_type": "execute_result"
    }
   ],
   "source": [
    "pop1"
   ]
  },
  {
   "cell_type": "code",
   "execution_count": 83,
   "metadata": {},
   "outputs": [
    {
     "data": {
      "text/plain": [
       "[12, 4, 7, 3, 5, 10, 8, 11, 1, 0, 13, 2, 7, 2]"
      ]
     },
     "execution_count": 83,
     "metadata": {},
     "output_type": "execute_result"
    }
   ],
   "source": [
    "f"
   ]
  },
  {
   "cell_type": "code",
   "execution_count": 81,
   "metadata": {},
   "outputs": [
    {
     "data": {
      "text/plain": [
       "[[12, 4, 7, 3, 5, 10, 8, 11, 1, 0, 13, 2, 7, 2],\n",
       " [12, 0, 11, 4, 5, 3, 8, 1, 7, 2, 13, 10, 9, 6],\n",
       " [12, 0, 1, 6, 7, 4, 3, 5, 11, 10, 8, 2, 13, 9],\n",
       " [11, 9, 10, 7, 13, 12, 0, 2, 4, 5, 8, 1, 6, 3],\n",
       " [12, 4, 7, 3, 5, 10, 8, 11, 1, 0, 13, 2, 7, 2],\n",
       " [12, 4, 7, 3, 5, 10, 8, 11, 1, 0, 13, 2, 7, 2],\n",
       " [13, 0, 1, 9, 2, 5, 3, 7, 8, 4, 6, 11, 10, 12],\n",
       " [12, 4, 7, 3, 5, 10, 8, 11, 1, 0, 13, 2, 7, 2],\n",
       " [12, 13, 5, 10, 8, 1, 11, 3, 6, 4, 0, 9, 7, 2],\n",
       " [12, 4, 7, 3, 5, 10, 8, 11, 1, 0, 13, 2, 7, 2]]"
      ]
     },
     "execution_count": 81,
     "metadata": {},
     "output_type": "execute_result"
    }
   ],
   "source": [
    "pop_replaced = replace_firstweak(pop_replaced, f)\n",
    "pop_replaced"
   ]
  },
  {
   "cell_type": "markdown",
   "metadata": {},
   "source": [
    "<b>6. If a termination criterion has been reached, then stop. Otherwise return to step 2."
   ]
  },
  {
   "cell_type": "code",
   "execution_count": null,
   "metadata": {},
   "outputs": [],
   "source": [
    "# TODO\n"
   ]
  }
 ],
 "metadata": {
  "kernelspec": {
   "display_name": "exeter",
   "language": "python",
   "name": "python3"
  },
  "language_info": {
   "codemirror_mode": {
    "name": "ipython",
    "version": 3
   },
   "file_extension": ".py",
   "mimetype": "text/x-python",
   "name": "python",
   "nbconvert_exporter": "python",
   "pygments_lexer": "ipython3",
   "version": "3.11.5"
  }
 },
 "nbformat": 4,
 "nbformat_minor": 2
}
