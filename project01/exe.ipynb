{
 "cells": [
  {
   "cell_type": "markdown",
   "metadata": {},
   "source": [
    "### The Evolutionary Algorithm \n"
   ]
  },
  {
   "cell_type": "markdown",
   "metadata": {},
   "source": [
    "## TEST!"
   ]
  },
  {
   "cell_type": "code",
   "execution_count": 5,
   "metadata": {},
   "outputs": [],
   "source": [
    "import numpy as np\n",
    "from core.utils import load_metrics"
   ]
  },
  {
   "cell_type": "code",
   "execution_count": 6,
   "metadata": {},
   "outputs": [],
   "source": [
    "pop_size = 10\n",
    "tournament_size = 4\n",
    "crossover_rate = 0.90\n",
    "mutate_rate = 0.20\n",
    "\n",
    "burma_path = './dataset/burma14.xml'"
   ]
  },
  {
   "cell_type": "code",
   "execution_count": 7,
   "metadata": {},
   "outputs": [
    {
     "name": "stderr",
     "output_type": "stream",
     "text": [
      "d:\\USERS\\Exeter\\Courses\\Module ECMM409 (2023) Nature-Inspired Computation\\Nature_inspired\\project01\\core\\utils.py:16: RuntimeWarning: invalid value encountered in multiply\n",
      "  weights_metric = np.nan_to_num(np.identity(num_node) * -np.inf, 0.0)\n"
     ]
    },
    {
     "data": {
      "text/plain": [
       "(14, 14)"
      ]
     },
     "execution_count": 7,
     "metadata": {},
     "output_type": "execute_result"
    }
   ],
   "source": [
    "weight_metric = load_metrics(burma_path)\n",
    "weight_metric.shape"
   ]
  },
  {
   "cell_type": "markdown",
   "metadata": {},
   "source": [
    "<b>1. Generate an initial population of p randomly created solutions and assess the fitness of each individual in\n",
    "the population."
   ]
  },
  {
   "cell_type": "code",
   "execution_count": 8,
   "metadata": {},
   "outputs": [],
   "source": [
    "# generate population\n",
    "def create_candidate(distance_metric):\n",
    "    return list(np.random.permutation(len(distance_metric)))\n",
    "\n",
    "def generate_population(distance_metric, pop_size:int=10):\n",
    "    return [create_candidate(distance_metric) for _ in range(pop_size)]\n",
    "\n",
    "def cost_function(travel_list, distance_metric):\n",
    "    total_distance = 0\n",
    "    for i in range(len(travel_list)-1):\n",
    "        total_distance += distance_metric[travel_list[i],travel_list[i+1]]\n",
    "    total_distance += distance_metric[travel_list[-1],travel_list[0]]\n",
    "    return total_distance\n",
    "\n",
    "def fitness(travel_list, distance_metric):\n",
    "    return 1 / cost_function(travel_list, distance_metric)"
   ]
  },
  {
   "cell_type": "code",
   "execution_count": 9,
   "metadata": {},
   "outputs": [
    {
     "data": {
      "text/plain": [
       "[[10, 8, 7, 11, 3, 13, 12, 4, 1, 5, 9, 2, 0, 6],\n",
       " [9, 7, 5, 1, 4, 6, 0, 8, 2, 10, 3, 12, 11, 13],\n",
       " [3, 11, 0, 2, 5, 7, 6, 1, 9, 10, 4, 12, 8, 13],\n",
       " [10, 1, 7, 5, 12, 6, 3, 11, 0, 2, 9, 4, 8, 13],\n",
       " [0, 13, 6, 2, 9, 10, 3, 7, 4, 5, 11, 12, 8, 1],\n",
       " [6, 12, 9, 1, 3, 2, 10, 5, 7, 4, 0, 8, 11, 13],\n",
       " [10, 3, 5, 2, 9, 8, 6, 13, 1, 11, 0, 4, 7, 12],\n",
       " [0, 1, 8, 4, 7, 13, 2, 10, 12, 11, 3, 5, 9, 6],\n",
       " [1, 13, 8, 10, 5, 6, 0, 2, 9, 3, 12, 4, 7, 11],\n",
       " [1, 11, 4, 7, 12, 9, 3, 10, 2, 13, 5, 8, 6, 0]]"
      ]
     },
     "execution_count": 9,
     "metadata": {},
     "output_type": "execute_result"
    }
   ],
   "source": [
    "pop1 = generate_population(weight_metric)\n",
    "pop1"
   ]
  },
  {
   "cell_type": "code",
   "execution_count": 10,
   "metadata": {},
   "outputs": [
    {
     "data": {
      "text/plain": [
       "[0.00014398848092152627,\n",
       " 0.00013442667025137788,\n",
       " 0.00014949917775452235,\n",
       " 0.00013743815283122595,\n",
       " 0.00016353229762878168,\n",
       " 0.00014232849416453175,\n",
       " 0.00013749484394335213,\n",
       " 0.00014757969303423848,\n",
       " 0.0001295672454003628,\n",
       " 0.0001344628210299852]"
      ]
     },
     "execution_count": 10,
     "metadata": {},
     "output_type": "execute_result"
    }
   ],
   "source": [
    "fit1 = [fitness(pop, weight_metric) for pop in pop1]\n",
    "fit1"
   ]
  },
  {
   "cell_type": "code",
   "execution_count": 11,
   "metadata": {},
   "outputs": [
    {
     "data": {
      "text/plain": [
       "array([8, 1, 9, 3, 6, 5, 0, 7, 2, 4], dtype=int64)"
      ]
     },
     "execution_count": 11,
     "metadata": {},
     "output_type": "execute_result"
    }
   ],
   "source": [
    "np.argsort(fit1)"
   ]
  },
  {
   "cell_type": "code",
   "execution_count": 12,
   "metadata": {},
   "outputs": [
    {
     "data": {
      "text/plain": [
       "4"
      ]
     },
     "execution_count": 12,
     "metadata": {},
     "output_type": "execute_result"
    }
   ],
   "source": [
    "np.argsort(fit1)[-1]"
   ]
  },
  {
   "cell_type": "code",
   "execution_count": 13,
   "metadata": {},
   "outputs": [
    {
     "data": {
      "text/plain": [
       "0.00016353229762878168"
      ]
     },
     "execution_count": 13,
     "metadata": {},
     "output_type": "execute_result"
    }
   ],
   "source": [
    "maxid = np.argsort(fit1)[-1]\n",
    "maxvalue = fit1[maxid]\n",
    "maxvalue"
   ]
  },
  {
   "cell_type": "code",
   "execution_count": 14,
   "metadata": {},
   "outputs": [
    {
     "data": {
      "text/plain": [
       "0.0001295672454003628"
      ]
     },
     "execution_count": 14,
     "metadata": {},
     "output_type": "execute_result"
    }
   ],
   "source": [
    "minid = np.argsort(fit1)[0]\n",
    "minvalue = fit1[minid]\n",
    "minvalue"
   ]
  },
  {
   "cell_type": "code",
   "execution_count": 15,
   "metadata": {},
   "outputs": [
    {
     "data": {
      "text/plain": [
       "[[[10, 8, 7, 11, 3, 13, 12, 4, 1, 5, 9, 2, 0, 6],\n",
       "  [9, 7, 5, 1, 4, 6, 0, 8, 2, 10, 3, 12, 11, 13],\n",
       "  [3, 11, 0, 2, 5, 7, 6, 1, 9, 10, 4, 12, 8, 13],\n",
       "  [10, 1, 7, 5, 12, 6, 3, 11, 0, 2, 9, 4, 8, 13],\n",
       "  [0, 13, 6, 2, 9, 10, 3, 7, 4, 5, 11, 12, 8, 1],\n",
       "  [6, 12, 9, 1, 3, 2, 10, 5, 7, 4, 0, 8, 11, 13],\n",
       "  [10, 3, 5, 2, 9, 8, 6, 13, 1, 11, 0, 4, 7, 12],\n",
       "  [0, 1, 8, 4, 7, 13, 2, 10, 12, 11, 3, 5, 9, 6],\n",
       "  [1, 13, 8, 10, 5, 6, 0, 2, 9, 3, 12, 4, 7, 11],\n",
       "  [1, 11, 4, 7, 12, 9, 3, 10, 2, 13, 5, 8, 6, 0]],\n",
       " [0.00014398848092152627,\n",
       "  0.00013442667025137788,\n",
       "  0.00014949917775452235,\n",
       "  0.00013743815283122595,\n",
       "  0.00016353229762878168,\n",
       "  0.00014232849416453175,\n",
       "  0.00013749484394335213,\n",
       "  0.00014757969303423848,\n",
       "  0.0001295672454003628,\n",
       "  0.0001344628210299852]]"
      ]
     },
     "execution_count": 15,
     "metadata": {},
     "output_type": "execute_result"
    }
   ],
   "source": [
    "pop_d = [pop1, fit1]\n",
    "pop_d"
   ]
  },
  {
   "cell_type": "markdown",
   "metadata": {},
   "source": [
    "<b>2. Use tournament selection twice to select two parents, denoted as a and b."
   ]
  },
  {
   "cell_type": "code",
   "execution_count": 63,
   "metadata": {},
   "outputs": [],
   "source": [
    "def tournament_selection(population, fitness_value, tournament_size):\n",
    "    fit_value = -np.inf\n",
    "    res = None\n",
    "    for _ in range(tournament_size):\n",
    "        idx = np.random.randint(len(population)-1)\n",
    "        print(f\"random number : {idx}\")\n",
    "        # new_fit = fitness(population[idx], distance_metric=weight_metric)\n",
    "        new_fit = fitness_value[idx]    \n",
    "        if new_fit >= fit_value:\n",
    "            fit_value = new_fit\n",
    "            res = population[idx]\n",
    "        \n",
    "    return res, fit_value"
   ]
  },
  {
   "cell_type": "code",
   "execution_count": 64,
   "metadata": {},
   "outputs": [
    {
     "data": {
      "text/plain": [
       "[0.00014398848092152627,\n",
       " 0.00013442667025137788,\n",
       " 0.00014949917775452235,\n",
       " 0.00013743815283122595,\n",
       " 0.00016353229762878168,\n",
       " 0.00014232849416453175,\n",
       " 0.00013749484394335213,\n",
       " 0.00014757969303423848,\n",
       " 0.0001295672454003628,\n",
       " 0.0001344628210299852]"
      ]
     },
     "execution_count": 64,
     "metadata": {},
     "output_type": "execute_result"
    }
   ],
   "source": [
    "pop_d[1]"
   ]
  },
  {
   "cell_type": "code",
   "execution_count": 88,
   "metadata": {},
   "outputs": [
    {
     "data": {
      "text/plain": [
       "10"
      ]
     },
     "execution_count": 88,
     "metadata": {},
     "output_type": "execute_result"
    }
   ],
   "source": [
    "len(pop_d[1])"
   ]
  },
  {
   "cell_type": "code",
   "execution_count": 89,
   "metadata": {},
   "outputs": [
    {
     "ename": "IndexError",
     "evalue": "list index out of range",
     "output_type": "error",
     "traceback": [
      "\u001b[1;31m---------------------------------------------------------------------------\u001b[0m",
      "\u001b[1;31mIndexError\u001b[0m                                Traceback (most recent call last)",
      "\u001b[1;32md:\\USERS\\Exeter\\Courses\\Module ECMM409 (2023) Nature-Inspired Computation\\Nature_inspired\\project01\\exe.ipynb Cell 18\u001b[0m line \u001b[0;36m1\n\u001b[1;32m----> <a href='vscode-notebook-cell:/d%3A/USERS/Exeter/Courses/Module%20ECMM409%20%282023%29%20Nature-Inspired%20Computation/Nature_inspired/project01/exe.ipynb#Y101sZmlsZQ%3D%3D?line=0'>1</a>\u001b[0m pop_d[\u001b[39m1\u001b[39;49m][\u001b[39m10\u001b[39;49m]\n",
      "\u001b[1;31mIndexError\u001b[0m: list index out of range"
     ]
    }
   ],
   "source": [
    "pop_d[1][10]"
   ]
  },
  {
   "cell_type": "code",
   "execution_count": 86,
   "metadata": {},
   "outputs": [
    {
     "name": "stdout",
     "output_type": "stream",
     "text": [
      "random number : 8\n",
      "random number : 6\n",
      "random number : 4\n",
      "random number : 6\n",
      "random number : 2\n",
      "random number : 8\n",
      "random number : 1\n",
      "random number : 7\n"
     ]
    },
    {
     "data": {
      "text/plain": [
       "([0, 13, 6, 2, 9, 10, 3, 7, 4, 5, 11, 12, 8, 1],\n",
       " [3, 11, 0, 2, 5, 7, 6, 1, 9, 10, 4, 12, 8, 13])"
      ]
     },
     "execution_count": 86,
     "metadata": {},
     "output_type": "execute_result"
    }
   ],
   "source": [
    "a, _ = tournament_selection(pop_d[0], pop_d[1],4)\n",
    "b, _ = tournament_selection(pop_d[0], pop_d[1],4)\n",
    "a , b"
   ]
  },
  {
   "cell_type": "markdown",
   "metadata": {},
   "source": [
    "<b>3. apply a single-point crossover on these selected parents to generate two children, referred to as c and d.\n"
   ]
  },
  {
   "cell_type": "code",
   "execution_count": 18,
   "metadata": {},
   "outputs": [],
   "source": [
    "from typing import Optional\n",
    "\n",
    "def crossover(arg1, arg2, locus:Optional[int]=None):\n",
    "    n = len(arg1)\n",
    "    if locus is None:\n",
    "        locus = np.random.randint(n-1)\n",
    "    child1 = arg1[:locus] + arg2[locus:] \n",
    "    child2 = arg2[:locus] + arg1[locus:]\n",
    "    return child1, child2\n"
   ]
  },
  {
   "cell_type": "code",
   "execution_count": 19,
   "metadata": {},
   "outputs": [
    {
     "data": {
      "text/plain": [
       "([0, 13, 6, 2, 9, 10, 3, 7, 4, 5, 11, 12, 0, 6],\n",
       " [10, 8, 7, 11, 3, 13, 12, 4, 1, 5, 9, 2, 8, 1])"
      ]
     },
     "execution_count": 19,
     "metadata": {},
     "output_type": "execute_result"
    }
   ],
   "source": [
    "c, d = crossover(a,b)\n",
    "c, d"
   ]
  },
  {
   "cell_type": "markdown",
   "metadata": {},
   "source": [
    "<b>4. Run a mutation on c and d to give two new solutions e and f. Evaluate the fitness of e and f."
   ]
  },
  {
   "cell_type": "code",
   "execution_count": 20,
   "metadata": {},
   "outputs": [],
   "source": [
    "# def mutate(arg):\n",
    "#     \"\"\" mutate (swap operator)\n",
    "#         swapping between 2 indexes\n",
    "\n",
    "#     Args:\n",
    "#         arg (_type_): _description_\n",
    "#         mutate_rate (_type_): _description_\n",
    "\n",
    "#     Returns:\n",
    "#         crossover's child (List(int)): _description_ \n",
    "#     \"\"\"\n",
    "#     n = len(arg)\n",
    "#     idx1, idx2 = np.random.randint(n,size=2)\n",
    "#     res = np.array(arg).copy()\n",
    "#     res[idx1], res[idx2] = res[idx2], res[idx1]\n",
    "#     # print(f'swap string {arg} \\n at position [{idx1}] <----> [{idx2}] \\n result {res}')\n",
    "#     return res"
   ]
  },
  {
   "cell_type": "code",
   "execution_count": 21,
   "metadata": {},
   "outputs": [],
   "source": [
    "def mutate(arg):\n",
    "    \"\"\"\n",
    "    Mutate (swap operator): Swapping between 2 random indexes in a list.\n",
    "\n",
    "    Args:\n",
    "        arg (list): The list to perform the mutation on.\n",
    "\n",
    "    Returns:\n",
    "        list: The mutated list with elements swapped.\n",
    "    \"\"\"\n",
    "    n = len(arg)\n",
    "    if n < 2:\n",
    "        # Nothing to swap in a list with less than 2 elements\n",
    "        return arg\n",
    "    idx1, idx2 = np.random.choice(n, size=2, replace=False)\n",
    "    res = arg.copy()  \n",
    "    res[idx1], res[idx2] = res[idx2], res[idx1]  \n",
    "    return res\n",
    "\n",
    "def inversion(candidate):\n",
    "    temp = candidate.copy()\n",
    "    n = len(temp)\n",
    "    idx1, idx2 = np.random.choice(n, size=2, replace=False)\n",
    "    cutoff = temp[idx1:idx2+1]\n",
    "    temp[idx1:idx2] = cutoff[::-1]\n",
    "    return temp\n",
    "\n",
    "def scramble(candidate):\n",
    "    temp = candidate.copy()\n",
    "    n = len(temp)\n",
    "    idx1, idx2 = np.random.choice(n, size=2, replace=False)\n",
    "    scrambled = np.random.shuffle(temp[idx1:idx2+1])\n",
    "    temp[idx1:idx2+1] = scrambled\n",
    "    return temp\n",
    "\n",
    "def multiple_mutate(arg, num_mutate:int=2):\n",
    "    temp = arg.copy()\n",
    "    \n",
    "    for _ in range(num_mutate):\n",
    "        temp = mutate(temp)\n",
    "    return temp"
   ]
  },
  {
   "cell_type": "code",
   "execution_count": 22,
   "metadata": {},
   "outputs": [],
   "source": [
    "x= [1,2,3,4,5,6,7]\n",
    "n = len(x)"
   ]
  },
  {
   "cell_type": "code",
   "execution_count": 23,
   "metadata": {},
   "outputs": [
    {
     "data": {
      "text/plain": [
       "[3, 4]"
      ]
     },
     "execution_count": 23,
     "metadata": {},
     "output_type": "execute_result"
    }
   ],
   "source": [
    "x[2:4]"
   ]
  },
  {
   "cell_type": "code",
   "execution_count": 24,
   "metadata": {},
   "outputs": [
    {
     "data": {
      "text/plain": [
       "[7, 6, 5, 4, 3, 2, 1]"
      ]
     },
     "execution_count": 24,
     "metadata": {},
     "output_type": "execute_result"
    }
   ],
   "source": [
    "x[::-1]"
   ]
  },
  {
   "cell_type": "code",
   "execution_count": 25,
   "metadata": {},
   "outputs": [],
   "source": [
    "s,e = 1,4"
   ]
  },
  {
   "cell_type": "code",
   "execution_count": 26,
   "metadata": {},
   "outputs": [
    {
     "data": {
      "text/plain": [
       "[2, 3, 4]"
      ]
     },
     "execution_count": 26,
     "metadata": {},
     "output_type": "execute_result"
    }
   ],
   "source": [
    "x[s:e]"
   ]
  },
  {
   "cell_type": "code",
   "execution_count": 27,
   "metadata": {},
   "outputs": [
    {
     "data": {
      "text/plain": [
       "7"
      ]
     },
     "execution_count": 27,
     "metadata": {},
     "output_type": "execute_result"
    }
   ],
   "source": [
    "n"
   ]
  },
  {
   "cell_type": "code",
   "execution_count": 28,
   "metadata": {},
   "outputs": [
    {
     "data": {
      "text/plain": [
       "[3, 4, 5, 6, 7]"
      ]
     },
     "execution_count": 28,
     "metadata": {},
     "output_type": "execute_result"
    }
   ],
   "source": [
    "x[2:n]"
   ]
  },
  {
   "cell_type": "code",
   "execution_count": 29,
   "metadata": {},
   "outputs": [],
   "source": [
    "def multiple_swap(candidate1,candidate2):\n",
    "    pass\n",
    "    "
   ]
  },
  {
   "cell_type": "code",
   "execution_count": 30,
   "metadata": {},
   "outputs": [
    {
     "data": {
      "text/plain": [
       "(False, False)"
      ]
     },
     "execution_count": 30,
     "metadata": {},
     "output_type": "execute_result"
    }
   ],
   "source": [
    "e = mutate(c)\n",
    "f = mutate(d)\n",
    "c == e , f == d"
   ]
  },
  {
   "cell_type": "code",
   "execution_count": 31,
   "metadata": {},
   "outputs": [
    {
     "data": {
      "text/plain": [
       "([0, 13, 6, 2, 9, 10, 3, 7, 4, 5, 11, 12, 0, 6],\n",
       " [10, 8, 7, 11, 3, 13, 12, 4, 1, 5, 9, 2, 8, 1])"
      ]
     },
     "execution_count": 31,
     "metadata": {},
     "output_type": "execute_result"
    }
   ],
   "source": [
    "c, d"
   ]
  },
  {
   "cell_type": "code",
   "execution_count": 32,
   "metadata": {},
   "outputs": [
    {
     "data": {
      "text/plain": [
       "([6, 13, 0, 2, 9, 10, 3, 7, 4, 5, 11, 12, 0, 6],\n",
       " [10, 8, 7, 11, 3, 13, 12, 4, 1, 8, 9, 2, 5, 1])"
      ]
     },
     "execution_count": 32,
     "metadata": {},
     "output_type": "execute_result"
    }
   ],
   "source": [
    "e, f"
   ]
  },
  {
   "cell_type": "code",
   "execution_count": 33,
   "metadata": {},
   "outputs": [
    {
     "data": {
      "text/plain": [
       "(-5.562684646268003e-309, 0.00016897600540723216)"
      ]
     },
     "execution_count": 33,
     "metadata": {},
     "output_type": "execute_result"
    }
   ],
   "source": [
    "(fitness(e, weight_metric)), fitness(f, weight_metric)"
   ]
  },
  {
   "cell_type": "code",
   "execution_count": 34,
   "metadata": {},
   "outputs": [
    {
     "data": {
      "text/plain": [
       "[0.00014398848092152627,\n",
       " 0.00013442667025137788,\n",
       " 0.00014949917775452235,\n",
       " 0.00013743815283122595,\n",
       " 0.00016353229762878168,\n",
       " 0.00014232849416453175,\n",
       " 0.00013749484394335213,\n",
       " 0.00014757969303423848,\n",
       " 0.0001295672454003628,\n",
       " 0.0001344628210299852]"
      ]
     },
     "execution_count": 34,
     "metadata": {},
     "output_type": "execute_result"
    }
   ],
   "source": [
    "fit1"
   ]
  },
  {
   "cell_type": "code",
   "execution_count": 35,
   "metadata": {},
   "outputs": [
    {
     "data": {
      "text/plain": [
       "0.0001295672454003628"
      ]
     },
     "execution_count": 35,
     "metadata": {},
     "output_type": "execute_result"
    }
   ],
   "source": [
    "min(fit1)"
   ]
  },
  {
   "cell_type": "code",
   "execution_count": null,
   "metadata": {},
   "outputs": [],
   "source": []
  },
  {
   "cell_type": "markdown",
   "metadata": {},
   "source": [
    "<b>5. Run replacement function, firstly for e, then f."
   ]
  },
  {
   "cell_type": "code",
   "execution_count": 36,
   "metadata": {},
   "outputs": [],
   "source": [
    "from typing import Literal\n",
    "\n",
    "def replace_firstweak(population, candidate):\n",
    "    pop_temp = population.copy()\n",
    "    cand_fitness = fitness(candidate, weight_metric)\n",
    "    for i, pop in enumerate(pop_temp):\n",
    "        if cand_fitness >= fitness(pop, weight_metric):\n",
    "            pop_temp[i] = candidate\n",
    "    return pop_temp\n",
    "\n",
    "def replace_weakest(population, candidate):\n",
    "    pop_temp = population.copy()\n",
    "    cand_fitness = fitness(candidate, weight_metric)\n",
    "    pop_fitness = [fitness(pop, weight_metric) for pop in pop_temp]\n",
    "    idx = np.argsort(pop_fitness)\n",
    "    for i in idx:\n",
    "        if pop_fitness[i] <= cand_fitness:\n",
    "            pop_temp[i] = candidate\n",
    "            return pop_temp\n",
    "        else:\n",
    "            return pop_temp\n",
    "    return pop_temp"
   ]
  },
  {
   "cell_type": "code",
   "execution_count": 37,
   "metadata": {},
   "outputs": [
    {
     "data": {
      "text/plain": [
       "[[10, 8, 7, 11, 3, 13, 12, 4, 1, 5, 9, 2, 0, 6],\n",
       " [9, 7, 5, 1, 4, 6, 0, 8, 2, 10, 3, 12, 11, 13],\n",
       " [3, 11, 0, 2, 5, 7, 6, 1, 9, 10, 4, 12, 8, 13],\n",
       " [10, 1, 7, 5, 12, 6, 3, 11, 0, 2, 9, 4, 8, 13],\n",
       " [0, 13, 6, 2, 9, 10, 3, 7, 4, 5, 11, 12, 8, 1],\n",
       " [6, 12, 9, 1, 3, 2, 10, 5, 7, 4, 0, 8, 11, 13],\n",
       " [10, 3, 5, 2, 9, 8, 6, 13, 1, 11, 0, 4, 7, 12],\n",
       " [0, 1, 8, 4, 7, 13, 2, 10, 12, 11, 3, 5, 9, 6],\n",
       " [1, 13, 8, 10, 5, 6, 0, 2, 9, 3, 12, 4, 7, 11],\n",
       " [1, 11, 4, 7, 12, 9, 3, 10, 2, 13, 5, 8, 6, 0]]"
      ]
     },
     "execution_count": 37,
     "metadata": {},
     "output_type": "execute_result"
    }
   ],
   "source": [
    "pop1"
   ]
  },
  {
   "cell_type": "code",
   "execution_count": 38,
   "metadata": {},
   "outputs": [
    {
     "data": {
      "text/plain": [
       "[[10, 8, 7, 11, 3, 13, 12, 4, 1, 5, 9, 2, 0, 6],\n",
       " [9, 7, 5, 1, 4, 6, 0, 8, 2, 10, 3, 12, 11, 13],\n",
       " [3, 11, 0, 2, 5, 7, 6, 1, 9, 10, 4, 12, 8, 13],\n",
       " [10, 1, 7, 5, 12, 6, 3, 11, 0, 2, 9, 4, 8, 13],\n",
       " [0, 13, 6, 2, 9, 10, 3, 7, 4, 5, 11, 12, 8, 1],\n",
       " [6, 12, 9, 1, 3, 2, 10, 5, 7, 4, 0, 8, 11, 13],\n",
       " [10, 3, 5, 2, 9, 8, 6, 13, 1, 11, 0, 4, 7, 12],\n",
       " [0, 1, 8, 4, 7, 13, 2, 10, 12, 11, 3, 5, 9, 6],\n",
       " [1, 13, 8, 10, 5, 6, 0, 2, 9, 3, 12, 4, 7, 11],\n",
       " [1, 11, 4, 7, 12, 9, 3, 10, 2, 13, 5, 8, 6, 0]]"
      ]
     },
     "execution_count": 38,
     "metadata": {},
     "output_type": "execute_result"
    }
   ],
   "source": [
    "pop_replaced = replace_firstweak(pop1, e)\n",
    "pop_replaced"
   ]
  },
  {
   "cell_type": "code",
   "execution_count": 39,
   "metadata": {},
   "outputs": [
    {
     "data": {
      "text/plain": [
       "[[10, 8, 7, 11, 3, 13, 12, 4, 1, 5, 9, 2, 0, 6],\n",
       " [9, 7, 5, 1, 4, 6, 0, 8, 2, 10, 3, 12, 11, 13],\n",
       " [3, 11, 0, 2, 5, 7, 6, 1, 9, 10, 4, 12, 8, 13],\n",
       " [10, 1, 7, 5, 12, 6, 3, 11, 0, 2, 9, 4, 8, 13],\n",
       " [0, 13, 6, 2, 9, 10, 3, 7, 4, 5, 11, 12, 8, 1],\n",
       " [6, 12, 9, 1, 3, 2, 10, 5, 7, 4, 0, 8, 11, 13],\n",
       " [10, 3, 5, 2, 9, 8, 6, 13, 1, 11, 0, 4, 7, 12],\n",
       " [0, 1, 8, 4, 7, 13, 2, 10, 12, 11, 3, 5, 9, 6],\n",
       " [1, 13, 8, 10, 5, 6, 0, 2, 9, 3, 12, 4, 7, 11],\n",
       " [1, 11, 4, 7, 12, 9, 3, 10, 2, 13, 5, 8, 6, 0]]"
      ]
     },
     "execution_count": 39,
     "metadata": {},
     "output_type": "execute_result"
    }
   ],
   "source": [
    "pop1"
   ]
  },
  {
   "cell_type": "code",
   "execution_count": 40,
   "metadata": {},
   "outputs": [
    {
     "data": {
      "text/plain": [
       "[10, 8, 7, 11, 3, 13, 12, 4, 1, 8, 9, 2, 5, 1]"
      ]
     },
     "execution_count": 40,
     "metadata": {},
     "output_type": "execute_result"
    }
   ],
   "source": [
    "f"
   ]
  },
  {
   "cell_type": "code",
   "execution_count": 41,
   "metadata": {},
   "outputs": [
    {
     "data": {
      "text/plain": [
       "[[10, 8, 7, 11, 3, 13, 12, 4, 1, 8, 9, 2, 5, 1],\n",
       " [10, 8, 7, 11, 3, 13, 12, 4, 1, 8, 9, 2, 5, 1],\n",
       " [10, 8, 7, 11, 3, 13, 12, 4, 1, 8, 9, 2, 5, 1],\n",
       " [10, 8, 7, 11, 3, 13, 12, 4, 1, 8, 9, 2, 5, 1],\n",
       " [10, 8, 7, 11, 3, 13, 12, 4, 1, 8, 9, 2, 5, 1],\n",
       " [10, 8, 7, 11, 3, 13, 12, 4, 1, 8, 9, 2, 5, 1],\n",
       " [10, 8, 7, 11, 3, 13, 12, 4, 1, 8, 9, 2, 5, 1],\n",
       " [10, 8, 7, 11, 3, 13, 12, 4, 1, 8, 9, 2, 5, 1],\n",
       " [10, 8, 7, 11, 3, 13, 12, 4, 1, 8, 9, 2, 5, 1],\n",
       " [10, 8, 7, 11, 3, 13, 12, 4, 1, 8, 9, 2, 5, 1]]"
      ]
     },
     "execution_count": 41,
     "metadata": {},
     "output_type": "execute_result"
    }
   ],
   "source": [
    "pop_replaced = replace_firstweak(pop_replaced, f)\n",
    "pop_replaced"
   ]
  },
  {
   "cell_type": "markdown",
   "metadata": {},
   "source": [
    "<b>6. If a termination criterion has been reached, then stop. Otherwise return to step 2."
   ]
  },
  {
   "cell_type": "code",
   "execution_count": 49,
   "metadata": {},
   "outputs": [],
   "source": [
    "# TODO\n",
    "# suppose every generation must ouccr crossover and mutation incidents\n",
    "# so the the p_repro, p_crossover, p_mutate is 100% where p comes from probability\n",
    "def search(max_gens, pop_size, tournament_size, distance_metric):\n",
    "\n",
    "    populations = generate_population(distance_metric=distance_metric, pop_size=pop_size)\n",
    "\n",
    "    populations_fitness = [fitness(population, distance_metric) for population in populations]\n",
    "        \n",
    "    for gen in range(max_gens)\n",
    "        # apply selection operator \n",
    "        a , _ = tournament_selection(population=populations, fitness_value=populations_fitness, tournament_size=tournament_size)\n",
    "        b , _ = tournament_selection(population=populations, fitness_value=populations_fitness, tournament_size=tournament_size)\n",
    "        # apply crossover operator\n",
    "        c , d = crossover(a,b)\n",
    "        # apply mutation operator\n",
    "        e, f = mutate(c), mutate(d)\n",
    "        # apply replacement operator\n",
    "        populations = replace_firstweak(population=populations, candidate=e)\n",
    "        populations_fitness = fitness(populations, distance_metric)\n",
    "        populations = replace_firstweak(population=populations, candidate=f)\n",
    "        populations_fitness = fitness(populations, distance_metric)\n",
    "\n",
    "    return populations , populations_fitness\n",
    "    "
   ]
  },
  {
   "cell_type": "code",
   "execution_count": 90,
   "metadata": {},
   "outputs": [
    {
     "name": "stdout",
     "output_type": "stream",
     "text": [
      "random number : 36\n",
      "random number : 24\n",
      "random number : 1\n",
      "random number : 42\n",
      "random number : 38\n",
      "random number : 38\n",
      "random number : 2\n",
      "random number : 37\n",
      "random number : 4\n",
      "random number : 4\n",
      "random number : 19\n"
     ]
    },
    {
     "name": "stderr",
     "output_type": "stream",
     "text": [
      "C:\\Users\\USER\\AppData\\Local\\Temp\\ipykernel_7216\\2508341494.py:11: RuntimeWarning: overflow encountered in add\n",
      "  total_distance += distance_metric[travel_list[i],travel_list[i+1]]\n"
     ]
    },
    {
     "ename": "IndexError",
     "evalue": "index 19 is out of bounds for axis 0 with size 14",
     "output_type": "error",
     "traceback": [
      "\u001b[1;31m---------------------------------------------------------------------------\u001b[0m",
      "\u001b[1;31mIndexError\u001b[0m                                Traceback (most recent call last)",
      "\u001b[1;32md:\\USERS\\Exeter\\Courses\\Module ECMM409 (2023) Nature-Inspired Computation\\Nature_inspired\\project01\\exe.ipynb Cell 50\u001b[0m line \u001b[0;36m1\n\u001b[1;32m----> <a href='vscode-notebook-cell:/d%3A/USERS/Exeter/Courses/Module%20ECMM409%20%282023%29%20Nature-Inspired%20Computation/Nature_inspired/project01/exe.ipynb#X64sZmlsZQ%3D%3D?line=0'>1</a>\u001b[0m run01 \u001b[39m=\u001b[39m search(\u001b[39m10000\u001b[39;49m, \u001b[39m50\u001b[39;49m, \u001b[39m5\u001b[39;49m, weight_metric)\n\u001b[0;32m      <a href='vscode-notebook-cell:/d%3A/USERS/Exeter/Courses/Module%20ECMM409%20%282023%29%20Nature-Inspired%20Computation/Nature_inspired/project01/exe.ipynb#X64sZmlsZQ%3D%3D?line=1'>2</a>\u001b[0m run01\n",
      "\u001b[1;32md:\\USERS\\Exeter\\Courses\\Module ECMM409 (2023) Nature-Inspired Computation\\Nature_inspired\\project01\\exe.ipynb Cell 50\u001b[0m line \u001b[0;36m1\n\u001b[0;32m      <a href='vscode-notebook-cell:/d%3A/USERS/Exeter/Courses/Module%20ECMM409%20%282023%29%20Nature-Inspired%20Computation/Nature_inspired/project01/exe.ipynb#X64sZmlsZQ%3D%3D?line=7'>8</a>\u001b[0m populations_fitness \u001b[39m=\u001b[39m [fitness(population, distance_metric) \u001b[39mfor\u001b[39;00m population \u001b[39min\u001b[39;00m populations]\n\u001b[0;32m     <a href='vscode-notebook-cell:/d%3A/USERS/Exeter/Courses/Module%20ECMM409%20%282023%29%20Nature-Inspired%20Computation/Nature_inspired/project01/exe.ipynb#X64sZmlsZQ%3D%3D?line=9'>10</a>\u001b[0m \u001b[39mfor\u001b[39;00m gen \u001b[39min\u001b[39;00m \u001b[39mrange\u001b[39m(max_gens):\n\u001b[0;32m     <a href='vscode-notebook-cell:/d%3A/USERS/Exeter/Courses/Module%20ECMM409%20%282023%29%20Nature-Inspired%20Computation/Nature_inspired/project01/exe.ipynb#X64sZmlsZQ%3D%3D?line=10'>11</a>\u001b[0m     \u001b[39m# apply selection operator \u001b[39;00m\n\u001b[1;32m---> <a href='vscode-notebook-cell:/d%3A/USERS/Exeter/Courses/Module%20ECMM409%20%282023%29%20Nature-Inspired%20Computation/Nature_inspired/project01/exe.ipynb#X64sZmlsZQ%3D%3D?line=11'>12</a>\u001b[0m     a , _ \u001b[39m=\u001b[39m tournament_selection(population\u001b[39m=\u001b[39;49mpopulations, fitness_value\u001b[39m=\u001b[39;49mpopulations_fitness, tournament_size\u001b[39m=\u001b[39;49mtournament_size)\n\u001b[0;32m     <a href='vscode-notebook-cell:/d%3A/USERS/Exeter/Courses/Module%20ECMM409%20%282023%29%20Nature-Inspired%20Computation/Nature_inspired/project01/exe.ipynb#X64sZmlsZQ%3D%3D?line=12'>13</a>\u001b[0m     b , _ \u001b[39m=\u001b[39m tournament_selection(population\u001b[39m=\u001b[39mpopulations, fitness_value\u001b[39m=\u001b[39mpopulations_fitness, tournament_size\u001b[39m=\u001b[39mtournament_size)\n\u001b[0;32m     <a href='vscode-notebook-cell:/d%3A/USERS/Exeter/Courses/Module%20ECMM409%20%282023%29%20Nature-Inspired%20Computation/Nature_inspired/project01/exe.ipynb#X64sZmlsZQ%3D%3D?line=13'>14</a>\u001b[0m     \u001b[39m# apply crossover operator\u001b[39;00m\n",
      "\u001b[1;32md:\\USERS\\Exeter\\Courses\\Module ECMM409 (2023) Nature-Inspired Computation\\Nature_inspired\\project01\\exe.ipynb Cell 50\u001b[0m line \u001b[0;36m8\n\u001b[0;32m      <a href='vscode-notebook-cell:/d%3A/USERS/Exeter/Courses/Module%20ECMM409%20%282023%29%20Nature-Inspired%20Computation/Nature_inspired/project01/exe.ipynb#X64sZmlsZQ%3D%3D?line=5'>6</a>\u001b[0m \u001b[39mprint\u001b[39m(\u001b[39mf\u001b[39m\u001b[39m\"\u001b[39m\u001b[39mrandom number : \u001b[39m\u001b[39m{\u001b[39;00midx\u001b[39m}\u001b[39;00m\u001b[39m\"\u001b[39m)\n\u001b[0;32m      <a href='vscode-notebook-cell:/d%3A/USERS/Exeter/Courses/Module%20ECMM409%20%282023%29%20Nature-Inspired%20Computation/Nature_inspired/project01/exe.ipynb#X64sZmlsZQ%3D%3D?line=6'>7</a>\u001b[0m \u001b[39m# new_fit = fitness(population[idx], distance_metric=weight_metric)\u001b[39;00m\n\u001b[1;32m----> <a href='vscode-notebook-cell:/d%3A/USERS/Exeter/Courses/Module%20ECMM409%20%282023%29%20Nature-Inspired%20Computation/Nature_inspired/project01/exe.ipynb#X64sZmlsZQ%3D%3D?line=7'>8</a>\u001b[0m new_fit \u001b[39m=\u001b[39m fitness_value[idx]    \n\u001b[0;32m      <a href='vscode-notebook-cell:/d%3A/USERS/Exeter/Courses/Module%20ECMM409%20%282023%29%20Nature-Inspired%20Computation/Nature_inspired/project01/exe.ipynb#X64sZmlsZQ%3D%3D?line=8'>9</a>\u001b[0m \u001b[39mif\u001b[39;00m new_fit \u001b[39m>\u001b[39m\u001b[39m=\u001b[39m fit_value:\n\u001b[0;32m     <a href='vscode-notebook-cell:/d%3A/USERS/Exeter/Courses/Module%20ECMM409%20%282023%29%20Nature-Inspired%20Computation/Nature_inspired/project01/exe.ipynb#X64sZmlsZQ%3D%3D?line=9'>10</a>\u001b[0m     fit_value \u001b[39m=\u001b[39m new_fit\n",
      "\u001b[1;31mIndexError\u001b[0m: index 19 is out of bounds for axis 0 with size 14"
     ]
    }
   ],
   "source": [
    "run01 = search(10000, 50, 5, weight_metric)\n",
    "run01"
   ]
  },
  {
   "cell_type": "code",
   "execution_count": null,
   "metadata": {},
   "outputs": [],
   "source": []
  },
  {
   "cell_type": "markdown",
   "metadata": {},
   "source": [
    "## TEST02"
   ]
  },
  {
   "cell_type": "code",
   "execution_count": 91,
   "metadata": {},
   "outputs": [],
   "source": [
    "sample = [\n",
    "    [0,2,1,2,1],\n",
    "    [2,0,2,2,2],\n",
    "    [1,2,0,2,1],\n",
    "    [2,2,2,0,2],\n",
    "    [1,2,1,2,0]\n",
    "]"
   ]
  },
  {
   "cell_type": "code",
   "execution_count": 98,
   "metadata": {},
   "outputs": [
    {
     "data": {
      "text/plain": [
       "[[1, 0, 3, 2, 4],\n",
       " [1, 3, 2, 4, 0],\n",
       " [0, 4, 3, 1, 2],\n",
       " [1, 0, 4, 2, 3],\n",
       " [0, 2, 1, 3, 4],\n",
       " [0, 1, 3, 2, 4],\n",
       " [0, 4, 2, 3, 1],\n",
       " [3, 2, 0, 1, 4],\n",
       " [1, 3, 0, 4, 2],\n",
       " [4, 3, 1, 0, 2]]"
      ]
     },
     "execution_count": 98,
     "metadata": {},
     "output_type": "execute_result"
    }
   ],
   "source": [
    "pop_sample = generate_population(distance_metric=sample, pop_size=10)\n",
    "pop_sample"
   ]
  },
  {
   "cell_type": "code",
   "execution_count": 104,
   "metadata": {},
   "outputs": [
    {
     "data": {
      "text/plain": [
       "(1, 0)"
      ]
     },
     "execution_count": 104,
     "metadata": {},
     "output_type": "execute_result"
    }
   ],
   "source": [
    "pop_sample[0][0],pop_sample[0][1]"
   ]
  },
  {
   "cell_type": "code",
   "execution_count": 102,
   "metadata": {},
   "outputs": [
    {
     "ename": "TypeError",
     "evalue": "list indices must be integers or slices, not tuple",
     "output_type": "error",
     "traceback": [
      "\u001b[1;31m---------------------------------------------------------------------------\u001b[0m",
      "\u001b[1;31mTypeError\u001b[0m                                 Traceback (most recent call last)",
      "\u001b[1;32md:\\USERS\\Exeter\\Courses\\Module ECMM409 (2023) Nature-Inspired Computation\\Nature_inspired\\project01\\exe.ipynb Cell 57\u001b[0m line \u001b[0;36m1\n\u001b[1;32m----> <a href='vscode-notebook-cell:/d%3A/USERS/Exeter/Courses/Module%20ECMM409%20%282023%29%20Nature-Inspired%20Computation/Nature_inspired/project01/exe.ipynb#Y114sZmlsZQ%3D%3D?line=0'>1</a>\u001b[0m fitness([\u001b[39m1\u001b[39;49m,\u001b[39m0\u001b[39;49m,\u001b[39m3\u001b[39;49m,\u001b[39m2\u001b[39;49m,\u001b[39m4\u001b[39;49m],sample)\n",
      "\u001b[1;32md:\\USERS\\Exeter\\Courses\\Module ECMM409 (2023) Nature-Inspired Computation\\Nature_inspired\\project01\\exe.ipynb Cell 57\u001b[0m line \u001b[0;36m1\n\u001b[0;32m     <a href='vscode-notebook-cell:/d%3A/USERS/Exeter/Courses/Module%20ECMM409%20%282023%29%20Nature-Inspired%20Computation/Nature_inspired/project01/exe.ipynb#Y114sZmlsZQ%3D%3D?line=14'>15</a>\u001b[0m \u001b[39mdef\u001b[39;00m \u001b[39mfitness\u001b[39m(travel_list, distance_metric):\n\u001b[1;32m---> <a href='vscode-notebook-cell:/d%3A/USERS/Exeter/Courses/Module%20ECMM409%20%282023%29%20Nature-Inspired%20Computation/Nature_inspired/project01/exe.ipynb#Y114sZmlsZQ%3D%3D?line=15'>16</a>\u001b[0m     \u001b[39mreturn\u001b[39;00m \u001b[39m1\u001b[39m \u001b[39m/\u001b[39m cost_function(travel_list, distance_metric)\n",
      "\u001b[1;32md:\\USERS\\Exeter\\Courses\\Module ECMM409 (2023) Nature-Inspired Computation\\Nature_inspired\\project01\\exe.ipynb Cell 57\u001b[0m line \u001b[0;36m1\n\u001b[0;32m      <a href='vscode-notebook-cell:/d%3A/USERS/Exeter/Courses/Module%20ECMM409%20%282023%29%20Nature-Inspired%20Computation/Nature_inspired/project01/exe.ipynb#Y114sZmlsZQ%3D%3D?line=8'>9</a>\u001b[0m total_distance \u001b[39m=\u001b[39m \u001b[39m0\u001b[39m\n\u001b[0;32m     <a href='vscode-notebook-cell:/d%3A/USERS/Exeter/Courses/Module%20ECMM409%20%282023%29%20Nature-Inspired%20Computation/Nature_inspired/project01/exe.ipynb#Y114sZmlsZQ%3D%3D?line=9'>10</a>\u001b[0m \u001b[39mfor\u001b[39;00m i \u001b[39min\u001b[39;00m \u001b[39mrange\u001b[39m(\u001b[39mlen\u001b[39m(travel_list)\u001b[39m-\u001b[39m\u001b[39m1\u001b[39m):\n\u001b[1;32m---> <a href='vscode-notebook-cell:/d%3A/USERS/Exeter/Courses/Module%20ECMM409%20%282023%29%20Nature-Inspired%20Computation/Nature_inspired/project01/exe.ipynb#Y114sZmlsZQ%3D%3D?line=10'>11</a>\u001b[0m     total_distance \u001b[39m+\u001b[39m\u001b[39m=\u001b[39m distance_metric[travel_list[i],travel_list[i\u001b[39m+\u001b[39;49m\u001b[39m1\u001b[39;49m]]\n\u001b[0;32m     <a href='vscode-notebook-cell:/d%3A/USERS/Exeter/Courses/Module%20ECMM409%20%282023%29%20Nature-Inspired%20Computation/Nature_inspired/project01/exe.ipynb#Y114sZmlsZQ%3D%3D?line=11'>12</a>\u001b[0m total_distance \u001b[39m+\u001b[39m\u001b[39m=\u001b[39m distance_metric[travel_list[\u001b[39m-\u001b[39m\u001b[39m1\u001b[39m],travel_list[\u001b[39m0\u001b[39m]]\n\u001b[0;32m     <a href='vscode-notebook-cell:/d%3A/USERS/Exeter/Courses/Module%20ECMM409%20%282023%29%20Nature-Inspired%20Computation/Nature_inspired/project01/exe.ipynb#Y114sZmlsZQ%3D%3D?line=12'>13</a>\u001b[0m \u001b[39mreturn\u001b[39;00m total_distance\n",
      "\u001b[1;31mTypeError\u001b[0m: list indices must be integers or slices, not tuple"
     ]
    }
   ],
   "source": [
    "fitness([1,0,3,2,4],sample)"
   ]
  },
  {
   "cell_type": "code",
   "execution_count": 92,
   "metadata": {},
   "outputs": [],
   "source": [
    "from core.genetic_fn import generate_population"
   ]
  },
  {
   "cell_type": "code",
   "execution_count": 95,
   "metadata": {},
   "outputs": [],
   "source": [
    "def search(max_gens, pop_size, tournament_size, distance_metric):\n",
    "    population = generate_population(distance_metric=distance_metric, pop_size=pop_size)\n",
    "    fitness_value = [fitness(travel_list=pop, distance_metric=distance_metric) for pop in population]\n",
    "\n",
    "    return population, fitness_value\n",
    "\n"
   ]
  },
  {
   "cell_type": "code",
   "execution_count": 96,
   "metadata": {},
   "outputs": [
    {
     "ename": "TypeError",
     "evalue": "list indices must be integers or slices, not tuple",
     "output_type": "error",
     "traceback": [
      "\u001b[1;31m---------------------------------------------------------------------------\u001b[0m",
      "\u001b[1;31mTypeError\u001b[0m                                 Traceback (most recent call last)",
      "\u001b[1;32md:\\USERS\\Exeter\\Courses\\Module ECMM409 (2023) Nature-Inspired Computation\\Nature_inspired\\project01\\exe.ipynb Cell 57\u001b[0m line \u001b[0;36m1\n\u001b[1;32m----> <a href='vscode-notebook-cell:/d%3A/USERS/Exeter/Courses/Module%20ECMM409%20%282023%29%20Nature-Inspired%20Computation/Nature_inspired/project01/exe.ipynb#Y111sZmlsZQ%3D%3D?line=0'>1</a>\u001b[0m search(\u001b[39m100\u001b[39;49m,\u001b[39m10\u001b[39;49m,\u001b[39m4\u001b[39;49m,sample)\n",
      "\u001b[1;32md:\\USERS\\Exeter\\Courses\\Module ECMM409 (2023) Nature-Inspired Computation\\Nature_inspired\\project01\\exe.ipynb Cell 57\u001b[0m line \u001b[0;36m3\n\u001b[0;32m      <a href='vscode-notebook-cell:/d%3A/USERS/Exeter/Courses/Module%20ECMM409%20%282023%29%20Nature-Inspired%20Computation/Nature_inspired/project01/exe.ipynb#Y111sZmlsZQ%3D%3D?line=0'>1</a>\u001b[0m \u001b[39mdef\u001b[39;00m \u001b[39msearch\u001b[39m(max_gens, pop_size, tournament_size, distance_metric):\n\u001b[0;32m      <a href='vscode-notebook-cell:/d%3A/USERS/Exeter/Courses/Module%20ECMM409%20%282023%29%20Nature-Inspired%20Computation/Nature_inspired/project01/exe.ipynb#Y111sZmlsZQ%3D%3D?line=1'>2</a>\u001b[0m     population \u001b[39m=\u001b[39m generate_population(distance_metric\u001b[39m=\u001b[39mdistance_metric, pop_size\u001b[39m=\u001b[39mpop_size)\n\u001b[1;32m----> <a href='vscode-notebook-cell:/d%3A/USERS/Exeter/Courses/Module%20ECMM409%20%282023%29%20Nature-Inspired%20Computation/Nature_inspired/project01/exe.ipynb#Y111sZmlsZQ%3D%3D?line=2'>3</a>\u001b[0m     fitness_value \u001b[39m=\u001b[39m [fitness(travel_list\u001b[39m=\u001b[39;49mpop, distance_metric\u001b[39m=\u001b[39;49mdistance_metric) \u001b[39mfor\u001b[39;49;00m pop \u001b[39min\u001b[39;49;00m population]\n\u001b[0;32m      <a href='vscode-notebook-cell:/d%3A/USERS/Exeter/Courses/Module%20ECMM409%20%282023%29%20Nature-Inspired%20Computation/Nature_inspired/project01/exe.ipynb#Y111sZmlsZQ%3D%3D?line=4'>5</a>\u001b[0m     \u001b[39mreturn\u001b[39;00m population, fitness_value\n",
      "\u001b[1;32md:\\USERS\\Exeter\\Courses\\Module ECMM409 (2023) Nature-Inspired Computation\\Nature_inspired\\project01\\exe.ipynb Cell 57\u001b[0m line \u001b[0;36m3\n\u001b[0;32m      <a href='vscode-notebook-cell:/d%3A/USERS/Exeter/Courses/Module%20ECMM409%20%282023%29%20Nature-Inspired%20Computation/Nature_inspired/project01/exe.ipynb#Y111sZmlsZQ%3D%3D?line=0'>1</a>\u001b[0m \u001b[39mdef\u001b[39;00m \u001b[39msearch\u001b[39m(max_gens, pop_size, tournament_size, distance_metric):\n\u001b[0;32m      <a href='vscode-notebook-cell:/d%3A/USERS/Exeter/Courses/Module%20ECMM409%20%282023%29%20Nature-Inspired%20Computation/Nature_inspired/project01/exe.ipynb#Y111sZmlsZQ%3D%3D?line=1'>2</a>\u001b[0m     population \u001b[39m=\u001b[39m generate_population(distance_metric\u001b[39m=\u001b[39mdistance_metric, pop_size\u001b[39m=\u001b[39mpop_size)\n\u001b[1;32m----> <a href='vscode-notebook-cell:/d%3A/USERS/Exeter/Courses/Module%20ECMM409%20%282023%29%20Nature-Inspired%20Computation/Nature_inspired/project01/exe.ipynb#Y111sZmlsZQ%3D%3D?line=2'>3</a>\u001b[0m     fitness_value \u001b[39m=\u001b[39m [fitness(travel_list\u001b[39m=\u001b[39;49mpop, distance_metric\u001b[39m=\u001b[39;49mdistance_metric) \u001b[39mfor\u001b[39;00m pop \u001b[39min\u001b[39;00m population]\n\u001b[0;32m      <a href='vscode-notebook-cell:/d%3A/USERS/Exeter/Courses/Module%20ECMM409%20%282023%29%20Nature-Inspired%20Computation/Nature_inspired/project01/exe.ipynb#Y111sZmlsZQ%3D%3D?line=4'>5</a>\u001b[0m     \u001b[39mreturn\u001b[39;00m population, fitness_value\n",
      "\u001b[1;32md:\\USERS\\Exeter\\Courses\\Module ECMM409 (2023) Nature-Inspired Computation\\Nature_inspired\\project01\\exe.ipynb Cell 57\u001b[0m line \u001b[0;36m1\n\u001b[0;32m     <a href='vscode-notebook-cell:/d%3A/USERS/Exeter/Courses/Module%20ECMM409%20%282023%29%20Nature-Inspired%20Computation/Nature_inspired/project01/exe.ipynb#Y111sZmlsZQ%3D%3D?line=14'>15</a>\u001b[0m \u001b[39mdef\u001b[39;00m \u001b[39mfitness\u001b[39m(travel_list, distance_metric):\n\u001b[1;32m---> <a href='vscode-notebook-cell:/d%3A/USERS/Exeter/Courses/Module%20ECMM409%20%282023%29%20Nature-Inspired%20Computation/Nature_inspired/project01/exe.ipynb#Y111sZmlsZQ%3D%3D?line=15'>16</a>\u001b[0m     \u001b[39mreturn\u001b[39;00m \u001b[39m1\u001b[39m \u001b[39m/\u001b[39m cost_function(travel_list, distance_metric)\n",
      "\u001b[1;32md:\\USERS\\Exeter\\Courses\\Module ECMM409 (2023) Nature-Inspired Computation\\Nature_inspired\\project01\\exe.ipynb Cell 57\u001b[0m line \u001b[0;36m1\n\u001b[0;32m      <a href='vscode-notebook-cell:/d%3A/USERS/Exeter/Courses/Module%20ECMM409%20%282023%29%20Nature-Inspired%20Computation/Nature_inspired/project01/exe.ipynb#Y111sZmlsZQ%3D%3D?line=8'>9</a>\u001b[0m total_distance \u001b[39m=\u001b[39m \u001b[39m0\u001b[39m\n\u001b[0;32m     <a href='vscode-notebook-cell:/d%3A/USERS/Exeter/Courses/Module%20ECMM409%20%282023%29%20Nature-Inspired%20Computation/Nature_inspired/project01/exe.ipynb#Y111sZmlsZQ%3D%3D?line=9'>10</a>\u001b[0m \u001b[39mfor\u001b[39;00m i \u001b[39min\u001b[39;00m \u001b[39mrange\u001b[39m(\u001b[39mlen\u001b[39m(travel_list)\u001b[39m-\u001b[39m\u001b[39m1\u001b[39m):\n\u001b[1;32m---> <a href='vscode-notebook-cell:/d%3A/USERS/Exeter/Courses/Module%20ECMM409%20%282023%29%20Nature-Inspired%20Computation/Nature_inspired/project01/exe.ipynb#Y111sZmlsZQ%3D%3D?line=10'>11</a>\u001b[0m     total_distance \u001b[39m+\u001b[39m\u001b[39m=\u001b[39m distance_metric[travel_list[i],travel_list[i\u001b[39m+\u001b[39;49m\u001b[39m1\u001b[39;49m]]\n\u001b[0;32m     <a href='vscode-notebook-cell:/d%3A/USERS/Exeter/Courses/Module%20ECMM409%20%282023%29%20Nature-Inspired%20Computation/Nature_inspired/project01/exe.ipynb#Y111sZmlsZQ%3D%3D?line=11'>12</a>\u001b[0m total_distance \u001b[39m+\u001b[39m\u001b[39m=\u001b[39m distance_metric[travel_list[\u001b[39m-\u001b[39m\u001b[39m1\u001b[39m],travel_list[\u001b[39m0\u001b[39m]]\n\u001b[0;32m     <a href='vscode-notebook-cell:/d%3A/USERS/Exeter/Courses/Module%20ECMM409%20%282023%29%20Nature-Inspired%20Computation/Nature_inspired/project01/exe.ipynb#Y111sZmlsZQ%3D%3D?line=12'>13</a>\u001b[0m \u001b[39mreturn\u001b[39;00m total_distance\n",
      "\u001b[1;31mTypeError\u001b[0m: list indices must be integers or slices, not tuple"
     ]
    }
   ],
   "source": [
    "search(100,10,4,sample)"
   ]
  },
  {
   "cell_type": "code",
   "execution_count": null,
   "metadata": {},
   "outputs": [],
   "source": []
  }
 ],
 "metadata": {
  "kernelspec": {
   "display_name": "exeter",
   "language": "python",
   "name": "python3"
  },
  "language_info": {
   "codemirror_mode": {
    "name": "ipython",
    "version": 3
   },
   "file_extension": ".py",
   "mimetype": "text/x-python",
   "name": "python",
   "nbconvert_exporter": "python",
   "pygments_lexer": "ipython3",
   "version": "3.11.5"
  }
 },
 "nbformat": 4,
 "nbformat_minor": 2
}
