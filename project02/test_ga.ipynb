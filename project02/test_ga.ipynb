{
 "cells": [
  {
   "cell_type": "code",
   "execution_count": 127,
   "metadata": {},
   "outputs": [],
   "source": [
    "import pandas as pd\n",
    "import numpy as np\n",
    "import matplotlib.pyplot as plt\n",
    "\n",
    "from dataclasses import dataclass\n",
    "from typing import Any, List, Tuple, Dict\n",
    "from pandas import DataFrame"
   ]
  },
  {
   "cell_type": "code",
   "execution_count": 3,
   "metadata": {},
   "outputs": [],
   "source": [
    "@dataclass\n",
    "class City:\n",
    "    index : int\n",
    "    X : float\n",
    "    Y : float\n",
    "\n",
    "@dataclass\n",
    "class Item:\n",
    "    index : int\n",
    "    Profit : int\n",
    "    Weight : int\n",
    "    Node : int\n",
    "    \n",
    "@dataclass\n",
    "class TTP:\n",
    "    Name :str = None\n",
    "    DTYPE : str = None\n",
    "    Dimension : int = 0\n",
    "    ITEMS : int = 0\n",
    "    CAPACITY : int = 0\n",
    "    MIN_SPEED : float = 0\n",
    "    MAX_SPEED : float = 0\n",
    "    RENTING_RATIO : float = 0\n",
    "    EDGE_W : str = None\n",
    "    NODE : List[City] = None\n",
    "    ITEM : List[Item] = None\n",
    "\n",
    "def read_problem(file_path:str):\n",
    "    with open(file_path,'r') as file:\n",
    "        lines = file.readlines()\n",
    "    \n",
    "    data = TTP(NODE=[],ITEM=[])\n",
    "    \n",
    "    for i , line in enumerate(lines):\n",
    "        if line.startswith(\"PROBLEM NAME\"):\n",
    "            data.Name = line.split(':')[-1].strip()\n",
    "        elif line.startswith(\"KNAPSACK DATA TYPE\"):\n",
    "            data.DTYPE = line.split(':')[-1].strip()\n",
    "        elif line.startswith(\"DIMENSION\"):\n",
    "            data.Dimension = int(line.split(':')[-1].strip())\n",
    "        elif line.startswith(\"NUMBER OF ITEMS\"):\n",
    "            data.ITEMS = int(line.split(':')[-1].strip())\n",
    "        elif line.startswith(\"DIMENSION\"):\n",
    "            data.Dimension = int(line.split(':')[-1].strip())\n",
    "        elif line.startswith(\"MIX SPEED\"):\n",
    "            data.MIN_SPEED = float(line.split(':')[-1].strip())\n",
    "        elif line.startswith(\"MAX SPEED\"):\n",
    "            data.MAX_SPEED = float(line.split(':')[-1].strip())\n",
    "        elif line.startswith(\"RENTING RATIO\"):\n",
    "            data.RENTING_RATIO = float(line.split(':')[-1].strip())\n",
    "        elif line.startswith(\"EDGE_WEIGHT_TYPE\"):\n",
    "            data.EDGE_W = line.split(':')[-1].strip()\n",
    "        elif line.startswith(\"NODE_COORD_SECTION\"):\n",
    "            for j in range(1,data.Dimension+1):\n",
    "                node = lines[i+j].split()\n",
    "                data.NODE.append(City(index=int(node[0]),X=float(node[1]),Y=float(node[2])))\n",
    "        elif line.startswith(\"ITEMS SECTION\"):\n",
    "            for j in range(1,data.ITEMS+1):\n",
    "                item = lines[i+j].split()\n",
    "                data.ITEM.append(\n",
    "                    Item(int(item[0]),int(item[1]),int(item[2]),int(item[3]))\n",
    "                )\n",
    "        else:\n",
    "            pass\n",
    "    \n",
    "    return data.NODE , data.ITEM\n",
    "\n",
    "def generate_ttp_solution(number_of_cities: int, items: List[Item], knapsack_capacity: int) -> Tuple[List[int], List[int]]:\n",
    "    # Generate a random path (tour)\n",
    "    path = np.random.permutation(number_of_cities) + 1\n",
    "\n",
    "    # Initialize knapsack plan with no items picked\n",
    "    plan = [0] * len(items)\n",
    "    current_weight = 0\n",
    "\n",
    "    # Randomly decide to pick up items considering the knapsack capacity\n",
    "    for i, item in enumerate(items):\n",
    "        item_weight = item.Weight\n",
    "        if current_weight + item_weight <= knapsack_capacity:\n",
    "            decision = np.random.choice([0, 1])\n",
    "            plan[i] = decision\n",
    "            current_weight += item_weight * decision\n",
    "\n",
    "    return path.tolist(), plan\n",
    "\n",
    "def euclidean_distance(p1: Tuple[float, float], p2: Tuple[float, float]) -> float:\n",
    "    return np.sqrt((p1[0] - p2[0])**2 + (p1[1] - p2[1])**2)\n",
    "\n",
    "def calculate_time_and_profit(solution: List[int], plan: List[int], nodes: List[City], items: List[Item], min_speed, max_speed, max_weight):\n",
    "    total_time = 0\n",
    "    total_profit = 0\n",
    "    current_weight = 0\n",
    "\n",
    "    # Calculate the total travel time\n",
    "    for i in range(len(solution)):\n",
    "        current_city_index = solution[i]\n",
    "        next_city_index = solution[0] if i == len(solution) - 1 else solution[i + 1]\n",
    "\n",
    "        current_city = nodes[current_city_index - 1]\n",
    "        next_city = nodes[next_city_index - 1]\n",
    "\n",
    "        # Update current weight based on items picked at the current city\n",
    "        for item, is_picked in zip(items, plan):\n",
    "            if is_picked and item.Node == current_city_index:\n",
    "                current_weight += item.Weight\n",
    "\n",
    "        # Calculate speed based on current weight\n",
    "        speed = max_speed - (current_weight / max_weight) * (max_speed - min_speed)\n",
    "        speed = max(speed, min_speed)  # Ensure speed doesn't drop below minimum\n",
    "\n",
    "        # Distance between current city and next city\n",
    "        distance = euclidean_distance((current_city.X, current_city.Y), (next_city.X, next_city.Y))\n",
    "\n",
    "        # Update time with time to next city\n",
    "        total_time += distance / speed\n",
    "\n",
    "        if current_weight > max_weight:\n",
    "            return np.Inf , 0.0\n",
    "\n",
    "    # Calculate total profit from picked items\n",
    "    for item, is_picked in zip(items, plan):\n",
    "        if is_picked:\n",
    "            total_profit += item.Profit\n",
    "\n",
    "\n",
    "    return total_time, total_profit"
   ]
  },
  {
   "cell_type": "code",
   "execution_count": 4,
   "metadata": {},
   "outputs": [
    {
     "name": "stdout",
     "output_type": "stream",
     "text": [
      "[City(index=1, X=0.0, Y=0.0), City(index=2, X=4.0, Y=0.0), City(index=3, X=8.0, Y=3.0), City(index=4, X=0.0, Y=3.0)] \n",
      " [Item(index=2, Profit=34, Weight=30, Node=2), Item(index=3, Profit=40, Weight=40, Node=3), Item(index=4, Profit=25, Weight=21, Node=4)]\n"
     ]
    }
   ],
   "source": [
    "path = './datasets/test-example-n4.txt'\n",
    "path2 = './datasets/a280-n1395.txt'\n",
    "node , item = read_problem(file_path=path)\n",
    "print(node,'\\n', item)"
   ]
  },
  {
   "cell_type": "code",
   "execution_count": 5,
   "metadata": {},
   "outputs": [
    {
     "data": {
      "text/plain": [
       "(38.91443850267379, 74)"
      ]
     },
     "execution_count": 5,
     "metadata": {},
     "output_type": "execute_result"
    }
   ],
   "source": [
    "max_weight = 80\n",
    "max_speed = 1\n",
    "min_speed = 0.1\n",
    "\n",
    "path = [1,4,3,2]\n",
    "plan = [1,1,0]\n",
    "cost = calculate_time_and_profit(path,plan,node,item,min_speed,max_speed,max_weight)\n",
    "cost"
   ]
  },
  {
   "cell_type": "code",
   "execution_count": 6,
   "metadata": {},
   "outputs": [],
   "source": [
    "renting_ratio = 1.516\n",
    "\n",
    "# @dataclass\n",
    "# class Genome:\n",
    "#     path : List[int]\n",
    "#     plan : List[int]\n",
    "\n",
    "@dataclass\n",
    "class Phenome:\n",
    "    time : float\n",
    "    profit : float\n",
    "    net_profit : float = 0\n",
    "\n",
    "    def __post_init__(self):\n",
    "        self.net_profit = self.profit - (self.time*renting_ratio)\n",
    "\n",
    "@dataclass\n",
    "class Chromosome:\n",
    "    path : List[int]\n",
    "    plan : List[int]\n",
    "    phenome : Phenome = None\n",
    "\n",
    "    def __post_init__(self):\n",
    "        self.phenome = Phenome(\n",
    "            *calculate_time_and_profit(\n",
    "                self.path,self.plan,node,item,min_speed,max_speed,max_weight))\n",
    "\n",
    "@dataclass\n",
    "class Population:\n",
    "    population : List[Chromosome]\n",
    "    \n"
   ]
  },
  {
   "cell_type": "code",
   "execution_count": 7,
   "metadata": {},
   "outputs": [],
   "source": [
    "path,plan = generate_ttp_solution(4,item,80)"
   ]
  },
  {
   "cell_type": "code",
   "execution_count": 8,
   "metadata": {},
   "outputs": [
    {
     "data": {
      "text/plain": [
       "Chromosome(path=[2, 4, 3, 1], plan=[1, 0, 0], phenome=Phenome(time=38.55698678538495, profit=34, net_profit=-24.45239196664358))"
      ]
     },
     "execution_count": 8,
     "metadata": {},
     "output_type": "execute_result"
    }
   ],
   "source": [
    "g1 = Chromosome(path,plan)\n",
    "g1"
   ]
  },
  {
   "cell_type": "code",
   "execution_count": 9,
   "metadata": {},
   "outputs": [
    {
     "data": {
      "text/plain": [
       "[Chromosome(path=[1, 4, 3, 2], plan=[1, 0, 0], phenome=Phenome(time=22.037735849056602, profit=34, net_profit=0.5907924528301933)),\n",
       " Chromosome(path=[4, 1, 3, 2], plan=[1, 1, 0], phenome=Phenome(time=44.1643246009325, profit=74, net_profit=7.0468839049863305)),\n",
       " Chromosome(path=[2, 1, 3, 4], plan=[0, 1, 0], phenome=Phenome(time=36.180367381681165, profit=40, net_profit=-14.84943695062865)),\n",
       " Chromosome(path=[3, 2, 4, 1], plan=[0, 1, 1], phenome=Phenome(time=54.975455617093175, profit=65, net_profit=-18.34279071551326)),\n",
       " Chromosome(path=[2, 1, 3, 4], plan=[1, 0, 1], phenome=Phenome(time=42.74002225265657, profit=59, net_profit=-5.793873735027361)),\n",
       " Chromosome(path=[3, 1, 4, 2], plan=[1, 0, 0], phenome=Phenome(time=24.09117355663829, profit=34, net_profit=-2.5222191118636488)),\n",
       " Chromosome(path=[2, 3, 4, 1], plan=[1, 0, 1], phenome=Phenome(time=36.04492889946329, profit=59, net_profit=4.3558877884136535)),\n",
       " Chromosome(path=[2, 4, 1, 3], plan=[0, 0, 1], phenome=Phenome(time=26.661543365391204, profit=25, net_profit=-15.418899741933068)),\n",
       " Chromosome(path=[1, 2, 4, 3], plan=[0, 1, 1], phenome=Phenome(time=46.70651619845469, profit=65, net_profit=-5.80707855685732)),\n",
       " Chromosome(path=[2, 4, 3, 1], plan=[0, 1, 0], phenome=Phenome(time=35.80727953694096, profit=40, net_profit=-14.283835778002498))]"
      ]
     },
     "execution_count": 9,
     "metadata": {},
     "output_type": "execute_result"
    }
   ],
   "source": [
    "population_size = 10\n",
    "population = [ Chromosome(*generate_ttp_solution(4,item,80)) for _ in range(population_size)]\n",
    "population"
   ]
  },
  {
   "cell_type": "code",
   "execution_count": 10,
   "metadata": {},
   "outputs": [],
   "source": [
    "def tournament_selection(population: List[int], tournament_size: int) -> Chromosome:\n",
    "    \"\"\"\n",
    "    Selects a single Chromosome from the population using tournament selection.\n",
    "\n",
    "    :param population: An instance of the Population class containing Chromosomes.\n",
    "    :param tournament_size: The number of Chromosomes to be selected for each tournament.\n",
    "    :return: The winning Chromosome with the highest net profit.\n",
    "    \"\"\"\n",
    "    # Ensure the tournament size is not larger than the population size\n",
    "    tournament_size = min(tournament_size, len(population))\n",
    "    \n",
    "    # Randomly select 'tournament_size' individuals from the population\n",
    "    tournament_contestants = np.random.choice(population, size=tournament_size, replace=False)\n",
    "    \n",
    "    # Determine the winner based on the highest net profit\n",
    "    winner = max(tournament_contestants, key=lambda chromo: chromo.phenome.net_profit)\n",
    "    \n",
    "    return winner\n"
   ]
  },
  {
   "cell_type": "code",
   "execution_count": 76,
   "metadata": {},
   "outputs": [
    {
     "data": {
      "text/plain": [
       "(Chromosome(path=[2, 3, 4, 1], plan=[1, 0, 1], phenome=Phenome(time=36.04492889946329, profit=59, net_profit=4.3558877884136535)),\n",
       " Chromosome(path=[4, 1, 3, 2], plan=[1, 1, 0], phenome=Phenome(time=44.1643246009325, profit=74, net_profit=7.0468839049863305)))"
      ]
     },
     "execution_count": 76,
     "metadata": {},
     "output_type": "execute_result"
    }
   ],
   "source": [
    "p1 = tournament_selection(population,6)\n",
    "p2 = tournament_selection(population,6)\n",
    "p1,p2"
   ]
  },
  {
   "cell_type": "code",
   "execution_count": 100,
   "metadata": {},
   "outputs": [],
   "source": [
    "def ordered_crossover(parent1: Chromosome, parent2: Chromosome) -> Tuple[Chromosome, Chromosome]:\n",
    "    # Select crossover points for the path\n",
    "    start, end = sorted(np.random.choice(range(len(parent1.path)), 2))\n",
    "\n",
    "    # Create segments from parents\n",
    "    parent1_segment = parent1.path[start:end]\n",
    "    parent2_segment = parent2.path[start:end]\n",
    "\n",
    "    # Create offspring paths excluding parent segments\n",
    "    offspring1_path = [city for city in parent2.path if city not in parent1_segment]\n",
    "    offspring2_path = [city for city in parent1.path if city not in parent2_segment]\n",
    "\n",
    "    # Insert parent segments into offspring paths\n",
    "    offspring1_path[start:start] = parent1_segment\n",
    "    offspring2_path[start:start] = parent2_segment\n",
    "\n",
    "    # For the plan, using a simple one-point crossover\n",
    "    crossover_point = np.random.randint(1, len(parent1.plan) - 1)\n",
    "    offspring1_plan = parent1.plan[:crossover_point] + parent2.plan[crossover_point:]\n",
    "    offspring2_plan = parent2.plan[:crossover_point] + parent1.plan[crossover_point:]\n",
    "\n",
    "    # Create new Chromosome instances for offspring\n",
    "    offspring1 = Chromosome(offspring1_path, offspring1_plan)\n",
    "    offspring2 = Chromosome(offspring2_path, offspring2_plan)\n",
    "\n",
    "    return offspring1, offspring2\n"
   ]
  },
  {
   "cell_type": "code",
   "execution_count": 101,
   "metadata": {},
   "outputs": [],
   "source": [
    "o1 , o2 = ordered_crossover(p1,p2)"
   ]
  },
  {
   "cell_type": "code",
   "execution_count": 102,
   "metadata": {},
   "outputs": [
    {
     "data": {
      "text/plain": [
       "Chromosome(path=[2, 3, 4, 1], plan=[1, 1, 0], phenome=Phenome(time=78.1354051054384, profit=74, net_profit=-44.45327413984461))"
      ]
     },
     "execution_count": 102,
     "metadata": {},
     "output_type": "execute_result"
    }
   ],
   "source": [
    "o1"
   ]
  },
  {
   "cell_type": "code",
   "execution_count": 103,
   "metadata": {},
   "outputs": [
    {
     "data": {
      "text/plain": [
       "Chromosome(path=[4, 1, 3, 2], plan=[1, 0, 1], phenome=Phenome(time=33.391748643983576, profit=59, net_profit=8.378109055720898))"
      ]
     },
     "execution_count": 103,
     "metadata": {},
     "output_type": "execute_result"
    }
   ],
   "source": [
    "o2"
   ]
  },
  {
   "cell_type": "code",
   "execution_count": 104,
   "metadata": {},
   "outputs": [],
   "source": [
    "def inversion_mutation(chromosome: Chromosome):\n",
    "    # Ensure there are at least two elements in the path\n",
    "    if len(chromosome.path) < 2:\n",
    "        return chromosome\n",
    "    path = chromosome.path.copy()\n",
    "    plan = chromosome.plan.copy()\n",
    "    # Choose two distinct random positions in the path\n",
    "    pos1, pos2 = sorted(np.random.choice(range(len(chromosome.path)), 2))\n",
    "\n",
    "    # Invert the order of elements between pos1 and pos2\n",
    "    path[pos1:pos2 + 1] = reversed(path[pos1:pos2 + 1])\n",
    "    plan[pos1:pos2 + 1] = reversed(plan[pos1:pos2 + 1])\n",
    "\n",
    "    return Chromosome(path,plan)"
   ]
  },
  {
   "cell_type": "code",
   "execution_count": 111,
   "metadata": {},
   "outputs": [],
   "source": [
    "o12 = inversion_mutation(o1)\n",
    "o22 = inversion_mutation(o2)"
   ]
  },
  {
   "cell_type": "code",
   "execution_count": 112,
   "metadata": {},
   "outputs": [
    {
     "data": {
      "text/plain": [
       "(Chromosome(path=[2, 4, 3, 1], plan=[1, 0, 1], phenome=Phenome(time=55.744246046669794, profit=59, net_profit=-25.508277006751413)),\n",
       " Chromosome(path=[4, 1, 2, 3], plan=[1, 0, 1], phenome=Phenome(time=39.66383650666423, profit=59, net_profit=-1.130376144102975)))"
      ]
     },
     "execution_count": 112,
     "metadata": {},
     "output_type": "execute_result"
    }
   ],
   "source": [
    "o12,o22"
   ]
  },
  {
   "cell_type": "code",
   "execution_count": 122,
   "metadata": {},
   "outputs": [],
   "source": [
    "def replace_weakest(population : List[Chromosome], candidates:Chromosome):\n",
    "    keys = [x.phenome.net_profit for x in population]\n",
    "    weakest_index = np.argmin(keys)\n",
    "\n",
    "    if candidates.phenome.net_profit > population[weakest_index].phenome.net_profit:\n",
    "        population[weakest_index] = candidates \n",
    "\n",
    "    return population\n"
   ]
  },
  {
   "cell_type": "code",
   "execution_count": 118,
   "metadata": {},
   "outputs": [
    {
     "name": "stdout",
     "output_type": "stream",
     "text": [
      "7\n",
      "7\n"
     ]
    }
   ],
   "source": [
    "population1 = replace_weakest(population,o12)\n",
    "population2 = replace_weakest(population1,o22)"
   ]
  },
  {
   "cell_type": "code",
   "execution_count": 119,
   "metadata": {},
   "outputs": [
    {
     "data": {
      "text/plain": [
       "[Chromosome(path=[1, 4, 3, 2], plan=[1, 0, 0], phenome=Phenome(time=22.037735849056602, profit=34, net_profit=0.5907924528301933)),\n",
       " Chromosome(path=[4, 1, 3, 2], plan=[1, 1, 0], phenome=Phenome(time=44.1643246009325, profit=74, net_profit=7.0468839049863305)),\n",
       " Chromosome(path=[2, 1, 3, 4], plan=[0, 1, 0], phenome=Phenome(time=36.180367381681165, profit=40, net_profit=-14.84943695062865)),\n",
       " Chromosome(path=[4, 1, 2, 3], plan=[1, 0, 1], phenome=Phenome(time=39.66383650666423, profit=59, net_profit=-1.130376144102975)),\n",
       " Chromosome(path=[2, 1, 3, 4], plan=[1, 0, 1], phenome=Phenome(time=42.74002225265657, profit=59, net_profit=-5.793873735027361)),\n",
       " Chromosome(path=[3, 1, 4, 2], plan=[1, 0, 0], phenome=Phenome(time=24.09117355663829, profit=34, net_profit=-2.5222191118636488)),\n",
       " Chromosome(path=[2, 3, 4, 1], plan=[1, 0, 1], phenome=Phenome(time=36.04492889946329, profit=59, net_profit=4.3558877884136535)),\n",
       " Chromosome(path=[4, 1, 2, 3], plan=[1, 0, 1], phenome=Phenome(time=39.66383650666423, profit=59, net_profit=-1.130376144102975)),\n",
       " Chromosome(path=[1, 2, 4, 3], plan=[0, 1, 1], phenome=Phenome(time=46.70651619845469, profit=65, net_profit=-5.80707855685732)),\n",
       " Chromosome(path=[2, 4, 3, 1], plan=[0, 1, 0], phenome=Phenome(time=35.80727953694096, profit=40, net_profit=-14.283835778002498))]"
      ]
     },
     "execution_count": 119,
     "metadata": {},
     "output_type": "execute_result"
    }
   ],
   "source": [
    "population1"
   ]
  },
  {
   "cell_type": "code",
   "execution_count": 120,
   "metadata": {},
   "outputs": [
    {
     "data": {
      "text/plain": [
       "[Chromosome(path=[1, 4, 3, 2], plan=[1, 0, 0], phenome=Phenome(time=22.037735849056602, profit=34, net_profit=0.5907924528301933)),\n",
       " Chromosome(path=[4, 1, 3, 2], plan=[1, 1, 0], phenome=Phenome(time=44.1643246009325, profit=74, net_profit=7.0468839049863305)),\n",
       " Chromosome(path=[2, 1, 3, 4], plan=[0, 1, 0], phenome=Phenome(time=36.180367381681165, profit=40, net_profit=-14.84943695062865)),\n",
       " Chromosome(path=[4, 1, 2, 3], plan=[1, 0, 1], phenome=Phenome(time=39.66383650666423, profit=59, net_profit=-1.130376144102975)),\n",
       " Chromosome(path=[2, 1, 3, 4], plan=[1, 0, 1], phenome=Phenome(time=42.74002225265657, profit=59, net_profit=-5.793873735027361)),\n",
       " Chromosome(path=[3, 1, 4, 2], plan=[1, 0, 0], phenome=Phenome(time=24.09117355663829, profit=34, net_profit=-2.5222191118636488)),\n",
       " Chromosome(path=[2, 3, 4, 1], plan=[1, 0, 1], phenome=Phenome(time=36.04492889946329, profit=59, net_profit=4.3558877884136535)),\n",
       " Chromosome(path=[4, 1, 2, 3], plan=[1, 0, 1], phenome=Phenome(time=39.66383650666423, profit=59, net_profit=-1.130376144102975)),\n",
       " Chromosome(path=[1, 2, 4, 3], plan=[0, 1, 1], phenome=Phenome(time=46.70651619845469, profit=65, net_profit=-5.80707855685732)),\n",
       " Chromosome(path=[2, 4, 3, 1], plan=[0, 1, 0], phenome=Phenome(time=35.80727953694096, profit=40, net_profit=-14.283835778002498))]"
      ]
     },
     "execution_count": 120,
     "metadata": {},
     "output_type": "execute_result"
    }
   ],
   "source": [
    "population2"
   ]
  },
  {
   "cell_type": "code",
   "execution_count": 132,
   "metadata": {},
   "outputs": [],
   "source": [
    "max_generation = 100\n",
    "max_pop = 100\n",
    "tour_size = 10\n",
    "history = []\n",
    "population = [ Chromosome(*generate_ttp_solution(4,item,80)) for _ in range(max_pop)]\n",
    "history.append(sorted(population,key= lambda c:c.phenome.net_profit)[-1].phenome.net_profit)\n",
    "for _ in range(max_generation):\n",
    "    p1 = tournament_selection(population,tour_size)\n",
    "    p2 = tournament_selection(population,tour_size)\n",
    "    o1 , o2 = ordered_crossover(p1,p2)\n",
    "    o12 = inversion_mutation(o1)\n",
    "    o22 = inversion_mutation(o2)\n",
    "    population = replace_weakest(population,o12)\n",
    "    population = replace_weakest(population,o22)\n",
    "    history.append(sorted(population,key= lambda c:c.phenome.net_profit)[-1].phenome.net_profit)\n"
   ]
  },
  {
   "cell_type": "code",
   "execution_count": 133,
   "metadata": {},
   "outputs": [
    {
     "data": {
      "text/plain": [
       "[14.421351718974236,\n",
       " 14.421351718974236,\n",
       " 14.421351718974236,\n",
       " 14.421351718974236,\n",
       " 14.421351718974236,\n",
       " 14.421351718974236,\n",
       " 14.421351718974236,\n",
       " 14.421351718974236,\n",
       " 14.421351718974236,\n",
       " 14.421351718974236,\n",
       " 14.421351718974236,\n",
       " 15.194409779650684,\n",
       " 15.194409779650684,\n",
       " 15.194409779650684,\n",
       " 15.194409779650684,\n",
       " 15.194409779650684,\n",
       " 15.194409779650684,\n",
       " 15.194409779650684,\n",
       " 15.194409779650684,\n",
       " 15.194409779650684,\n",
       " 15.194409779650684,\n",
       " 15.194409779650684,\n",
       " 15.194409779650684,\n",
       " 15.194409779650684,\n",
       " 15.194409779650684,\n",
       " 15.194409779650684,\n",
       " 15.194409779650684,\n",
       " 15.194409779650684,\n",
       " 15.194409779650684,\n",
       " 15.194409779650684,\n",
       " 15.194409779650684,\n",
       " 15.194409779650684,\n",
       " 15.194409779650684,\n",
       " 15.194409779650684,\n",
       " 15.194409779650684,\n",
       " 15.194409779650684,\n",
       " 15.194409779650684,\n",
       " 15.194409779650684,\n",
       " 15.194409779650684,\n",
       " 15.194409779650684,\n",
       " 15.194409779650684,\n",
       " 15.194409779650684,\n",
       " 15.194409779650684,\n",
       " 15.194409779650684,\n",
       " 15.194409779650684,\n",
       " 15.194409779650684,\n",
       " 15.194409779650684,\n",
       " 15.194409779650684,\n",
       " 15.194409779650684,\n",
       " 15.194409779650684,\n",
       " 15.194409779650684,\n",
       " 15.194409779650684,\n",
       " 15.194409779650684,\n",
       " 15.194409779650684,\n",
       " 15.194409779650684,\n",
       " 15.194409779650684,\n",
       " 15.194409779650684,\n",
       " 15.194409779650684,\n",
       " 15.194409779650684,\n",
       " 15.194409779650684,\n",
       " 15.194409779650684,\n",
       " 15.194409779650684,\n",
       " 15.194409779650684,\n",
       " 15.194409779650684,\n",
       " 15.194409779650684,\n",
       " 15.194409779650684,\n",
       " 15.194409779650684,\n",
       " 15.194409779650684,\n",
       " 15.194409779650684,\n",
       " 15.194409779650684,\n",
       " 15.194409779650684,\n",
       " 15.194409779650684,\n",
       " 15.194409779650684,\n",
       " 15.194409779650684,\n",
       " 15.194409779650684,\n",
       " 15.194409779650684,\n",
       " 15.194409779650684,\n",
       " 15.194409779650684,\n",
       " 15.194409779650684,\n",
       " 15.194409779650684,\n",
       " 15.194409779650684,\n",
       " 15.194409779650684,\n",
       " 15.194409779650684,\n",
       " 15.194409779650684,\n",
       " 15.194409779650684,\n",
       " 15.194409779650684,\n",
       " 15.194409779650684,\n",
       " 15.194409779650684,\n",
       " 15.194409779650684,\n",
       " 15.194409779650684,\n",
       " 15.194409779650684,\n",
       " 15.194409779650684,\n",
       " 15.194409779650684,\n",
       " 15.194409779650684,\n",
       " 15.194409779650684,\n",
       " 15.194409779650684,\n",
       " 15.194409779650684,\n",
       " 15.194409779650684,\n",
       " 15.194409779650684,\n",
       " 15.194409779650684,\n",
       " 15.194409779650684]"
      ]
     },
     "execution_count": 133,
     "metadata": {},
     "output_type": "execute_result"
    }
   ],
   "source": [
    "history"
   ]
  },
  {
   "cell_type": "code",
   "execution_count": 135,
   "metadata": {},
   "outputs": [
    {
     "data": {
      "text/plain": [
       "Text(0, 0.5, 'best net profit')"
      ]
     },
     "execution_count": 135,
     "metadata": {},
     "output_type": "execute_result"
    },
    {
     "data": {
      "image/png": "[encoded data removed]",
      "text/plain": [
       "<Figure size 640x480 with 1 Axes>"
      ]
     },
     "metadata": {},
     "output_type": "display_data"
    }
   ],
   "source": [
    "plt.plot(np.arange(len(history)),history)\n",
    "plt.xlabel(\"iteration\")\n",
    "plt.ylabel(\"best net profit\")"
   ]
  },
  {
   "cell_type": "code",
   "execution_count": null,
   "metadata": {},
   "outputs": [],
   "source": []
  }
 ],
 "metadata": {
  "kernelspec": {
   "display_name": "exeter",
   "language": "python",
   "name": "python3"
  },
  "language_info": {
   "codemirror_mode": {
    "name": "ipython",
    "version": 3
   },
   "file_extension": ".py",
   "mimetype": "text/x-python",
   "name": "python",
   "nbconvert_exporter": "python",
   "pygments_lexer": "ipython3",
   "version": "3.11.5"
  }
 },
 "nbformat": 4,
 "nbformat_minor": 2
}
