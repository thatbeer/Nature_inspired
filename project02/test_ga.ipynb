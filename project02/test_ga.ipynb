{
 "cells": [
  {
   "cell_type": "code",
   "execution_count": 5,
   "metadata": {},
   "outputs": [],
   "source": [
    "import pandas as pd\n",
    "import numpy as np\n",
    "\n",
    "from dataclasses import dataclass\n",
    "from typing import Any, List, Tuple, Dict\n",
    "from pandas import DataFrame"
   ]
  },
  {
   "cell_type": "code",
   "execution_count": 6,
   "metadata": {},
   "outputs": [],
   "source": [
    "@dataclass\n",
    "class City:\n",
    "    index : int\n",
    "    X : float\n",
    "    Y : float\n",
    "\n",
    "@dataclass\n",
    "class Item:\n",
    "    index : int\n",
    "    Profit : int\n",
    "    Weight : int\n",
    "    Node : int\n",
    "    \n",
    "@dataclass\n",
    "class TTP:\n",
    "    Name :str = None\n",
    "    DTYPE : str = None\n",
    "    Dimension : int = 0\n",
    "    ITEMS : int = 0\n",
    "    CAPACITY : int = 0\n",
    "    MIN_SPEED : float = 0\n",
    "    MAX_SPEED : float = 0\n",
    "    RENTING_RATIO : float = 0\n",
    "    EDGE_W : str = None\n",
    "    NODE : List[City] = None\n",
    "    ITEM : List[Item] = None"
   ]
  },
  {
   "cell_type": "code",
   "execution_count": 7,
   "metadata": {},
   "outputs": [],
   "source": [
    "def read_problem(file_path:str):\n",
    "    with open(file_path,'r') as file:\n",
    "        lines = file.readlines()\n",
    "    \n",
    "    data = TTP(NODE=[],ITEM=[])\n",
    "    \n",
    "    for i , line in enumerate(lines):\n",
    "        if line.startswith(\"PROBLEM NAME\"):\n",
    "            data.Name = line.split(':')[-1].strip()\n",
    "        elif line.startswith(\"KNAPSACK DATA TYPE\"):\n",
    "            data.DTYPE = line.split(':')[-1].strip()\n",
    "        elif line.startswith(\"DIMENSION\"):\n",
    "            data.Dimension = int(line.split(':')[-1].strip())\n",
    "        elif line.startswith(\"NUMBER OF ITEMS\"):\n",
    "            data.ITEMS = int(line.split(':')[-1].strip())\n",
    "        elif line.startswith(\"DIMENSION\"):\n",
    "            data.Dimension = int(line.split(':')[-1].strip())\n",
    "        elif line.startswith(\"MIX SPEED\"):\n",
    "            data.MIN_SPEED = float(line.split(':')[-1].strip())\n",
    "        elif line.startswith(\"MAX SPEED\"):\n",
    "            data.MAX_SPEED = float(line.split(':')[-1].strip())\n",
    "        elif line.startswith(\"RENTING RATIO\"):\n",
    "            data.RENTING_RATIO = float(line.split(':')[-1].strip())\n",
    "        elif line.startswith(\"EDGE_WEIGHT_TYPE\"):\n",
    "            data.EDGE_W = line.split(':')[-1].strip()\n",
    "        elif line.startswith(\"NODE_COORD_SECTION\"):\n",
    "            for j in range(1,data.Dimension+1):\n",
    "                node = lines[i+j].split()\n",
    "                data.NODE.append(City(index=int(node[0]),X=float(node[1]),Y=float(node[2])))\n",
    "        elif line.startswith(\"ITEMS SECTION\"):\n",
    "            for j in range(1,data.ITEMS+1):\n",
    "                item = lines[i+j].split()\n",
    "                data.ITEM.append(\n",
    "                    Item(int(item[0]),int(item[1]),int(item[2]),int(item[3]))\n",
    "                )\n",
    "        else:\n",
    "            pass\n",
    "    \n",
    "    return data.NODE , data.ITEM"
   ]
  },
  {
   "cell_type": "code",
   "execution_count": 23,
   "metadata": {},
   "outputs": [],
   "source": [
    "def generate_ttp_solution(number_of_cities: int, items: List[Item], knapsack_capacity: int) -> Tuple[List[int], List[int]]:\n",
    "    # Generate a random path (tour)\n",
    "    path = np.random.permutation(number_of_cities) + 1\n",
    "\n",
    "    # Initialize knapsack plan with no items picked\n",
    "    plan = [0] * len(items)\n",
    "    current_weight = 0\n",
    "\n",
    "    # Randomly decide to pick up items considering the knapsack capacity\n",
    "    for i, item in enumerate(items):\n",
    "        item_weight = item.Weight\n",
    "        if current_weight + item_weight <= knapsack_capacity:\n",
    "            decision = np.random.choice([0, 1])\n",
    "            plan[i] = decision\n",
    "            current_weight += item_weight * decision\n",
    "\n",
    "    return path.tolist(), plan"
   ]
  },
  {
   "cell_type": "code",
   "execution_count": 9,
   "metadata": {},
   "outputs": [],
   "source": [
    "def euclidean_distance(p1: Tuple[float, float], p2: Tuple[float, float]) -> float:\n",
    "    return np.sqrt((p1[0] - p2[0])**2 + (p1[1] - p2[1])**2)\n",
    "\n",
    "def calculate_time_and_profit(solution: List[int], plan: List[int], nodes: List[City], items: List[Item], min_speed, max_speed, max_weight):\n",
    "    total_time = 0\n",
    "    total_profit = 0\n",
    "    current_weight = 0\n",
    "\n",
    "    # Calculate total profit from picked items\n",
    "    for item, is_picked in zip(items, plan):\n",
    "        if is_picked:\n",
    "            total_profit += item.Profit\n",
    "\n",
    "    # Calculate the total travel time\n",
    "    for i in range(len(solution)):\n",
    "        current_city_index = solution[i]\n",
    "        next_city_index = solution[0] if i == len(solution) - 1 else solution[i + 1]\n",
    "\n",
    "        current_city = nodes[current_city_index - 1]\n",
    "        next_city = nodes[next_city_index - 1]\n",
    "\n",
    "        # Update current weight based on items picked at the current city\n",
    "        for item, is_picked in zip(items, plan):\n",
    "            if is_picked and item.Node == current_city_index:\n",
    "                current_weight += item.Weight\n",
    "\n",
    "        # Calculate speed based on current weight\n",
    "        speed = max_speed - (current_weight / max_weight) * (max_speed - min_speed)\n",
    "        speed = max(speed, min_speed)  # Ensure speed doesn't drop below minimum\n",
    "\n",
    "        # Distance between current city and next city\n",
    "        distance = euclidean_distance((current_city.X, current_city.Y), (next_city.X, next_city.Y))\n",
    "\n",
    "        # Update time with time to next city\n",
    "        total_time += distance / speed\n",
    "\n",
    "    return total_time, total_profit"
   ]
  },
  {
   "cell_type": "code",
   "execution_count": 10,
   "metadata": {},
   "outputs": [
    {
     "name": "stdout",
     "output_type": "stream",
     "text": [
      "[City(index=1, X=0.0, Y=0.0), City(index=2, X=4.0, Y=0.0), City(index=3, X=8.0, Y=3.0), City(index=4, X=0.0, Y=3.0)] \n",
      " [Item(index=2, Profit=34, Weight=30, Node=2), Item(index=3, Profit=40, Weight=40, Node=3), Item(index=4, Profit=25, Weight=21, Node=4)]\n"
     ]
    }
   ],
   "source": [
    "path = './datasets/test-example-n4.txt'\n",
    "path2 = './datasets/a280-n1395.txt'\n",
    "node , item = read_problem(file_path=path)\n",
    "print(node,'\\n', item)"
   ]
  },
  {
   "cell_type": "code",
   "execution_count": 13,
   "metadata": {},
   "outputs": [
    {
     "data": {
      "text/plain": [
       "(33.107207533502354, 65)"
      ]
     },
     "execution_count": 13,
     "metadata": {},
     "output_type": "execute_result"
    }
   ],
   "source": [
    "max_weight = 80\n",
    "max_speed = 1\n",
    "min_speed = 0.1\n",
    "\n",
    "path = [1,2,3,4]\n",
    "plan = [0,1,1]\n",
    "cost = calculate_time_and_profit(path,plan,node,item,min_speed,max_speed,max_weight)\n",
    "cost"
   ]
  },
  {
   "cell_type": "code",
   "execution_count": 37,
   "metadata": {},
   "outputs": [],
   "source": [
    "renting_ratio = 1.516\n",
    "\n",
    "# @dataclass\n",
    "# class Genome:\n",
    "#     path : List[int]\n",
    "#     plan : List[int]\n",
    "\n",
    "@dataclass\n",
    "class Phenome:\n",
    "    time : float\n",
    "    profit : float\n",
    "    net_profit : float = 0\n",
    "\n",
    "    def __post_init__(self):\n",
    "        self.net_profit = self.profit - (self.time*renting_ratio)\n",
    "\n",
    "@dataclass\n",
    "class Chromosome:\n",
    "    path : List[int]\n",
    "    plan : List[int]\n",
    "    phenome : Phenome = None\n",
    "\n",
    "    def __post_init__(self):\n",
    "        # time , profit = calculate_time_and_profit(path,plan,node,item,min_speed,max_speed,max_weight)\n",
    "        # self.phenome = Phenome(time=time,profit=profit)\n",
    "        self.phenome = Phenome(*calculate_time_and_profit(path,plan,node,item,min_speed,max_speed,max_weight))\n",
    "\n",
    "@dataclass\n",
    "class Population:\n",
    "    population : List[Chromosome]\n",
    "    \n"
   ]
  },
  {
   "cell_type": "code",
   "execution_count": 32,
   "metadata": {},
   "outputs": [],
   "source": [
    "path,plan = generate_ttp_solution(4,item,80)"
   ]
  },
  {
   "cell_type": "code",
   "execution_count": 33,
   "metadata": {},
   "outputs": [
    {
     "data": {
      "text/plain": [
       "Chromosome(path=[4, 1, 2, 3], plan=[0, 0, 0], phenome=Phenome(time=20.0, profit=0, net_profit=-30.32))"
      ]
     },
     "execution_count": 33,
     "metadata": {},
     "output_type": "execute_result"
    }
   ],
   "source": [
    "g1 = Chromosome(path,plan)\n",
    "g1"
   ]
  },
  {
   "cell_type": "code",
   "execution_count": 35,
   "metadata": {},
   "outputs": [
    {
     "data": {
      "text/plain": [
       "[Chromosome(path=[2, 4, 1, 3], plan=[0, 0, 1], phenome=Phenome(time=20.0, profit=0, net_profit=-30.32)),\n",
       " Chromosome(path=[1, 4, 2, 3], plan=[1, 0, 1], phenome=Phenome(time=20.0, profit=0, net_profit=-30.32)),\n",
       " Chromosome(path=[4, 1, 2, 3], plan=[0, 1, 0], phenome=Phenome(time=20.0, profit=0, net_profit=-30.32)),\n",
       " Chromosome(path=[1, 4, 3, 2], plan=[0, 0, 0], phenome=Phenome(time=20.0, profit=0, net_profit=-30.32)),\n",
       " Chromosome(path=[1, 3, 2, 4], plan=[0, 0, 1], phenome=Phenome(time=20.0, profit=0, net_profit=-30.32)),\n",
       " Chromosome(path=[3, 4, 2, 1], plan=[0, 1, 1], phenome=Phenome(time=20.0, profit=0, net_profit=-30.32)),\n",
       " Chromosome(path=[4, 3, 1, 2], plan=[1, 0, 1], phenome=Phenome(time=20.0, profit=0, net_profit=-30.32)),\n",
       " Chromosome(path=[3, 2, 1, 4], plan=[1, 1, 0], phenome=Phenome(time=20.0, profit=0, net_profit=-30.32)),\n",
       " Chromosome(path=[3, 1, 2, 4], plan=[1, 0, 0], phenome=Phenome(time=20.0, profit=0, net_profit=-30.32)),\n",
       " Chromosome(path=[3, 4, 2, 1], plan=[1, 1, 0], phenome=Phenome(time=20.0, profit=0, net_profit=-30.32))]"
      ]
     },
     "execution_count": 35,
     "metadata": {},
     "output_type": "execute_result"
    }
   ],
   "source": [
    "population_size = 10\n",
    "population = [ Chromosome(*generate_ttp_solution(4,item,80)) for _ in range(population_size)]\n",
    "population"
   ]
  },
  {
   "cell_type": "code",
   "execution_count": 40,
   "metadata": {},
   "outputs": [],
   "source": [
    "def tournament_selection(population: List[int], tournament_size: int) -> Chromosome:\n",
    "    \"\"\"\n",
    "    Selects a single Chromosome from the population using tournament selection.\n",
    "\n",
    "    :param population: An instance of the Population class containing Chromosomes.\n",
    "    :param tournament_size: The number of Chromosomes to be selected for each tournament.\n",
    "    :return: The winning Chromosome with the highest net profit.\n",
    "    \"\"\"\n",
    "    # Ensure the tournament size is not larger than the population size\n",
    "    tournament_size = min(tournament_size, len(population))\n",
    "    \n",
    "    # Randomly select 'tournament_size' individuals from the population\n",
    "    tournament_contestants = np.random.choice(population, size=tournament_size, replace=False)\n",
    "    \n",
    "    # Determine the winner based on the highest net profit\n",
    "    winner = max(tournament_contestants, key=lambda chromo: chromo.phenome.net_profit)\n",
    "    \n",
    "    return winner\n"
   ]
  },
  {
   "cell_type": "code",
   "execution_count": 42,
   "metadata": {},
   "outputs": [
    {
     "data": {
      "text/plain": [
       "Chromosome(path=[2, 4, 1, 3], plan=[0, 0, 1], phenome=Phenome(time=20.0, profit=0, net_profit=-30.32))"
      ]
     },
     "execution_count": 42,
     "metadata": {},
     "output_type": "execute_result"
    }
   ],
   "source": [
    "p1 = tournament_selection(population,2)\n",
    "p1"
   ]
  },
  {
   "cell_type": "code",
   "execution_count": 43,
   "metadata": {},
   "outputs": [],
   "source": [
    "def single_swap_mutation(chromosome: Chromosome) -> Chromosome:\n",
    "    \"\"\"\n",
    "    Performs a single swap mutation on the given Chromosome.\n",
    "\n",
    "    :param chromosome: An instance of the Chromosome class.\n",
    "    :return: A new Chromosome instance with two path elements swapped.\n",
    "    \"\"\"\n",
    "    # Make a copy of the chromosome's path to avoid mutating the original\n",
    "    mutated_path = chromosome.path.copy()\n",
    "\n",
    "    # Select two indices to swap\n",
    "    idx1, idx2 = np.random.choice(range(len(mutated_path)), size=2, replace=False)\n",
    "\n",
    "    # Perform the swap\n",
    "    mutated_path[idx1], mutated_path[idx2] = mutated_path[idx2], mutated_path[idx1]\n",
    "\n",
    "    # Create a new Chromosome with the mutated path and the same plan\n",
    "    mutated_chromosome = Chromosome(\n",
    "        path=mutated_path,\n",
    "        plan=chromosome.plan.copy(),\n",
    "        # phenome=chromosome.phenome  # Assuming the phenome does not need to be recalculated for mutation\n",
    "    )\n",
    "\n",
    "    return mutated_chromosome\n",
    "\n",
    "def multiple_swap_mutation(chromosome: Chromosome, number_of_swaps: int) -> Chromosome:\n",
    "    \"\"\"\n",
    "    Performs multiple swap mutations on the given Chromosome.\n",
    "\n",
    "    :param chromosome: An instance of the Chromosome class.\n",
    "    :param number_of_swaps: The number of swaps to perform.\n",
    "    :return: A new Chromosome instance with the specified number of path elements swapped.\n",
    "    \"\"\"\n",
    "    # Make a copy of the chromosome's path to avoid mutating the original\n",
    "    mutated_path = chromosome.path.copy()\n",
    "\n",
    "    for _ in range(number_of_swaps):\n",
    "        # Select two indices to swap, making sure they are different\n",
    "        idx1, idx2 = np.random.choice(range(len(mutated_path)), size=2, replace=False)\n",
    "\n",
    "        # Perform the swap\n",
    "        mutated_path[idx1], mutated_path[idx2] = mutated_path[idx2], mutated_path[idx1]\n",
    "\n",
    "    # Create a new Chromosome with the mutated path and the same plan\n",
    "    mutated_chromosome = Chromosome(\n",
    "        path=mutated_path,\n",
    "        plan=chromosome.plan.copy()\n",
    "        # Note: Depending on your implementation, you may need to re-evaluate the phenome after mutation\n",
    "    )\n",
    "\n",
    "    return mutated_chromosome\n"
   ]
  },
  {
   "cell_type": "code",
   "execution_count": null,
   "metadata": {},
   "outputs": [],
   "source": []
  }
 ],
 "metadata": {
  "kernelspec": {
   "display_name": "exeter",
   "language": "python",
   "name": "python3"
  },
  "language_info": {
   "codemirror_mode": {
    "name": "ipython",
    "version": 3
   },
   "file_extension": ".py",
   "mimetype": "text/x-python",
   "name": "python",
   "nbconvert_exporter": "python",
   "pygments_lexer": "ipython3",
   "version": "3.11.5"
  }
 },
 "nbformat": 4,
 "nbformat_minor": 2
}
