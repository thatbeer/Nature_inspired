{
 "cells": [
  {
   "cell_type": "code",
   "execution_count": 45,
   "metadata": {},
   "outputs": [],
   "source": [
    "import os\n",
    "import numpy as np\n",
    "import math\n",
    "import time\n",
    "import seaborn as sns\n",
    "import matplotlib.pyplot as plt\n",
    "\n",
    "from dataclasses import dataclass\n",
    "from typing import Any, List, Tuple, Dict\n",
    "\n",
    "from core.ga import GA , read_problem\n",
    "from core.pso import PSO"
   ]
  },
  {
   "cell_type": "markdown",
   "metadata": {},
   "source": [
    "### Utilization function"
   ]
  },
  {
   "cell_type": "code",
   "execution_count": 46,
   "metadata": {},
   "outputs": [
    {
     "data": {
      "text/plain": [
       "['./datasets\\\\a280-n1395.txt',\n",
       " './datasets\\\\a280-n279.txt',\n",
       " './datasets\\\\a280-n2790.txt',\n",
       " './datasets\\\\fnl4461-n22300.txt',\n",
       " './datasets\\\\fnl4461-n4460.txt',\n",
       " './datasets\\\\fnl4461-n44600.txt',\n",
       " './datasets\\\\pla33810-n169045.txt',\n",
       " './datasets\\\\pla33810-n33809.txt',\n",
       " './datasets\\\\pla33810-n338090.txt']"
      ]
     },
     "execution_count": 46,
     "metadata": {},
     "output_type": "execute_result"
    }
   ],
   "source": [
    "ddir = './datasets'\n",
    "path = [ os.path.join(ddir,p) for p in os.listdir(ddir) if not p.startswith('test')]\n",
    "path"
   ]
  },
  {
   "cell_type": "code",
   "execution_count": 47,
   "metadata": {},
   "outputs": [],
   "source": [
    "def is_dominated(chrom1, chrom2):\n",
    "    \"\"\"\n",
    "    Check if chrom1 is dominated by chrom2.\n",
    "    \"\"\"\n",
    "    return (chrom2.phenome.time <= chrom1.phenome.time and chrom2.phenome.profit >= chrom1.phenome.profit) and \\\n",
    "           (chrom2.phenome.time < chrom1.phenome.time or chrom2.phenome.profit > chrom1.phenome.profit)\n",
    "\n",
    "def find_dominance_flags(population):\n",
    "    \"\"\"\n",
    "    Assign a flag for each chromosome in the population.\n",
    "    1 for non-dominated, 0 for dominated.\n",
    "    \"\"\"\n",
    "    flags = [1] * len(population)  # Initialize all as non-dominated\n",
    "\n",
    "    for i, chrom1 in enumerate(population):\n",
    "        for chrom2 in population:\n",
    "            if chrom1 != chrom2 and is_dominated(chrom1, chrom2):\n",
    "                flags[i] = 0  # Mark as dominated\n",
    "                break  # No need to check further if dominated\n",
    "\n",
    "    return flags"
   ]
  },
  {
   "cell_type": "code",
   "execution_count": 48,
   "metadata": {},
   "outputs": [],
   "source": [
    "def is_dominated2(chrom1, chrom2):\n",
    "    \"\"\"\n",
    "    Check if chrom1 is dominated by chrom2.\n",
    "    \"\"\"\n",
    "    return (chrom2.personal_best_score.time <= chrom1.personal_best_score.time and chrom2.personal_best_score.profit >= chrom1.personal_best_score.profit) and \\\n",
    "           (chrom2.personal_best_score.time < chrom1.personal_best_score.time or chrom2.personal_best_score.profit > chrom1.personal_best_score.profit)\n",
    "\n",
    "def find_dominance_flags2(population):\n",
    "    \"\"\"\n",
    "    Assign a flag for each chromosome in the population.\n",
    "    1 for non-dominated, 0 for dominated.\n",
    "    \"\"\"\n",
    "    flags = [1] * len(population)  # Initialize all as non-dominated\n",
    "\n",
    "    for i, chrom1 in enumerate(population):\n",
    "        for chrom2 in population:\n",
    "            if chrom1 != chrom2 and is_dominated2(chrom1, chrom2):\n",
    "                flags[i] = 0  # Mark as dominated\n",
    "                break  # No need to check further if dominated\n",
    "\n",
    "    return flags\n"
   ]
  },
  {
   "cell_type": "code",
   "execution_count": 49,
   "metadata": {},
   "outputs": [],
   "source": [
    "def plot_experiment_results(data, ga, res):\n",
    "    population = res[0]\n",
    "    best_chromosome = res[1]\n",
    "    ga_flag = find_dominance_flags(ga.population)\n",
    "\n",
    "    print(f\"======MetaData======\")\n",
    "    print(f\"name : {data.Name}\")\n",
    "    print(f\"num dimension : {data.Dimension}\")\n",
    "    print(f\"num item : {data.ITEMS}\")\n",
    "    print(f\"max weight : {data.CAPACITY}\")\n",
    "    print(f\"speed range: [{data.MIN_SPEED},{data.MAX_SPEED}]\")\n",
    "    print(f\"renting ratio : {data.RENTING_RATIO}\")\n",
    "    print('======Genetic parameters======')\n",
    "    print(f'max iteration: {ga.iterations}')\n",
    "    print(f'max population: {ga.population_size}')\n",
    "    print(f'max toursize: {ga.tour_size}')\n",
    "    print(f\"======experiment result======\")\n",
    "    print(f\"time executed: {ga.time_execute} seconds\")\n",
    "    print(f\"best path : {best_chromosome.path} | best plan : {best_chromosome.plan}\")\n",
    "    print(f\"time : {best_chromosome.phenome.time} | profit : {best_chromosome.phenome.profit}\")\n",
    "    print(f\"Net profit : {best_chromosome.phenome.net_profit}\")\n",
    "    \n",
    "    sns.scatterplot(y=[x.phenome.profit for x in population], x=[x.phenome.time for x in population], hue=ga_flag)\n",
    "    plt.scatter(best_chromosome.phenome.time, best_chromosome.phenome.profit, color='red', label='best')\n",
    "    plt.xlabel(\"time\")\n",
    "    plt.ylabel(\"profit\")\n",
    "    plt.title(f\"Dataset: {data.Name}\")\n",
    "    plt.show()"
   ]
  },
  {
   "cell_type": "code",
   "execution_count": 50,
   "metadata": {},
   "outputs": [],
   "source": [
    "def plot_experiment_results2(data, pso, res):\n",
    "    best_path , best_plan, best_score = res\n",
    "    population = pso.particles\n",
    "    flag = find_dominance_flags2(population)\n",
    "\n",
    "    print(f\"======MetaData======\")\n",
    "    print(f\"name : {data.Name}\")\n",
    "    print(f\"num dimension : {data.Dimension}\")\n",
    "    print(f\"num item : {data.ITEMS}\")\n",
    "    print(f\"max weight : {data.CAPACITY}\")\n",
    "    print(f\"speed range: [{data.MIN_SPEED},{data.MAX_SPEED}]\")\n",
    "    print(f\"renting ratio : {data.RENTING_RATIO}\")\n",
    "    print('======Genetic parameters======')\n",
    "    print(f'max iteration: {pso.iterations}')\n",
    "    print(f'max population: {pso.num_particles}')\n",
    "    print(f\"======experiment result======\")\n",
    "    # print(f\"time executed: {ga.time_execute} seconds\")\n",
    "    print(f\"best path : {best_path} | best plan : {best_plan}\")\n",
    "    print(f\"time : {best_score.time} | profit : {best_score.profit}\")\n",
    "    print(f\"Net profit : {best_score.net_profit}\")\n",
    "    \n",
    "    sns.scatterplot(y=[x.personal_best_score.profit for x in population], x=[x.personal_best_score.time for x in population], hue=flag)\n",
    "    plt.scatter(best_score.time, best_score.profit, color='red', label='best')\n",
    "    plt.xlabel(\"time\")\n",
    "    plt.ylabel(\"profit\")\n",
    "    plt.title(f\"Dataset: {data.Name}\")\n",
    "    plt.show()"
   ]
  },
  {
   "cell_type": "markdown",
   "metadata": {},
   "source": [
    "## Genetic Algorithm"
   ]
  },
  {
   "cell_type": "markdown",
   "metadata": {},
   "source": [
    "## Experiment"
   ]
  },
  {
   "cell_type": "code",
   "execution_count": 51,
   "metadata": {},
   "outputs": [],
   "source": [
    "pop_size = 100\n",
    "tour_size = 60\n",
    "max_generation = 1000\n",
    "mut_prob = 0.45\n",
    "cross_prob = 0.90"
   ]
  },
  {
   "cell_type": "code",
   "execution_count": 52,
   "metadata": {},
   "outputs": [
    {
     "data": {
      "text/plain": [
       "TTP(Name='Test', DTYPE='unknown', Dimension=4, ITEMS=3, CAPACITY=80, MIN_SPEED=0.1, MAX_SPEED=1.0, RENTING_RATIO=1.516, EDGE_W='CEIL_2D', NODE=[City(index=1, X=0.0, Y=0.0), City(index=2, X=4.0, Y=0.0), City(index=3, X=8.0, Y=3.0), City(index=4, X=0.0, Y=3.0)], ITEM=[Item(index=2, Profit=34, Weight=30, Node=2), Item(index=3, Profit=40, Weight=40, Node=3), Item(index=4, Profit=25, Weight=21, Node=4)])"
      ]
     },
     "execution_count": 52,
     "metadata": {},
     "output_type": "execute_result"
    }
   ],
   "source": [
    "data = read_problem('./datasets/test-example-n4.txt')\n",
    "data"
   ]
  },
  {
   "cell_type": "code",
   "execution_count": 53,
   "metadata": {},
   "outputs": [],
   "source": [
    "ga = GA(\n",
    "    data,\n",
    "    pop_size,\n",
    "    max_generation,\n",
    "    tour_size,\n",
    "    mut_prob,\n",
    "    cross_prob\n",
    ")\n",
    "res = ga.run() # return final population , best chromosome"
   ]
  },
  {
   "cell_type": "code",
   "execution_count": 54,
   "metadata": {},
   "outputs": [
    {
     "name": "stdout",
     "output_type": "stream",
     "text": [
      "======MetaData======\n",
      "name : Test\n",
      "num dimension : 4\n",
      "num item : 3\n",
      "max weight : 80\n",
      "speed range: [0.1,1.0]\n",
      "renting ratio : 1.516\n",
      "======Genetic parameters======\n",
      "max iteration: 1000\n",
      "max population: 100\n",
      "max toursize: 60\n",
      "======experiment result======\n",
      "time executed: 0.7059628963470459 seconds\n",
      "best path : [3, 4, 1, 2] | best plan : [1, 0, 1]\n",
      "time : 28.895508060916434 | profit : 59\n",
      "Net profit : 15.194409779650684\n"
     ]
    },
    {
     "name": "stderr",
     "output_type": "stream",
     "text": [
      "c:\\Users\\USER\\anaconda3\\envs\\exeter\\Lib\\site-packages\\seaborn\\_oldcore.py:1498: FutureWarning: is_categorical_dtype is deprecated and will be removed in a future version. Use isinstance(dtype, CategoricalDtype) instead\n",
      "  if pd.api.types.is_categorical_dtype(vector):\n",
      "c:\\Users\\USER\\anaconda3\\envs\\exeter\\Lib\\site-packages\\seaborn\\_oldcore.py:1498: FutureWarning: is_categorical_dtype is deprecated and will be removed in a future version. Use isinstance(dtype, CategoricalDtype) instead\n",
      "  if pd.api.types.is_categorical_dtype(vector):\n",
      "c:\\Users\\USER\\anaconda3\\envs\\exeter\\Lib\\site-packages\\seaborn\\_oldcore.py:1498: FutureWarning: is_categorical_dtype is deprecated and will be removed in a future version. Use isinstance(dtype, CategoricalDtype) instead\n",
      "  if pd.api.types.is_categorical_dtype(vector):\n",
      "c:\\Users\\USER\\anaconda3\\envs\\exeter\\Lib\\site-packages\\seaborn\\_oldcore.py:1498: FutureWarning: is_categorical_dtype is deprecated and will be removed in a future version. Use isinstance(dtype, CategoricalDtype) instead\n",
      "  if pd.api.types.is_categorical_dtype(vector):\n",
      "c:\\Users\\USER\\anaconda3\\envs\\exeter\\Lib\\site-packages\\seaborn\\_oldcore.py:1498: FutureWarning: is_categorical_dtype is deprecated and will be removed in a future version. Use isinstance(dtype, CategoricalDtype) instead\n",
      "  if pd.api.types.is_categorical_dtype(vector):\n"
     ]
    },
    {
     "data": {
      "image/png": "[encoded data removed]",
      "text/plain": [
       "<Figure size 640x480 with 1 Axes>"
      ]
     },
     "metadata": {},
     "output_type": "display_data"
    }
   ],
   "source": [
    "population = res[0]\n",
    "best_chromosome = res[1]\n",
    "ga_flag = find_dominance_flags(ga.population)\n",
    "\n",
    "# print(f\"dataset: {path2.split('/')[-1].split('.')[0]}\")\n",
    "print(f\"======MetaData======\")\n",
    "print(f\"name : {data.Name}\")\n",
    "print(f\"num dimension : {data.Dimension}\")\n",
    "print(f\"num item : {data.ITEMS}\")\n",
    "print(f\"max weight : {data.CAPACITY}\")\n",
    "print(f\"speed range: [{data.MIN_SPEED},{data.MAX_SPEED}]\")\n",
    "print(f\"renting ratio : {data.RENTING_RATIO}\")\n",
    "print('======Genetic parameters======')\n",
    "print(f'max iteration: {ga.iterations}')\n",
    "print(f'max population: {ga.population_size}')\n",
    "print(f'max toursize: {ga.tour_size}')\n",
    "print(f\"======experiment result======\")\n",
    "print(f\"time executed: {ga.time_execute} seconds\")\n",
    "print(f\"best path : {best_chromosome.path} | best plan : {best_chromosome.plan}\")\n",
    "print(f\"time : {best_chromosome.phenome.time} | profit : {best_chromosome.phenome.profit}\")\n",
    "print(f\"Net profit : {best_chromosome.phenome.net_profit}\")\n",
    "sns.scatterplot(y=[x.phenome.profit for x in population],x=[x.phenome.time for x in population],hue=ga_flag)\n",
    "plt.scatter(best_chromosome.phenome.time, best_chromosome.phenome.profit, color='red',label='best')\n",
    "plt.xlabel(\"time\")\n",
    "plt.ylabel(\"profit\")\n",
    "plt.title(f\"Dataset: {data.Name}\")\n",
    "plt.show()"
   ]
  },
  {
   "cell_type": "markdown",
   "metadata": {},
   "source": [
    "a280-n279"
   ]
  },
  {
   "cell_type": "code",
   "execution_count": 55,
   "metadata": {},
   "outputs": [
    {
     "data": {
      "text/plain": [
       "'./datasets\\\\a280-n1395.txt'"
      ]
     },
     "execution_count": 55,
     "metadata": {},
     "output_type": "execute_result"
    }
   ],
   "source": [
    "path[0]"
   ]
  },
  {
   "cell_type": "code",
   "execution_count": 56,
   "metadata": {},
   "outputs": [],
   "source": [
    "data0 = read_problem(path[0])\n",
    "ga0 = GA(\n",
    "    data0,\n",
    "    pop_size,\n",
    "    max_generation,\n",
    "    tour_size,\n",
    "    mut_prob,\n",
    "    cross_prob\n",
    ")\n",
    "res0 = ga0.run()\n"
   ]
  },
  {
   "cell_type": "code",
   "execution_count": 57,
   "metadata": {},
   "outputs": [
    {
     "name": "stdout",
     "output_type": "stream",
     "text": [
      "======MetaData======\n",
      "name : a280-TTP\n",
      "num dimension : 280\n",
      "num item : 1395\n",
      "max weight : 637010\n",
      "speed range: [0.1,1.0]\n",
      "renting ratio : 72.7\n",
      "======Genetic parameters======\n",
      "max iteration: 1000\n",
      "max population: 100\n",
      "max toursize: 60\n",
      "======experiment result======\n",
      "time executed: 69.35402250289917 seconds\n",
      "best path : [258, 263, 136, 212, 236, 25, 103, 34, 28, 275, 102, 76, 48, 38, 70, 195, 4, 21, 213, 109, 86, 178, 251, 248, 141, 83, 115, 221, 174, 196, 208, 205, 45, 15, 186, 92, 60, 79, 166, 99, 231, 145, 220, 215, 246, 105, 222, 140, 160, 61, 110, 89, 149, 23, 5, 87, 187, 219, 95, 235, 1, 278, 147, 104, 162, 194, 249, 211, 85, 229, 144, 169, 276, 239, 58, 20, 262, 232, 190, 97, 94, 112, 98, 150, 179, 78, 253, 51, 50, 242, 207, 31, 39, 73, 198, 65, 42, 43, 72, 74, 230, 268, 129, 64, 29, 27, 280, 17, 132, 152, 261, 7, 233, 203, 161, 57, 247, 254, 120, 32, 128, 96, 59, 16, 40, 139, 266, 177, 259, 35, 62, 225, 209, 131, 171, 170, 250, 18, 123, 106, 44, 224, 26, 164, 193, 269, 52, 214, 163, 90, 80, 223, 228, 245, 2, 274, 199, 197, 159, 54, 158, 267, 71, 77, 75, 3, 256, 182, 36, 172, 125, 116, 19, 111, 30, 124, 264, 165, 191, 192, 244, 138, 176, 68, 113, 63, 273, 81, 84, 22, 154, 201, 11, 272, 49, 130, 135, 33, 183, 153, 118, 53, 108, 46, 210, 227, 100, 67, 55, 41, 243, 9, 13, 204, 134, 148, 277, 257, 8, 206, 168, 202, 185, 137, 189, 240, 173, 151, 142, 107, 82, 167, 184, 180, 91, 234, 6, 56, 218, 255, 270, 157, 69, 117, 260, 146, 143, 24, 127, 12, 265, 126, 238, 241, 279, 271, 216, 188, 101, 155, 88, 37, 66, 47, 121, 175, 114, 14, 10, 119, 156, 181, 226, 252, 237, 217, 93, 122, 133, 200] | best plan : [1, 1, 1, 0, 1, 1, 1, 0, 1, 0, 1, 1, 1, 0, 1, 0, 0, 0, 0, 1, 1, 0, 0, 0, 0, 1, 0, 1, 1, 1, 0, 1, 1, 1, 1, 1, 0, 0, 0, 1, 0, 1, 0, 0, 1, 1, 1, 1, 0, 0, 0, 0, 1, 1, 1, 0, 0, 0, 0, 0, 1, 1, 0, 0, 1, 1, 1, 1, 1, 1, 1, 1, 1, 1, 1, 0, 0, 1, 1, 1, 1, 1, 1, 0, 0, 0, 1, 1, 1, 1, 0, 1, 0, 0, 1, 0, 0, 1, 0, 1, 0, 1, 0, 0, 0, 0, 1, 0, 0, 1, 0, 0, 0, 0, 1, 1, 1, 1, 1, 1, 1, 1, 1, 0, 1, 0, 0, 1, 0, 1, 0, 1, 0, 0, 0, 0, 0, 0, 1, 1, 1, 1, 0, 1, 1, 1, 1, 0, 1, 0, 0, 0, 0, 0, 1, 1, 0, 0, 0, 0, 0, 1, 0, 0, 0, 1, 0, 0, 0, 1, 1, 0, 0, 1, 1, 0, 0, 1, 1, 1, 1, 0, 1, 0, 0, 0, 1, 1, 0, 1, 1, 1, 0, 0, 1, 1, 0, 0, 1, 0, 1, 0, 1, 0, 1, 0, 0, 0, 1, 0, 1, 1, 1, 1, 1, 1, 0, 1, 1, 1, 1, 0, 0, 1, 1, 1, 0, 1, 1, 1, 1, 1, 0, 1, 0, 1, 1, 0, 1, 1, 0, 1, 0, 1, 1, 0, 1, 1, 1, 0, 0, 1, 1, 1, 0, 1, 1, 1, 1, 0, 0, 1, 0, 1, 1, 1, 1, 0, 1, 1, 0, 0, 1, 0, 0, 1, 0, 0, 1, 1, 0, 0, 0, 0, 0, 0, 1, 0, 1, 1, 0, 1, 1, 1, 1, 1, 1, 0, 0, 1, 0, 1, 1, 0, 1, 1, 0, 0, 0, 0, 1, 1, 1, 1, 1, 0, 1, 0, 1, 1, 0, 0, 1, 0, 1, 0, 1, 0, 1, 1, 1, 1, 1, 0, 0, 0, 0, 0, 0, 0, 0, 0, 1, 1, 0, 0, 0, 0, 1, 0, 1, 1, 0, 1, 0, 0, 0, 0, 1, 0, 0, 0, 0, 0, 0, 0, 0, 0, 0, 1, 0, 0, 0, 1, 1, 0, 0, 0, 0, 0, 1, 1, 1, 0, 1, 1, 1, 0, 0, 0, 1, 1, 1, 1, 1, 0, 1, 0, 0, 1, 0, 0, 1, 0, 1, 0, 0, 1, 0, 0, 0, 0, 1, 1, 1, 0, 0, 1, 0, 1, 1, 1, 0, 1, 1, 1, 1, 0, 1, 0, 0, 1, 1, 0, 1, 0, 1, 1, 1, 1, 1, 1, 1, 0, 1, 0, 0, 1, 1, 1, 1, 0, 0, 0, 1, 1, 0, 0, 0, 0, 1, 1, 0, 0, 0, 1, 0, 1, 1, 1, 0, 0, 0, 1, 0, 0, 1, 0, 0, 1, 0, 1, 0, 0, 0, 0, 1, 1, 0, 0, 0, 1, 0, 1, 0, 0, 1, 1, 1, 0, 0, 0, 0, 0, 1, 1, 0, 0, 0, 0, 0, 1, 0, 0, 0, 1, 1, 1, 1, 0, 1, 1, 0, 1, 1, 0, 1, 0, 0, 1, 1, 1, 0, 0, 1, 0, 0, 1, 0, 1, 0, 0, 1, 1, 0, 0, 0, 0, 0, 0, 0, 0, 0, 1, 0, 1, 1, 1, 0, 1, 0, 1, 1, 0, 0, 1, 1, 1, 0, 1, 1, 0, 0, 0, 1, 0, 1, 0, 1, 0, 1, 0, 0, 0, 1, 0, 1, 1, 1, 1, 1, 1, 0, 1, 0, 1, 1, 1, 1, 1, 1, 0, 1, 1, 0, 1, 1, 1, 0, 0, 0, 1, 0, 1, 1, 1, 1, 1, 0, 0, 1, 0, 0, 0, 1, 0, 0, 1, 1, 1, 1, 0, 1, 0, 1, 0, 1, 1, 0, 1, 0, 0, 0, 1, 1, 1, 1, 0, 1, 0, 0, 1, 0, 0, 0, 0, 1, 0, 0, 1, 1, 0, 1, 0, 1, 1, 0, 1, 0, 0, 1, 0, 0, 0, 0, 0, 0, 0, 1, 0, 1, 1, 0, 0, 0, 1, 1, 0, 0, 0, 0, 0, 1, 1, 0, 0, 1, 0, 1, 0, 0, 0, 1, 1, 1, 1, 0, 1, 1, 0, 1, 1, 1, 1, 0, 0, 0, 1, 1, 0, 1, 0, 0, 1, 0, 1, 0, 0, 1, 1, 0, 0, 0, 1, 0, 1, 1, 1, 0, 1, 0, 1, 0, 0, 1, 0, 1, 0, 1, 0, 1, 0, 1, 1, 1, 0, 0, 1, 0, 0, 1, 0, 0, 0, 0, 1, 1, 0, 0, 1, 0, 1, 1, 1, 0, 1, 1, 0, 1, 0, 0, 0, 1, 0, 0, 1, 1, 1, 0, 1, 0, 0, 0, 0, 0, 1, 0, 1, 0, 0, 0, 0, 0, 1, 1, 1, 0, 1, 0, 1, 0, 0, 0, 1, 1, 1, 1, 1, 0, 1, 0, 1, 0, 0, 1, 1, 1, 0, 1, 1, 1, 0, 0, 1, 1, 1, 1, 1, 0, 1, 1, 1, 0, 0, 1, 1, 1, 0, 1, 0, 0, 1, 0, 1, 1, 0, 0, 0, 0, 1, 1, 1, 1, 0, 0, 1, 1, 1, 0, 1, 0, 1, 1, 1, 1, 1, 0, 0, 1, 1, 0, 0, 1, 1, 1, 1, 0, 0, 0, 0, 0, 1, 0, 0, 1, 1, 1, 0, 1, 1, 0, 0, 1, 0, 0, 0, 0, 1, 1, 0, 1, 0, 1, 1, 0, 0, 1, 1, 1, 1, 0, 0, 1, 0, 0, 0, 0, 0, 0, 0, 1, 1, 0, 1, 1, 0, 0, 0, 0, 0, 1, 0, 1, 1, 0, 1, 0, 0, 1, 1, 1, 0, 0, 1, 0, 1, 0, 1, 0, 1, 0, 1, 0, 0, 0, 1, 1, 0, 0, 1, 1, 0, 1, 1, 1, 0, 1, 1, 1, 0, 0, 0, 0, 1, 1, 0, 0, 1, 1, 0, 1, 0, 0, 0, 0, 0, 1, 0, 1, 0, 0, 0, 0, 1, 1, 1, 0, 1, 0, 1, 0, 0, 1, 0, 1, 1, 1, 0, 1, 0, 1, 1, 0, 1, 1, 0, 0, 0, 0, 1, 1, 1, 1, 0, 1, 1, 0, 1, 0, 0, 0, 0, 0, 1, 0, 1, 0, 1, 1, 1, 0, 1, 0, 1, 0, 0, 1, 0, 1, 1, 0, 1, 0, 1, 0, 1, 0, 1, 1, 1, 1, 1, 1, 1, 1, 1, 0, 0, 1, 1, 0, 1, 1, 1, 1, 0, 0, 0, 1, 0, 0, 1, 0, 1, 0, 0, 1, 0, 1, 1, 1, 0, 1, 0, 0, 1, 1, 1, 1, 0, 0, 0, 1, 1, 0, 1, 1, 0, 1, 0, 1, 0, 1, 1, 1, 1, 0, 0, 1, 0, 1, 1, 1, 1, 0, 1, 0, 1, 1, 0, 1, 0, 1, 0, 1, 1, 1, 0, 0, 1, 0, 1, 0, 0, 0, 1, 0, 0, 1, 1, 1, 1, 0, 0, 1, 1, 0, 1, 1, 0, 0, 1, 1, 0, 0, 1, 0, 0, 0, 1, 0, 0, 1, 1, 1, 1, 1, 1, 0, 0, 1, 1, 1, 0, 1, 1, 1, 1, 1, 0, 0, 0, 1, 1, 1, 1, 1, 1, 0, 1, 0, 1, 1, 0, 0, 1, 1, 1, 0, 0, 1, 0, 0, 1, 0, 0, 0, 1, 1, 1, 1, 0, 0, 1, 0, 0, 0, 0, 0, 0, 0, 0, 0, 0, 0, 0, 0, 0, 0, 0, 0, 0, 0, 0, 0, 0, 0, 0, 0, 0, 0, 0, 0, 0, 0, 0, 0, 0, 0, 0, 0, 0, 0, 0, 0, 0, 0, 0, 0, 0, 0, 0, 0, 0, 0, 0, 0, 0, 0, 0, 0, 0, 0, 0, 0, 0, 0, 0, 0, 0, 0, 0, 0, 0, 0, 0, 0, 0, 0, 0, 0, 0, 0, 0, 0, 0, 0, 0, 0, 0, 0, 0, 0, 0, 0, 0, 0, 0, 0, 0, 0, 0, 0, 0, 0, 0, 0, 0, 0, 0, 0, 0, 0, 0, 0, 0, 0, 0, 0, 0, 0, 0, 0, 0, 0, 0, 0, 0, 0, 0, 0, 0, 0, 0, 0, 0, 0, 0, 0, 0, 0, 0, 0, 0, 0, 0, 0, 0, 0, 0, 0, 0, 0, 0, 0, 0, 0, 0, 0, 0, 0, 0, 0, 0, 0]\n",
      "time : 65520.4056466894 | profit : 314389\n",
      "Net profit : -4448944.490514319\n"
     ]
    },
    {
     "name": "stderr",
     "output_type": "stream",
     "text": [
      "c:\\Users\\USER\\anaconda3\\envs\\exeter\\Lib\\site-packages\\seaborn\\_oldcore.py:1498: FutureWarning: is_categorical_dtype is deprecated and will be removed in a future version. Use isinstance(dtype, CategoricalDtype) instead\n",
      "  if pd.api.types.is_categorical_dtype(vector):\n",
      "c:\\Users\\USER\\anaconda3\\envs\\exeter\\Lib\\site-packages\\seaborn\\_oldcore.py:1498: FutureWarning: is_categorical_dtype is deprecated and will be removed in a future version. Use isinstance(dtype, CategoricalDtype) instead\n",
      "  if pd.api.types.is_categorical_dtype(vector):\n",
      "c:\\Users\\USER\\anaconda3\\envs\\exeter\\Lib\\site-packages\\seaborn\\_oldcore.py:1498: FutureWarning: is_categorical_dtype is deprecated and will be removed in a future version. Use isinstance(dtype, CategoricalDtype) instead\n",
      "  if pd.api.types.is_categorical_dtype(vector):\n",
      "c:\\Users\\USER\\anaconda3\\envs\\exeter\\Lib\\site-packages\\seaborn\\_oldcore.py:1498: FutureWarning: is_categorical_dtype is deprecated and will be removed in a future version. Use isinstance(dtype, CategoricalDtype) instead\n",
      "  if pd.api.types.is_categorical_dtype(vector):\n",
      "c:\\Users\\USER\\anaconda3\\envs\\exeter\\Lib\\site-packages\\seaborn\\_oldcore.py:1498: FutureWarning: is_categorical_dtype is deprecated and will be removed in a future version. Use isinstance(dtype, CategoricalDtype) instead\n",
      "  if pd.api.types.is_categorical_dtype(vector):\n"
     ]
    },
    {
     "data": {
      "image/png": "[encoded data removed]",
      "text/plain": [
       "<Figure size 640x480 with 1 Axes>"
      ]
     },
     "metadata": {},
     "output_type": "display_data"
    }
   ],
   "source": [
    "plot_experiment_results(data0,ga0,res0)"
   ]
  },
  {
   "cell_type": "markdown",
   "metadata": {},
   "source": [
    "a280-n1395"
   ]
  },
  {
   "cell_type": "code",
   "execution_count": 58,
   "metadata": {},
   "outputs": [],
   "source": [
    "data1 = read_problem(path[1])\n",
    "ga1 = GA(\n",
    "    data1,\n",
    "    pop_size,\n",
    "    max_generation,\n",
    "    tour_size,\n",
    "    mut_prob,\n",
    "    cross_prob\n",
    ")\n",
    "res1 = ga1.run()"
   ]
  },
  {
   "cell_type": "code",
   "execution_count": 59,
   "metadata": {},
   "outputs": [
    {
     "name": "stdout",
     "output_type": "stream",
     "text": [
      "======MetaData======\n",
      "name : a280-TTP\n",
      "num dimension : 280\n",
      "num item : 279\n",
      "max weight : 25936\n",
      "speed range: [0.1,1.0]\n",
      "renting ratio : 5.61\n",
      "======Genetic parameters======\n",
      "max iteration: 1000\n",
      "max population: 100\n",
      "max toursize: 60\n",
      "======experiment result======\n",
      "time executed: 16.160004138946533 seconds\n",
      "best path : [233, 121, 45, 211, 183, 34, 43, 69, 231, 203, 157, 256, 148, 175, 49, 65, 20, 253, 5, 261, 141, 229, 142, 224, 220, 275, 279, 116, 72, 182, 132, 54, 164, 201, 2, 167, 222, 47, 200, 25, 100, 181, 196, 219, 96, 230, 1, 268, 78, 66, 97, 58, 122, 276, 93, 111, 50, 206, 150, 216, 251, 235, 77, 139, 27, 263, 147, 67, 130, 89, 193, 190, 152, 55, 16, 144, 86, 31, 73, 166, 191, 38, 41, 227, 4, 202, 221, 237, 273, 52, 62, 75, 225, 159, 90, 205, 271, 242, 172, 149, 199, 267, 126, 170, 266, 204, 156, 74, 19, 128, 215, 68, 259, 277, 14, 29, 28, 32, 59, 91, 173, 109, 138, 270, 272, 133, 151, 101, 92, 187, 169, 80, 84, 23, 239, 209, 210, 103, 154, 234, 213, 226, 208, 134, 127, 262, 137, 26, 162, 115, 98, 56, 33, 60, 184, 94, 163, 3, 274, 12, 39, 36, 9, 71, 85, 185, 99, 212, 198, 158, 207, 48, 57, 117, 113, 24, 252, 238, 241, 236, 153, 125, 110, 146, 112, 53, 40, 88, 37, 247, 269, 264, 258, 155, 243, 119, 143, 123, 179, 107, 165, 79, 81, 82, 108, 248, 246, 188, 63, 171, 46, 160, 194, 255, 280, 13, 15, 129, 104, 118, 174, 22, 30, 87, 131, 257, 217, 223, 232, 244, 278, 240, 228, 102, 124, 176, 114, 35, 61, 145, 70, 195, 249, 180, 186, 106, 245, 135, 76, 140, 189, 192, 178, 11, 7, 254, 136, 95, 197, 21, 168, 83, 64, 51, 44, 10, 218, 161, 105, 265, 42, 120, 6, 250, 17, 8, 18, 214, 177, 260] | best plan : [0, 0, 0, 1, 1, 0, 1, 0, 1, 0, 1, 0, 0, 0, 0, 0, 0, 0, 0, 1, 1, 0, 0, 0, 0, 0, 0, 0, 0, 0, 0, 0, 0, 0, 0, 0, 0, 0, 0, 0, 1, 0, 1, 1, 0, 0, 0, 1, 1, 1, 0, 0, 0, 0, 0, 0, 0, 0, 0, 1, 0, 0, 0, 0, 0, 0, 0, 0, 0, 0, 0, 0, 0, 0, 0, 0, 0, 0, 0, 0, 0, 0, 0, 0, 0, 0, 0, 0, 0, 0, 0, 0, 0, 0, 0, 0, 0, 0, 1, 0, 1, 1, 1, 1, 1, 1, 1, 0, 1, 0, 0, 0, 0, 0, 0, 0, 0, 0, 0, 0, 0, 0, 0, 0, 0, 0, 0, 0, 0, 0, 0, 0, 0, 0, 0, 0, 0, 0, 0, 0, 0, 0, 0, 1, 0, 0, 0, 0, 0, 0, 0, 0, 0, 0, 0, 0, 0, 0, 0, 0, 0, 0, 0, 0, 0, 0, 0, 0, 0, 0, 0, 0, 0, 0, 0, 1, 1, 0, 0, 0, 0, 0, 0, 0, 0, 0, 0, 0, 0, 0, 0, 0, 0, 0, 0, 0, 0, 0, 0, 0, 0, 0, 0, 0, 0, 0, 0, 0, 0, 0, 0, 0, 0, 0, 0, 0, 0, 0, 0, 0, 0, 0, 0, 0, 0, 0, 0, 0, 0, 0, 0, 0, 0, 0, 0, 0, 0, 0, 0, 0, 0, 0, 0, 0, 0, 0, 0, 0, 0, 0, 0, 0, 0, 0, 0, 0, 0, 0, 0, 0, 0, 0, 0, 0, 0, 0, 0, 0, 0, 0, 0, 0, 0, 0, 0, 0, 0, 0, 0]\n",
      "time : 31172.85254682569 | profit : 21417\n",
      "Net profit : -153462.70278769213\n"
     ]
    },
    {
     "name": "stderr",
     "output_type": "stream",
     "text": [
      "c:\\Users\\USER\\anaconda3\\envs\\exeter\\Lib\\site-packages\\seaborn\\_oldcore.py:1498: FutureWarning: is_categorical_dtype is deprecated and will be removed in a future version. Use isinstance(dtype, CategoricalDtype) instead\n",
      "  if pd.api.types.is_categorical_dtype(vector):\n",
      "c:\\Users\\USER\\anaconda3\\envs\\exeter\\Lib\\site-packages\\seaborn\\_oldcore.py:1498: FutureWarning: is_categorical_dtype is deprecated and will be removed in a future version. Use isinstance(dtype, CategoricalDtype) instead\n",
      "  if pd.api.types.is_categorical_dtype(vector):\n",
      "c:\\Users\\USER\\anaconda3\\envs\\exeter\\Lib\\site-packages\\seaborn\\_oldcore.py:1498: FutureWarning: is_categorical_dtype is deprecated and will be removed in a future version. Use isinstance(dtype, CategoricalDtype) instead\n",
      "  if pd.api.types.is_categorical_dtype(vector):\n",
      "c:\\Users\\USER\\anaconda3\\envs\\exeter\\Lib\\site-packages\\seaborn\\_oldcore.py:1498: FutureWarning: is_categorical_dtype is deprecated and will be removed in a future version. Use isinstance(dtype, CategoricalDtype) instead\n",
      "  if pd.api.types.is_categorical_dtype(vector):\n",
      "c:\\Users\\USER\\anaconda3\\envs\\exeter\\Lib\\site-packages\\seaborn\\_oldcore.py:1498: FutureWarning: is_categorical_dtype is deprecated and will be removed in a future version. Use isinstance(dtype, CategoricalDtype) instead\n",
      "  if pd.api.types.is_categorical_dtype(vector):\n"
     ]
    },
    {
     "data": {
      "image/png": "[encoded data removed]",
      "text/plain": [
       "<Figure size 640x480 with 1 Axes>"
      ]
     },
     "metadata": {},
     "output_type": "display_data"
    }
   ],
   "source": [
    "plot_experiment_results(data1,ga1,res1)"
   ]
  },
  {
   "cell_type": "markdown",
   "metadata": {},
   "source": [
    "a280-n2790"
   ]
  },
  {
   "cell_type": "code",
   "execution_count": 60,
   "metadata": {},
   "outputs": [],
   "source": [
    "data2 = read_problem(path[2])\n",
    "ga2 = GA(\n",
    "    data2,\n",
    "    pop_size,\n",
    "    max_generation,\n",
    "    tour_size,\n",
    "    mut_prob,\n",
    "    cross_prob\n",
    ")\n",
    "res2 = ga2.run()"
   ]
  },
  {
   "cell_type": "code",
   "execution_count": 61,
   "metadata": {},
   "outputs": [
    {
     "name": "stdout",
     "output_type": "stream",
     "text": [
      "======MetaData======\n",
      "name : a280-TTP\n",
      "num dimension : 280\n",
      "num item : 2790\n",
      "max weight : 1262022\n",
      "speed range: [0.1,1.0]\n",
      "renting ratio : 208.53\n",
      "======Genetic parameters======\n",
      "max iteration: 1000\n",
      "max population: 100\n",
      "max toursize: 60\n",
      "======experiment result======\n",
      "time executed: 163.9059545993805 seconds\n",
      "best path : [146, 114, 41, 12, 245, 254, 215, 234, 218, 151, 107, 24, 13, 11, 247, 49, 37, 31, 32, 69, 33, 105, 115, 172, 179, 213, 119, 201, 202, 239, 274, 262, 161, 44, 82, 98, 126, 273, 60, 81, 108, 84, 100, 99, 167, 173, 116, 95, 75, 7, 237, 236, 280, 130, 18, 48, 51, 267, 25, 150, 156, 199, 92, 168, 66, 277, 198, 26, 200, 235, 226, 224, 89, 103, 61, 163, 164, 174, 54, 70, 181, 157, 176, 110, 19, 197, 207, 4, 253, 205, 193, 142, 260, 129, 133, 112, 38, 122, 47, 118, 147, 258, 275, 242, 125, 123, 5, 252, 96, 94, 165, 79, 71, 73, 67, 46, 68, 36, 23, 171, 182, 169, 194, 180, 196, 160, 183, 138, 256, 241, 233, 212, 227, 230, 135, 166, 184, 57, 59, 20, 56, 109, 52, 76, 120, 269, 93, 117, 64, 62, 91, 39, 175, 104, 80, 195, 74, 86, 97, 88, 58, 50, 40, 159, 186, 263, 22, 16, 127, 72, 35, 15, 143, 211, 178, 154, 250, 6, 192, 188, 87, 53, 45, 28, 124, 121, 148, 1, 3, 209, 264, 223, 246, 232, 220, 203, 145, 266, 279, 189, 191, 21, 259, 14, 255, 139, 149, 162, 155, 153, 222, 238, 240, 251, 248, 231, 170, 190, 185, 101, 102, 106, 132, 144, 42, 77, 90, 113, 27, 55, 30, 128, 265, 136, 134, 271, 208, 244, 210, 187, 225, 219, 221, 257, 131, 17, 270, 8, 261, 204, 268, 276, 2, 243, 214, 228, 217, 229, 249, 278, 272, 9, 137, 141, 158, 10, 206, 216, 83, 85, 111, 65, 63, 152, 29, 78, 34, 140, 177, 43] | best plan : [0, 0, 1, 1, 0, 0, 0, 1, 0, 1, 1, 0, 0, 0, 1, 0, 1, 1, 0, 0, 0, 0, 1, 0, 1, 0, 0, 1, 1, 0, 0, 0, 0, 1, 0, 1, 0, 0, 1, 0, 1, 0, 1, 1, 1, 0, 0, 0, 0, 0, 1, 0, 1, 0, 0, 1, 1, 0, 0, 1, 0, 0, 0, 0, 1, 0, 0, 0, 0, 0, 0, 0, 0, 1, 1, 1, 0, 1, 1, 1, 1, 0, 1, 1, 1, 1, 1, 0, 1, 0, 1, 1, 1, 0, 0, 1, 0, 0, 0, 0, 1, 0, 1, 0, 0, 0, 1, 0, 0, 0, 1, 0, 0, 0, 1, 0, 1, 1, 0, 1, 1, 1, 0, 1, 1, 1, 1, 1, 1, 0, 0, 0, 0, 1, 0, 1, 1, 1, 0, 0, 0, 1, 0, 1, 1, 1, 0, 0, 1, 0, 0, 0, 0, 1, 0, 0, 0, 1, 0, 0, 0, 1, 1, 0, 1, 1, 1, 0, 1, 1, 1, 0, 0, 0, 1, 1, 1, 0, 0, 1, 0, 0, 1, 0, 1, 0, 0, 0, 0, 1, 0, 0, 1, 0, 1, 0, 1, 0, 0, 1, 1, 0, 1, 0, 0, 0, 0, 1, 1, 0, 0, 0, 1, 1, 1, 1, 0, 0, 1, 1, 0, 0, 0, 0, 0, 0, 1, 0, 1, 1, 1, 1, 0, 1, 0, 0, 1, 0, 1, 0, 1, 1, 1, 1, 0, 0, 0, 0, 1, 1, 0, 1, 1, 1, 1, 0, 0, 1, 0, 0, 1, 1, 0, 0, 1, 0, 1, 1, 1, 0, 1, 0, 0, 1, 1, 0, 0, 1, 0, 0, 0, 1, 0, 1, 0, 1, 1, 0, 0, 0, 0, 1, 1, 1, 1, 1, 0, 0, 1, 0, 1, 0, 0, 1, 1, 1, 1, 1, 0, 0, 0, 0, 1, 1, 0, 0, 0, 0, 0, 0, 1, 0, 1, 0, 0, 0, 1, 1, 1, 0, 1, 0, 1, 1, 1, 1, 1, 1, 0, 0, 0, 1, 0, 1, 0, 1, 0, 0, 0, 1, 1, 1, 0, 1, 0, 1, 1, 1, 0, 0, 0, 0, 1, 1, 0, 1, 1, 0, 0, 0, 1, 0, 0, 0, 0, 0, 0, 0, 1, 0, 1, 0, 1, 1, 1, 1, 0, 0, 0, 0, 1, 0, 1, 1, 0, 0, 0, 0, 1, 0, 0, 0, 0, 0, 1, 1, 1, 1, 0, 0, 0, 1, 1, 0, 0, 1, 1, 1, 1, 1, 1, 0, 0, 0, 0, 0, 0, 0, 0, 1, 0, 0, 1, 1, 0, 1, 0, 1, 1, 1, 0, 1, 0, 1, 1, 1, 1, 0, 0, 0, 0, 0, 0, 0, 0, 1, 1, 0, 0, 1, 0, 0, 1, 0, 1, 1, 1, 0, 1, 1, 1, 0, 1, 0, 1, 0, 0, 1, 1, 0, 1, 1, 0, 1, 1, 1, 0, 0, 0, 0, 1, 0, 0, 0, 1, 1, 0, 1, 1, 0, 1, 0, 0, 1, 0, 0, 1, 0, 1, 1, 0, 1, 0, 1, 0, 1, 0, 0, 0, 0, 1, 1, 0, 1, 1, 1, 1, 1, 1, 1, 0, 0, 0, 0, 0, 0, 1, 0, 0, 1, 1, 0, 0, 1, 1, 0, 0, 1, 1, 0, 1, 0, 1, 1, 1, 1, 1, 0, 0, 1, 0, 0, 0, 1, 1, 0, 0, 0, 0, 1, 0, 1, 0, 1, 0, 0, 0, 0, 0, 0, 0, 0, 0, 0, 0, 0, 1, 1, 0, 1, 1, 0, 0, 0, 1, 0, 1, 1, 0, 0, 1, 1, 0, 1, 0, 0, 1, 0, 0, 0, 1, 1, 1, 0, 1, 1, 1, 1, 1, 0, 1, 0, 0, 0, 0, 0, 0, 1, 1, 0, 1, 1, 1, 0, 0, 0, 0, 0, 0, 0, 1, 1, 1, 1, 0, 0, 1, 0, 1, 1, 1, 1, 0, 0, 1, 0, 0, 0, 1, 0, 1, 1, 1, 0, 0, 1, 1, 1, 0, 0, 0, 0, 0, 0, 1, 1, 1, 0, 1, 1, 1, 0, 0, 1, 0, 0, 0, 1, 1, 0, 1, 0, 1, 1, 1, 1, 1, 1, 0, 0, 0, 1, 0, 0, 0, 1, 0, 1, 0, 0, 1, 0, 1, 0, 0, 0, 0, 1, 0, 1, 1, 0, 1, 1, 1, 1, 1, 0, 0, 1, 1, 1, 0, 1, 1, 0, 0, 0, 0, 0, 0, 0, 0, 0, 0, 0, 0, 0, 1, 0, 1, 1, 1, 0, 1, 1, 0, 1, 0, 0, 1, 0, 1, 1, 1, 0, 1, 0, 1, 0, 1, 0, 1, 1, 0, 0, 0, 0, 0, 1, 0, 1, 0, 0, 0, 1, 0, 0, 1, 0, 0, 1, 1, 0, 0, 0, 1, 0, 0, 0, 1, 1, 0, 0, 1, 1, 1, 1, 1, 1, 1, 0, 0, 0, 1, 0, 0, 0, 0, 1, 1, 0, 1, 0, 0, 0, 0, 0, 1, 0, 0, 0, 1, 0, 0, 0, 1, 1, 1, 1, 0, 1, 1, 0, 1, 1, 0, 0, 0, 0, 1, 0, 1, 1, 0, 0, 0, 1, 1, 0, 1, 0, 1, 0, 1, 1, 1, 1, 1, 0, 1, 0, 0, 0, 0, 1, 0, 0, 0, 0, 0, 1, 0, 1, 1, 0, 1, 0, 0, 0, 0, 1, 0, 1, 1, 0, 1, 1, 0, 0, 0, 0, 1, 0, 0, 1, 0, 0, 1, 1, 0, 0, 0, 1, 1, 0, 1, 0, 1, 1, 0, 0, 0, 0, 1, 1, 0, 0, 0, 0, 0, 1, 1, 1, 0, 0, 0, 1, 0, 1, 0, 0, 1, 0, 1, 0, 1, 0, 1, 0, 0, 1, 1, 1, 1, 1, 1, 1, 1, 0, 0, 1, 1, 1, 1, 0, 1, 0, 1, 0, 0, 1, 1, 0, 1, 1, 1, 0, 1, 1, 0, 1, 0, 0, 1, 1, 0, 0, 1, 0, 1, 0, 0, 1, 0, 1, 0, 0, 0, 1, 0, 1, 0, 0, 1, 0, 1, 1, 1, 1, 1, 0, 1, 1, 0, 0, 1, 1, 0, 1, 1, 0, 0, 0, 1, 0, 1, 0, 0, 1, 0, 1, 1, 1, 1, 0, 1, 0, 0, 1, 1, 1, 0, 1, 1, 0, 0, 0, 1, 1, 1, 1, 0, 1, 0, 0, 0, 0, 0, 1, 1, 0, 1, 1, 1, 0, 1, 0, 0, 0, 0, 1, 1, 1, 0, 1, 1, 0, 0, 1, 0, 1, 0, 1, 1, 0, 1, 1, 1, 1, 0, 0, 0, 0, 0, 0, 1, 0, 1, 1, 0, 1, 0, 0, 0, 1, 1, 0, 1, 1, 0, 1, 1, 1, 1, 1, 1, 0, 0, 1, 0, 0, 1, 1, 0, 0, 0, 1, 0, 1, 1, 1, 0, 0, 1, 1, 1, 1, 1, 1, 0, 0, 0, 1, 1, 1, 0, 0, 0, 1, 1, 1, 1, 1, 1, 1, 0, 0, 1, 1, 1, 1, 1, 0, 1, 1, 0, 1, 0, 0, 1, 0, 0, 1, 1, 1, 1, 1, 0, 0, 1, 1, 1, 0, 1, 0, 0, 0, 1, 1, 1, 1, 1, 0, 0, 0, 1, 0, 1, 0, 1, 0, 1, 0, 0, 0, 1, 0, 0, 1, 0, 1, 1, 0, 0, 0, 0, 1, 0, 0, 1, 1, 1, 1, 1, 1, 0, 0, 0, 1, 0, 0, 0, 1, 0, 1, 1, 1, 1, 0, 0, 0, 1, 1, 1, 1, 0, 0, 0, 0, 0, 0, 1, 1, 0, 1, 0, 1, 0, 0, 1, 0, 1, 0, 0, 0, 0, 1, 1, 1, 0, 1, 0, 0, 0, 1, 0, 1, 0, 1, 0, 0, 1, 0, 1, 0, 1, 1, 1, 0, 1, 0, 1, 0, 1, 0, 1, 1, 0, 1, 0, 0, 1, 1, 1, 1, 0, 0, 0, 0, 1, 1, 0, 0, 1, 0, 0, 1, 0, 0, 1, 1, 0, 0, 0, 0, 1, 0, 0, 0, 1, 0, 1, 1, 1, 0, 0, 1, 0, 0, 0, 1, 0, 1, 1, 0, 1, 1, 1, 0, 1, 0, 0, 1, 1, 1, 0, 0, 0, 1, 1, 1, 0, 1, 0, 0, 0, 0, 0, 0, 1, 1, 1, 0, 1, 0, 0, 1, 0, 0, 0, 0, 0, 1, 0, 0, 1, 1, 1, 0, 0, 0, 0, 0, 0, 1, 0, 1, 0, 1, 0, 0, 1, 1, 0, 1, 1, 1, 1, 1, 1, 1, 1, 1, 1, 1, 0, 1, 0, 1, 1, 0, 1, 0, 1, 1, 0, 0, 0, 0, 0, 1, 1, 1, 1, 0, 1, 1, 1, 0, 0, 0, 1, 1, 1, 0, 1, 1, 0, 0, 0, 1, 1, 1, 1, 0, 1, 1, 1, 1, 1, 0, 0, 1, 0, 0, 1, 1, 1, 0, 0, 1, 0, 0, 0, 1, 1, 0, 0, 1, 0, 0, 1, 0, 1, 0, 1, 0, 1, 1, 1, 0, 1, 0, 1, 1, 0, 1, 0, 1, 1, 1, 1, 1, 0, 0, 0, 0, 1, 0, 0, 1, 0, 0, 1, 1, 1, 0, 1, 0, 1, 1, 1, 0, 1, 1, 0, 0, 1, 0, 0, 0, 1, 0, 1, 0, 1, 1, 1, 1, 0, 1, 0, 1, 1, 0, 1, 1, 0, 0, 0, 1, 1, 0, 0, 0, 0, 0, 1, 0, 0, 1, 0, 1, 0, 1, 1, 1, 1, 1, 1, 1, 1, 1, 0, 0, 0, 1, 1, 1, 1, 0, 0, 1, 1, 0, 1, 0, 1, 0, 0, 0, 1, 1, 1, 0, 1, 0, 1, 0, 1, 1, 1, 1, 1, 1, 0, 1, 1, 0, 0, 0, 1, 1, 1, 1, 1, 1, 1, 1, 1, 0, 1, 1, 1, 0, 0, 1, 1, 0, 0, 0, 1, 0, 1, 1, 0, 0, 0, 1, 1, 0, 1, 1, 0, 0, 0, 0, 1, 1, 1, 1, 0, 1, 1, 0, 1, 1, 0, 1, 1, 0, 0, 0, 0, 1, 0, 1, 0, 0, 1, 1, 0, 1, 1, 0, 0, 1, 1, 1, 1, 1, 1, 1, 1, 0, 0, 1, 0, 1, 0, 0, 0, 1, 1, 1, 0, 0, 0, 1, 0, 1, 0, 0, 0, 0, 1, 1, 1, 1, 0, 1, 0, 0, 1, 0, 0, 1, 1, 0, 0, 0, 0, 0, 0, 0, 0, 0, 0, 1, 0, 0, 1, 0, 1, 1, 1, 0, 1, 1, 0, 1, 0, 1, 0, 0, 0, 1, 1, 1, 1, 0, 1, 0, 1, 1, 0, 1, 0, 0, 1, 0, 0, 0, 1, 1, 1, 1, 0, 1, 0, 1, 0, 1, 0, 0, 1, 0, 0, 1, 0, 0, 0, 1, 0, 1, 0, 1, 1, 1, 0, 1, 1, 1, 1, 0, 0, 0, 0, 0, 0, 0, 0, 1, 1, 1, 1, 1, 0, 1, 0, 0, 1, 0, 1, 0, 0, 0, 0, 1, 0, 1, 0, 0, 0, 0, 0, 0, 0, 1, 1, 1, 1, 1, 1, 1, 0, 1, 1, 1, 0, 1, 1, 1, 1, 0, 0, 0, 1, 1, 1, 0, 0, 1, 1, 0, 0, 1, 1, 0, 0, 0, 0, 1, 0, 1, 0, 1, 1, 0, 1, 1, 1, 0, 1, 1, 0, 0, 0, 0, 0, 1, 0, 0, 0, 0, 0, 1, 0, 0, 0, 1, 1, 0, 1, 0, 0, 0, 1, 0, 0, 1, 1, 1, 0, 0, 1, 0, 1, 0, 0, 0, 0, 0, 0, 1, 0, 0, 0, 0, 1, 1, 1, 1, 1, 1, 0, 1, 0, 1, 0, 0, 1, 1, 0, 1, 1, 0, 0, 1, 1, 1, 1, 1, 1, 0, 0, 0, 0, 0, 1, 1, 1, 1, 1, 1, 1, 1, 1, 0, 0, 1, 1, 1, 0, 1, 0, 0, 0, 0, 0, 1, 0, 1, 0, 0, 0, 1, 1, 1, 1, 1, 0, 0, 0, 1, 1, 1, 1, 0, 0, 0, 0, 0, 1, 0, 0, 0, 0, 1, 0, 0, 0, 0, 1, 0, 0, 1, 0, 1, 1, 0, 1, 1, 1, 0, 1, 1, 1, 1, 0, 0, 1, 0, 1, 0, 0, 0, 1, 0, 1, 0, 0, 1, 0, 0, 1, 0, 1, 1, 1, 0, 0, 0, 0, 1, 0, 0, 1, 0, 0, 0, 1, 1, 1, 0, 1, 0, 0, 0, 1, 0, 0, 0, 0, 0, 0, 0, 0, 1, 0, 0, 1, 0, 0, 0, 0, 0, 0, 0, 0, 0, 1, 0, 0, 1, 0, 1, 1, 0, 0, 0, 1, 0, 1, 1, 0, 0, 0, 0, 0, 0, 0, 0, 1, 1, 0, 1, 0, 0, 0, 0, 0, 0, 0, 0, 0, 1, 0, 0, 1, 1, 0, 0, 1, 1, 1, 1, 1, 1, 1, 1, 0, 0, 1, 0, 1, 0, 0, 1, 0, 0, 1, 0, 1, 1, 1, 0, 0, 0, 0, 1, 0, 1, 1, 1, 1, 0, 1, 1, 0, 0, 1, 0, 1, 1, 1, 1, 0, 0, 0, 1, 1, 1, 0, 1, 0, 0, 1, 1, 1, 0, 1, 0, 1, 1, 0, 1, 0, 1, 1, 0, 0, 0, 0, 0, 0, 0, 1, 0, 0, 0, 1, 1, 0, 0, 0, 0, 1, 0, 1, 0, 0, 0, 0, 1, 1, 0, 1, 0, 1, 1, 1, 1, 0, 0, 0, 1, 1, 1, 0, 0, 0, 0, 1, 0, 0, 0, 0, 0, 1, 0, 0, 0, 0, 0, 1, 1, 1, 1, 0, 0, 1, 1, 0, 1, 0, 1, 1, 0, 0, 0, 1, 0, 1, 0, 1, 1, 0, 0, 1, 0, 0, 0, 0, 0, 1, 1, 0, 1, 1, 1, 0, 1, 0, 0, 1, 0, 1, 0, 0, 0, 0, 1, 0, 0, 1, 1, 1, 0, 0, 1, 1, 0, 0, 0, 1, 1, 0, 1, 1, 1, 0, 1, 0, 1, 1, 0, 0, 0, 1, 0, 1, 1, 0, 0, 1, 0, 1, 0, 0, 1, 0, 0, 0, 0, 0, 1, 1, 0, 1, 0, 1, 1, 1, 1, 0, 0, 0, 0, 0, 0, 0, 1, 0, 1, 1, 0, 0, 1, 0, 1, 0, 0, 1, 1, 1, 1, 0, 0, 1, 0, 1, 1, 0, 1, 1, 0, 1, 0, 1, 1, 0, 0, 1, 0, 1, 0, 1, 0, 1, 0, 1, 0, 1, 1, 1, 1, 1, 1, 1, 1, 1, 0, 1, 0, 1, 1, 1, 1, 1, 1, 0, 1, 0, 0, 1, 0, 1, 0, 1, 1, 1, 1, 0, 1, 1, 0, 1, 1, 1, 0, 0, 0, 0, 1, 1, 0, 1, 1, 1, 1, 1, 0, 1, 1, 0, 1, 1, 0, 1, 1, 1, 1, 1, 0, 1, 1, 0, 0, 1, 0, 1, 1, 1, 1, 1, 1, 1, 0, 1, 1, 0, 0, 0, 1, 1, 0, 0, 0, 0, 1, 0, 1, 0, 1, 0, 1, 1, 1, 0, 1, 0, 1, 0, 0, 1, 0, 0, 1, 0, 1, 0, 1, 1, 0, 0, 0, 0, 0, 0, 0, 0, 0, 0, 1, 0, 0, 1, 0, 1, 0, 1, 1, 0, 0, 1, 1, 1, 0, 1, 1, 1, 1, 0, 0, 1, 1, 1, 1, 0, 1, 0, 1, 0, 1, 0, 1, 0, 0, 0, 1, 0, 0, 0, 0, 1, 1, 0, 1, 0, 0, 1, 0, 0, 1, 0, 1, 0, 0, 1, 1, 1, 1, 1, 0, 0, 0, 1, 0, 1, 1, 1, 0, 0, 1, 1, 1, 0, 1, 1, 1, 1, 1, 1, 0, 1, 0, 0, 0, 0, 1, 1, 1, 1, 0, 0, 1, 1, 0, 0, 0, 1, 1, 1, 0, 1, 0, 0, 1, 1, 0, 1, 0, 0, 0, 1, 1, 0, 0, 0, 1, 1, 0, 0, 0, 0, 0, 0, 1, 1, 1, 0, 0, 0, 1, 0, 1, 0, 1, 0, 1, 0, 0, 1, 0, 0, 0, 1, 0, 1, 0, 1, 0, 0, 0, 1, 1, 0, 1, 1, 0, 0, 0, 1, 0, 1, 1, 0, 0, 1, 0, 1, 0, 0, 1, 0, 1, 1, 1, 0, 0, 1, 0, 1, 0, 0, 0, 1, 0, 0, 0, 1, 0, 0, 0, 0, 1, 1, 0, 0, 1, 1, 0, 0, 0, 0, 0, 0, 1, 0, 0, 0, 1, 1, 0, 0, 0, 0, 0, 1, 1, 0, 1, 1, 0, 0, 1, 1, 0, 0, 0, 0, 0, 0, 1, 0, 0, 1, 0, 0, 0, 0, 0, 0, 1, 1, 0, 1, 1, 0, 1, 0, 1, 0, 0, 0, 1, 0, 0, 0, 0, 0, 1, 1, 1, 1, 1, 0, 0, 1, 1, 0, 0, 1, 0, 0, 0, 0, 0]\n",
      "time : 27794.598346634437 | profit : 658946\n",
      "Net profit : -5137061.593223679\n"
     ]
    },
    {
     "name": "stderr",
     "output_type": "stream",
     "text": [
      "c:\\Users\\USER\\anaconda3\\envs\\exeter\\Lib\\site-packages\\seaborn\\_oldcore.py:1498: FutureWarning: is_categorical_dtype is deprecated and will be removed in a future version. Use isinstance(dtype, CategoricalDtype) instead\n",
      "  if pd.api.types.is_categorical_dtype(vector):\n",
      "c:\\Users\\USER\\anaconda3\\envs\\exeter\\Lib\\site-packages\\seaborn\\_oldcore.py:1498: FutureWarning: is_categorical_dtype is deprecated and will be removed in a future version. Use isinstance(dtype, CategoricalDtype) instead\n",
      "  if pd.api.types.is_categorical_dtype(vector):\n",
      "c:\\Users\\USER\\anaconda3\\envs\\exeter\\Lib\\site-packages\\seaborn\\_oldcore.py:1498: FutureWarning: is_categorical_dtype is deprecated and will be removed in a future version. Use isinstance(dtype, CategoricalDtype) instead\n",
      "  if pd.api.types.is_categorical_dtype(vector):\n",
      "c:\\Users\\USER\\anaconda3\\envs\\exeter\\Lib\\site-packages\\seaborn\\_oldcore.py:1498: FutureWarning: is_categorical_dtype is deprecated and will be removed in a future version. Use isinstance(dtype, CategoricalDtype) instead\n",
      "  if pd.api.types.is_categorical_dtype(vector):\n",
      "c:\\Users\\USER\\anaconda3\\envs\\exeter\\Lib\\site-packages\\seaborn\\_oldcore.py:1498: FutureWarning: is_categorical_dtype is deprecated and will be removed in a future version. Use isinstance(dtype, CategoricalDtype) instead\n",
      "  if pd.api.types.is_categorical_dtype(vector):\n"
     ]
    },
    {
     "data": {
      "image/png": "[encoded data removed]",
      "text/plain": [
       "<Figure size 640x480 with 1 Axes>"
      ]
     },
     "metadata": {},
     "output_type": "display_data"
    }
   ],
   "source": [
    "plot_experiment_results(data2,ga2,res2)"
   ]
  },
  {
   "cell_type": "markdown",
   "metadata": {},
   "source": [
    "fnl4461-n4460"
   ]
  },
  {
   "cell_type": "code",
   "execution_count": 62,
   "metadata": {},
   "outputs": [],
   "source": [
    "data3 = read_problem(path[3])\n",
    "ga3 = GA(\n",
    "    data3,\n",
    "    pop_size,\n",
    "    max_generation, \n",
    "    tour_size,\n",
    "    mut_prob,\n",
    "    cross_prob\n",
    ")\n",
    "res3 = ga3.run()"
   ]
  },
  {
   "cell_type": "code",
   "execution_count": null,
   "metadata": {},
   "outputs": [],
   "source": [
    "plot_experiment_results(data3,ga3,res3)"
   ]
  },
  {
   "cell_type": "markdown",
   "metadata": {},
   "source": [
    "fnl4461-n22300"
   ]
  },
  {
   "cell_type": "code",
   "execution_count": null,
   "metadata": {},
   "outputs": [],
   "source": [
    "data4 = read_problem(path[4])\n",
    "ga4 = GA(\n",
    "    data4,\n",
    "    pop_size,\n",
    "    max_generation,\n",
    "    tour_size,\n",
    "    mut_prob,\n",
    "    cross_prob\n",
    ")\n",
    "res4 = ga4.run()"
   ]
  },
  {
   "cell_type": "code",
   "execution_count": null,
   "metadata": {},
   "outputs": [],
   "source": [
    "plot_experiment_results(data4,ga4,res4)"
   ]
  },
  {
   "cell_type": "markdown",
   "metadata": {},
   "source": [
    "fnl4461-n44600"
   ]
  },
  {
   "cell_type": "code",
   "execution_count": null,
   "metadata": {},
   "outputs": [],
   "source": [
    "data5 = read_problem(path[5])\n",
    "ga5 = GA(\n",
    "    data5,\n",
    "    pop_size,\n",
    "    max_generation,\n",
    "    tour_size,\n",
    "    mut_prob,\n",
    "    cross_prob\n",
    ")\n",
    "res5 = ga5.run()"
   ]
  },
  {
   "cell_type": "code",
   "execution_count": null,
   "metadata": {},
   "outputs": [],
   "source": [
    "plot_experiment_results(data5,ga5,res5)"
   ]
  },
  {
   "cell_type": "markdown",
   "metadata": {},
   "source": [
    "pla33810-n33809"
   ]
  },
  {
   "cell_type": "code",
   "execution_count": null,
   "metadata": {},
   "outputs": [],
   "source": [
    "data6 = read_problem(path[6])\n",
    "ga6 = GA(\n",
    "    data6,\n",
    "    pop_size,\n",
    "    max_generation,\n",
    "    tour_size,\n",
    "    mut_prob,\n",
    "    cross_prob\n",
    ")\n",
    "res6 = ga6.run()"
   ]
  },
  {
   "cell_type": "code",
   "execution_count": null,
   "metadata": {},
   "outputs": [],
   "source": [
    "plot_experiment_results(data6,ga6,res6)"
   ]
  },
  {
   "cell_type": "markdown",
   "metadata": {},
   "source": [
    "pla33810-n169045"
   ]
  },
  {
   "cell_type": "code",
   "execution_count": null,
   "metadata": {},
   "outputs": [],
   "source": [
    "data7 = read_problem(path[7])\n",
    "ga7 = GA(\n",
    "    data7,\n",
    "    pop_size,\n",
    "    max_generation,\n",
    "    tour_size,\n",
    "    mut_prob,\n",
    "    cross_prob\n",
    ")\n",
    "res7 = ga7.run()"
   ]
  },
  {
   "cell_type": "code",
   "execution_count": null,
   "metadata": {},
   "outputs": [],
   "source": [
    "plot_experiment_results(data7,ga7,res7)"
   ]
  },
  {
   "cell_type": "markdown",
   "metadata": {},
   "source": [
    "pla33810-n338090"
   ]
  },
  {
   "cell_type": "code",
   "execution_count": null,
   "metadata": {},
   "outputs": [],
   "source": [
    "data8 = read_problem(path[8])\n",
    "ga8 = GA(\n",
    "    data8,\n",
    "    pop_size,\n",
    "    max_generation,\n",
    "    tour_size,\n",
    "    mut_prob,\n",
    "    cross_prob\n",
    ")\n",
    "res8 = ga8.run()"
   ]
  },
  {
   "cell_type": "code",
   "execution_count": null,
   "metadata": {},
   "outputs": [],
   "source": [
    "plot_experiment_results(data8,ga8,res8)"
   ]
  },
  {
   "cell_type": "markdown",
   "metadata": {},
   "source": [
    "## Particle swarm optmization Algorithm"
   ]
  },
  {
   "cell_type": "markdown",
   "metadata": {},
   "source": [
    "### Experiment"
   ]
  },
  {
   "cell_type": "code",
   "execution_count": null,
   "metadata": {},
   "outputs": [],
   "source": [
    "num_particles = 30\n",
    "iterations = 100"
   ]
  },
  {
   "cell_type": "code",
   "execution_count": null,
   "metadata": {},
   "outputs": [
    {
     "data": {
      "text/plain": [
       "TTP(Name='Test', DTYPE='unknown', Dimension=4, ITEMS=3, CAPACITY=80, MIN_SPEED=0.1, MAX_SPEED=1.0, RENTING_RATIO=1.516, EDGE_W='CEIL_2D', NODE=[City(index=1, X=0.0, Y=0.0), City(index=2, X=4.0, Y=0.0), City(index=3, X=8.0, Y=3.0), City(index=4, X=0.0, Y=3.0)], ITEM=[Item(index=2, Profit=34, Weight=30, Node=2), Item(index=3, Profit=40, Weight=40, Node=3), Item(index=4, Profit=25, Weight=21, Node=4)])"
      ]
     },
     "execution_count": 32,
     "metadata": {},
     "output_type": "execute_result"
    }
   ],
   "source": [
    "data = read_problem('./datasets/test-example-n4.txt')\n",
    "data\n"
   ]
  },
  {
   "cell_type": "code",
   "execution_count": null,
   "metadata": {},
   "outputs": [],
   "source": [
    "pso = PSO(data,10,100)\n",
    "res = pso.run()"
   ]
  },
  {
   "cell_type": "code",
   "execution_count": null,
   "metadata": {},
   "outputs": [
    {
     "name": "stdout",
     "output_type": "stream",
     "text": [
      "======MetaData======\n",
      "name : Test\n",
      "num dimension : 4\n",
      "num item : 3\n",
      "max weight : 80\n",
      "speed range: [0.1,1.0]\n",
      "renting ratio : 1.516\n",
      "======Genetic parameters======\n",
      "max iteration: 100\n",
      "max population: 10\n",
      "======experiment result======\n",
      "best path : [1, 3, 2, 4] | best plan : [1, 0, 1]\n",
      "time : 28.585292978476183 | profit : 59\n",
      "Net profit : 15.66469584463011\n"
     ]
    },
    {
     "name": "stderr",
     "output_type": "stream",
     "text": [
      "c:\\Users\\USER\\anaconda3\\envs\\exeter\\Lib\\site-packages\\seaborn\\_oldcore.py:1498: FutureWarning: is_categorical_dtype is deprecated and will be removed in a future version. Use isinstance(dtype, CategoricalDtype) instead\n",
      "  if pd.api.types.is_categorical_dtype(vector):\n",
      "c:\\Users\\USER\\anaconda3\\envs\\exeter\\Lib\\site-packages\\seaborn\\_oldcore.py:1498: FutureWarning: is_categorical_dtype is deprecated and will be removed in a future version. Use isinstance(dtype, CategoricalDtype) instead\n",
      "  if pd.api.types.is_categorical_dtype(vector):\n",
      "c:\\Users\\USER\\anaconda3\\envs\\exeter\\Lib\\site-packages\\seaborn\\_oldcore.py:1498: FutureWarning: is_categorical_dtype is deprecated and will be removed in a future version. Use isinstance(dtype, CategoricalDtype) instead\n",
      "  if pd.api.types.is_categorical_dtype(vector):\n",
      "c:\\Users\\USER\\anaconda3\\envs\\exeter\\Lib\\site-packages\\seaborn\\_oldcore.py:1498: FutureWarning: is_categorical_dtype is deprecated and will be removed in a future version. Use isinstance(dtype, CategoricalDtype) instead\n",
      "  if pd.api.types.is_categorical_dtype(vector):\n",
      "c:\\Users\\USER\\anaconda3\\envs\\exeter\\Lib\\site-packages\\seaborn\\_oldcore.py:1498: FutureWarning: is_categorical_dtype is deprecated and will be removed in a future version. Use isinstance(dtype, CategoricalDtype) instead\n",
      "  if pd.api.types.is_categorical_dtype(vector):\n"
     ]
    },
    {
     "data": {
      "image/png": "[encoded data removed]",
      "text/plain": [
       "<Figure size 640x480 with 1 Axes>"
      ]
     },
     "metadata": {},
     "output_type": "display_data"
    }
   ],
   "source": [
    "plot_experiment_results2(data,pso,res)"
   ]
  },
  {
   "cell_type": "markdown",
   "metadata": {},
   "source": [
    "a280-n279"
   ]
  },
  {
   "cell_type": "code",
   "execution_count": null,
   "metadata": {},
   "outputs": [
    {
     "name": "stdout",
     "output_type": "stream",
     "text": [
      "Unexpected exception formatting exception. Falling back to standard exception\n"
     ]
    },
    {
     "name": "stderr",
     "output_type": "stream",
     "text": [
      "Traceback (most recent call last):\n",
      "  File \"c:\\Users\\USER\\anaconda3\\envs\\exeter\\Lib\\site-packages\\IPython\\core\\interactiveshell.py\", line 3526, in run_code\n",
      "    exec(code_obj, self.user_global_ns, self.user_ns)\n",
      "  File \"C:\\Users\\USER\\AppData\\Local\\Temp\\ipykernel_14444\\2472991605.py\", line 3, in <module>\n",
      "    pres0 = pso0.run()\n",
      "            ^^^^^^^^^^\n",
      "  File \"d:\\USERS\\Exeter\\Courses\\Module ECMM409 (2023) Nature-Inspired Computation\\Nature_inspired\\project02\\core\\pso.py\", line 222, in run\n",
      "    particle.update_personal_best()\n",
      "  File \"d:\\USERS\\Exeter\\Courses\\Module ECMM409 (2023) Nature-Inspired Computation\\Nature_inspired\\project02\\core\\pso.py\", line 176, in update_personal_best\n",
      "    self.current_score = self.calculate_score()\n",
      "                         ^^^^^^^^^^^^^^^^^^^^^^\n",
      "  File \"d:\\USERS\\Exeter\\Courses\\Module ECMM409 (2023) Nature-Inspired Computation\\Nature_inspired\\project02\\core\\pso.py\", line 171, in calculate_score\n",
      "    time, profit = calculate_time_and_profit(self.path, self.plan, self.data.NODE, self.data.ITEM, self.data.MIN_SPEED, self.data.MAX_SPEED, self.data.CAPACITY)\n",
      "                   ^^^^^^^^^^^^^^^^^^^^^^^^^^^^^^^^^^^^^^^^^^^^^^^^^^^^^^^^^^^^^^^^^^^^^^^^^^^^^^^^^^^^^^^^^^^^^^^^^^^^^^^^^^^^^^^^^^^^^^^^^^^^^^^^^^^^^^^^^^^^^\n",
      "  File \"d:\\USERS\\Exeter\\Courses\\Module ECMM409 (2023) Nature-Inspired Computation\\Nature_inspired\\project02\\core\\pso.py\", line -1, in calculate_time_and_profit\n",
      "KeyboardInterrupt\n",
      "\n",
      "During handling of the above exception, another exception occurred:\n",
      "\n",
      "Traceback (most recent call last):\n",
      "  File \"c:\\Users\\USER\\anaconda3\\envs\\exeter\\Lib\\site-packages\\IPython\\core\\interactiveshell.py\", line 2120, in showtraceback\n",
      "    stb = self.InteractiveTB.structured_traceback(\n",
      "          ^^^^^^^^^^^^^^^^^^^^^^^^^^^^^^^^^^^^^^^^\n",
      "  File \"c:\\Users\\USER\\anaconda3\\envs\\exeter\\Lib\\site-packages\\IPython\\core\\ultratb.py\", line 1435, in structured_traceback\n",
      "    return FormattedTB.structured_traceback(\n",
      "           ^^^^^^^^^^^^^^^^^^^^^^^^^^^^^^^^^\n",
      "  File \"c:\\Users\\USER\\anaconda3\\envs\\exeter\\Lib\\site-packages\\IPython\\core\\ultratb.py\", line 1326, in structured_traceback\n",
      "    return VerboseTB.structured_traceback(\n",
      "           ^^^^^^^^^^^^^^^^^^^^^^^^^^^^^^^\n",
      "  File \"c:\\Users\\USER\\anaconda3\\envs\\exeter\\Lib\\site-packages\\IPython\\core\\ultratb.py\", line 1173, in structured_traceback\n",
      "    formatted_exception = self.format_exception_as_a_whole(etype, evalue, etb, number_of_lines_of_context,\n",
      "                          ^^^^^^^^^^^^^^^^^^^^^^^^^^^^^^^^^^^^^^^^^^^^^^^^^^^^^^^^^^^^^^^^^^^^^^^^^^^^^^^^\n",
      "  File \"c:\\Users\\USER\\anaconda3\\envs\\exeter\\Lib\\site-packages\\IPython\\core\\ultratb.py\", line 1088, in format_exception_as_a_whole\n",
      "    frames.append(self.format_record(record))\n",
      "                  ^^^^^^^^^^^^^^^^^^^^^^^^^^\n",
      "  File \"c:\\Users\\USER\\anaconda3\\envs\\exeter\\Lib\\site-packages\\IPython\\core\\ultratb.py\", line 970, in format_record\n",
      "    frame_info.lines, Colors, self.has_colors, lvals\n",
      "    ^^^^^^^^^^^^^^^^\n",
      "  File \"c:\\Users\\USER\\anaconda3\\envs\\exeter\\Lib\\site-packages\\IPython\\core\\ultratb.py\", line 792, in lines\n",
      "    return self._sd.lines\n",
      "           ^^^^^^^^^^^^^^\n",
      "  File \"c:\\Users\\USER\\anaconda3\\envs\\exeter\\Lib\\site-packages\\stack_data\\utils.py\", line 144, in cached_property_wrapper\n",
      "    value = obj.__dict__[self.func.__name__] = self.func(obj)\n",
      "                                               ^^^^^^^^^^^^^^\n",
      "  File \"c:\\Users\\USER\\anaconda3\\envs\\exeter\\Lib\\site-packages\\stack_data\\core.py\", line 734, in lines\n",
      "    pieces = self.included_pieces\n",
      "             ^^^^^^^^^^^^^^^^^^^^\n",
      "  File \"c:\\Users\\USER\\anaconda3\\envs\\exeter\\Lib\\site-packages\\stack_data\\utils.py\", line 144, in cached_property_wrapper\n",
      "    value = obj.__dict__[self.func.__name__] = self.func(obj)\n",
      "                                               ^^^^^^^^^^^^^^\n",
      "  File \"c:\\Users\\USER\\anaconda3\\envs\\exeter\\Lib\\site-packages\\stack_data\\core.py\", line 681, in included_pieces\n",
      "    pos = scope_pieces.index(self.executing_piece)\n",
      "                             ^^^^^^^^^^^^^^^^^^^^\n",
      "  File \"c:\\Users\\USER\\anaconda3\\envs\\exeter\\Lib\\site-packages\\stack_data\\utils.py\", line 144, in cached_property_wrapper\n",
      "    value = obj.__dict__[self.func.__name__] = self.func(obj)\n",
      "                                               ^^^^^^^^^^^^^^\n",
      "  File \"c:\\Users\\USER\\anaconda3\\envs\\exeter\\Lib\\site-packages\\stack_data\\core.py\", line 660, in executing_piece\n",
      "    return only(\n",
      "           ^^^^^\n",
      "  File \"c:\\Users\\USER\\anaconda3\\envs\\exeter\\Lib\\site-packages\\executing\\executing.py\", line 190, in only\n",
      "    raise NotOneValueFound('Expected one value, found 0')\n",
      "executing.executing.NotOneValueFound: Expected one value, found 0\n"
     ]
    }
   ],
   "source": [
    "pdata0 = read_problem(path[0])\n",
    "pso0 = PSO(pdata0,num_particles,iterations)\n",
    "pres0 = pso0.run()\n",
    "plot_experiment_results2(pdata0,pso0,pres0)"
   ]
  },
  {
   "cell_type": "markdown",
   "metadata": {},
   "source": [
    "a280-n1395"
   ]
  },
  {
   "cell_type": "code",
   "execution_count": null,
   "metadata": {},
   "outputs": [],
   "source": [
    "pdata1 = read_problem(path[1])\n",
    "pso1 = PSO(pdata1,num_particles,iterations)\n",
    "pres1 = pso1.run()\n",
    "plot_experiment_results2(pdata1,pso1,pres1)"
   ]
  },
  {
   "cell_type": "markdown",
   "metadata": {},
   "source": [
    "a280-n2790"
   ]
  },
  {
   "cell_type": "code",
   "execution_count": null,
   "metadata": {},
   "outputs": [],
   "source": [
    "pdata2 = read_problem(path[2])\n",
    "pso2 = PSO(pdata2,num_particles,iterations)\n",
    "pres2 = pso2.run()\n",
    "plot_experiment_results2(pdata2,pso2,pres2)"
   ]
  },
  {
   "cell_type": "markdown",
   "metadata": {},
   "source": [
    "fnl4461-n4460"
   ]
  },
  {
   "cell_type": "code",
   "execution_count": null,
   "metadata": {},
   "outputs": [],
   "source": [
    "pdata3 = read_problem(path[3])\n",
    "pso3 = PSO(pdata3,num_particles,iterations)\n",
    "pres3 = pso3.run()\n",
    "plot_experiment_results2(pdata3,pso3,pres3)"
   ]
  },
  {
   "cell_type": "markdown",
   "metadata": {},
   "source": [
    "fnl4461-n22300"
   ]
  },
  {
   "cell_type": "code",
   "execution_count": null,
   "metadata": {},
   "outputs": [],
   "source": [
    "pdata4 = read_problem(path[4])\n",
    "pso4 = PSO(pdata4,num_particles,iterations)\n",
    "pres4 = pso4.run()\n",
    "plot_experiment_results2(pdata4,pso4,pres4)"
   ]
  },
  {
   "cell_type": "markdown",
   "metadata": {},
   "source": [
    "fnl4461-n22300"
   ]
  },
  {
   "cell_type": "code",
   "execution_count": null,
   "metadata": {},
   "outputs": [],
   "source": [
    "pdata5 = read_problem(path[5])\n",
    "pso5 = PSO(pdata5,num_particles,iterations)\n",
    "pres5 = pso5.run()\n",
    "plot_experiment_results2(pdata5,pso5,pres5)"
   ]
  },
  {
   "cell_type": "markdown",
   "metadata": {},
   "source": [
    "fnl4461-n44600"
   ]
  },
  {
   "cell_type": "code",
   "execution_count": null,
   "metadata": {},
   "outputs": [],
   "source": [
    "pdata6 = read_problem(path[6])\n",
    "pso6 = PSO(pdata6,num_particles,iterations)\n",
    "pres6 = pso6.run()\n",
    "plot_experiment_results2(pdata6,pso6,pres6)"
   ]
  },
  {
   "cell_type": "markdown",
   "metadata": {},
   "source": [
    "pla33810-n33809"
   ]
  },
  {
   "cell_type": "code",
   "execution_count": null,
   "metadata": {},
   "outputs": [],
   "source": [
    "pdata7 = read_problem(path[7])\n",
    "pso7 = PSO(pdata7,num_particles,iterations)\n",
    "pres7 = pso7.run()\n",
    "plot_experiment_results2(pdata7,pso7,pres7)"
   ]
  },
  {
   "cell_type": "markdown",
   "metadata": {},
   "source": [
    "pla33810-n338090"
   ]
  },
  {
   "cell_type": "code",
   "execution_count": null,
   "metadata": {},
   "outputs": [],
   "source": [
    "pdata8 = read_problem(path[8])\n",
    "pso8 = PSO(pdata8,num_particles,iterations)\n",
    "pres8 = pso8.run()\n",
    "plot_experiment_results2(pdata8,pso8,pres8)"
   ]
  }
 ],
 "metadata": {
  "kernelspec": {
   "display_name": "exeter",
   "language": "python",
   "name": "python3"
  },
  "language_info": {
   "codemirror_mode": {
    "name": "ipython",
    "version": 3
   },
   "file_extension": ".py",
   "mimetype": "text/x-python",
   "name": "python",
   "nbconvert_exporter": "python",
   "pygments_lexer": "ipython3",
   "version": "3.11.5"
  }
 },
 "nbformat": 4,
 "nbformat_minor": 2
}
