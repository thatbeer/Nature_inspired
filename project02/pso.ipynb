{
 "cells": [
  {
   "cell_type": "code",
   "execution_count": 1,
   "metadata": {},
   "outputs": [],
   "source": [
    "import pandas as pd\n",
    "import numpy as np\n",
    "import math\n",
    "\n",
    "from dataclasses import dataclass\n",
    "from typing import Any, List, Tuple, Dict\n",
    "@dataclass\n",
    "class City:\n",
    "    index : int\n",
    "    X : float\n",
    "    Y : float\n",
    "\n",
    "@dataclass\n",
    "class Item:\n",
    "    index : int\n",
    "    Profit : int\n",
    "    Weight : int\n",
    "    Node : int\n",
    "\n",
    "@dataclass\n",
    "class TTP:\n",
    "    Name :str = None\n",
    "    DTYPE : str = None\n",
    "    Dimension : int = 0\n",
    "    ITEMS : int = 0\n",
    "    CAPACITY : int = 0\n",
    "    MIN_SPEED : float = 0\n",
    "    MAX_SPEED : float = 0\n",
    "    RENTING_RATIO : float = 0\n",
    "    EDGE_W : str = None\n",
    "    NODE : List[City] = None\n",
    "    ITEM : List[Item] = None\n",
    "\n",
    "\n",
    "def read_problem(file_path:str):\n",
    "    with open(file_path,'r') as file:\n",
    "        lines = file.readlines()\n",
    "    \n",
    "    data = TTP(NODE=[],ITEM=[])\n",
    "    \n",
    "    for i , line in enumerate(lines):\n",
    "        if line.startswith(\"PROBLEM NAME\"):\n",
    "            data.Name = line.split(':')[-1].strip()\n",
    "        elif line.startswith(\"KNAPSACK DATA TYPE\"):\n",
    "            data.DTYPE = line.split(':')[-1].strip()\n",
    "        elif line.startswith(\"DIMENSION\"):\n",
    "            data.Dimension = int(line.split(':')[-1].strip())\n",
    "        elif line.startswith(\"NUMBER OF ITEMS\"):\n",
    "            data.ITEMS = int(line.split(':')[-1].strip())\n",
    "        elif line.startswith(\"CAPACITY OF KNAPSACK\"):\n",
    "            data.CAPACITY = int(line.split(':')[-1].strip())\n",
    "        elif line.startswith(\"MIN SPEED\"):\n",
    "            data.MIN_SPEED = float(line.split(':')[-1].strip())\n",
    "        elif line.startswith(\"MAX SPEED\"):\n",
    "            data.MAX_SPEED = float(line.split(':')[-1].strip())\n",
    "        elif line.startswith(\"RENTING RATIO\"):\n",
    "            data.RENTING_RATIO = float(line.split(':')[-1].strip())\n",
    "        elif line.startswith(\"EDGE_WEIGHT_TYPE\"):\n",
    "            data.EDGE_W = line.split(':')[-1].strip()\n",
    "        elif line.startswith(\"NODE_COORD_SECTION\"):\n",
    "            for j in range(1,data.Dimension+1):\n",
    "                node = lines[i+j].split()\n",
    "                data.NODE.append(City(index=int(node[0]),X=float(node[1]),Y=float(node[2])))\n",
    "        elif line.startswith(\"ITEMS SECTION\"):\n",
    "            for j in range(1,data.ITEMS+1):\n",
    "                item = lines[i+j].split()\n",
    "                data.ITEM.append(\n",
    "                    Item(int(item[0]),int(item[1]),int(item[2]),int(item[3]))\n",
    "                )\n",
    "        else:\n",
    "            pass\n",
    "    \n",
    "    return data\n",
    "\n",
    "def generate_ttp_solution(number_of_cities: int, items: List[Item], knapsack_capacity: int) -> Tuple[List[int], List[int]]:\n",
    "    # Generate a random path (tour)\n",
    "    path = np.random.permutation(number_of_cities) + 1\n",
    "\n",
    "    # Initialize knapsack plan with no items picked\n",
    "    plan = [0] * len(items)\n",
    "    current_weight = 0\n",
    "\n",
    "    # Randomly decide to pick up items considering the knapsack capacity\n",
    "    for i, item in enumerate(items):\n",
    "        item_weight = item.Weight\n",
    "        if current_weight + item_weight <= knapsack_capacity:\n",
    "            decision = np.random.choice([0, 1])\n",
    "            plan[i] = decision\n",
    "            current_weight += item_weight * decision\n",
    "\n",
    "    return path.tolist(), plan\n",
    "\n",
    "def euclidean_distance(p1: Tuple[float, float], p2: Tuple[float, float]) -> float:\n",
    "    return math.ceil(np.sqrt((p1[0] - p2[0])**2 + (p1[1] - p2[1])**2))\n"
   ]
  },
  {
   "cell_type": "code",
   "execution_count": 2,
   "metadata": {},
   "outputs": [],
   "source": [
    "def calculate_time_and_profit(solution: List[int], plan: List[int], nodes: List[City], items: List[Item], min_speed, max_speed, max_weight):\n",
    "    total_time = 0\n",
    "    total_profit = 0\n",
    "    current_weight = 0\n",
    "\n",
    "    # Calculate the total travel time\n",
    "    for i in range(len(solution)):\n",
    "        current_city_index = solution[i]\n",
    "        next_city_index = solution[0] if i == len(solution) - 1 else solution[i + 1]\n",
    "\n",
    "        current_city = nodes[current_city_index - 1]\n",
    "        next_city = nodes[next_city_index - 1]\n",
    "\n",
    "        \n",
    "\n",
    "        # Update current weight based on items picked at the current city\n",
    "        for item, is_picked in zip(items, plan):\n",
    "            if is_picked and item.Node == current_city_index:\n",
    "                current_weight += item.Weight\n",
    "\n",
    "        # Calculate speed based on current weight\n",
    "        speed = max_speed - (current_weight / max_weight) * (max_speed - min_speed)\n",
    "        speed = max(speed, min_speed)  # Ensure speed doesn't drop below minimum\n",
    "\n",
    "        # Distance between current city and next city\n",
    "        distance = euclidean_distance((current_city.X, current_city.Y), (next_city.X, next_city.Y))\n",
    "\n",
    "        # Update time with time to next city\n",
    "        total_time += distance / speed\n",
    "\n",
    "        if current_weight > max_weight:\n",
    "            return np.Inf , 0.0\n",
    "\n",
    "    # Calculate total profit from picked items\n",
    "    for item, is_picked in zip(items, plan):\n",
    "        if is_picked:\n",
    "            total_profit += item.Profit\n",
    "\n",
    "\n",
    "    return total_time, total_profit\n",
    "\n",
    "@dataclass\n",
    "class Solution:\n",
    "    path : List[int]\n",
    "    plan : List[int]"
   ]
  },
  {
   "cell_type": "code",
   "execution_count": 3,
   "metadata": {},
   "outputs": [],
   "source": [
    "path = './datasets/test-example-n4.txt'\n",
    "data = read_problem(path)"
   ]
  },
  {
   "cell_type": "code",
   "execution_count": 4,
   "metadata": {},
   "outputs": [],
   "source": [
    "MAX_SPEED = data.MAX_SPEED\n",
    "MIN_SPEED = data.MIN_SPEED\n",
    "RENTING_RATIO = data.RENTING_RATIO\n",
    "CAPACITY = data.CAPACITY\n",
    "NODE = data.NODE\n",
    "ITEM = data.ITEM\n",
    "\n",
    "@dataclass\n",
    "class Fitness:\n",
    "    time: float\n",
    "    profit: float\n",
    "    net_profit: float\n",
    "\n",
    "@dataclass\n",
    "class Particle:\n",
    "    path: List[int]\n",
    "    plan: List[int]\n",
    "    current_score: Fitness = None\n",
    "    velocity: List = None  # Represented as a change in path and plan\n",
    "    personal_best_path: List[int] = None\n",
    "    personal_best_plan: List[int] = None\n",
    "    personal_best_score: Fitness = None\n",
    "\n",
    "    def __post_init__(self):\n",
    "        self.velocity = self.velocity if self.velocity is not None else []\n",
    "        self.calculate_and_update_score()\n",
    "        self.personal_best_path = self.path.copy() if self.personal_best_path is None else self.personal_best_path\n",
    "        self.personal_best_plan = self.plan.copy() if self.personal_best_plan is None else self.personal_best_plan\n",
    "\n",
    "    def clear_velocity(self):\n",
    "        self.velocity.clear()\n",
    "\n",
    "    def calculate_and_update_score(self):\n",
    "        time, profit, net_profit = self.calculate_score(self.path, self.plan)\n",
    "        self.current_score = Fitness(time, profit, net_profit)\n",
    "        if not self.personal_best_score:\n",
    "            self.personal_best_score = self.current_score\n",
    "        # Update personal best if the current score is better\n",
    "        if self.current_score.net_profit > self.personal_best_score.net_profit:\n",
    "            self.update_personal_best()\n",
    "\n",
    "    def update_personal_best(self):\n",
    "        self.personal_best_path = self.path.copy()\n",
    "        self.personal_best_plan = self.plan.copy()\n",
    "        self.personal_best_score = self.current_score.net_profit\n",
    "\n",
    "    def calculate_score(self, path, plan):\n",
    "        # Assuming calculate_time_and_profit is a function that calculates total profit and time based on route and plan\n",
    "        time, profit = calculate_time_and_profit(path, plan, NODE, ITEM, MIN_SPEED, MAX_SPEED, CAPACITY)\n",
    "        net_profit = profit - (RENTING_RATIO * time)\n",
    "        return time, profit, net_profit"
   ]
  },
  {
   "cell_type": "code",
   "execution_count": 5,
   "metadata": {},
   "outputs": [],
   "source": [
    "# @dataclass\n",
    "# class Fitness:\n",
    "#     time: float\n",
    "#     profit: float\n",
    "#     net_profit: float\n",
    "\n",
    "# @dataclass\n",
    "# class Particle:\n",
    "#     path: List[int]\n",
    "#     plan: List[int]\n",
    "#     current_score: Fitness = None\n",
    "#     velocity: List = None  # Represented as a change in path and plan\n",
    "#     personal_best_path: List[int] = None\n",
    "#     personal_best_plan: List[int] = None\n",
    "#     personal_best_score: float = 0\n",
    "\n",
    "#     def __post_init__(self):\n",
    "#         self.velocity = self.velocity if self.velocity is not None else []\n",
    "#         self.calculate_and_update_score()\n",
    "#         self.personal_best_path = self.path.copy() if self.personal_best_path is None else self.personal_best_path\n",
    "#         self.personal_best_plan = self.plan.copy() if self.personal_best_plan is None else self.personal_best_plan\n",
    "\n",
    "#     def clear_velocity(self):\n",
    "#         self.velocity.clear()\n",
    "\n",
    "#     def calculate_and_update_score(self):\n",
    "#         time, profit, net_profit = self.calculate_score(self.path, self.plan)\n",
    "#         self.current_score = Fitness(time, profit, net_profit)\n",
    "#         # Update personal best if the current score is better\n",
    "#         if self.current_score.net_profit > self.personal_best_score:\n",
    "#             self.update_personal_best()\n",
    "\n",
    "#     def update_personal_best(self):\n",
    "#         self.personal_best_path = self.path.copy()\n",
    "#         self.personal_best_plan = self.plan.copy()\n",
    "#         self.personal_best_score = self.current_score.net_profit\n",
    "\n",
    "#     def calculate_score(self, path, plan):\n",
    "#         # Assuming calculate_time_and_profit is a function that calculates total profit and time based on route and plan\n",
    "#         time, profit = calculate_time_and_profit(path, plan, NODE, ITEM, MIN_SPEED, MAX_SPEED, CAPACITY)\n",
    "#         net_profit = profit - (RENTING_RATIO * time)\n",
    "#         return time, profit, net_profit"
   ]
  },
  {
   "cell_type": "code",
   "execution_count": 6,
   "metadata": {},
   "outputs": [],
   "source": [
    "path = [1,3,2,4]\n",
    "plan = [1,0,1]"
   ]
  },
  {
   "cell_type": "code",
   "execution_count": 7,
   "metadata": {},
   "outputs": [
    {
     "data": {
      "text/plain": [
       "Particle(path=[1, 3, 2, 4], plan=[1, 0, 1], current_score=Fitness(time=28.585292978476183, profit=59, net_profit=15.66469584463011), velocity=[], personal_best_path=[1, 3, 2, 4], personal_best_plan=[1, 0, 1], personal_best_score=Fitness(time=28.585292978476183, profit=59, net_profit=15.66469584463011))"
      ]
     },
     "execution_count": 7,
     "metadata": {},
     "output_type": "execute_result"
    }
   ],
   "source": [
    "Particle(path,plan)"
   ]
  },
  {
   "cell_type": "code",
   "execution_count": 8,
   "metadata": {},
   "outputs": [],
   "source": [
    "class PSO:\n",
    "    def __init__(self, problem_data : TTP, num_particles, iterations,gbest_prob=1.0,pbest_prob=1.0):\n",
    "        self.data = problem_data\n",
    "        self.gbest_path = None\n",
    "        self.gbest_plan = None\n",
    "        self.gbest_particle : Particle = None\n",
    "        self.gbest_cost = []\n",
    "        self.iterations = iterations\n",
    "        self.num_particles = num_particles\n",
    "        # self.particle : List[Particle] = []\n",
    "        self.gbest_prob = gbest_prob\n",
    "        self.pbest_prob = pbest_prob\n",
    "\n",
    "        self.particles : List[Particle] = [Particle(*generate_ttp_solution(data.Dimension,data.ITEM,data.CAPACITY)) for _ in range(num_particles)]\n",
    "\n",
    "    def run(self):\n",
    "        current_best = max(self.particles, key= lambda particle : particle.personal_best_score.net_profit)\n",
    "        self.gbest_particle = current_best\n",
    "        self.gbest_cost.append(self.gbest_particle.personal_best_score.net_profit)\n",
    "\n",
    "        # update particles\n",
    "        for p in self.particles:\n",
    "            p.clear_velocity()\n",
    "            temp_velocity = []\n",
    "            gbest_plan = self.gbest_particle.plan\n",
    "            gbest_path = self.gbest_particle.path\n",
    "            new_path = p.path\n",
    "            new_plan = p.plan\n",
    "\n",
    "            # update verocity plan on personal best\n",
    "            for i in range(self.data.Dimension):\n",
    "                if new_path[i] != p.personal_best_path[i]:\n",
    "                    swap = (i, p.personal_best_path, self.pbest_prob)\n",
    "                    temp_velocity.append(swap)\n",
    "                    new_path[swap[0],new_path[swap[1]]] = new_path[swap[1]], new_path[swap[0]]\n",
    "\n",
    "            # update verocity plan on global best    \n",
    "            for i in range(self.data.Dimension):\n",
    "                if new_path[i] != gbest_plan[i]:\n",
    "                    swap = (i, gbest_plan.index(new_path[i], self.gbest_prob))\n",
    "                    temp_velocity.append(swap)\n",
    "                    gbest_plan[swap[0],gbest_plan[swap[1]]] = gbest_plan[swap[1]], gbest_plan[swap[0]]\n",
    "            \n",
    "            p.verocity = temp_velocity\n",
    "\n",
    "            for swap in temp_velocity:\n",
    "                if np.random.rand() < swap[2]:\n",
    "                    new_path[swap[0]], new_path[swap[1]] = new_path[swap[1]], new_path[swap[0]]\n",
    "\n",
    "            p.path = new_path\n",
    "            p.update_personal_best()\n",
    "\n",
    "        pass\n"
   ]
  },
  {
   "cell_type": "code",
   "execution_count": null,
   "metadata": {},
   "outputs": [],
   "source": []
  },
  {
   "cell_type": "code",
   "execution_count": 9,
   "metadata": {},
   "outputs": [
    {
     "data": {
      "text/plain": [
       "0.2336395348886432"
      ]
     },
     "execution_count": 9,
     "metadata": {},
     "output_type": "execute_result"
    }
   ],
   "source": [
    "np.random.rand()"
   ]
  },
  {
   "cell_type": "code",
   "execution_count": 10,
   "metadata": {},
   "outputs": [
    {
     "data": {
      "text/plain": [
       "[Particle(path=[1, 4, 2, 3], plan=[1, 0, 1], current_score=Fitness(time=42.39121962457584, profit=59, net_profit=-5.265088950856978), velocity=[], personal_best_path=[1, 4, 2, 3], personal_best_plan=[1, 0, 1], personal_best_score=Fitness(time=42.39121962457584, profit=59, net_profit=-5.265088950856978)),\n",
       " Particle(path=[2, 4, 1, 3], plan=[0, 0, 1], current_score=Fitness(time=27.25859247135843, profit=25, net_profit=-16.32402618657938), velocity=[], personal_best_path=[2, 4, 1, 3], personal_best_plan=[0, 0, 1], personal_best_score=Fitness(time=27.25859247135843, profit=25, net_profit=-16.32402618657938)),\n",
       " Particle(path=[1, 4, 3, 2], plan=[0, 1, 0], current_score=Fitness(time=27.363636363636363, profit=40, net_profit=-1.4832727272727269), velocity=[], personal_best_path=[1, 4, 3, 2], personal_best_plan=[0, 1, 0], personal_best_score=Fitness(time=27.363636363636363, profit=40, net_profit=-1.4832727272727269))]"
      ]
     },
     "execution_count": 10,
     "metadata": {},
     "output_type": "execute_result"
    }
   ],
   "source": [
    "p1 = PSO(data,3,10)\n",
    "p1.particles"
   ]
  },
  {
   "cell_type": "code",
   "execution_count": 11,
   "metadata": {},
   "outputs": [],
   "source": [
    "pop = p1.particles"
   ]
  },
  {
   "cell_type": "code",
   "execution_count": 12,
   "metadata": {},
   "outputs": [
    {
     "data": {
      "text/plain": [
       "Particle(path=[1, 4, 3, 2], plan=[0, 1, 0], current_score=Fitness(time=27.363636363636363, profit=40, net_profit=-1.4832727272727269), velocity=[], personal_best_path=[1, 4, 3, 2], personal_best_plan=[0, 1, 0], personal_best_score=Fitness(time=27.363636363636363, profit=40, net_profit=-1.4832727272727269))"
      ]
     },
     "execution_count": 12,
     "metadata": {},
     "output_type": "execute_result"
    }
   ],
   "source": [
    "max(pop, key= lambda p : p.personal_best_score.net_profit)"
   ]
  },
  {
   "cell_type": "code",
   "execution_count": 13,
   "metadata": {},
   "outputs": [],
   "source": [
    "x = [1,2,3,4]"
   ]
  },
  {
   "cell_type": "code",
   "execution_count": 14,
   "metadata": {},
   "outputs": [
    {
     "data": {
      "text/plain": [
       "0"
      ]
     },
     "execution_count": 14,
     "metadata": {},
     "output_type": "execute_result"
    }
   ],
   "source": [
    "x.index(1,)"
   ]
  },
  {
   "cell_type": "markdown",
   "metadata": {},
   "source": [
    "### GPT CODE WITHOUT THINKING (actually did think though)"
   ]
  },
  {
   "cell_type": "code",
   "execution_count": 15,
   "metadata": {},
   "outputs": [],
   "source": [
    "import numpy as np\n",
    "from typing import List\n",
    "from dataclasses import dataclass\n",
    "\n",
    "pbest_prob = 0.7\n",
    "gbest_prob = 0.9\n",
    "\n",
    "path = './datasets/a280-n1395.txt'\n",
    "data = read_problem(path)\n",
    "\n",
    "MAX_SPEED = data.MAX_SPEED\n",
    "MIN_SPEED = data.MIN_SPEED\n",
    "RENTING_RATIO = data.RENTING_RATIO\n",
    "CAPACITY = data.CAPACITY\n",
    "NODE = data.NODE\n",
    "ITEM = data.ITEM\n",
    "\n",
    "# Assuming the existence of the TTP class, generate_ttp_solution function, and calculate_time_and_profit function\n",
    "\n",
    "@dataclass\n",
    "class Fitness:\n",
    "    time: float\n",
    "    profit: float\n",
    "    net_profit: float\n",
    "\n",
    "@dataclass\n",
    "class Particle:\n",
    "    path: List[int]\n",
    "    plan: List[int]\n",
    "    current_score: Fitness = None\n",
    "    velocity: List = None\n",
    "    personal_best_path: List[int] = None\n",
    "    personal_best_plan: List[int] = None\n",
    "    personal_best_score: Fitness = None\n",
    "\n",
    "    def __post_init__(self):\n",
    "        self.velocity = self.velocity if self.velocity is not None else []\n",
    "        self.current_score = self.calculate_score()\n",
    "        self.personal_best_path = self.path.copy()\n",
    "        self.personal_best_plan = self.plan.copy()\n",
    "        self.personal_best_score = self.current_score\n",
    "\n",
    "    def calculate_score(self):\n",
    "        time, profit = calculate_time_and_profit(self.path, self.plan, NODE, ITEM, MIN_SPEED, MAX_SPEED, CAPACITY)\n",
    "        net_profit = profit - (RENTING_RATIO * time)\n",
    "        return Fitness(time, profit, net_profit)\n",
    "\n",
    "    def update_personal_best(self):\n",
    "        self.current_score = self.calculate_score()\n",
    "        if self.current_score.net_profit > self.personal_best_score.net_profit:\n",
    "            self.personal_best_path = self.path.copy()\n",
    "            self.personal_best_plan = self.plan.copy()\n",
    "            self.personal_best_score = self.current_score\n",
    "\n",
    "    def update_velocity(self, global_best_particle):\n",
    "        # Simple velocity update logic (can be enhanced for better performance)\n",
    "        for i in range(len(self.path)):\n",
    "            if np.random.rand() < pbest_prob and self.path[i] != self.personal_best_path[i]:\n",
    "                self.velocity.append(('path', i, self.personal_best_path.index(self.path[i])))\n",
    "            if np.random.rand() < gbest_prob and self.path[i] != global_best_particle.path[i]:\n",
    "                self.velocity.append(('path', i, global_best_particle.path.index(self.path[i])))\n",
    "        \n",
    "        for i in range(len(self.plan)):\n",
    "            if np.random.rand() < pbest_prob and self.plan[i] != self.personal_best_plan[i]:\n",
    "                self.velocity.append(('plan', i, self.personal_best_plan.index(self.plan[i])))\n",
    "            if np.random.rand() < gbest_prob and self.plan[i] != global_best_particle.plan[i]:\n",
    "                self.velocity.append(('plan', i, global_best_particle.plan.index(self.plan[i])))\n",
    "\n",
    "    def apply_velocity(self):\n",
    "        for change in self.velocity:\n",
    "            if change[0] == 'path':\n",
    "                self.path[change[1]], self.path[change[2]] = self.path[change[2]], self.path[change[1]]\n",
    "            elif change[0] == 'plan':\n",
    "                self.plan[change[1]], self.plan[change[2]] = self.plan[change[2]], self.plan[change[1]]\n",
    "\n",
    "    def clear_velocity(self):\n",
    "        self.velocity.clear()\n",
    "\n",
    "class PSO:\n",
    "    def __init__(self, problem_data, num_particles, iterations, gbest_prob=1.0, pbest_prob=1.0):\n",
    "        self.problem_data = problem_data\n",
    "        self.num_particles = num_particles\n",
    "        self.iterations = iterations\n",
    "        self.gbest_prob = gbest_prob\n",
    "        self.pbest_prob = pbest_prob\n",
    "        self.particles = [Particle(*generate_ttp_solution(problem_data.Dimension, problem_data.ITEM, problem_data.CAPACITY)) for _ in range(num_particles)]\n",
    "        self.gbest_particle = max(self.particles, key=lambda p: p.personal_best_score.net_profit)\n",
    "\n",
    "    def run(self):\n",
    "        for _ in range(self.iterations):\n",
    "            for particle in self.particles:\n",
    "                particle.clear_velocity()\n",
    "                particle.update_velocity(self.gbest_particle)\n",
    "                particle.apply_velocity()\n",
    "                particle.update_personal_best()\n",
    "\n",
    "                if particle.personal_best_score.net_profit > self.gbest_particle.personal_best_score.net_profit:\n",
    "                    self.gbest_particle = particle\n",
    "\n",
    "        return self.gbest_particle.personal_best_path, self.gbest_particle.personal_best_plan, self.gbest_particle.personal_best_score\n",
    "\n",
    "# Example usage\n"
   ]
  },
  {
   "cell_type": "code",
   "execution_count": 16,
   "metadata": {},
   "outputs": [],
   "source": [
    "pso = PSO(data, num_particles=50, iterations=1000)\n",
    "best_path, best_plan, best_score = pso.run()"
   ]
  },
  {
   "cell_type": "code",
   "execution_count": 17,
   "metadata": {},
   "outputs": [
    {
     "data": {
      "text/plain": [
       "Fitness(time=58014.899664232405, profit=310973, net_profit=-3906710.205589696)"
      ]
     },
     "execution_count": 17,
     "metadata": {},
     "output_type": "execute_result"
    }
   ],
   "source": [
    "best_score"
   ]
  },
  {
   "cell_type": "code",
   "execution_count": 18,
   "metadata": {},
   "outputs": [
    {
     "data": {
      "text/plain": [
       "Particle(path=[101, 171, 3, 35, 251, 196, 118, 223, 81, 103, 226, 229, 145, 23, 75, 14, 102, 49, 278, 80, 61, 44, 98, 203, 197, 183, 78, 277, 83, 76, 194, 108, 141, 178, 244, 64, 174, 67, 234, 152, 126, 29, 259, 177, 146, 249, 24, 9, 224, 66, 213, 243, 279, 140, 117, 8, 218, 204, 225, 256, 59, 74, 222, 273, 55, 34, 181, 248, 50, 221, 253, 123, 28, 162, 1, 110, 161, 154, 57, 32, 27, 265, 2, 280, 134, 170, 230, 73, 215, 128, 20, 220, 148, 272, 63, 95, 129, 115, 176, 111, 84, 257, 127, 106, 133, 155, 51, 89, 58, 52, 173, 184, 182, 31, 60, 17, 242, 122, 190, 68, 19, 6, 135, 21, 209, 191, 5, 114, 42, 12, 36, 71, 37, 247, 233, 237, 11, 15, 179, 245, 93, 96, 77, 90, 124, 53, 87, 97, 240, 241, 7, 26, 275, 130, 136, 168, 167, 16, 267, 254, 216, 274, 276, 268, 25, 94, 206, 132, 198, 192, 186, 207, 236, 10, 169, 227, 202, 260, 142, 200, 56, 212, 250, 47, 33, 195, 235, 219, 239, 166, 99, 175, 100, 39, 113, 54, 165, 72, 105, 86, 41, 193, 264, 156, 69, 48, 210, 252, 22, 30, 271, 125, 46, 143, 211, 261, 119, 205, 217, 201, 188, 189, 270, 199, 144, 147, 149, 104, 163, 79, 139, 153, 187, 70, 65, 91, 85, 13, 157, 40, 38, 160, 18, 269, 258, 238, 228, 4, 208, 246, 232, 231, 266, 131, 158, 138, 185, 180, 121, 120, 263, 151, 172, 107, 159, 214, 255, 262, 137, 150, 62, 45, 109, 112, 116, 43, 82, 92, 88, 164], plan=[0, 1, 1, 0, 1, 1, 0, 0, 0, 0, 0, 1, 1, 0, 0, 1, 1, 0, 1, 1, 1, 0, 0, 1, 0, 0, 1, 1, 1, 1, 0, 0, 0, 0, 1, 0, 0, 0, 1, 0, 0, 1, 0, 1, 1, 0, 1, 0, 0, 0, 0, 0, 1, 0, 1, 1, 1, 1, 0, 1, 1, 0, 1, 0, 1, 1, 1, 0, 0, 0, 1, 1, 1, 0, 0, 0, 0, 0, 0, 0, 1, 0, 0, 0, 0, 0, 1, 1, 1, 0, 0, 0, 0, 0, 0, 0, 0, 1, 1, 1, 0, 0, 1, 1, 0, 0, 1, 0, 1, 0, 0, 1, 0, 1, 0, 1, 1, 0, 0, 1, 1, 0, 0, 0, 0, 1, 1, 0, 1, 1, 0, 0, 1, 1, 0, 0, 0, 1, 0, 0, 0, 1, 1, 1, 1, 0, 0, 0, 1, 0, 1, 0, 0, 0, 0, 1, 1, 1, 1, 1, 0, 1, 1, 0, 1, 0, 0, 0, 0, 0, 0, 0, 0, 0, 0, 0, 1, 1, 0, 1, 0, 1, 1, 0, 1, 1, 1, 0, 1, 0, 0, 0, 0, 1, 1, 0, 0, 0, 1, 0, 0, 0, 1, 1, 1, 0, 0, 1, 0, 0, 0, 0, 0, 1, 1, 1, 0, 0, 0, 1, 0, 0, 1, 1, 1, 1, 0, 0, 1, 0, 1, 1, 0, 0, 0, 0, 0, 0, 0, 1, 0, 1, 1, 0, 1, 1, 1, 0, 1, 0, 1, 0, 0, 1, 1, 0, 0, 1, 0, 0, 1, 0, 1, 0, 1, 0, 1, 1, 1, 0, 1, 0, 1, 1, 1, 0, 0, 1, 0, 0, 1, 1, 0, 1, 1, 1, 1, 1, 1, 1, 0, 1, 1, 1, 0, 0, 1, 0, 0, 0, 0, 0, 1, 0, 0, 1, 0, 0, 0, 1, 0, 0, 0, 1, 1, 0, 1, 1, 0, 0, 1, 1, 1, 1, 0, 0, 1, 0, 1, 1, 0, 0, 0, 0, 0, 0, 1, 0, 0, 0, 1, 1, 1, 1, 1, 1, 0, 0, 0, 1, 1, 0, 1, 0, 1, 1, 0, 1, 1, 0, 1, 0, 0, 0, 0, 1, 0, 1, 1, 0, 0, 0, 1, 1, 1, 1, 1, 1, 0, 0, 1, 0, 0, 0, 0, 1, 0, 0, 1, 0, 0, 0, 0, 0, 0, 0, 0, 0, 1, 1, 1, 1, 0, 1, 1, 1, 0, 0, 1, 0, 1, 0, 0, 1, 1, 1, 1, 1, 1, 0, 0, 1, 0, 0, 0, 0, 1, 0, 1, 0, 1, 0, 1, 1, 0, 0, 0, 0, 0, 1, 0, 1, 0, 1, 1, 0, 1, 1, 1, 1, 1, 1, 1, 1, 0, 1, 1, 1, 0, 0, 0, 1, 0, 0, 1, 1, 1, 0, 1, 0, 1, 0, 0, 1, 1, 1, 0, 0, 0, 0, 1, 0, 0, 0, 1, 0, 1, 1, 1, 1, 0, 0, 0, 0, 0, 0, 0, 1, 1, 1, 0, 0, 1, 0, 0, 0, 1, 0, 1, 0, 1, 0, 0, 0, 0, 1, 0, 0, 1, 0, 0, 0, 1, 0, 0, 1, 0, 1, 1, 0, 0, 1, 0, 1, 0, 1, 0, 0, 0, 1, 0, 0, 1, 1, 1, 0, 1, 1, 0, 0, 0, 0, 1, 1, 0, 0, 1, 0, 0, 1, 1, 1, 0, 0, 0, 1, 0, 0, 1, 1, 0, 1, 1, 0, 1, 0, 1, 1, 0, 0, 0, 0, 0, 1, 1, 0, 0, 1, 0, 0, 0, 1, 0, 1, 1, 0, 0, 1, 0, 1, 1, 0, 1, 0, 0, 1, 0, 1, 1, 1, 1, 0, 1, 1, 1, 1, 0, 0, 1, 1, 0, 0, 0, 1, 0, 0, 1, 0, 1, 0, 1, 1, 0, 0, 0, 1, 1, 0, 1, 0, 0, 1, 0, 0, 1, 1, 0, 1, 1, 0, 0, 0, 0, 1, 1, 0, 1, 1, 0, 0, 1, 1, 1, 1, 0, 1, 1, 1, 0, 1, 1, 0, 1, 0, 0, 0, 1, 1, 0, 0, 1, 0, 1, 1, 0, 0, 0, 1, 1, 1, 1, 1, 1, 1, 0, 1, 0, 0, 1, 1, 0, 0, 0, 0, 1, 1, 0, 1, 1, 1, 1, 0, 1, 0, 0, 0, 0, 1, 1, 1, 0, 1, 0, 1, 1, 0, 0, 0, 0, 0, 0, 0, 1, 1, 0, 1, 1, 1, 0, 0, 0, 0, 1, 1, 1, 0, 1, 0, 0, 1, 0, 1, 0, 1, 0, 1, 0, 1, 0, 1, 1, 0, 1, 1, 1, 1, 0, 1, 0, 0, 0, 1, 0, 1, 1, 0, 0, 1, 1, 0, 0, 1, 1, 0, 0, 1, 1, 0, 1, 0, 1, 1, 0, 0, 1, 1, 1, 0, 1, 0, 1, 1, 0, 0, 1, 1, 0, 1, 1, 1, 0, 1, 1, 0, 1, 1, 0, 0, 1, 0, 0, 0, 1, 1, 1, 1, 1, 1, 1, 1, 0, 1, 0, 0, 0, 1, 0, 0, 1, 1, 0, 0, 1, 1, 0, 0, 1, 1, 1, 1, 1, 1, 0, 0, 1, 0, 1, 1, 0, 1, 1, 1, 1, 1, 0, 0, 0, 0, 0, 0, 0, 1, 0, 1, 0, 1, 1, 0, 0, 1, 1, 0, 1, 1, 1, 0, 1, 1, 1, 0, 0, 1, 1, 1, 1, 1, 0, 1, 0, 1, 0, 0, 0, 0, 0, 1, 0, 0, 1, 0, 0, 1, 0, 0, 1, 1, 1, 1, 1, 0, 0, 0, 1, 1, 1, 0, 0, 0, 1, 1, 1, 1, 1, 0, 0, 1, 1, 1, 0, 1, 1, 1, 1, 0, 1, 0, 1, 0, 0, 0, 1, 0, 0, 0, 0, 0, 0, 1, 0, 0, 1, 0, 0, 1, 0, 1, 0, 0, 0, 0, 0, 1, 0, 0, 1, 0, 0, 0, 0, 1, 1, 0, 1, 1, 0, 0, 0, 0, 1, 1, 1, 0, 1, 1, 0, 1, 0, 0, 0, 1, 0, 1, 1, 1, 1, 1, 1, 1, 0, 1, 1, 1, 1, 0, 0, 1, 0, 1, 0, 0, 0, 0, 0, 1, 1, 0, 1, 0, 1, 1, 1, 0, 0, 1, 1, 0, 0, 0, 0, 0, 0, 1, 0, 1, 1, 1, 0, 0, 1, 0, 1, 0, 1, 1, 1, 0, 1, 1, 1, 0, 1, 1, 1, 1, 0, 0, 0, 1, 0, 0, 1, 1, 0, 1, 0, 0, 1, 1, 1, 1, 1, 0, 0, 1, 0, 0, 0, 0, 0, 0, 1, 0, 0, 0, 1, 0, 0, 1, 0, 1, 0, 0, 1, 1, 1, 1, 0, 0, 1, 0, 0, 0, 1, 1, 1, 0, 1, 0, 1, 0, 0, 1, 0, 0, 1, 1, 0, 1, 0, 0, 0, 0, 0, 0, 1, 0, 1, 0, 0, 0, 1, 0, 0, 0, 1, 1, 0, 1, 1, 1, 1, 0, 0, 1, 0, 1, 0, 0, 1, 0, 0, 1, 0, 0, 0, 1, 0, 0, 0, 0, 1, 0, 1, 0, 0, 0, 0, 1, 1, 0, 1, 1, 1, 1, 0, 1, 0, 0, 1, 0, 0, 0, 0, 0, 1, 1, 0, 0, 1, 1, 0, 1, 1, 1, 1, 1, 1, 1, 0, 0, 1, 0, 0, 0, 0, 0, 0, 0, 1, 1, 1, 1, 1, 0, 0, 1, 1, 1, 0, 1, 1, 0, 1, 1, 1, 1, 1, 0, 1, 1, 0, 0, 1, 0, 0, 1, 1, 1, 0, 0, 1, 1, 1, 1, 0, 1, 0, 1, 0, 0, 0, 1, 1, 0, 1, 0, 0, 1, 0, 0, 0, 1, 0, 1, 1, 0, 1, 0, 0, 0, 1, 1, 0, 0, 0, 0, 1, 0, 0, 0, 0, 1, 0, 0, 0, 0, 0, 0, 0, 1, 0, 0, 1, 1, 1, 0, 0, 1, 0, 1, 0, 1, 0, 1, 0, 0, 0, 0, 0, 1, 0, 1, 1, 1, 1, 1, 1, 0, 0, 0, 0, 0, 0, 0, 0, 0, 0, 0, 0, 0, 0, 0, 0, 0, 0, 0, 0, 0, 0, 0, 0, 0, 0, 0, 0, 0, 0, 0, 0, 0, 0, 0, 0, 0, 0, 0, 0, 0, 0, 0, 0, 0, 0, 0, 0, 0, 0, 0, 0, 0, 0, 0, 0, 0, 0, 0, 0, 0, 0, 0, 0, 0, 0, 0, 0], current_score=Fitness(time=58014.899664232405, profit=310973, net_profit=-3906710.205589696), velocity=[], personal_best_path=[101, 171, 3, 35, 251, 196, 118, 223, 81, 103, 226, 229, 145, 23, 75, 14, 102, 49, 278, 80, 61, 44, 98, 203, 197, 183, 78, 277, 83, 76, 194, 108, 141, 178, 244, 64, 174, 67, 234, 152, 126, 29, 259, 177, 146, 249, 24, 9, 224, 66, 213, 243, 279, 140, 117, 8, 218, 204, 225, 256, 59, 74, 222, 273, 55, 34, 181, 248, 50, 221, 253, 123, 28, 162, 1, 110, 161, 154, 57, 32, 27, 265, 2, 280, 134, 170, 230, 73, 215, 128, 20, 220, 148, 272, 63, 95, 129, 115, 176, 111, 84, 257, 127, 106, 133, 155, 51, 89, 58, 52, 173, 184, 182, 31, 60, 17, 242, 122, 190, 68, 19, 6, 135, 21, 209, 191, 5, 114, 42, 12, 36, 71, 37, 247, 233, 237, 11, 15, 179, 245, 93, 96, 77, 90, 124, 53, 87, 97, 240, 241, 7, 26, 275, 130, 136, 168, 167, 16, 267, 254, 216, 274, 276, 268, 25, 94, 206, 132, 198, 192, 186, 207, 236, 10, 169, 227, 202, 260, 142, 200, 56, 212, 250, 47, 33, 195, 235, 219, 239, 166, 99, 175, 100, 39, 113, 54, 165, 72, 105, 86, 41, 193, 264, 156, 69, 48, 210, 252, 22, 30, 271, 125, 46, 143, 211, 261, 119, 205, 217, 201, 188, 189, 270, 199, 144, 147, 149, 104, 163, 79, 139, 153, 187, 70, 65, 91, 85, 13, 157, 40, 38, 160, 18, 269, 258, 238, 228, 4, 208, 246, 232, 231, 266, 131, 158, 138, 185, 180, 121, 120, 263, 151, 172, 107, 159, 214, 255, 262, 137, 150, 62, 45, 109, 112, 116, 43, 82, 92, 88, 164], personal_best_plan=[0, 1, 1, 0, 1, 1, 0, 0, 0, 0, 0, 1, 1, 0, 0, 1, 1, 0, 1, 1, 1, 0, 0, 1, 0, 0, 1, 1, 1, 1, 0, 0, 0, 0, 1, 0, 0, 0, 1, 0, 0, 1, 0, 1, 1, 0, 1, 0, 0, 0, 0, 0, 1, 0, 1, 1, 1, 1, 0, 1, 1, 0, 1, 0, 1, 1, 1, 0, 0, 0, 1, 1, 1, 0, 0, 0, 0, 0, 0, 0, 1, 0, 0, 0, 0, 0, 1, 1, 1, 0, 0, 0, 0, 0, 0, 0, 0, 1, 1, 1, 0, 0, 1, 1, 0, 0, 1, 0, 1, 0, 0, 1, 0, 1, 0, 1, 1, 0, 0, 1, 1, 0, 0, 0, 0, 1, 1, 0, 1, 1, 0, 0, 1, 1, 0, 0, 0, 1, 0, 0, 0, 1, 1, 1, 1, 0, 0, 0, 1, 0, 1, 0, 0, 0, 0, 1, 1, 1, 1, 1, 0, 1, 1, 0, 1, 0, 0, 0, 0, 0, 0, 0, 0, 0, 0, 0, 1, 1, 0, 1, 0, 1, 1, 0, 1, 1, 1, 0, 1, 0, 0, 0, 0, 1, 1, 0, 0, 0, 1, 0, 0, 0, 1, 1, 1, 0, 0, 1, 0, 0, 0, 0, 0, 1, 1, 1, 0, 0, 0, 1, 0, 0, 1, 1, 1, 1, 0, 0, 1, 0, 1, 1, 0, 0, 0, 0, 0, 0, 0, 1, 0, 1, 1, 0, 1, 1, 1, 0, 1, 0, 1, 0, 0, 1, 1, 0, 0, 1, 0, 0, 1, 0, 1, 0, 1, 0, 1, 1, 1, 0, 1, 0, 1, 1, 1, 0, 0, 1, 0, 0, 1, 1, 0, 1, 1, 1, 1, 1, 1, 1, 0, 1, 1, 1, 0, 0, 1, 0, 0, 0, 0, 0, 1, 0, 0, 1, 0, 0, 0, 1, 0, 0, 0, 1, 1, 0, 1, 1, 0, 0, 1, 1, 1, 1, 0, 0, 1, 0, 1, 1, 0, 0, 0, 0, 0, 0, 1, 0, 0, 0, 1, 1, 1, 1, 1, 1, 0, 0, 0, 1, 1, 0, 1, 0, 1, 1, 0, 1, 1, 0, 1, 0, 0, 0, 0, 1, 0, 1, 1, 0, 0, 0, 1, 1, 1, 1, 1, 1, 0, 0, 1, 0, 0, 0, 0, 1, 0, 0, 1, 0, 0, 0, 0, 0, 0, 0, 0, 0, 1, 1, 1, 1, 0, 1, 1, 1, 0, 0, 1, 0, 1, 0, 0, 1, 1, 1, 1, 1, 1, 0, 0, 1, 0, 0, 0, 0, 1, 0, 1, 0, 1, 0, 1, 1, 0, 0, 0, 0, 0, 1, 0, 1, 0, 1, 1, 0, 1, 1, 1, 1, 1, 1, 1, 1, 0, 1, 1, 1, 0, 0, 0, 1, 0, 0, 1, 1, 1, 0, 1, 0, 1, 0, 0, 1, 1, 1, 0, 0, 0, 0, 1, 0, 0, 0, 1, 0, 1, 1, 1, 1, 0, 0, 0, 0, 0, 0, 0, 1, 1, 1, 0, 0, 1, 0, 0, 0, 1, 0, 1, 0, 1, 0, 0, 0, 0, 1, 0, 0, 1, 0, 0, 0, 1, 0, 0, 1, 0, 1, 1, 0, 0, 1, 0, 1, 0, 1, 0, 0, 0, 1, 0, 0, 1, 1, 1, 0, 1, 1, 0, 0, 0, 0, 1, 1, 0, 0, 1, 0, 0, 1, 1, 1, 0, 0, 0, 1, 0, 0, 1, 1, 0, 1, 1, 0, 1, 0, 1, 1, 0, 0, 0, 0, 0, 1, 1, 0, 0, 1, 0, 0, 0, 1, 0, 1, 1, 0, 0, 1, 0, 1, 1, 0, 1, 0, 0, 1, 0, 1, 1, 1, 1, 0, 1, 1, 1, 1, 0, 0, 1, 1, 0, 0, 0, 1, 0, 0, 1, 0, 1, 0, 1, 1, 0, 0, 0, 1, 1, 0, 1, 0, 0, 1, 0, 0, 1, 1, 0, 1, 1, 0, 0, 0, 0, 1, 1, 0, 1, 1, 0, 0, 1, 1, 1, 1, 0, 1, 1, 1, 0, 1, 1, 0, 1, 0, 0, 0, 1, 1, 0, 0, 1, 0, 1, 1, 0, 0, 0, 1, 1, 1, 1, 1, 1, 1, 0, 1, 0, 0, 1, 1, 0, 0, 0, 0, 1, 1, 0, 1, 1, 1, 1, 0, 1, 0, 0, 0, 0, 1, 1, 1, 0, 1, 0, 1, 1, 0, 0, 0, 0, 0, 0, 0, 1, 1, 0, 1, 1, 1, 0, 0, 0, 0, 1, 1, 1, 0, 1, 0, 0, 1, 0, 1, 0, 1, 0, 1, 0, 1, 0, 1, 1, 0, 1, 1, 1, 1, 0, 1, 0, 0, 0, 1, 0, 1, 1, 0, 0, 1, 1, 0, 0, 1, 1, 0, 0, 1, 1, 0, 1, 0, 1, 1, 0, 0, 1, 1, 1, 0, 1, 0, 1, 1, 0, 0, 1, 1, 0, 1, 1, 1, 0, 1, 1, 0, 1, 1, 0, 0, 1, 0, 0, 0, 1, 1, 1, 1, 1, 1, 1, 1, 0, 1, 0, 0, 0, 1, 0, 0, 1, 1, 0, 0, 1, 1, 0, 0, 1, 1, 1, 1, 1, 1, 0, 0, 1, 0, 1, 1, 0, 1, 1, 1, 1, 1, 0, 0, 0, 0, 0, 0, 0, 1, 0, 1, 0, 1, 1, 0, 0, 1, 1, 0, 1, 1, 1, 0, 1, 1, 1, 0, 0, 1, 1, 1, 1, 1, 0, 1, 0, 1, 0, 0, 0, 0, 0, 1, 0, 0, 1, 0, 0, 1, 0, 0, 1, 1, 1, 1, 1, 0, 0, 0, 1, 1, 1, 0, 0, 0, 1, 1, 1, 1, 1, 0, 0, 1, 1, 1, 0, 1, 1, 1, 1, 0, 1, 0, 1, 0, 0, 0, 1, 0, 0, 0, 0, 0, 0, 1, 0, 0, 1, 0, 0, 1, 0, 1, 0, 0, 0, 0, 0, 1, 0, 0, 1, 0, 0, 0, 0, 1, 1, 0, 1, 1, 0, 0, 0, 0, 1, 1, 1, 0, 1, 1, 0, 1, 0, 0, 0, 1, 0, 1, 1, 1, 1, 1, 1, 1, 0, 1, 1, 1, 1, 0, 0, 1, 0, 1, 0, 0, 0, 0, 0, 1, 1, 0, 1, 0, 1, 1, 1, 0, 0, 1, 1, 0, 0, 0, 0, 0, 0, 1, 0, 1, 1, 1, 0, 0, 1, 0, 1, 0, 1, 1, 1, 0, 1, 1, 1, 0, 1, 1, 1, 1, 0, 0, 0, 1, 0, 0, 1, 1, 0, 1, 0, 0, 1, 1, 1, 1, 1, 0, 0, 1, 0, 0, 0, 0, 0, 0, 1, 0, 0, 0, 1, 0, 0, 1, 0, 1, 0, 0, 1, 1, 1, 1, 0, 0, 1, 0, 0, 0, 1, 1, 1, 0, 1, 0, 1, 0, 0, 1, 0, 0, 1, 1, 0, 1, 0, 0, 0, 0, 0, 0, 1, 0, 1, 0, 0, 0, 1, 0, 0, 0, 1, 1, 0, 1, 1, 1, 1, 0, 0, 1, 0, 1, 0, 0, 1, 0, 0, 1, 0, 0, 0, 1, 0, 0, 0, 0, 1, 0, 1, 0, 0, 0, 0, 1, 1, 0, 1, 1, 1, 1, 0, 1, 0, 0, 1, 0, 0, 0, 0, 0, 1, 1, 0, 0, 1, 1, 0, 1, 1, 1, 1, 1, 1, 1, 0, 0, 1, 0, 0, 0, 0, 0, 0, 0, 1, 1, 1, 1, 1, 0, 0, 1, 1, 1, 0, 1, 1, 0, 1, 1, 1, 1, 1, 0, 1, 1, 0, 0, 1, 0, 0, 1, 1, 1, 0, 0, 1, 1, 1, 1, 0, 1, 0, 1, 0, 0, 0, 1, 1, 0, 1, 0, 0, 1, 0, 0, 0, 1, 0, 1, 1, 0, 1, 0, 0, 0, 1, 1, 0, 0, 0, 0, 1, 0, 0, 0, 0, 1, 0, 0, 0, 0, 0, 0, 0, 1, 0, 0, 1, 1, 1, 0, 0, 1, 0, 1, 0, 1, 0, 1, 0, 0, 0, 0, 0, 1, 0, 1, 1, 1, 1, 1, 1, 0, 0, 0, 0, 0, 0, 0, 0, 0, 0, 0, 0, 0, 0, 0, 0, 0, 0, 0, 0, 0, 0, 0, 0, 0, 0, 0, 0, 0, 0, 0, 0, 0, 0, 0, 0, 0, 0, 0, 0, 0, 0, 0, 0, 0, 0, 0, 0, 0, 0, 0, 0, 0, 0, 0, 0, 0, 0, 0, 0, 0, 0, 0, 0, 0, 0, 0, 0], personal_best_score=Fitness(time=58014.899664232405, profit=310973, net_profit=-3906710.205589696))"
      ]
     },
     "execution_count": 18,
     "metadata": {},
     "output_type": "execute_result"
    }
   ],
   "source": [
    "Particle(best_path,best_plan)"
   ]
  },
  {
   "cell_type": "code",
   "execution_count": 19,
   "metadata": {},
   "outputs": [],
   "source": [
    "def is_dominated(chrom1, chrom2):\n",
    "    \"\"\"\n",
    "    Check if chrom1 is dominated by chrom2.\n",
    "    \"\"\"\n",
    "    return (chrom2.personal_best_score.time <= chrom1.personal_best_score.time and chrom2.personal_best_score.profit >= chrom1.personal_best_score.profit) and \\\n",
    "           (chrom2.personal_best_score.time < chrom1.personal_best_score.time or chrom2.personal_best_score.profit > chrom1.personal_best_score.profit)\n",
    "\n",
    "def find_dominance_flags(population):\n",
    "    \"\"\"\n",
    "    Assign a flag for each chromosome in the population.\n",
    "    1 for non-dominated, 0 for dominated.\n",
    "    \"\"\"\n",
    "    flags = [1] * len(population)  # Initialize all as non-dominated\n",
    "\n",
    "    for i, chrom1 in enumerate(population):\n",
    "        for chrom2 in population:\n",
    "            if chrom1 != chrom2 and is_dominated(chrom1, chrom2):\n",
    "                flags[i] = 0  # Mark as dominated\n",
    "                break  # No need to check further if dominated\n",
    "\n",
    "    return flags\n",
    "\n"
   ]
  },
  {
   "cell_type": "code",
   "execution_count": 20,
   "metadata": {},
   "outputs": [],
   "source": [
    "# Example usage\n",
    "# Assuming population is already defined\n",
    "dominance_flags = find_dominance_flags(pso.particles)"
   ]
  },
  {
   "cell_type": "code",
   "execution_count": 21,
   "metadata": {},
   "outputs": [
    {
     "name": "stderr",
     "output_type": "stream",
     "text": [
      "c:\\Users\\USER\\anaconda3\\envs\\exeter\\Lib\\site-packages\\seaborn\\_oldcore.py:1498: FutureWarning: is_categorical_dtype is deprecated and will be removed in a future version. Use isinstance(dtype, CategoricalDtype) instead\n",
      "  if pd.api.types.is_categorical_dtype(vector):\n",
      "c:\\Users\\USER\\anaconda3\\envs\\exeter\\Lib\\site-packages\\seaborn\\_oldcore.py:1498: FutureWarning: is_categorical_dtype is deprecated and will be removed in a future version. Use isinstance(dtype, CategoricalDtype) instead\n",
      "  if pd.api.types.is_categorical_dtype(vector):\n",
      "c:\\Users\\USER\\anaconda3\\envs\\exeter\\Lib\\site-packages\\seaborn\\_oldcore.py:1498: FutureWarning: is_categorical_dtype is deprecated and will be removed in a future version. Use isinstance(dtype, CategoricalDtype) instead\n",
      "  if pd.api.types.is_categorical_dtype(vector):\n",
      "c:\\Users\\USER\\anaconda3\\envs\\exeter\\Lib\\site-packages\\seaborn\\_oldcore.py:1498: FutureWarning: is_categorical_dtype is deprecated and will be removed in a future version. Use isinstance(dtype, CategoricalDtype) instead\n",
      "  if pd.api.types.is_categorical_dtype(vector):\n",
      "c:\\Users\\USER\\anaconda3\\envs\\exeter\\Lib\\site-packages\\seaborn\\_oldcore.py:1498: FutureWarning: is_categorical_dtype is deprecated and will be removed in a future version. Use isinstance(dtype, CategoricalDtype) instead\n",
      "  if pd.api.types.is_categorical_dtype(vector):\n"
     ]
    },
    {
     "data": {
      "text/plain": [
       "<Axes: >"
      ]
     },
     "execution_count": 21,
     "metadata": {},
     "output_type": "execute_result"
    },
    {
     "data": {
      "image/png": "[encoded data removed]",
      "text/plain": [
       "<Figure size 640x480 with 1 Axes>"
      ]
     },
     "metadata": {},
     "output_type": "display_data"
    }
   ],
   "source": [
    "import seaborn as sns\n",
    "\n",
    "sns.scatterplot(y=[-x.personal_best_score.profit for x in pso.particles],x=[x.personal_best_score.time for x in pso.particles],hue=dominance_flags)"
   ]
  },
  {
   "cell_type": "markdown",
   "metadata": {},
   "source": []
  },
  {
   "cell_type": "code",
   "execution_count": 23,
   "metadata": {},
   "outputs": [],
   "source": [
    "@dataclass\n",
    "class Fitness:\n",
    "    time: float\n",
    "    profit: float\n",
    "    net_profit: float\n",
    "\n",
    "@dataclass\n",
    "class Particle:\n",
    "    shift_prob = 0.4\n",
    "    path: List[int]\n",
    "    plan: List[int]\n",
    "    current_score: Fitness = None\n",
    "    velocity: List = None\n",
    "    personal_best_path: List[int] = None\n",
    "    personal_best_plan: List[int] = None\n",
    "    personal_best_score: Fitness = None\n",
    "    # velocity_memory : List = []\n",
    "\n",
    "    def __post_init__(self):\n",
    "        self.velocity = self.velocity if self.velocity is not None else []\n",
    "        self.current_score = self.calculate_score()\n",
    "        self.personal_best_path = self.path.copy()\n",
    "        self.personal_best_plan = self.plan.copy()\n",
    "        self.personal_best_score = self.current_score\n",
    "\n",
    "    def calculate_score(self):\n",
    "        time, profit = calculate_time_and_profit(self.path, self.plan, NODE, ITEM, MIN_SPEED, MAX_SPEED, CAPACITY)\n",
    "        net_profit = profit - (RENTING_RATIO * time)\n",
    "        return Fitness(time, profit, net_profit)\n",
    "\n",
    "    def update_personal_best(self):\n",
    "        self.current_score = self.calculate_score()\n",
    "        if self.current_score.net_profit > self.personal_best_score.net_profit:\n",
    "            self.personal_best_path = self.path.copy()\n",
    "            self.personal_best_plan = self.plan.copy()\n",
    "            self.personal_best_score = self.current_score\n",
    "            # self.velocity_memory.append(self.velocity.copy())\n",
    "\n",
    "    def update_velocity(self, global_best_particle):\n",
    "        # Simple velocity update logic (can be enhanced for better performance)\n",
    "        for i in range(len(self.path)):\n",
    "            if np.random.rand() < pbest_prob and self.path[i] != self.personal_best_path[i]:\n",
    "                self.velocity.append(('path', i, self.personal_best_path.index(self.path[i])))\n",
    "            if np.random.rand() < gbest_prob and self.path[i] != global_best_particle.path[i]:\n",
    "                self.velocity.append(('path', i, global_best_particle.path.index(self.path[i])))\n",
    "            if np.random.rand() < self.shift_prob:\n",
    "                segment_start = np.random.randint(0, len(self.path))\n",
    "                segment_end = segment_start + np.random.randint(1, len(self.path) - segment_start)\n",
    "                new_position = np.random.randint(0, len(self.path))\n",
    "                self.velocity.append(('shift_path', segment_start, segment_end, new_position))\n",
    "        \n",
    "        for i in range(len(self.plan)):\n",
    "            if np.random.rand() < pbest_prob and self.plan[i] != self.personal_best_plan[i]:\n",
    "                self.velocity.append(('plan', i, self.personal_best_plan.index(self.plan[i])))\n",
    "            if np.random.rand() < gbest_prob and self.plan[i] != global_best_particle.plan[i]:\n",
    "                self.velocity.append(('plan', i, global_best_particle.plan.index(self.plan[i])))\n",
    "            if np.random.rand() < self.shift_prob:\n",
    "                segment_start = np.random.randint(0, len(self.plan))\n",
    "                segment_end = segment_start + np.random.randint(1, len(self.plan) - segment_start)\n",
    "                new_position = np.random.randint(0, len(self.plan))\n",
    "                self.velocity.append(('shift_plan', segment_start, segment_end, new_position))\n",
    "\n",
    "    def apply_velocity(self):\n",
    "        for change in self.velocity:\n",
    "            if change[0] == 'path':\n",
    "                i, new_position = change[1], change[2]\n",
    "                if 0 <= i < len(self.path) and 0 <= new_position < len(self.path):\n",
    "                    self.path[i], self.path[new_position] = self.path[new_position], self.path[i]\n",
    "\n",
    "            elif change[0] == 'plan':\n",
    "                i, new_decision = change[1], change[2]\n",
    "                if 0 <= i < len(self.plan) and 0 <= new_decision < len(self.plan):\n",
    "                    self.plan[i] = new_decision\n",
    "\n",
    "            elif change[0] == 'shift_path':\n",
    "                segment_start, segment_end, new_position = change[1], change[2], change[3]\n",
    "                if 0 <= segment_start <= segment_end < len(self.path) and 0 <= new_position < len(self.path):\n",
    "                    segment = self.path[segment_start:segment_end]\n",
    "                    del self.path[segment_start:segment_end]\n",
    "                    self.path[new_position:new_position] = segment\n",
    "\n",
    "            elif change[0] == 'shift_plan':\n",
    "                segment_start, segment_end, new_position = change[1], change[2], change[3]\n",
    "                if 0 <= segment_start <= segment_end < len(self.plan) and 0 <= new_position < len(self.plan):\n",
    "                    segment = self.plan[segment_start:segment_end]\n",
    "                    del self.plan[segment_start:segment_end]\n",
    "                    self.plan[new_position:new_position] = segment\n",
    "\n",
    "    def clear_velocity(self):\n",
    "        self.velocity.clear()\n",
    "\n",
    "class PSO:\n",
    "    def __init__(self, problem_data, num_particles, iterations, gbest_prob=1.0, pbest_prob=1.0):\n",
    "        self.problem_data = problem_data\n",
    "        self.num_particles = num_particles\n",
    "        self.iterations = iterations\n",
    "        self.gbest_prob = gbest_prob\n",
    "        self.pbest_prob = pbest_prob\n",
    "        self.particles = [Particle(*generate_ttp_solution(problem_data.Dimension, problem_data.ITEM, problem_data.CAPACITY)) for _ in range(num_particles)]\n",
    "        self.gbest_particle = max(self.particles, key=lambda p: p.personal_best_score.net_profit)\n",
    "\n",
    "    def run(self):\n",
    "        for _ in range(self.iterations):\n",
    "            for particle in self.particles:\n",
    "                particle.clear_velocity()\n",
    "                particle.update_velocity(self.gbest_particle)\n",
    "                particle.apply_velocity()\n",
    "                particle.update_personal_best()\n",
    "\n",
    "                if particle.personal_best_score.net_profit > self.gbest_particle.personal_best_score.net_profit:\n",
    "                    self.gbest_particle = particle\n",
    "\n",
    "        return self.gbest_particle.personal_best_path, self.gbest_particle.personal_best_plan, self.gbest_particle.personal_best_score\n"
   ]
  },
  {
   "cell_type": "code",
   "execution_count": 24,
   "metadata": {},
   "outputs": [
    {
     "ename": "IndexError",
     "evalue": "list index out of range",
     "output_type": "error",
     "traceback": [
      "\u001b[1;31m---------------------------------------------------------------------------\u001b[0m",
      "\u001b[1;31mIndexError\u001b[0m                                Traceback (most recent call last)",
      "Cell \u001b[1;32mIn[24], line 2\u001b[0m\n\u001b[0;32m      1\u001b[0m pso \u001b[38;5;241m=\u001b[39m PSO(data, num_particles\u001b[38;5;241m=\u001b[39m\u001b[38;5;241m50\u001b[39m, iterations\u001b[38;5;241m=\u001b[39m\u001b[38;5;241m1000\u001b[39m)\n\u001b[1;32m----> 2\u001b[0m best_path, best_plan, best_score \u001b[38;5;241m=\u001b[39m \u001b[43mpso\u001b[49m\u001b[38;5;241;43m.\u001b[39;49m\u001b[43mrun\u001b[49m\u001b[43m(\u001b[49m\u001b[43m)\u001b[49m\n",
      "Cell \u001b[1;32mIn[23], line 101\u001b[0m, in \u001b[0;36mPSO.run\u001b[1;34m(self)\u001b[0m\n\u001b[0;32m     99\u001b[0m particle\u001b[38;5;241m.\u001b[39mclear_velocity()\n\u001b[0;32m    100\u001b[0m particle\u001b[38;5;241m.\u001b[39mupdate_velocity(\u001b[38;5;28mself\u001b[39m\u001b[38;5;241m.\u001b[39mgbest_particle)\n\u001b[1;32m--> 101\u001b[0m \u001b[43mparticle\u001b[49m\u001b[38;5;241;43m.\u001b[39;49m\u001b[43mapply_velocity\u001b[49m\u001b[43m(\u001b[49m\u001b[43m)\u001b[49m\n\u001b[0;32m    102\u001b[0m particle\u001b[38;5;241m.\u001b[39mupdate_personal_best()\n\u001b[0;32m    104\u001b[0m \u001b[38;5;28;01mif\u001b[39;00m particle\u001b[38;5;241m.\u001b[39mpersonal_best_score\u001b[38;5;241m.\u001b[39mnet_profit \u001b[38;5;241m>\u001b[39m \u001b[38;5;28mself\u001b[39m\u001b[38;5;241m.\u001b[39mgbest_particle\u001b[38;5;241m.\u001b[39mpersonal_best_score\u001b[38;5;241m.\u001b[39mnet_profit:\n",
      "Cell \u001b[1;32mIn[23], line 69\u001b[0m, in \u001b[0;36mParticle.apply_velocity\u001b[1;34m(self)\u001b[0m\n\u001b[0;32m     67\u001b[0m     \u001b[38;5;28mself\u001b[39m\u001b[38;5;241m.\u001b[39mpath[change[\u001b[38;5;241m1\u001b[39m]], \u001b[38;5;28mself\u001b[39m\u001b[38;5;241m.\u001b[39mpath[change[\u001b[38;5;241m2\u001b[39m]] \u001b[38;5;241m=\u001b[39m \u001b[38;5;28mself\u001b[39m\u001b[38;5;241m.\u001b[39mpath[change[\u001b[38;5;241m2\u001b[39m]], \u001b[38;5;28mself\u001b[39m\u001b[38;5;241m.\u001b[39mpath[change[\u001b[38;5;241m1\u001b[39m]]\n\u001b[0;32m     68\u001b[0m \u001b[38;5;28;01melif\u001b[39;00m change[\u001b[38;5;241m0\u001b[39m] \u001b[38;5;241m==\u001b[39m \u001b[38;5;124m'\u001b[39m\u001b[38;5;124mplan\u001b[39m\u001b[38;5;124m'\u001b[39m:\n\u001b[1;32m---> 69\u001b[0m     \u001b[38;5;28mself\u001b[39m\u001b[38;5;241m.\u001b[39mplan[change[\u001b[38;5;241m1\u001b[39m]], \u001b[38;5;28mself\u001b[39m\u001b[38;5;241m.\u001b[39mplan[change[\u001b[38;5;241m2\u001b[39m]] \u001b[38;5;241m=\u001b[39m \u001b[38;5;28mself\u001b[39m\u001b[38;5;241m.\u001b[39mplan[change[\u001b[38;5;241m2\u001b[39m]], \u001b[38;5;28;43mself\u001b[39;49m\u001b[38;5;241;43m.\u001b[39;49m\u001b[43mplan\u001b[49m\u001b[43m[\u001b[49m\u001b[43mchange\u001b[49m\u001b[43m[\u001b[49m\u001b[38;5;241;43m1\u001b[39;49m\u001b[43m]\u001b[49m\u001b[43m]\u001b[49m\n\u001b[0;32m     70\u001b[0m \u001b[38;5;28;01melif\u001b[39;00m change[\u001b[38;5;241m0\u001b[39m] \u001b[38;5;241m==\u001b[39m \u001b[38;5;124m'\u001b[39m\u001b[38;5;124mshift_path\u001b[39m\u001b[38;5;124m'\u001b[39m:\n\u001b[0;32m     71\u001b[0m     \u001b[38;5;66;03m# Shift a segment of the path\u001b[39;00m\n\u001b[0;32m     72\u001b[0m     segment_start, segment_end, new_position \u001b[38;5;241m=\u001b[39m change[\u001b[38;5;241m1\u001b[39m], change[\u001b[38;5;241m2\u001b[39m], change[\u001b[38;5;241m3\u001b[39m]\n",
      "\u001b[1;31mIndexError\u001b[0m: list index out of range"
     ]
    }
   ],
   "source": [
    "pso = PSO(data, num_particles=50, iterations=1000)\n",
    "best_path, best_plan, best_score = pso.run()"
   ]
  },
  {
   "cell_type": "code",
   "execution_count": 31,
   "metadata": {},
   "outputs": [],
   "source": [
    "import numpy as np\n",
    "from typing import List\n",
    "from dataclasses import dataclass\n",
    "\n",
    "pbest_prob = 0.7\n",
    "gbest_prob = 0.9\n",
    "\n",
    "@dataclass\n",
    "class Fitness:\n",
    "    time: float\n",
    "    profit: float\n",
    "    net_profit: float\n",
    "\n",
    "@dataclass\n",
    "class Particle:\n",
    "    data: TTP\n",
    "    path: List[int]\n",
    "    plan: List[int]\n",
    "    current_score: Fitness = None\n",
    "    velocity: List = None\n",
    "    personal_best_path: List[int] = None\n",
    "    personal_best_plan: List[int] = None\n",
    "    personal_best_score: Fitness = None\n",
    "\n",
    "    def __post_init__(self):\n",
    "        self.velocity = self.velocity if self.velocity is not None else []\n",
    "        self.current_score = self.calculate_score()\n",
    "        self.personal_best_path = self.path.copy()\n",
    "        self.personal_best_plan = self.plan.copy()\n",
    "        self.personal_best_score = self.current_score\n",
    "\n",
    "    def calculate_score(self):\n",
    "        time, profit = calculate_time_and_profit(self.path, self.plan, self.data.NODE, self.data.ITEM, self.data.MIN_SPEED, self.data.MAX_SPEED, self.data.CAPACITY)\n",
    "        net_profit = profit - (self.data.RENTING_RATIO * time)\n",
    "        return Fitness(time, profit, net_profit)\n",
    "\n",
    "    def update_personal_best(self):\n",
    "        self.current_score = self.calculate_score()\n",
    "        if self.current_score.net_profit > self.personal_best_score.net_profit:\n",
    "            self.personal_best_path = self.path.copy()\n",
    "            self.personal_best_plan = self.plan.copy()\n",
    "            self.personal_best_score = self.current_score\n",
    "\n",
    "    def update_velocity(self, global_best_particle):\n",
    "        # Simple velocity update logic (can be enhanced for better performance)\n",
    "        for i in range(len(self.path)):\n",
    "            if np.random.rand() < pbest_prob and self.path[i] != self.personal_best_path[i]:\n",
    "                self.velocity.append(('path', i, self.personal_best_path.index(self.path[i])))\n",
    "            if np.random.rand() < gbest_prob and self.path[i] != global_best_particle.path[i]:\n",
    "                self.velocity.append(('path', i, global_best_particle.path.index(self.path[i])))\n",
    "        \n",
    "        for i in range(len(self.plan)):\n",
    "            if np.random.rand() < pbest_prob and self.plan[i] != self.personal_best_plan[i]:\n",
    "                self.velocity.append(('plan', i, self.personal_best_plan.index(self.plan[i])))\n",
    "            if np.random.rand() < gbest_prob and self.plan[i] != global_best_particle.plan[i]:\n",
    "                self.velocity.append(('plan', i, global_best_particle.plan.index(self.plan[i])))\n",
    "\n",
    "    def apply_velocity(self):\n",
    "        for change in self.velocity:\n",
    "            if change[0] == 'path':\n",
    "                self.path[change[1]], self.path[change[2]] = self.path[change[2]], self.path[change[1]]\n",
    "            elif change[0] == 'plan':\n",
    "                self.plan[change[1]], self.plan[change[2]] = self.plan[change[2]], self.plan[change[1]]\n",
    "\n",
    "    def clear_velocity(self):\n",
    "        self.velocity.clear()\n",
    "\n",
    "class PSO:\n",
    "    def __init__(self, data, num_particles, iterations, gbest_prob=1.0, pbest_prob=1.0):\n",
    "        self.data = data\n",
    "        self.num_particles = num_particles\n",
    "        self.iterations = iterations\n",
    "        self.gbest_prob = gbest_prob\n",
    "        self.pbest_prob = pbest_prob\n",
    "        self.particles = [Particle(data, *generate_ttp_solution(data.Dimension, data.ITEM, data.CAPACITY)) for _ in range(num_particles)]\n",
    "        self.gbest_particle = max(self.particles, key=lambda p: p.personal_best_score.net_profit)\n",
    "\n",
    "    def run(self):\n",
    "        for _ in range(self.iterations):\n",
    "            for particle in self.particles:\n",
    "                particle.clear_velocity()\n",
    "                particle.update_velocity(self.gbest_particle)\n",
    "                particle.apply_velocity()\n",
    "                particle.update_personal_best()\n",
    "\n",
    "                if particle.personal_best_score.net_profit > self.gbest_particle.personal_best_score.net_profit:\n",
    "                    self.gbest_particle = particle\n",
    "\n",
    "        return self.gbest_particle.personal_best_path, self.gbest_particle.personal_best_plan, self.gbest_particle.personal_best_score\n"
   ]
  },
  {
   "cell_type": "code",
   "execution_count": 32,
   "metadata": {},
   "outputs": [],
   "source": [
    "pso = PSO(data, num_particles=50, iterations=1000)\n",
    "best_path, best_plan, best_score = pso.run()"
   ]
  },
  {
   "cell_type": "markdown",
   "metadata": {},
   "source": [
    "a280-n279"
   ]
  },
  {
   "cell_type": "markdown",
   "metadata": {},
   "source": [
    "a280-n1395"
   ]
  },
  {
   "cell_type": "markdown",
   "metadata": {},
   "source": [
    "a280-n2790"
   ]
  },
  {
   "cell_type": "markdown",
   "metadata": {},
   "source": [
    "fnl4461-n4460"
   ]
  },
  {
   "cell_type": "markdown",
   "metadata": {},
   "source": [
    "fnl4461-n22300"
   ]
  },
  {
   "cell_type": "markdown",
   "metadata": {},
   "source": [
    "fnl4461-n44600"
   ]
  },
  {
   "cell_type": "markdown",
   "metadata": {},
   "source": [
    "pla33810-n33809"
   ]
  },
  {
   "cell_type": "markdown",
   "metadata": {},
   "source": [
    "pla33810-n169045"
   ]
  },
  {
   "cell_type": "markdown",
   "metadata": {},
   "source": [
    "pla33810-n338090"
   ]
  },
  {
   "cell_type": "markdown",
   "metadata": {},
   "source": []
  }
 ],
 "metadata": {
  "kernelspec": {
   "display_name": "exeter",
   "language": "python",
   "name": "python3"
  },
  "language_info": {
   "codemirror_mode": {
    "name": "ipython",
    "version": 3
   },
   "file_extension": ".py",
   "mimetype": "text/x-python",
   "name": "python",
   "nbconvert_exporter": "python",
   "pygments_lexer": "ipython3",
   "version": "3.11.5"
  }
 },
 "nbformat": 4,
 "nbformat_minor": 2
}
