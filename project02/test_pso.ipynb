{
 "cells": [
  {
   "cell_type": "markdown",
   "metadata": {},
   "source": [
    "## Read data function"
   ]
  },
  {
   "cell_type": "code",
   "execution_count": 1,
   "metadata": {},
   "outputs": [],
   "source": [
    "import pandas as pd\n",
    "import numpy as np\n",
    "\n",
    "from dataclasses import dataclass\n",
    "from typing import Any, List, Tuple, Dict\n",
    "from pandas import DataFrame\n",
    "\n",
    "@dataclass\n",
    "class City:\n",
    "    index : int\n",
    "    X : float\n",
    "    Y : float\n",
    "\n",
    "@dataclass\n",
    "class Item:\n",
    "    index : int\n",
    "    Profit : int\n",
    "    Weight : int\n",
    "    Node : int\n",
    "\n",
    "@dataclass\n",
    "class TTP:\n",
    "    Name :str = None\n",
    "    DTYPE : str = None\n",
    "    Dimension : int = 0\n",
    "    ITEMS : int = 0\n",
    "    CAPACITY : int = 0\n",
    "    MIN_SPEED : float = 0\n",
    "    MAX_SPEED : float = 0\n",
    "    RENTING_RATIO : float = 0\n",
    "    EDGE_W : str = None\n",
    "    NODE : List[City] = None\n",
    "    ITEM : List[Item] = None\n",
    "\n",
    "@dataclass\n",
    "class TTPpd:\n",
    "    Name :str = None\n",
    "    DTYPE : str = None\n",
    "    Dimension : int = 0\n",
    "    ITEMS : int = 0\n",
    "    CAPACITY : int = 0\n",
    "    MIN_SPEED : float = 0\n",
    "    MAX_SPEED : float = 0\n",
    "    RENTING_RATIO : float = 0\n",
    "    EDGE_W : str = None\n",
    "    NODE : DataFrame = None\n",
    "    ITEM : DataFrame = None"
   ]
  },
  {
   "cell_type": "code",
   "execution_count": 39,
   "metadata": {},
   "outputs": [],
   "source": []
  },
  {
   "cell_type": "code",
   "execution_count": 100,
   "metadata": {},
   "outputs": [
    {
     "name": "stdout",
     "output_type": "stream",
     "text": [
      "     X    Y\n",
      "0  0.0  0.0\n",
      "1  4.0  0.0\n",
      "2  8.0  3.0\n",
      "3  0.0  3.0 \n",
      "    Profit  Weight  Node\n",
      "0      34      30     2\n",
      "1      40      40     3\n",
      "2      25      21     4\n"
     ]
    }
   ],
   "source": [
    "path = './datasets/test-example-n4.txt'\n",
    "path2 = './datasets/a280-n1395.txt'\n",
    "node , item = read_problem(file_path=path)\n",
    "print(node,'\\n', item)"
   ]
  },
  {
   "cell_type": "markdown",
   "metadata": {},
   "source": [
    "## Algorithm part"
   ]
  },
  {
   "cell_type": "code",
   "execution_count": 192,
   "metadata": {},
   "outputs": [],
   "source": [
    "import pandas as pd\n",
    "import random\n",
    "\n",
    "max_weight = 80\n",
    "max_speed = 1\n",
    "min_speed = 0.1\n",
    "renting_ratio = 1.516\n",
    "\n",
    "def generate_ttp_solution(number_of_cities, items_df, knapsack_capacity):\n",
    "    # Generate a random path (tour)\n",
    "    path = np.random.permutation(number_of_cities) + 1\n",
    "\n",
    "    # Initialize knapsack plan with no items picked\n",
    "    plan = [0] * len(items_df)\n",
    "    current_weight = 0\n",
    "\n",
    "    # Randomly decide to pick up items considering the knapsack capacity\n",
    "    for i, row in items_df.iterrows():\n",
    "        item_weight = row['Weight']\n",
    "        if current_weight + item_weight <= knapsack_capacity:\n",
    "            decision = random.choice([0, 1])\n",
    "            plan[i] = decision\n",
    "            current_weight += item_weight * decision\n",
    "\n",
    "    return path, plan\n",
    "\n",
    "def euclidean_distance(p1: Tuple[float, float], p2: Tuple[float, float]) -> float:\n",
    "    return np.sqrt((p1[0] - p2[0])**2 + (p1[1] - p2[1])**2)\n",
    "\n",
    "def calculate_time_and_profit(solution: List[int], plan: List[int], nodes_df, items_df, min_speed, max_speed, max_weight):\n",
    "    total_time = 0\n",
    "    total_profit = 0\n",
    "    current_weight = 0\n",
    "\n",
    "    # Calculate total profit from picked items\n",
    "    for i, is_picked in enumerate(plan):\n",
    "        if is_picked:\n",
    "            total_profit += items_df.loc[i, 'Profit']\n",
    "\n",
    "    # Calculate the total travel time\n",
    "    for i in range(len(solution)):\n",
    "        current_city = solution[i] - 1\n",
    "        next_city = solution[0] - 1 if i == len(solution) - 1 else solution[i + 1] - 1\n",
    "\n",
    "        # Update current weight based on items picked at the current city\n",
    "        for j, is_picked in enumerate(plan):\n",
    "            if is_picked and items_df.loc[j, 'Node'] == solution[i]:\n",
    "                current_weight += items_df.loc[j, 'Weight']\n",
    "\n",
    "        # Calculate speed based on current weight\n",
    "        speed = max_speed - (current_weight / max_weight) * (max_speed - min_speed)\n",
    "        speed = max(speed, min_speed)  # Ensure speed doesn't drop below minimum\n",
    "\n",
    "        # Distance between current city and next city\n",
    "        distance = euclidean_distance(\n",
    "            (nodes_df.loc[current_city, 'X'], nodes_df.loc[current_city, 'Y']),\n",
    "            (nodes_df.loc[next_city, 'X'], nodes_df.loc[next_city, 'Y'])\n",
    "        )\n",
    "\n",
    "        # Update time with time to next city\n",
    "        total_time += distance / speed\n",
    " \n",
    "    return total_time, total_profit"
   ]
  },
  {
   "cell_type": "code",
   "execution_count": 193,
   "metadata": {},
   "outputs": [],
   "source": [
    "def calculate_time_and_profit(solution: List[int], plan: List[int], nodes_df, items_df, min_speed, max_speed, max_weight):\n",
    "    total_time = 0\n",
    "    total_profit = 0\n",
    "    current_weight = 0\n",
    "\n",
    "    # Calculate total profit from picked items\n",
    "    for i, is_picked in enumerate(plan):\n",
    "        if is_picked:\n",
    "            total_profit += items_df.loc[i, 'Profit']\n",
    "\n",
    "    # Calculate the total travel time\n",
    "    for i in range(len(solution)):\n",
    "        current_city_index = solution[i] - 1  # Adjust if solution uses 1-based indexing\n",
    "        next_city_index = solution[0] - 1 if i == len(solution) - 1 else solution[i + 1] - 1\n",
    "\n",
    "        # Ensure indices are within the valid range\n",
    "        current_city_index = max(0, min(current_city_index, len(nodes_df) - 1))\n",
    "        next_city_index = max(0, min(next_city_index, len(nodes_df) - 1))\n",
    "\n",
    "        # Update current weight based on items picked at the current city\n",
    "        for j, row in items_df.iterrows():\n",
    "            if plan[j] == 1 and row['Node'] == solution[i]:\n",
    "                current_weight += row['Weight']\n",
    "\n",
    "        # Calculate speed based on current weight\n",
    "        speed = max_speed - (current_weight / max_weight) * (max_speed - min_speed)\n",
    "        speed = max(speed, min_speed)  # Ensure speed doesn't drop below minimum\n",
    "\n",
    "        # Distance between current city and next city\n",
    "        distance = euclidean_distance(\n",
    "            (nodes_df.loc[current_city_index, 'X'], nodes_df.loc[current_city_index, 'Y']),\n",
    "            (nodes_df.loc[next_city_index, 'X'], nodes_df.loc[next_city_index, 'Y'])\n",
    "        )\n",
    "\n",
    "        # Update time with time to next city\n",
    "        total_time += distance / speed\n",
    "\n",
    "    return total_time, total_profit\n"
   ]
  },
  {
   "cell_type": "code",
   "execution_count": 199,
   "metadata": {},
   "outputs": [],
   "source": [
    "def euclidean_distance(p1, p2):\n",
    "    return np.sqrt((p1[0] - p2[0])**2 + (p1[1] - p2[1])**2)\n",
    "\n",
    "def calculate_time_and_profit(solution, plan, nodes_df, items_df, min_speed, max_speed, max_weight):\n",
    "    total_time = 0\n",
    "    total_profit = 0\n",
    "    current_weight = 0\n",
    "\n",
    "    # Calculate total profit from picked items\n",
    "    for i, is_picked in enumerate(plan):\n",
    "        if is_picked:\n",
    "            total_profit += items_df.iloc[i]['Profit']\n",
    "\n",
    "    # Calculate the total travel time\n",
    "    for i in range(len(solution)):\n",
    "        current_city_index = solution[i] - 1\n",
    "        next_city_index = solution[0] - 1 if i == len(solution) - 1 else solution[i + 1] - 1\n",
    "\n",
    "        # Update current weight based on items picked at the current city\n",
    "        for j, row in items_df.iterrows():\n",
    "            if plan[j] == 1 and row['Node'] == solution[i]:\n",
    "                current_weight += row['Weight']\n",
    "\n",
    "        # Calculate speed based on current weight\n",
    "        speed = max_speed - (current_weight / max_weight) * (max_speed - min_speed)\n",
    "        speed = max(speed, min_speed)  # Ensure speed doesn't drop below minimum\n",
    "\n",
    "        # Distance between current city and next city\n",
    "        distance = euclidean_distance(\n",
    "            (nodes_df.iloc[current_city_index]['X'], nodes_df.iloc[current_city_index]['Y']),\n",
    "            (nodes_df.iloc[next_city_index]['X'], nodes_df.iloc[next_city_index]['Y'])\n",
    "        )\n",
    "\n",
    "        # Update time with time to next city\n",
    "        total_time += distance / speed\n",
    "\n",
    "    return total_time, total_profit\n"
   ]
  },
  {
   "cell_type": "code",
   "execution_count": 212,
   "metadata": {},
   "outputs": [
    {
     "data": {
      "text/plain": [
       "(array([4, 2, 1, 3]), [1, 0, 1])"
      ]
     },
     "execution_count": 212,
     "metadata": {},
     "output_type": "execute_result"
    }
   ],
   "source": [
    "path , plan = generate_ttp_solution(4,item,80)\n",
    "# len(path) , len(plan)\n",
    "path , plan"
   ]
  },
  {
   "cell_type": "code",
   "execution_count": 216,
   "metadata": {},
   "outputs": [],
   "source": [
    "# path = [1,4,3,2]\n",
    "# plan = [0,0,0]\n",
    "path = [1,2,3,4]\n",
    "plan = [0,1,1]"
   ]
  },
  {
   "cell_type": "code",
   "execution_count": 217,
   "metadata": {},
   "outputs": [
    {
     "data": {
      "text/plain": [
       "(33.107207533502354, 65)"
      ]
     },
     "execution_count": 217,
     "metadata": {},
     "output_type": "execute_result"
    }
   ],
   "source": [
    "cost = calculate_time_and_profit(path,plan,node,item,min_speed,max_speed,max_weight)\n",
    "cost"
   ]
  },
  {
   "cell_type": "code",
   "execution_count": 231,
   "metadata": {},
   "outputs": [],
   "source": [
    "# particle construction\n",
    "min_speed = 0.1\n",
    "max_speed = 1.0\n",
    "max_weight=80\n",
    "\n",
    "@dataclass\n",
    "class Particle:\n",
    "    path : List[int]\n",
    "    plan : List[int]\n",
    "    time : float = 0\n",
    "    profit : float = 0\n",
    "\n",
    "    def __post_init__(self):\n",
    "        time , profit = calculate_time_and_profit(self.path,self.plan,node,item,min_speed,max_speed,max_weight)\n",
    "        self.time = time\n",
    "        self.profit = profit"
   ]
  },
  {
   "cell_type": "code",
   "execution_count": 232,
   "metadata": {},
   "outputs": [],
   "source": [
    "p1 = Particle([1,4,3,2],[1,1,0])"
   ]
  },
  {
   "cell_type": "code",
   "execution_count": 233,
   "metadata": {},
   "outputs": [
    {
     "data": {
      "text/plain": [
       "Particle(path=[1, 4, 3, 2], plan=[1, 1, 0], time=38.91443850267379, profit=74)"
      ]
     },
     "execution_count": 233,
     "metadata": {},
     "output_type": "execute_result"
    }
   ],
   "source": [
    "p1"
   ]
  },
  {
   "cell_type": "code",
   "execution_count": 243,
   "metadata": {},
   "outputs": [
    {
     "data": {
      "text/plain": [
       "[Particle(path=array([2, 1, 3, 4]), plan=[0, 0, 0], time=25.544003745317532, profit=0),\n",
       " Particle(path=array([1, 2, 3, 4]), plan=[0, 0, 1], time=20.927986906710313, profit=25),\n",
       " Particle(path=array([3, 4, 2, 1]), plan=[1, 1, 0], time=82.66696949668142, profit=74)]"
      ]
     },
     "execution_count": 243,
     "metadata": {},
     "output_type": "execute_result"
    }
   ],
   "source": [
    "n = 3\n",
    "[Particle(*generate_ttp_solution(4,item,80)) for _ in range(n)]"
   ]
  },
  {
   "cell_type": "code",
   "execution_count": 230,
   "metadata": {},
   "outputs": [
    {
     "data": {
      "text/plain": [
       "(34.334366181596856, 59)"
      ]
     },
     "execution_count": 230,
     "metadata": {},
     "output_type": "execute_result"
    }
   ],
   "source": [
    "cost = calculate_time_and_profit([3,2,1,4],[1,0,1],node,item,min_speed,max_speed,max_weight)\n",
    "cost"
   ]
  },
  {
   "cell_type": "code",
   "execution_count": null,
   "metadata": {},
   "outputs": [],
   "source": []
  }
 ],
 "metadata": {
  "kernelspec": {
   "display_name": "exeter",
   "language": "python",
   "name": "python3"
  },
  "language_info": {
   "codemirror_mode": {
    "name": "ipython",
    "version": 3
   },
   "file_extension": ".py",
   "mimetype": "text/x-python",
   "name": "python",
   "nbconvert_exporter": "python",
   "pygments_lexer": "ipython3",
   "version": "3.11.5"
  }
 },
 "nbformat": 4,
 "nbformat_minor": 2
}
