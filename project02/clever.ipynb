{
 "cells": [
  {
   "cell_type": "code",
   "execution_count": null,
   "metadata": {},
   "outputs": [],
   "source": [
    "import random\n",
    "\n",
    "def objective_function(vector):\n",
    "    return sum([x ** 2.0 for x in vector])\n",
    "\n",
    "def random_vector(minmax):\n",
    "    return [minmax[i][0] + ((minmax[i][1] - minmax[i][0]) * random.random()) for i in range(len(minmax))]\n",
    "\n",
    "def create_particle(search_space, vel_space):\n",
    "    particle = {}\n",
    "    particle['position'] = random_vector(search_space)\n",
    "    particle['cost'] = objective_function(particle['position'])\n",
    "    particle['b_position'] = particle['position'][:]\n",
    "    particle['b_cost'] = particle['cost']\n",
    "    particle['velocity'] = random_vector(vel_space)\n",
    "    return particle\n",
    "\n",
    "def get_global_best(population, current_best=None):\n",
    "    population.sort(key=lambda x: x['cost'])\n",
    "    best = population[0]\n",
    "    if current_best is None or best['cost'] <= current_best['cost']:\n",
    "        current_best = {}\n",
    "        current_best['position'] = best['position'][:]\n",
    "        current_best['cost'] = best['cost']\n",
    "    return current_best\n",
    "\n",
    "def update_velocity(particle, gbest, max_v, c1, c2):\n",
    "    for i in range(len(particle['velocity'])):\n",
    "        v1 = c1 * random.random() * (particle['b_position'][i] - particle['position'][i])\n",
    "        v2 = c2 * random.random() * (gbest['position'][i] - particle['position'][i])\n",
    "        particle['velocity'][i] = particle['velocity'][i] + v1 + v2\n",
    "        if particle['velocity'][i] > max_v:\n",
    "            particle['velocity'][i] = max_v\n",
    "        elif particle['velocity'][i] < -max_v:\n",
    "            particle['velocity'][i] = -max_v\n",
    "\n",
    "def update_position(part, bounds):\n",
    "    for i in range(len(part['position'])):\n",
    "        part['position'][i] = part['position'][i] + part['velocity'][i]\n",
    "        if part['position'][i] > bounds[i][1]:\n",
    "            part['position'][i] = bounds[i][1] - abs(part['position'][i] - bounds[i][1])\n",
    "            part['velocity'][i] *= -1.0\n",
    "        elif part['position'][i] < bounds[i][0]:\n",
    "            part['position'][i] = bounds[i][0] + abs(part['position'][i] - bounds[i][0])\n",
    "            part['velocity'][i] *= -1.0\n",
    "\n",
    "def update_best_position(particle):\n",
    "    if particle['cost'] <= particle['b_cost']:\n",
    "        particle['b_cost'] = particle['cost']\n",
    "        particle['b_position'] = particle['position'][:]\n",
    "\n",
    "def search(max_gens, search_space, vel_space, pop_size, max_vel, c1, c2):\n",
    "    pop = [create_particle(search_space, vel_space) for _ in range(pop_size)]\n",
    "    gbest = get_global_best(pop)\n",
    "    for gen in range(max_gens):\n",
    "        for particle in pop:\n",
    "            update_velocity(particle, gbest, max_vel, c1, c2)\n",
    "            update_position(particle, search_space)\n",
    "            particle['cost'] = objective_function(particle['position'])\n",
    "            update_best_position(particle)\n",
    "        gbest = get_global_best(pop, gbest)\n",
    "        print(f\" > gen {gen+1}, fitness={gbest['cost']}\")\n",
    "    return gbest\n",
    "\n",
    "# Main execution\n",
    "if __name__ == \"__main__\":\n",
    "    # Problem configuration\n",
    "    problem_size = 2\n",
    "    search_space = [[-5, 5] for _ in range(problem_size)]\n",
    "    # Algorithm configuration\n",
    "    vel_space = [[-1, 1] for _ in range(problem_size)]\n",
    "    max_gens = 100\n",
    "    pop_size = 50\n",
    "    max_vel = 100.0\n",
    "    c1, c2 = 2.0, 2.0\n",
    "    # Execute the algorithm\n",
    "    best = search(max_gens, search_space, vel_space, pop_size, max_vel, c1, c2)\n",
    "    print(f\"done! Solution: f={best['cost']}, s={best['position']}\")\n"
   ]
  },
  {
   "cell_type": "code",
   "execution_count": 2,
   "metadata": {},
   "outputs": [],
   "source": [
    "problem_size = 2\n",
    "search_space = [[-5, 5] for _ in range(problem_size)]\n",
    "vel_space = [[-1, 1] for _ in range(problem_size)]"
   ]
  },
  {
   "cell_type": "code",
   "execution_count": 3,
   "metadata": {},
   "outputs": [
    {
     "data": {
      "text/plain": [
       "[[-5, 5], [-5, 5]]"
      ]
     },
     "execution_count": 3,
     "metadata": {},
     "output_type": "execute_result"
    }
   ],
   "source": [
    "search_space"
   ]
  },
  {
   "cell_type": "code",
   "execution_count": 4,
   "metadata": {},
   "outputs": [
    {
     "data": {
      "text/plain": [
       "[[-1, 1], [-1, 1]]"
      ]
     },
     "execution_count": 4,
     "metadata": {},
     "output_type": "execute_result"
    }
   ],
   "source": [
    "vel_space"
   ]
  },
  {
   "cell_type": "code",
   "execution_count": 5,
   "metadata": {},
   "outputs": [
    {
     "data": {
      "text/plain": [
       "{'position': [3.9548952268384667, 1.2327014525296587],\n",
       " 'cost': 17.160749126338416,\n",
       " 'b_position': [3.9548952268384667, 1.2327014525296587],\n",
       " 'b_cost': 17.160749126338416,\n",
       " 'velocity': [0.571782384305509, 0.09681331581276886]}"
      ]
     },
     "execution_count": 5,
     "metadata": {},
     "output_type": "execute_result"
    }
   ],
   "source": [
    "create_particle(search_space, vel_space)"
   ]
  },
  {
   "cell_type": "code",
   "execution_count": 6,
   "metadata": {},
   "outputs": [
    {
     "data": {
      "text/plain": [
       "{'position': [-1.9085472096673826, 2.753805910509084],\n",
       " 'cost': 11.225999444283918,\n",
       " 'b_position': [-1.9085472096673826, 2.753805910509084],\n",
       " 'b_cost': 11.225999444283918,\n",
       " 'velocity': [0.9885242856040155, -0.7421628461140934]}"
      ]
     },
     "execution_count": 6,
     "metadata": {},
     "output_type": "execute_result"
    }
   ],
   "source": [
    "create_particle(search_space, vel_space)"
   ]
  },
  {
   "cell_type": "code",
   "execution_count": null,
   "metadata": {},
   "outputs": [],
   "source": []
  }
 ],
 "metadata": {
  "kernelspec": {
   "display_name": "exeter",
   "language": "python",
   "name": "python3"
  },
  "language_info": {
   "codemirror_mode": {
    "name": "ipython",
    "version": 3
   },
   "file_extension": ".py",
   "mimetype": "text/x-python",
   "name": "python",
   "nbconvert_exporter": "python",
   "pygments_lexer": "ipython3",
   "version": "3.11.5"
  }
 },
 "nbformat": 4,
 "nbformat_minor": 2
}
