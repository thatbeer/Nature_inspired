{
 "cells": [
  {
   "cell_type": "code",
   "execution_count": 1,
   "metadata": {},
   "outputs": [],
   "source": [
    "import yaml\n",
    "import datetime\n",
    "import json\n",
    "import timeit\n",
    "import time\n",
    "import random\n",
    "import pandas as pd\n",
    "from dataclasses import dataclass, asdict\n",
    "\n",
    "from core.classes import GeneticAlgorithm, Speculator\n",
    "from core.dataclass import *\n",
    "from core.selection import best_gene, get_mean"
   ]
  },
  {
   "cell_type": "code",
   "execution_count": 2,
   "metadata": {},
   "outputs": [],
   "source": [
    "\n",
    "# @dataclass\n",
    "# class Log:\n",
    "#     best_gene: Chromosome\n",
    "#     best_fitness : List[float]\n",
    "#     avg_fitness: List[float]\n",
    "#     first_generation: List[Chromosome]\n",
    "#     last_generation: List[Chromosome]\n",
    "#     generations: List[List[Chromosome]]\n",
    "\n",
    "# @dataclass\n",
    "# class TriaLog:\n",
    "#     trial : int\n",
    "#     information : Log\n",
    "#     avg_fitness : float = 0\n",
    "\n",
    "#     def __post_init__(self):\n",
    "#         if self.trial > 1:\n",
    "#             self.avg_fitness = np.mean(self.information.best_fitness)\n",
    "\n",
    "# class Speculator:\n",
    "#     def __init__(self, config: Config) -> None:\n",
    "#         self.config = config\n",
    "#         self.experiment : List[TriaLog] = []\n",
    "#         self.experiment_log = config.name\n",
    "#         self.clear = self._clear_log()\n",
    "#         self.seed = 0\n",
    "#         self.random_seed = self._randomseed()\n",
    "#         self.seeds = []\n",
    "#         self.time = []\n",
    "    \n",
    "#     def _randomseed(self):\n",
    "#         seed = random.randint(1,1000)\n",
    "#         return seed\n",
    "\n",
    "#     def _clear_log(self) -> None:\n",
    "#         self.experiment = []\n",
    "    \n",
    "#     def run(self):\n",
    "#         \"\"\"Run GA experiments and log data.\"\"\"\n",
    "#         for trial in range(self.config.num_trial):\n",
    "#             # clear the log at the beginning of each trial\n",
    "#             start_time = time.time()\n",
    "#             # seed = self.random_seed\n",
    "#             # self.seeds.append(seed)\n",
    "#             # np.random.seed(seed)\n",
    "#             log = SimpleLog(\n",
    "#                 None,\n",
    "#                 0,\n",
    "#                 0\n",
    "#             )\n",
    "#             ga = GeneticAlgorithm(self.config)\n",
    "#             last_pop, best_gene = ga.forward()\n",
    "#             log.best_gene = best_gene.gene\n",
    "#             log.best_fitness = best_gene.phenome\n",
    "#             log.avg_fitness = get_mean(last_pop)\n",
    "#             end_time = time.time()\n",
    "#             self.time.append(end_time-start_time)\n",
    "#             self.experiment.append(TriaLog(trial+1, log))\n",
    "    \n",
    "#     # def simple_run(self):\n",
    "#     #     \"\"\"Run GA experiments and log data.\"\"\"\n",
    "#     #     for trial in range(self.config.num_trial):\n",
    "#     #         # clear the log at the beginning of each trial\n",
    "#     #         log = Log(\n",
    "#     #             best_gene=[],\n",
    "#     #             best_fitness=[],\n",
    "#     #             avg_fitness=[],\n",
    "#     #             first_generation=[],\n",
    "#     #             last_generation=[],\n",
    "#     #             generations=[]\n",
    "#     #         )\n",
    "#     #         ga = GeneticAlgorithm(self.config)\n",
    "#     #         last_pop, best_gene = ga.forward()\n",
    "#     #         log.best_gene.append(best_gene.gene)\n",
    "#     #         log.best_fitness.append(best_gene.phenome)\n",
    "#     #         log.first_generation.append(ga.population)\n",
    "#     #         log.last_generation.append(last_pop)\n",
    "#     #         self.experiment.append(TriaLog(trial+1, log))\n",
    "    \n",
    "#     # def advance_run(self):\n",
    "#     #     for trial in range(self.config.num_trial):\n",
    "#     #         log = Log(\n",
    "#     #             best_gene=[],\n",
    "#     #             best_fitness=[],\n",
    "#     #             avg_fitness=[],\n",
    "#     #             first_generation=[],\n",
    "#     #             last_generation=[],\n",
    "#     #             generations=[]\n",
    "#     #         )\n",
    "#     #         ga = GeneticAlgorithm(self.config)\n",
    "#     #         population = ga._generate_population()\n",
    "#     #         best_one = best_gene(population)\n",
    "#     #         log.best_gene.append(best_one.gene)\n",
    "#     #         log.best_fitness.append(best_one.phenome)\n",
    "#     #         log.avg_fitness.append(get_mean(population))\n",
    "#     #         log.first_generation.append(population)\n",
    "#     #         log.generations.append(population)\n",
    "\n",
    "#     #         for i in range(self.config.parameters.max_generations):\n",
    "#     #             population = ga.evolve(\n",
    "#     #                 population_origin=population\n",
    "#     #             )\n",
    "#     #             new_best = best_gene(population=population)\n",
    "#     #             if new_best.phenome > best_one.phenome:\n",
    "#     #                 best_one = new_best\n",
    "#     #             #log new generation data\n",
    "#     #             log.best_gene.append(new_best.gene)\n",
    "#     #             log.best_fitness.append(new_best.phenome)\n",
    "#     #             log.avg_fitness.append(get_mean(population))\n",
    "#     #             log.generations.append(population)\n",
    "\n",
    "#     #             if i + 1 == self.config.parameters.max_generations:\n",
    "#     #                 log.last_generation.append(population)\n",
    "            \n",
    "#     #         self.experiment.append(TriaLog(trial+1, log))\n",
    "            \n",
    "#     #         ## Save the log of each trials\n",
    "\n",
    "#     def save_to_file(self, filename=\"experiment_log.json\"):\n",
    "#         \"\"\"Save log data to a JSON file.\"\"\"\n",
    "#         with open(filename, 'w') as f:\n",
    "#             # Convert dataclass objects to dictionaries using asdict\n",
    "#             json_data = [asdict(trial_log) for trial_log in self.experiment]\n",
    "#             json.dump(json_data, f, indent=4)\n",
    "    \n",
    "#     def save_csv(self,path):\n",
    "#         data = {\n",
    "#             \"trial\" : [x.trial for x in self.experiment],\n",
    "#             \"best_gene\" : [x.information.best_gene for x in self.experiment],\n",
    "#             \"best_fitness\": [x.information.best_fitness for x in self.experiment],\n",
    "#             \"avg_fitness\" : [x.information.avg_fitness for x in self.experiment],\n",
    "#             \"avg_bestFitness\" :[ x.avg_fitness for x in self.experiment],\n",
    "#             \"seeds\" : self.seeds,\n",
    "#             \"times\" : self.time\n",
    "#         }\n",
    "#         pd.DataFrame(data).to_csv(path,index=False)\n",
    "#         self.clear\n",
    "\n",
    "\n",
    "\n",
    "\n",
    "\n",
    "\n",
    "\n"
   ]
  },
  {
   "cell_type": "code",
   "execution_count": 3,
   "metadata": {},
   "outputs": [],
   "source": [
    "# def run_genetic_algorithm(config_path):\n",
    "#     # config = OmegaConf.load(config_path)\n",
    "#     # genetic_algorithm = GeneticAlgorithm(config)\n",
    "#     # genetic_algorithm.run_genetic_algorithm()\n",
    "#     with open(config_path,\"r\") as config_file:\n",
    "#         config_data = yaml.safe_load(config_file)\n",
    "    \n",
    "#     config = Config(\n",
    "#         path=config_data[\"path\"],\n",
    "#         num_trial=config_data[\"num_trial\"],\n",
    "#         parameters=Parameters(**config_data[\"parameters\"]),\n",
    "#         functions=Functions(**config_data[\"functions\"])\n",
    "#     )\n",
    "\n",
    "#     speculator = Speculator(config)\n",
    "#     speculator.run()"
   ]
  },
  {
   "cell_type": "code",
   "execution_count": 4,
   "metadata": {},
   "outputs": [],
   "source": [
    "config_path = \"./conf/cfg.template.yaml\"\n",
    "with open(config_path,\"r\") as config_file:\n",
    "        config_data = yaml.safe_load(config_file)    \n",
    "cfg = Config(\n",
    "    name=config_data[\"name\"],\n",
    "    path=config_data[\"path\"],\n",
    "    file_name= config_data[\"file_name\"],\n",
    "    num_trial=config_data[\"num_trial\"],\n",
    "    parameters=Parameters(**config_data[\"parameters\"]),\n",
    "    functions=Functions(**config_data[\"functions\"])\n",
    ")"
   ]
  },
  {
   "cell_type": "code",
   "execution_count": 5,
   "metadata": {},
   "outputs": [],
   "source": [
    "spc = Speculator(cfg)"
   ]
  },
  {
   "cell_type": "code",
   "execution_count": 6,
   "metadata": {},
   "outputs": [
    {
     "name": "stderr",
     "output_type": "stream",
     "text": [
      "d:\\USERS\\Exeter\\Courses\\Module ECMM409 (2023) Nature-Inspired Computation\\Nature_inspired\\project01.1\\core\\utils.py:18: RuntimeWarning: invalid value encountered in multiply\n",
      "  weights_metric = np.nan_to_num(np.identity(num_node) * -np.inf, 0.0)\n"
     ]
    }
   ],
   "source": [
    "spc.run()"
   ]
  },
  {
   "cell_type": "code",
   "execution_count": 7,
   "metadata": {},
   "outputs": [
    {
     "data": {
      "text/plain": [
       "[TriaLog(trial=1, information=SimpleLog(best_gene=[2, 3, 4, 9, 11, 6, 12, 0, 7, 10, 8, 5, 1, 13], best_fitness=0.0002927400468384075, avg_fitness=0.0002901903466785243), avg_best_fitness=0),\n",
       " TriaLog(trial=2, information=SimpleLog(best_gene=[5, 11, 0, 7, 12, 6, 10, 8, 9, 1, 13, 2, 3, 4], best_fitness=0.00024648755237860487, avg_fitness=0.0002362942873532364), avg_best_fitness=0.00024648755237860487),\n",
       " TriaLog(trial=3, information=SimpleLog(best_gene=[7, 9, 8, 10, 6, 12, 2, 3, 11, 5, 4, 13, 1, 0], best_fitness=0.00025348542458808617, avg_fitness=0.00025348542458808617), avg_best_fitness=0.00025348542458808617),\n",
       " TriaLog(trial=4, information=SimpleLog(best_gene=[2, 13, 10, 12, 1, 7, 0, 9, 8, 6, 11, 5, 4, 3], best_fitness=0.00024003840614498319, avg_fitness=0.0002400384061449832), avg_best_fitness=0.00024003840614498319),\n",
       " TriaLog(trial=5, information=SimpleLog(best_gene=[12, 7, 0, 10, 3, 4, 11, 5, 13, 1, 9, 8, 2, 6], best_fitness=0.00024715768660405336, avg_fitness=0.0002471576866040534), avg_best_fitness=0.00024715768660405336)]"
      ]
     },
     "execution_count": 7,
     "metadata": {},
     "output_type": "execute_result"
    }
   ],
   "source": [
    "log2save = spc.experiment\n",
    "log2save"
   ]
  },
  {
   "cell_type": "code",
   "execution_count": 9,
   "metadata": {},
   "outputs": [],
   "source": [
    "spc.save_csv()"
   ]
  },
  {
   "cell_type": "code",
   "execution_count": 8,
   "metadata": {},
   "outputs": [
    {
     "ename": "AttributeError",
     "evalue": "'TriaLog' object has no attribute 'avg_fitness'",
     "output_type": "error",
     "traceback": [
      "\u001b[1;31m---------------------------------------------------------------------------\u001b[0m",
      "\u001b[1;31mAttributeError\u001b[0m                            Traceback (most recent call last)",
      "\u001b[1;32md:\\USERS\\Exeter\\Courses\\Module ECMM409 (2023) Nature-Inspired Computation\\Nature_inspired\\project01.1\\test.ipynb Cell 8\u001b[0m line \u001b[0;36m6\n\u001b[0;32m      <a href='vscode-notebook-cell:/d%3A/USERS/Exeter/Courses/Module%20ECMM409%20%282023%29%20Nature-Inspired%20Computation/Nature_inspired/project01.1/test.ipynb#X40sZmlsZQ%3D%3D?line=0'>1</a>\u001b[0m data \u001b[39m=\u001b[39m {\n\u001b[0;32m      <a href='vscode-notebook-cell:/d%3A/USERS/Exeter/Courses/Module%20ECMM409%20%282023%29%20Nature-Inspired%20Computation/Nature_inspired/project01.1/test.ipynb#X40sZmlsZQ%3D%3D?line=1'>2</a>\u001b[0m             \u001b[39m\"\u001b[39m\u001b[39mtrial\u001b[39m\u001b[39m\"\u001b[39m : [x\u001b[39m.\u001b[39mtrial \u001b[39mfor\u001b[39;00m x \u001b[39min\u001b[39;00m spc\u001b[39m.\u001b[39mexperiment],\n\u001b[0;32m      <a href='vscode-notebook-cell:/d%3A/USERS/Exeter/Courses/Module%20ECMM409%20%282023%29%20Nature-Inspired%20Computation/Nature_inspired/project01.1/test.ipynb#X40sZmlsZQ%3D%3D?line=2'>3</a>\u001b[0m             \u001b[39m\"\u001b[39m\u001b[39mbest_gene\u001b[39m\u001b[39m\"\u001b[39m : [x\u001b[39m.\u001b[39minformation\u001b[39m.\u001b[39mbest_gene \u001b[39mfor\u001b[39;00m x \u001b[39min\u001b[39;00m spc\u001b[39m.\u001b[39mexperiment],\n\u001b[0;32m      <a href='vscode-notebook-cell:/d%3A/USERS/Exeter/Courses/Module%20ECMM409%20%282023%29%20Nature-Inspired%20Computation/Nature_inspired/project01.1/test.ipynb#X40sZmlsZQ%3D%3D?line=3'>4</a>\u001b[0m             \u001b[39m\"\u001b[39m\u001b[39mbest_fitness\u001b[39m\u001b[39m\"\u001b[39m: [x\u001b[39m.\u001b[39minformation\u001b[39m.\u001b[39mbest_fitness \u001b[39mfor\u001b[39;00m x \u001b[39min\u001b[39;00m spc\u001b[39m.\u001b[39mexperiment],\n\u001b[0;32m      <a href='vscode-notebook-cell:/d%3A/USERS/Exeter/Courses/Module%20ECMM409%20%282023%29%20Nature-Inspired%20Computation/Nature_inspired/project01.1/test.ipynb#X40sZmlsZQ%3D%3D?line=4'>5</a>\u001b[0m             \u001b[39m\"\u001b[39m\u001b[39mavg_fitness\u001b[39m\u001b[39m\"\u001b[39m : [x\u001b[39m.\u001b[39minformation\u001b[39m.\u001b[39mavg_fitness \u001b[39mfor\u001b[39;00m x \u001b[39min\u001b[39;00m spc\u001b[39m.\u001b[39mexperiment],\n\u001b[1;32m----> <a href='vscode-notebook-cell:/d%3A/USERS/Exeter/Courses/Module%20ECMM409%20%282023%29%20Nature-Inspired%20Computation/Nature_inspired/project01.1/test.ipynb#X40sZmlsZQ%3D%3D?line=5'>6</a>\u001b[0m             \u001b[39m\"\u001b[39m\u001b[39mavg_bestFitness\u001b[39m\u001b[39m\"\u001b[39m :[ x\u001b[39m.\u001b[39;49mavg_fitness \u001b[39mfor\u001b[39;49;00m x \u001b[39min\u001b[39;49;00m spc\u001b[39m.\u001b[39;49mexperiment],\n\u001b[0;32m      <a href='vscode-notebook-cell:/d%3A/USERS/Exeter/Courses/Module%20ECMM409%20%282023%29%20Nature-Inspired%20Computation/Nature_inspired/project01.1/test.ipynb#X40sZmlsZQ%3D%3D?line=6'>7</a>\u001b[0m             \u001b[39m\"\u001b[39m\u001b[39mtimes\u001b[39m\u001b[39m\"\u001b[39m : spc\u001b[39m.\u001b[39mtime\n\u001b[0;32m      <a href='vscode-notebook-cell:/d%3A/USERS/Exeter/Courses/Module%20ECMM409%20%282023%29%20Nature-Inspired%20Computation/Nature_inspired/project01.1/test.ipynb#X40sZmlsZQ%3D%3D?line=7'>8</a>\u001b[0m         }\n",
      "\u001b[1;32md:\\USERS\\Exeter\\Courses\\Module ECMM409 (2023) Nature-Inspired Computation\\Nature_inspired\\project01.1\\test.ipynb Cell 8\u001b[0m line \u001b[0;36m6\n\u001b[0;32m      <a href='vscode-notebook-cell:/d%3A/USERS/Exeter/Courses/Module%20ECMM409%20%282023%29%20Nature-Inspired%20Computation/Nature_inspired/project01.1/test.ipynb#X40sZmlsZQ%3D%3D?line=0'>1</a>\u001b[0m data \u001b[39m=\u001b[39m {\n\u001b[0;32m      <a href='vscode-notebook-cell:/d%3A/USERS/Exeter/Courses/Module%20ECMM409%20%282023%29%20Nature-Inspired%20Computation/Nature_inspired/project01.1/test.ipynb#X40sZmlsZQ%3D%3D?line=1'>2</a>\u001b[0m             \u001b[39m\"\u001b[39m\u001b[39mtrial\u001b[39m\u001b[39m\"\u001b[39m : [x\u001b[39m.\u001b[39mtrial \u001b[39mfor\u001b[39;00m x \u001b[39min\u001b[39;00m spc\u001b[39m.\u001b[39mexperiment],\n\u001b[0;32m      <a href='vscode-notebook-cell:/d%3A/USERS/Exeter/Courses/Module%20ECMM409%20%282023%29%20Nature-Inspired%20Computation/Nature_inspired/project01.1/test.ipynb#X40sZmlsZQ%3D%3D?line=2'>3</a>\u001b[0m             \u001b[39m\"\u001b[39m\u001b[39mbest_gene\u001b[39m\u001b[39m\"\u001b[39m : [x\u001b[39m.\u001b[39minformation\u001b[39m.\u001b[39mbest_gene \u001b[39mfor\u001b[39;00m x \u001b[39min\u001b[39;00m spc\u001b[39m.\u001b[39mexperiment],\n\u001b[0;32m      <a href='vscode-notebook-cell:/d%3A/USERS/Exeter/Courses/Module%20ECMM409%20%282023%29%20Nature-Inspired%20Computation/Nature_inspired/project01.1/test.ipynb#X40sZmlsZQ%3D%3D?line=3'>4</a>\u001b[0m             \u001b[39m\"\u001b[39m\u001b[39mbest_fitness\u001b[39m\u001b[39m\"\u001b[39m: [x\u001b[39m.\u001b[39minformation\u001b[39m.\u001b[39mbest_fitness \u001b[39mfor\u001b[39;00m x \u001b[39min\u001b[39;00m spc\u001b[39m.\u001b[39mexperiment],\n\u001b[0;32m      <a href='vscode-notebook-cell:/d%3A/USERS/Exeter/Courses/Module%20ECMM409%20%282023%29%20Nature-Inspired%20Computation/Nature_inspired/project01.1/test.ipynb#X40sZmlsZQ%3D%3D?line=4'>5</a>\u001b[0m             \u001b[39m\"\u001b[39m\u001b[39mavg_fitness\u001b[39m\u001b[39m\"\u001b[39m : [x\u001b[39m.\u001b[39minformation\u001b[39m.\u001b[39mavg_fitness \u001b[39mfor\u001b[39;00m x \u001b[39min\u001b[39;00m spc\u001b[39m.\u001b[39mexperiment],\n\u001b[1;32m----> <a href='vscode-notebook-cell:/d%3A/USERS/Exeter/Courses/Module%20ECMM409%20%282023%29%20Nature-Inspired%20Computation/Nature_inspired/project01.1/test.ipynb#X40sZmlsZQ%3D%3D?line=5'>6</a>\u001b[0m             \u001b[39m\"\u001b[39m\u001b[39mavg_bestFitness\u001b[39m\u001b[39m\"\u001b[39m :[ x\u001b[39m.\u001b[39;49mavg_fitness \u001b[39mfor\u001b[39;00m x \u001b[39min\u001b[39;00m spc\u001b[39m.\u001b[39mexperiment],\n\u001b[0;32m      <a href='vscode-notebook-cell:/d%3A/USERS/Exeter/Courses/Module%20ECMM409%20%282023%29%20Nature-Inspired%20Computation/Nature_inspired/project01.1/test.ipynb#X40sZmlsZQ%3D%3D?line=6'>7</a>\u001b[0m             \u001b[39m\"\u001b[39m\u001b[39mtimes\u001b[39m\u001b[39m\"\u001b[39m : spc\u001b[39m.\u001b[39mtime\n\u001b[0;32m      <a href='vscode-notebook-cell:/d%3A/USERS/Exeter/Courses/Module%20ECMM409%20%282023%29%20Nature-Inspired%20Computation/Nature_inspired/project01.1/test.ipynb#X40sZmlsZQ%3D%3D?line=7'>8</a>\u001b[0m         }\n",
      "\u001b[1;31mAttributeError\u001b[0m: 'TriaLog' object has no attribute 'avg_fitness'"
     ]
    }
   ],
   "source": [
    "# data = {\n",
    "#             \"trial\" : [x.trial for x in spc.experiment],\n",
    "#             \"best_gene\" : [x.information.best_gene for x in spc.experiment],\n",
    "#             \"best_fitness\": [x.information.best_fitness for x in spc.experiment],\n",
    "#             \"avg_fitness\" : [x.information.avg_fitness for x in spc.experiment],\n",
    "#             # \"avg_bestFitness\" :[ x.avg_fitness for x in spc.experiment],\n",
    "#             \"times\" : spc.time\n",
    "#         }"
   ]
  },
  {
   "cell_type": "code",
   "execution_count": null,
   "metadata": {},
   "outputs": [],
   "source": [
    "parent, name = spc.config.file_name.split(\"_\")\n",
    "pd.DataFrame(data).to_csv(f'dst/{parent}/{name}.csv',index=False)"
   ]
  },
  {
   "cell_type": "code",
   "execution_count": null,
   "metadata": {},
   "outputs": [
    {
     "data": {
      "text/plain": [
       "['burma', 'exp1']"
      ]
     },
     "execution_count": 17,
     "metadata": {},
     "output_type": "execute_result"
    }
   ],
   "source": [
    "parent"
   ]
  },
  {
   "cell_type": "code",
   "execution_count": null,
   "metadata": {},
   "outputs": [],
   "source": [
    "with open(\"data.test.txt\",'w') as file:\n",
    "    for x in log2save:\n",
    "        t = x.trial\n",
    "        best_g = x.information.best_gene\n",
    "        best_f = x.information.best_fitness\n",
    "        avg_f = x.information.avg_fitness\n",
    "        avg_bg = x.avg_fitness\n",
    "        file.write(f\"{t},{best_g},{best_f},{avg_f},{avg_bg}\\n\")\n",
    "\n"
   ]
  },
  {
   "cell_type": "code",
   "execution_count": null,
   "metadata": {},
   "outputs": [],
   "source": []
  },
  {
   "cell_type": "code",
   "execution_count": null,
   "metadata": {},
   "outputs": [],
   "source": []
  }
 ],
 "metadata": {
  "kernelspec": {
   "display_name": "exeter",
   "language": "python",
   "name": "python3"
  },
  "language_info": {
   "codemirror_mode": {
    "name": "ipython",
    "version": 3
   },
   "file_extension": ".py",
   "mimetype": "text/x-python",
   "name": "python",
   "nbconvert_exporter": "python",
   "pygments_lexer": "ipython3",
   "version": "3.11.5"
  }
 },
 "nbformat": 4,
 "nbformat_minor": 2
}
