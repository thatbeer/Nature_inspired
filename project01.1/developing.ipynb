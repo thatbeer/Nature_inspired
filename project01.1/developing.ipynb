{
 "cells": [
  {
   "cell_type": "code",
   "execution_count": 18,
   "metadata": {},
   "outputs": [],
   "source": [
    "from omegaconf import OmegaConf\n",
    "from typing import Callable, List\n",
    "from dataclasses import dataclass\n",
    "import numpy as np\n",
    "import fire\n",
    "import torch.nn as nn"
   ]
  },
  {
   "cell_type": "code",
   "execution_count": 19,
   "metadata": {},
   "outputs": [],
   "source": [
    "# from core.crossover import no_crossover, point_crossover, ordered_crossover, partialmap_crossover\n",
    "# from core.mutation import mutate, multi_mutate, inversion, scramble\n",
    "# from core.replacement import replace_firstweak, replace_weakest\n",
    "# from core.selection import generate_population, best_gene, parents_selection, create_chromosome\n",
    "# from core.utils import load_metrics"
   ]
  },
  {
   "cell_type": "code",
   "execution_count": 20,
   "metadata": {},
   "outputs": [],
   "source": [
    "# from dataclasses import dataclass\n",
    "# from typing import Callable\n",
    "\n",
    "# @dataclass\n",
    "# class Parameters:\n",
    "#     max_generations:int\n",
    "#     population_size:int\n",
    "#     tournament_size:int\n",
    "#     p_select:float\n",
    "#     p_crossover:float\n",
    "#     p_mutate:0.2\n",
    "# @dataclass\n",
    "# class Functions:\n",
    "#     crossover_fn: Callable\n",
    "#     mutate_fn: Callable\n",
    "#     replace_fn: Callable\n",
    "# @dataclass\n",
    "# class Config:\n",
    "#     path : str\n",
    "#     num_trial: 10\n",
    "#     parameters: Parameters\n",
    "#     functions: Functions\n"
   ]
  },
  {
   "cell_type": "code",
   "execution_count": 21,
   "metadata": {},
   "outputs": [],
   "source": [
    "# @dataclass\n",
    "# class Parameters:\n",
    "#     max_generations:int\n",
    "#     population_size:int\n",
    "#     tournament_size:int\n",
    "#     p_select:float\n",
    "#     p_crossover:float\n",
    "#     p_mutate:0.2\n",
    "# @dataclass\n",
    "# class Functions:\n",
    "#     crossover_fn: Callable\n",
    "#     mutate_fn: Callable\n",
    "#     replace_fn: Callable\n",
    "# @dataclass\n",
    "# class Config:\n",
    "#     path : str\n",
    "#     num_trial: 10\n",
    "#     parameters: Parameters\n",
    "#     functions: Functions\n",
    "\n",
    "# def load_fn(fn_name):\n",
    "#     # Use a dictionary to map function names to their corresponding functions\n",
    "#     functions = {\n",
    "#         \"mutate\": mutate,\n",
    "#         \"multi_mutate\": multi_mutate,\n",
    "#         \"inversion\": inversion,\n",
    "#         \"scramble\": scramble,\n",
    "#         \"no_crossover\": no_crossover,\n",
    "#         \"point_crossover\": point_crossover,\n",
    "#         \"ordered_crossover\": ordered_crossover,\n",
    "#         \"partialmap_crossover\": partialmap_crossover,\n",
    "#         \"replace_firstweak\": replace_firstweak,\n",
    "#         \"replace_weakest\": replace_weakest\n",
    "#     }\n",
    "    \n",
    "#     # Check if the provided function name is in the dictionary\n",
    "#     if fn_name in functions:\n",
    "#         return functions[fn_name]\n",
    "#     else:\n",
    "#         raise FileNotFoundError(\"Are you sure that you named a correct function?\")\n",
    "\n",
    "# class GeneticAlgorithm(nn.Module):\n",
    "#     def __init__(self, config) -> None:\n",
    "#         super(GeneticAlgorithm, self).__init__()\n",
    "#         self.distance_metric = load_metrics(config.path)\n",
    "#         self.num_city = self.distance_metric.shape[0]\n",
    "#         self.num_trial = config.num_trial\n",
    "#         self.params = config.parameters\n",
    "#         self.mutate = load_fn(config.functions.mutate_fn)\n",
    "#         self.crossover = load_fn(config.functions.crossover_fn)\n",
    "#         self.replacement = load_fn(config.functions.replace_fn)\n",
    "#         self.population = self._generate_population()\n",
    "    \n",
    "#     def _generate_population(self):\n",
    "#         return generate_population(\n",
    "#             population_size=self.params.population_size,\n",
    "#             distance_metric=self.distance_metric\n",
    "#         )\n",
    "\n",
    "#     def _create_chromosome(self, gene):\n",
    "#         return create_chromosome(gene=gene,distance_metric=self.distance_metric)\n",
    "    \n",
    "#     def _mutate(self, gene):\n",
    "#         return self.mutate(gene, self.params.p_mutate)\n",
    "    \n",
    "#     def _crossover(self, parent1, parent2):\n",
    "#         return self.crossover(parent1, parent2, self.params.p_crossover)\n",
    "\n",
    "#     def _replacement(self, population, candidate):\n",
    "#         return self.replacement(population, candidate)\n",
    "    \n",
    "#     def forward(self):\n",
    "#         population = generate_population(\n",
    "#             population_size=self.params.population_size,\n",
    "#             distance_metric=self.distance_metric\n",
    "#         )\n",
    "#         best_one = best_gene(population=population)\n",
    "#         for i in range(self.params.max_generations):\n",
    "#             population = self.evolve(population_origin=population)\n",
    "#             new_best = best_gene(population)\n",
    "#             if new_best.phenome > best_one.phenome:\n",
    "#                 best_one = new_best\n",
    "\n",
    "#         return population, best_one\n",
    "\n",
    "#     def evolve(self, population_origin):\n",
    "#         populationx = population_origin.copy()\n",
    "#         parents = parents_selection(population=populationx,\n",
    "#                                     tournament_size=self.params.tournament_size)\n",
    "#         gene1, gene2 = self._crossover(parents[0], parents[1])\n",
    "#         child1, child2 = self._create_chromosome(gene1), self._create_chromosome(gene2)\n",
    "#         child1, child2 = self._mutate(child1), self._mutate(child2)\n",
    "#         for child in [child1,child2]:\n",
    "#             populationx = self._replacement(population=populationx,\n",
    "#                                                   candidate=child)\n",
    "#         return populationx\n",
    "        \n",
    "# class Speculator:\n",
    "#     def __init__(self, config) -> None:\n",
    "#         self.config = config\n",
    "\n",
    "#     def run(self):\n",
    "#         for _ in self.config.num_trial:\n",
    "#             experiment = GeneticAlgorithm(self.config)\n",
    "#             experiment.run()\n",
    "#         return [0]\n",
    "\n",
    "# def run_genetic_algorithm(config_path):\n",
    "#     config = OmegaConf.load(config_path)\n",
    "#     genetic_algorithm = GeneticAlgorithm(config)\n",
    "#     genetic_algorithm.run_genetic_algorithm()"
   ]
  },
  {
   "cell_type": "code",
   "execution_count": 22,
   "metadata": {},
   "outputs": [],
   "source": [
    "from core.dataclass import Config, Parameters, Functions"
   ]
  },
  {
   "cell_type": "code",
   "execution_count": 23,
   "metadata": {},
   "outputs": [],
   "source": [
    "import yaml\n",
    "cfg_path = \"./conf/cfg.template.yaml\"\n",
    "# Load the YAML configuration file\n",
    "with open(cfg_path, \"r\") as config_file:\n",
    "    config_data = yaml.safe_load(config_file)\n",
    "\n",
    "# Create instances of the data classes\n",
    "cfg = Config(\n",
    "    path=config_data[\"path\"],\n",
    "    num_trial=config_data[\"num_trial\"],\n",
    "    parameters=Parameters(**config_data[\"parameters\"]),\n",
    "    functions=Functions(**config_data[\"functions\"])\n",
    ")"
   ]
  },
  {
   "cell_type": "code",
   "execution_count": 24,
   "metadata": {},
   "outputs": [
    {
     "data": {
      "text/plain": [
       "0.7"
      ]
     },
     "execution_count": 24,
     "metadata": {},
     "output_type": "execute_result"
    }
   ],
   "source": [
    "cfg.parameters.p_select"
   ]
  },
  {
   "cell_type": "code",
   "execution_count": 25,
   "metadata": {},
   "outputs": [],
   "source": [
    "from core.classes import GeneticAlgorithm"
   ]
  },
  {
   "cell_type": "code",
   "execution_count": 26,
   "metadata": {},
   "outputs": [
    {
     "data": {
      "text/plain": [
       "core.classes.GeneticAlgorithm"
      ]
     },
     "execution_count": 26,
     "metadata": {},
     "output_type": "execute_result"
    }
   ],
   "source": [
    "GeneticAlgorithm"
   ]
  },
  {
   "cell_type": "code",
   "execution_count": 27,
   "metadata": {},
   "outputs": [],
   "source": [
    "ga = GeneticAlgorithm(cfg)"
   ]
  },
  {
   "cell_type": "code",
   "execution_count": 28,
   "metadata": {},
   "outputs": [],
   "source": [
    "res = ga()"
   ]
  },
  {
   "cell_type": "code",
   "execution_count": 29,
   "metadata": {},
   "outputs": [],
   "source": [
    "last_pop, besty = res"
   ]
  },
  {
   "cell_type": "code",
   "execution_count": 30,
   "metadata": {},
   "outputs": [
    {
     "data": {
      "text/plain": [
       "Chromosome(gene=[13, 5, 4, 3, 11, 6, 12, 10, 8, 9, 7, 0, 1, 2], phenome=0.0002799552071668533, length=14)"
      ]
     },
     "execution_count": 30,
     "metadata": {},
     "output_type": "execute_result"
    }
   ],
   "source": [
    "besty"
   ]
  },
  {
   "cell_type": "code",
   "execution_count": 31,
   "metadata": {},
   "outputs": [],
   "source": [
    "from core.classes import Speculator"
   ]
  },
  {
   "cell_type": "code",
   "execution_count": 32,
   "metadata": {},
   "outputs": [],
   "source": [
    "def run_genetic_algorithm(config_path):\n",
    "    # config = OmegaConf.load(config_path)\n",
    "    # genetic_algorithm = GeneticAlgorithm(config)\n",
    "    # genetic_algorithm.run_genetic_algorithm()\n",
    "    with open(config_path,\"r\") as config_file:\n",
    "        config_data = yaml.safe_load(config_file)\n",
    "    \n",
    "    config = Config(\n",
    "        path=config_data[\"path\"],\n",
    "        num_trial=config_data[\"num_trial\"],\n",
    "        parameters=Parameters(**config_data[\"parameters\"]),\n",
    "        functions=Functions(**config_data[\"functions\"])\n",
    "    )\n",
    "    speculator = Speculator(config)\n",
    "    speculator.run()"
   ]
  },
  {
   "cell_type": "code",
   "execution_count": 35,
   "metadata": {},
   "outputs": [
    {
     "name": "stderr",
     "output_type": "stream",
     "text": [
      "d:\\USERS\\Exeter\\Courses\\Module ECMM409 (2023) Nature-Inspired Computation\\Nature_inspired\\project01.1\\core\\utils.py:18: RuntimeWarning: invalid value encountered in multiply\n",
      "  weights_metric = np.nan_to_num(np.identity(num_node) * -np.inf, 0.0)\n"
     ]
    }
   ],
   "source": [
    "res1 = run_genetic_algorithm(config_path=cfg_path)"
   ]
  },
  {
   "cell_type": "code",
   "execution_count": 36,
   "metadata": {},
   "outputs": [],
   "source": [
    "res1."
   ]
  },
  {
   "cell_type": "code",
   "execution_count": null,
   "metadata": {},
   "outputs": [],
   "source": []
  }
 ],
 "metadata": {
  "kernelspec": {
   "display_name": "exeter",
   "language": "python",
   "name": "python3"
  },
  "language_info": {
   "codemirror_mode": {
    "name": "ipython",
    "version": 3
   },
   "file_extension": ".py",
   "mimetype": "text/x-python",
   "name": "python",
   "nbconvert_exporter": "python",
   "pygments_lexer": "ipython3",
   "version": "3.11.5"
  }
 },
 "nbformat": 4,
 "nbformat_minor": 2
}
