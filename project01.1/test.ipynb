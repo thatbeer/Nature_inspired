{
 "cells": [
  {
   "cell_type": "code",
   "execution_count": 11,
   "metadata": {},
   "outputs": [],
   "source": [
    "import yaml\n",
    "import datetime\n",
    "from dataclasses import dataclass\n",
    "\n",
    "from core.classes import GeneticAlgorithm\n",
    "from core.dataclass import *\n",
    "from core.selection import best_gene, get_mean\n",
    "from core.utils import a"
   ]
  },
  {
   "cell_type": "code",
   "execution_count": 8,
   "metadata": {},
   "outputs": [],
   "source": [
    "\n",
    "@dataclass\n",
    "class Log:\n",
    "    best_gene: List[Chromosome]\n",
    "    best_fitness : List[float]\n",
    "    avg_fitness: List[float]\n",
    "    first_generation: List[Chromosome]\n",
    "    last_generation: List[Chromosome]\n",
    "    generations: List[List[Chromosome]]\n",
    "\n",
    "class Speculator:\n",
    "    def __init__(self, config: Config) -> None:\n",
    "        self.config = config\n",
    "        self.experiment = [Log(\n",
    "            best_gene=[],\n",
    "            best_fitness=[],\n",
    "            avg_fitness=[],\n",
    "            first_generation=[],\n",
    "            last_generation=[],\n",
    "            generations=[]\n",
    "        )]\n",
    "    \n",
    "    def simple_run(self):\n",
    "        \"\"\"Run GA experiments and log data.\"\"\"\n",
    "        for trial in range(self.config.num_trial):\n",
    "            ga = GeneticAlgorithm(self.config)\n",
    "            last_pop, best_gene = ga.forward()\n",
    "            self.log.best_gene.append(best_gene.gene)\n",
    "            self.log.best_fitness.append(best_gene.phenome)\n",
    "            self.log.first_generation.append(ga.population)\n",
    "            self.log.last_generation.append(last_pop)\n",
    "    \n",
    "    def advance_run(self):\n",
    "        for trial in range(self.config.num_trial):\n",
    "            ga = GeneticAlgorithm(self.config)\n",
    "            population = ga._generate_population()\n",
    "            best_one = best_gene(population)\n",
    "            self.log.best_gene.append(best_one.gene)\n",
    "            self.log.best_fitness.append(best_one.phenome)\n",
    "            self.log.avg_fitness.append(get_mean(population))\n",
    "            self.log.first_generation.append(population)\n",
    "            self.log.generations.append(population)\n",
    "\n",
    "            for i in range(self.config.parameters.max_generations):\n",
    "                population = ga.evolve(\n",
    "                    population_origin=population\n",
    "                )\n",
    "                new_best = best_gene(population=population)\n",
    "                if new_best.phenome > best_one.phenome:\n",
    "                    best_one = new_best\n",
    "                #log new generation data\n",
    "                self.log.best_gene.append(new_best.gene)\n",
    "                self.log.best_fitness.append(new_best.phenome)\n",
    "                self.log.avg_fitness.append(get_mean(population))\n",
    "                self.log.generations.append(population)\n",
    "\n",
    "                if i + 1 == self.config.parameters.max_generations:\n",
    "                    self.log.last_generation.append(population)\n",
    "            \n",
    "            ## Save the log of each trials\n",
    "                \n",
    "    def log_data(self, data):\n",
    "        \"\"\"Append data to the log list.\"\"\"\n",
    "        self.log.append(data)\n",
    "\n",
    "    def save_to_file(self, filename=\"experiment_log.txt\"):\n",
    "        \"\"\"Save log data to a text file.\"\"\"\n",
    "        with open(filename, 'a') as f:\n",
    "            for line in self.log:\n",
    "                f.write(line + \"\\n\")\n",
    "        # Clear log for next run\n",
    "        self.log = []\n",
    "\n"
   ]
  },
  {
   "cell_type": "code",
   "execution_count": null,
   "metadata": {},
   "outputs": [],
   "source": [
    "def run_genetic_algorithm(config_path):\n",
    "    # config = OmegaConf.load(config_path)\n",
    "    # genetic_algorithm = GeneticAlgorithm(config)\n",
    "    # genetic_algorithm.run_genetic_algorithm()\n",
    "    with open(config_path,\"r\") as config_file:\n",
    "        config_data = yaml.safe_load(config_file)\n",
    "    \n",
    "    config = Config(\n",
    "        path=config_data[\"path\"],\n",
    "        num_trial=config_data[\"num_trial\"],\n",
    "        parameters=Parameters(**config_data[\"parameters\"]),\n",
    "        functions=Functions(**config_data[\"functions\"])\n",
    "    )\n",
    "\n",
    "    speculator = Speculator(config)\n",
    "    speculator.run()"
   ]
  },
  {
   "cell_type": "code",
   "execution_count": 4,
   "metadata": {},
   "outputs": [],
   "source": [
    "ga = GeneticAlgorithm()"
   ]
  },
  {
   "cell_type": "code",
   "execution_count": 2,
   "metadata": {},
   "outputs": [
    {
     "data": {
      "text/plain": [
       "[0, 1, 2, 3, 4]"
      ]
     },
     "execution_count": 2,
     "metadata": {},
     "output_type": "execute_result"
    }
   ],
   "source": [
    "n = 5\n",
    "sd = [x for x in range(n)]\n",
    "sd"
   ]
  },
  {
   "cell_type": "code",
   "execution_count": 7,
   "metadata": {},
   "outputs": [
    {
     "ename": "TypeError",
     "evalue": "GeneticAlgorithm.__init__() missing 1 required positional argument: 'config'",
     "output_type": "error",
     "traceback": [
      "\u001b[1;31m---------------------------------------------------------------------------\u001b[0m",
      "\u001b[1;31mTypeError\u001b[0m                                 Traceback (most recent call last)",
      "\u001b[1;32md:\\USERS\\Exeter\\Courses\\Module ECMM409 (2023) Nature-Inspired Computation\\Nature_inspired\\project01.1\\test.ipynb Cell 4\u001b[0m line \u001b[0;36m1\n\u001b[1;32m----> <a href='vscode-notebook-cell:/d%3A/USERS/Exeter/Courses/Module%20ECMM409%20%282023%29%20Nature-Inspired%20Computation/Nature_inspired/project01.1/test.ipynb#X30sZmlsZQ%3D%3D?line=0'>1</a>\u001b[0m ga()\n",
      "\u001b[1;31mTypeError\u001b[0m: GeneticAlgorithm.__init__() missing 1 required positional argument: 'config'"
     ]
    }
   ],
   "source": [
    "ga()"
   ]
  },
  {
   "cell_type": "code",
   "execution_count": null,
   "metadata": {},
   "outputs": [],
   "source": []
  }
 ],
 "metadata": {
  "kernelspec": {
   "display_name": "exeter",
   "language": "python",
   "name": "python3"
  },
  "language_info": {
   "codemirror_mode": {
    "name": "ipython",
    "version": 3
   },
   "file_extension": ".py",
   "mimetype": "text/x-python",
   "name": "python",
   "nbconvert_exporter": "python",
   "pygments_lexer": "ipython3",
   "version": "3.11.5"
  }
 },
 "nbformat": 4,
 "nbformat_minor": 2
}
