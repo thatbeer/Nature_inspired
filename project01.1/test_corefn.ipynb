{
 "cells": [
  {
   "cell_type": "code",
   "execution_count": 1,
   "metadata": {},
   "outputs": [],
   "source": [
    "import numpy as np\n",
    "from core.utils import load_metrics\n",
    "from core.selection import *"
   ]
  },
  {
   "cell_type": "code",
   "execution_count": 2,
   "metadata": {},
   "outputs": [],
   "source": [
    "sample = [\n",
    "    [0,2,1,2,1],\n",
    "    [2,0,2,2,2],\n",
    "    [1,2,0,2,1],\n",
    "    [2,2,2,0,2],\n",
    "    [1,2,1,2,0]\n",
    "]\n"
   ]
  },
  {
   "cell_type": "code",
   "execution_count": 3,
   "metadata": {},
   "outputs": [],
   "source": [
    "pop1 = generate_population(10,sample)\n",
    "parents = parents_selection(pop1,4)"
   ]
  },
  {
   "cell_type": "code",
   "execution_count": 4,
   "metadata": {},
   "outputs": [],
   "source": [
    "cand1 = create_chromosome([4,2,0,1,3],sample)\n",
    "cand2 = create_chromosome([2,1,0,4,3],sample)"
   ]
  },
  {
   "cell_type": "code",
   "execution_count": 5,
   "metadata": {},
   "outputs": [],
   "source": [
    "x = cand1.gene.copy()"
   ]
  },
  {
   "cell_type": "markdown",
   "metadata": {},
   "source": [
    "Test Mutate function"
   ]
  },
  {
   "cell_type": "code",
   "execution_count": 6,
   "metadata": {},
   "outputs": [],
   "source": [
    "from core.mutation import multi_mutate , mutate, inversion, scramble"
   ]
  },
  {
   "cell_type": "code",
   "execution_count": 7,
   "metadata": {},
   "outputs": [],
   "source": [
    "x = [1,2,3,4,0]"
   ]
  },
  {
   "cell_type": "code",
   "execution_count": 8,
   "metadata": {},
   "outputs": [
    {
     "data": {
      "text/plain": [
       "[1, 2, 4, 3, 0]"
      ]
     },
     "execution_count": 8,
     "metadata": {},
     "output_type": "execute_result"
    }
   ],
   "source": [
    "mutate(x)"
   ]
  },
  {
   "cell_type": "code",
   "execution_count": 9,
   "metadata": {},
   "outputs": [
    {
     "data": {
      "text/plain": [
       "[1, 2, 3, 4, 0]"
      ]
     },
     "execution_count": 9,
     "metadata": {},
     "output_type": "execute_result"
    }
   ],
   "source": [
    "x"
   ]
  },
  {
   "cell_type": "code",
   "execution_count": 10,
   "metadata": {},
   "outputs": [
    {
     "data": {
      "text/plain": [
       "[2, 1, 0, 4, 3]"
      ]
     },
     "execution_count": 10,
     "metadata": {},
     "output_type": "execute_result"
    }
   ],
   "source": [
    "multi_mutate(x)"
   ]
  },
  {
   "cell_type": "code",
   "execution_count": 11,
   "metadata": {},
   "outputs": [
    {
     "data": {
      "text/plain": [
       "[1, 0, 4, 3, 2]"
      ]
     },
     "execution_count": 11,
     "metadata": {},
     "output_type": "execute_result"
    }
   ],
   "source": [
    "inversion(x)"
   ]
  },
  {
   "cell_type": "code",
   "execution_count": 12,
   "metadata": {},
   "outputs": [
    {
     "data": {
      "text/plain": [
       "[3, 2, 1, 4, 0]"
      ]
     },
     "execution_count": 12,
     "metadata": {},
     "output_type": "execute_result"
    }
   ],
   "source": [
    "scramble(x)"
   ]
  },
  {
   "cell_type": "markdown",
   "metadata": {},
   "source": [
    "Test Crossover function"
   ]
  },
  {
   "cell_type": "code",
   "execution_count": 13,
   "metadata": {},
   "outputs": [],
   "source": [
    "from core.crossover import no_crossover , point_crossover, ordered_crossover, partialmap_crossover"
   ]
  },
  {
   "cell_type": "code",
   "execution_count": 14,
   "metadata": {},
   "outputs": [],
   "source": [
    "a = create_chromosome([1,2,3,4,0],sample)\n",
    "b = create_chromosome([2,4,0,3,1],sample)"
   ]
  },
  {
   "cell_type": "code",
   "execution_count": 15,
   "metadata": {},
   "outputs": [
    {
     "data": {
      "text/plain": [
       "([1, 2, 3, 4, 0], [2, 4, 0, 3, 1])"
      ]
     },
     "execution_count": 15,
     "metadata": {},
     "output_type": "execute_result"
    }
   ],
   "source": [
    "no_crossover(a,b)"
   ]
  },
  {
   "cell_type": "code",
   "execution_count": 16,
   "metadata": {},
   "outputs": [
    {
     "data": {
      "text/plain": [
       "([4, 2, 0, 3, 1], [2, 3, 1, 4, 0])"
      ]
     },
     "execution_count": 16,
     "metadata": {},
     "output_type": "execute_result"
    }
   ],
   "source": [
    "point_crossover(a,b)"
   ]
  },
  {
   "cell_type": "code",
   "execution_count": 17,
   "metadata": {},
   "outputs": [
    {
     "data": {
      "text/plain": [
       "([4, 2, 0, 3, 1], [2, 3, 1, 4, 0])"
      ]
     },
     "execution_count": 17,
     "metadata": {},
     "output_type": "execute_result"
    }
   ],
   "source": [
    "partialmap_crossover(a,b)"
   ]
  },
  {
   "cell_type": "code",
   "execution_count": 34,
   "metadata": {},
   "outputs": [
    {
     "data": {
      "text/plain": [
       "[3, 4, 0, 1, 2]"
      ]
     },
     "execution_count": 34,
     "metadata": {},
     "output_type": "execute_result"
    }
   ],
   "source": [
    "from itertools import chain\n",
    "start = 1\n",
    "end = 2\n",
    "n = 5\n",
    "\n",
    "[x for x in chain(range(end+1,n),range(end+1))]"
   ]
  },
  {
   "cell_type": "code",
   "execution_count": 37,
   "metadata": {},
   "outputs": [
    {
     "data": {
      "text/plain": [
       "[4, 3]"
      ]
     },
     "execution_count": 37,
     "metadata": {},
     "output_type": "execute_result"
    }
   ],
   "source": [
    "parent1 = [1,2,3,4,0]\n",
    "child1 = [None,None,2,0,1]\n",
    "remain1 = [x for x in parent1[end+1:] if x not in child1] + [x for x in parent1[:start+1] if x not in child1] + [x for x in parent1[start:end+1] if x not in child1]\n",
    "remain1"
   ]
  },
  {
   "cell_type": "code",
   "execution_count": 60,
   "metadata": {},
   "outputs": [],
   "source": [
    "from itertools import chain\n",
    "\n",
    "\n",
    "def ordered_crossover(parent1:Chromosome, parent2:Chromosome, p_crossover:float=1.0) -> List[List[int]]:\n",
    "    # Initialize the offspring with empty lists\n",
    "    assert isinstance(parent1,Chromosome) and isinstance(parent2,Chromosome) , f\"parent(s) should have instance of Chromosome class\"\n",
    "    # if np.random.rand() > p_crossover:\n",
    "    #     return no_crossover(parent1,parent2)\n",
    "    n = parent1.length\n",
    "    child1 = [None] * n\n",
    "    child2 = [None] * n\n",
    "\n",
    "    # start, end = np.sort(np.random.choice(n, 2, replace=False))\n",
    "    start = 2\n",
    "    end = 4\n",
    "\n",
    "    child1[start:end + 1] = parent2.gene[start:end + 1]\n",
    "    child2[start:end + 1] = parent1.gene[start:end + 1]\n",
    "\n",
    "    remain1 = [x for x in parent1.gene[end+1:] if x not in child1] + [x for x in parent1.gene[:start+1] if x not in child1] + [x for x in parent1.gene[start:end+1] if x not in child1]\n",
    "    remain2 = [x for x in parent2.gene[end+1:] if x not in child2] + [x for x in parent2.gene[:start+1] if x not in child2] + [x for x in parent2.gene[start:end+1] if x not in child2]\n",
    "\n",
    "    ##TODO : use pointer to loop filling the None\n",
    "    ptr1 , ptr2 = end + 1, end + 1\n",
    "\n",
    "    # TODO use ointer to fill None value with remains list into child\n",
    "    n = 0 \n",
    "    while n < len(remain1):\n",
    "        if ptr1 >= n:\n",
    "            ptr1 = (ptr1 % n)\n",
    "        if child1[ptr1] == None:\n",
    "            child1[ptr1] = remain1.pop(0)\n",
    "            ptr1 += 1\n",
    "        if len(remain1) < 1:\n",
    "            break\n",
    "    while True:\n",
    "        if ptr2 >= n:\n",
    "            ptr2 = (ptr2 % n)\n",
    "        if child2[ptr2] == None:\n",
    "            child2[ptr2] = remain2.pop(0)\n",
    "            ptr2 += 1\n",
    "        if len(remain2) < 1:\n",
    "            break\n",
    "\n",
    "\n",
    "    return child1 , child2\n",
    "\n",
    "\n",
    "\n"
   ]
  },
  {
   "cell_type": "code",
   "execution_count": 61,
   "metadata": {},
   "outputs": [
    {
     "name": "stdout",
     "output_type": "stream",
     "text": [
      "HI\n"
     ]
    }
   ],
   "source": [
    "s = []\n",
    "if not s :\n",
    "    print(\"HI\")\n",
    "else:\n",
    "    print(\"HEY\")"
   ]
  },
  {
   "cell_type": "code",
   "execution_count": 62,
   "metadata": {},
   "outputs": [
    {
     "data": {
      "text/plain": [
       "0"
      ]
     },
     "execution_count": 62,
     "metadata": {},
     "output_type": "execute_result"
    }
   ],
   "source": [
    "len(s)"
   ]
  },
  {
   "cell_type": "code",
   "execution_count": 63,
   "metadata": {},
   "outputs": [],
   "source": [
    "def ordered_crossover_fixed_v3(parent1: Chromosome, parent2: Chromosome, p_crossover: float = 1.0) -> List[List[int]]:\n",
    "    # Initialize the offspring with empty lists\n",
    "    assert isinstance(parent1, Chromosome) and isinstance(parent2, Chromosome), \"parent(s) should have instance of Chromosome class\"\n",
    "\n",
    "    n = parent1.length\n",
    "    child1 = [None] * n\n",
    "    child2 = [None] * n\n",
    "\n",
    "    # Fixed start and end points for testing\n",
    "    start, end = 2,3\n",
    "\n",
    "    child1[start:end + 1] = parent2.gene[start:end + 1]\n",
    "    child2[start:end + 1] = parent1.gene[start:end + 1]\n",
    "\n",
    "    ptr1, ptr2 = end + 1, end + 1\n",
    "\n",
    "    for i in chain(range(end + 1, n), range(0, n)):  # Ensuring we iterate over every gene in the parent chromosomes\n",
    "        if parent1.gene[i] not in child1:\n",
    "            while child1[ptr1 % n] is not None:\n",
    "                ptr1 += 1\n",
    "            child1[ptr1 % n] = parent1.gene[i]\n",
    "            ptr1 += 1\n",
    "\n",
    "        if parent2.gene[i] not in child2:\n",
    "            while child2[ptr2 % n] is not None:\n",
    "                ptr2 += 1\n",
    "            child2[ptr2 % n] = parent2.gene[i]\n",
    "            ptr2 += 1\n",
    "\n",
    "    return [child1, child2]"
   ]
  },
  {
   "cell_type": "code",
   "execution_count": 64,
   "metadata": {},
   "outputs": [],
   "source": [
    "x = create_chromosome([0,2,3,4,1],sample)\n",
    "y = create_chromosome([1,3,0,2,4],sample)"
   ]
  },
  {
   "cell_type": "code",
   "execution_count": 65,
   "metadata": {},
   "outputs": [
    {
     "ename": "KeyboardInterrupt",
     "evalue": "",
     "output_type": "error",
     "traceback": [
      "\u001b[1;31m---------------------------------------------------------------------------\u001b[0m",
      "\u001b[1;31mKeyboardInterrupt\u001b[0m                         Traceback (most recent call last)",
      "\u001b[1;32md:\\USERS\\Exeter\\Courses\\Module ECMM409 (2023) Nature-Inspired Computation\\Nature_inspired\\project01.1\\test_corefn.ipynb Cell 27\u001b[0m line \u001b[0;36m1\n\u001b[1;32m----> <a href='vscode-notebook-cell:/d%3A/USERS/Exeter/Courses/Module%20ECMM409%20%282023%29%20Nature-Inspired%20Computation/Nature_inspired/project01.1/test_corefn.ipynb#X31sZmlsZQ%3D%3D?line=0'>1</a>\u001b[0m ordered_crossover(x,y)\n",
      "\u001b[1;32md:\\USERS\\Exeter\\Courses\\Module ECMM409 (2023) Nature-Inspired Computation\\Nature_inspired\\project01.1\\test_corefn.ipynb Cell 27\u001b[0m line \u001b[0;36m2\n\u001b[0;32m     <a href='vscode-notebook-cell:/d%3A/USERS/Exeter/Courses/Module%20ECMM409%20%282023%29%20Nature-Inspired%20Computation/Nature_inspired/project01.1/test_corefn.ipynb#X31sZmlsZQ%3D%3D?line=23'>24</a>\u001b[0m ptr1 , ptr2 \u001b[39m=\u001b[39m end \u001b[39m+\u001b[39m \u001b[39m1\u001b[39m, end \u001b[39m+\u001b[39m \u001b[39m1\u001b[39m\n\u001b[0;32m     <a href='vscode-notebook-cell:/d%3A/USERS/Exeter/Courses/Module%20ECMM409%20%282023%29%20Nature-Inspired%20Computation/Nature_inspired/project01.1/test_corefn.ipynb#X31sZmlsZQ%3D%3D?line=25'>26</a>\u001b[0m \u001b[39m# TODO use ointer to fill None value with remains list into child\u001b[39;00m\n\u001b[1;32m---> <a href='vscode-notebook-cell:/d%3A/USERS/Exeter/Courses/Module%20ECMM409%20%282023%29%20Nature-Inspired%20Computation/Nature_inspired/project01.1/test_corefn.ipynb#X31sZmlsZQ%3D%3D?line=26'>27</a>\u001b[0m \u001b[39mwhile\u001b[39;00m \u001b[39mTrue\u001b[39;00m:\n\u001b[0;32m     <a href='vscode-notebook-cell:/d%3A/USERS/Exeter/Courses/Module%20ECMM409%20%282023%29%20Nature-Inspired%20Computation/Nature_inspired/project01.1/test_corefn.ipynb#X31sZmlsZQ%3D%3D?line=27'>28</a>\u001b[0m     \u001b[39mif\u001b[39;00m ptr1 \u001b[39m>\u001b[39m\u001b[39m=\u001b[39m n:\n\u001b[0;32m     <a href='vscode-notebook-cell:/d%3A/USERS/Exeter/Courses/Module%20ECMM409%20%282023%29%20Nature-Inspired%20Computation/Nature_inspired/project01.1/test_corefn.ipynb#X31sZmlsZQ%3D%3D?line=28'>29</a>\u001b[0m         ptr1 \u001b[39m=\u001b[39m (ptr1 \u001b[39m%\u001b[39m n)\n",
      "\u001b[1;31mKeyboardInterrupt\u001b[0m: "
     ]
    }
   ],
   "source": [
    "ordered_crossover(x,y)"
   ]
  },
  {
   "cell_type": "code",
   "execution_count": 46,
   "metadata": {},
   "outputs": [
    {
     "data": {
      "text/plain": [
       "{0, 2, 3, 4, None}"
      ]
     },
     "execution_count": 46,
     "metadata": {},
     "output_type": "execute_result"
    }
   ],
   "source": [
    "k = [3,None,0,2,4]\n",
    "set(k)"
   ]
  },
  {
   "cell_type": "code",
   "execution_count": 22,
   "metadata": {},
   "outputs": [
    {
     "data": {
      "text/plain": [
       "[1, 2, 3, 4]"
      ]
     },
     "execution_count": 22,
     "metadata": {},
     "output_type": "execute_result"
    }
   ],
   "source": [
    "[1,2] + [3,4]"
   ]
  },
  {
   "cell_type": "markdown",
   "metadata": {},
   "source": [
    "Test Replace fun"
   ]
  },
  {
   "cell_type": "code",
   "execution_count": 23,
   "metadata": {},
   "outputs": [],
   "source": [
    "from core.replacement import replace_firstweak, replace_weakest"
   ]
  },
  {
   "cell_type": "code",
   "execution_count": 24,
   "metadata": {},
   "outputs": [],
   "source": [
    "pop1 = generate_population(6,sample)"
   ]
  },
  {
   "cell_type": "code",
   "execution_count": 25,
   "metadata": {},
   "outputs": [],
   "source": [
    "pop1.append(Chromosome(gene=[1,1,1,1,1],phenome=0.0001))"
   ]
  },
  {
   "cell_type": "code",
   "execution_count": 26,
   "metadata": {},
   "outputs": [
    {
     "data": {
      "text/plain": [
       "[Chromosome(gene=[0, 1, 3, 4, 2], phenome=0.125, length=5),\n",
       " Chromosome(gene=[3, 0, 4, 1, 2], phenome=0.1111111111111111, length=5),\n",
       " Chromosome(gene=[1, 0, 3, 2, 4], phenome=0.1111111111111111, length=5),\n",
       " Chromosome(gene=[0, 1, 4, 2, 3], phenome=0.1111111111111111, length=5),\n",
       " Chromosome(gene=[2, 1, 0, 4, 3], phenome=0.1111111111111111, length=5),\n",
       " Chromosome(gene=[0, 4, 2, 3, 1], phenome=0.125, length=5),\n",
       " Chromosome(gene=[1, 1, 1, 1, 1], phenome=0.0001, length=5)]"
      ]
     },
     "execution_count": 26,
     "metadata": {},
     "output_type": "execute_result"
    }
   ],
   "source": [
    "pop1"
   ]
  },
  {
   "cell_type": "code",
   "execution_count": 27,
   "metadata": {},
   "outputs": [
    {
     "data": {
      "text/plain": [
       "Chromosome(gene=[0, 1, 3, 4, 2], phenome=0.125, length=5)"
      ]
     },
     "execution_count": 27,
     "metadata": {},
     "output_type": "execute_result"
    }
   ],
   "source": [
    "besty = best_gene(pop1)\n",
    "besty"
   ]
  },
  {
   "cell_type": "code",
   "execution_count": 28,
   "metadata": {},
   "outputs": [],
   "source": [
    "# res1 = replace_firstweak(pop1,besty)\n",
    "# res1"
   ]
  },
  {
   "cell_type": "code",
   "execution_count": 29,
   "metadata": {},
   "outputs": [
    {
     "data": {
      "text/plain": [
       "[Chromosome(gene=[0, 1, 3, 4, 2], phenome=0.125, length=5),\n",
       " Chromosome(gene=[3, 0, 4, 1, 2], phenome=0.1111111111111111, length=5),\n",
       " Chromosome(gene=[1, 0, 3, 2, 4], phenome=0.1111111111111111, length=5),\n",
       " Chromosome(gene=[0, 1, 4, 2, 3], phenome=0.1111111111111111, length=5),\n",
       " Chromosome(gene=[2, 1, 0, 4, 3], phenome=0.1111111111111111, length=5),\n",
       " Chromosome(gene=[0, 4, 2, 3, 1], phenome=0.125, length=5),\n",
       " Chromosome(gene=[0, 1, 3, 4, 2], phenome=0.125, length=5)]"
      ]
     },
     "execution_count": 29,
     "metadata": {},
     "output_type": "execute_result"
    }
   ],
   "source": [
    "res2 =replace_weakest(pop1,besty)\n",
    "res2"
   ]
  },
  {
   "cell_type": "markdown",
   "metadata": {},
   "source": []
  },
  {
   "cell_type": "code",
   "execution_count": null,
   "metadata": {},
   "outputs": [],
   "source": []
  }
 ],
 "metadata": {
  "kernelspec": {
   "display_name": "exeter",
   "language": "python",
   "name": "python3"
  },
  "language_info": {
   "codemirror_mode": {
    "name": "ipython",
    "version": 3
   },
   "file_extension": ".py",
   "mimetype": "text/x-python",
   "name": "python",
   "nbconvert_exporter": "python",
   "pygments_lexer": "ipython3",
   "version": "3.11.5"
  }
 },
 "nbformat": 4,
 "nbformat_minor": 2
}
